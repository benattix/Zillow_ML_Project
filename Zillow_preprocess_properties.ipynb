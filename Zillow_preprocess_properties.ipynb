{
 "cells": [
  {
   "cell_type": "markdown",
   "metadata": {},
   "source": [
    "<h1> MIDS W207 Final</h1>\n",
    "\n",
    "<h3> Group Members </h3>\n",
    "Ben Attix <br>\n",
    "Justin Plumley <br>\n",
    "Dan Watson\n",
    "\n",
    "<h3> Kaggle Competition </h3>\n",
    "Zillow Prize: Zillow’s Home Value Prediction (Zestimate)\n",
    "\n",
    "<h3> Evaluation </h3>\n",
    "Submissions are evaluated on Mean Absolute Error between the predicted log error and the actual log error. The log error is defined as:\n",
    "logerror=log(Zestimate)−log(SalePrice)\n",
    "and it is recorded in the transactions training data. If a transaction didn't happen for a property during that period of time, that row is ignored and not counted in the calculation of MAE.\n",
    "\n",
    "<h5> Competition Website </h5>\n",
    "https://www.kaggle.com/c/zillow-prize-1#description"
   ]
  },
  {
   "cell_type": "markdown",
   "metadata": {},
   "source": [
    "<h2> Load libraries, data, and test output"
   ]
  },
  {
   "cell_type": "code",
   "execution_count": 1,
   "metadata": {
    "collapsed": true
   },
   "outputs": [],
   "source": [
    "# This tells matplotlib not to try opening a new window for each plot.\n",
    "%matplotlib inline\n",
    "\n",
    "import warnings\n",
    "warnings.filterwarnings('ignore')\n",
    "\n",
    "# General libraries.\n",
    "import os\n",
    "import numpy as np\n",
    "import pandas as pd\n",
    "import seaborn as sns\n",
    "import matplotlib.pyplot as plt\n",
    "color = sns.color_palette()\n",
    "import time"
   ]
  },
  {
   "cell_type": "code",
   "execution_count": 2,
   "metadata": {},
   "outputs": [
    {
     "name": "stdout",
     "output_type": "stream",
     "text": [
      "(2985217, 58)\n",
      "(90275, 3)\n"
     ]
    }
   ],
   "source": [
    "train_csv = pd.read_csv(\"train_2016_v2.csv\", parse_dates=[\"transactiondate\"])\n",
    "prop_df = pd.read_csv(\"properties_2016.csv\")\n",
    "print prop_df.shape \n",
    "print train_csv.shape\n",
    "#df outputs\n",
    "#prop_df.head()\n",
    "#train_csv.head()"
   ]
  },
  {
   "cell_type": "markdown",
   "metadata": {},
   "source": [
    "<H2> EDA </H2> <br>\n",
    "Many ideas and code taken from following EDA Kernels:\n",
    "https://www.kaggle.com/sudalairajkumar/simple-exploration-notebook-zillow-prize (python)\n",
    "https://www.kaggle.com/philippsp/exploratory-analysis-zillow (R)\n",
    "https://www.kaggle.com/captcalculator/a-very-extensive-zillow-exploratory-analysis (R)\n",
    "https://www.kaggle.com/viveksrinivasan/zillow-eda-on-missing-values-multicollinearity (python)\n",
    "\n",
    "<H5> Start by looking at the parcelIDs that occur in each dataset </H5>"
   ]
  },
  {
   "cell_type": "code",
   "execution_count": 3,
   "metadata": {
    "collapsed": true
   },
   "outputs": [],
   "source": [
    "# df = df.drop('column_name', 1)\n",
    "to_drop = ['architecturalstyletypeid'\n",
    "           ,'assessmentyear'\n",
    "           ,'bathroomcnt'\n",
    "           ,'buildingclasstypeid'\n",
    "           ,'decktypeid'\n",
    "           ,'threequarterbathnbr'\n",
    "           ,'finishedfloor1squarefeet'\n",
    "           ,'finishedsquarefeet6'\n",
    "           ,'finishedsquarefeet12'\n",
    "           ,'finishedsquarefeet13'\n",
    "           ,'finishedsquarefeet15'\n",
    "           ,'finishedsquarefeet50'\n",
    "           ,'fireplaceflag'\n",
    "           ,'fullbathcnt'\n",
    "           ,'garagetotalsqft'\n",
    "           ,'latitude'\n",
    "           ,'longitude'\n",
    "           ,'poolsizesum'\n",
    "           ,'propertyzoningdesc'\n",
    "           ,'rawcensustractandblock'\n",
    "           ,'censustractandblock'\n",
    "           ,'regionidzip'\n",
    "           ,'storytypeid'\n",
    "           ,'typeconstructiontypeid'\n",
    "           ,'taxvaluedollarcnt'\n",
    "           ,'taxamount'\n",
    "           ,'taxdelinquencyyear'\n",
    "           ,'fips'\n",
    "           \n",
    "           ,'hashottuborspa'\n",
    "           ,'pooltypeid10'\n",
    "           ,'pooltypeid2'\n",
    "           ,'pooltypeid7'\n",
    "               \n",
    "           ,'propertycountylandusecode'   # 241 unique values, cannot dummy for size reasons          \n",
    "           ,'regionidcity'            # 187 unique values, cannot dummy for size reasons\n",
    "           ,'regionidneighborhood'    # 529 unique values, cannot dummy for size reasons\n",
    "          ]\n",
    "\n",
    "for col in to_drop:\n",
    "    prop_df = prop_df.drop(col,1)"
   ]
  },
  {
   "cell_type": "code",
   "execution_count": 4,
   "metadata": {
    "collapsed": true
   },
   "outputs": [],
   "source": [
    "## airconditioningtypeid\n",
    "prop_df['airconditioningtypeid'].fillna(value='missing',inplace=True)\n",
    "\n",
    "## bedroomcnt\n",
    "a = np.array(prop_df['bedroomcnt'].values.tolist())\n",
    "prop_df['bedroomcnt'] = np.where(a > 6, 6, a).tolist()\n",
    "prop_df['bedroomcnt'].fillna(value=3,inplace=True) # Or maybe impute with most_common, which is 3"
   ]
  },
  {
   "cell_type": "code",
   "execution_count": 5,
   "metadata": {
    "collapsed": true
   },
   "outputs": [],
   "source": [
    "\n",
    "## buildingqualitytypeid (best=lowest, worse=highest)\n",
    "\n",
    "a = np.array(prop_df['buildingqualitytypeid'].values.tolist())\n",
    "prop_df['buildingqualitytypeid'] = np.where(a < 4,  4, a)  #.tolist()\n",
    "a = np.array(prop_df['buildingqualitytypeid'].values.tolist())\n",
    "prop_df['buildingqualitytypeid'] = np.where(a > 7, 10, a)  #.tolist()\n",
    "a = np.array(prop_df['buildingqualitytypeid'].values.tolist())\n",
    "prop_df['buildingqualitytypeid'] = np.where(a == 5, 7, a)  #.tolist()\n",
    "a = np.array(prop_df['buildingqualitytypeid'].values.tolist())\n",
    "prop_df['buildingqualitytypeid'] = np.where(a == 6, 7, a).tolist()\n",
    "a = np.array(prop_df['buildingqualitytypeid'].values.tolist())\n",
    "prop_df['buildingqualitytypeid'].fillna(value=99,inplace=True) # 99 = missing (BE CAREFUL NOT TO CHANGE BEFORE '>' STATEMENT)\n"
   ]
  },
  {
   "cell_type": "code",
   "execution_count": 6,
   "metadata": {
    "collapsed": true
   },
   "outputs": [],
   "source": [
    "\n",
    "## fireplacecnt\n",
    "a = np.array(prop_df['fireplacecnt'].values.tolist())\n",
    "prop_df['fireplacecnt'] = np.where(a > 3,  3, a)  #.tolist()\n",
    "prop_df['fireplacecnt'].fillna(value=0,inplace=True) #set NaN to zero\n",
    "\n",
    "## garagecarcnt\n",
    "a = np.array(prop_df['garagecarcnt'].values.tolist())\n",
    "prop_df['garagecarcnt'] = np.where(a > 3,  3, a)  #.tolist()\n",
    "prop_df['garagecarcnt'].fillna(value=99,inplace=True) #set NaN to 99\n",
    "\n",
    "\n",
    "## heatingorsystemtypeid\n",
    "a = np.array(prop_df['heatingorsystemtypeid'].values.tolist())\n",
    "prop_df['heatingorsystemtypeid'] = np.where(a == 19,  14, a)  #.tolist()\n",
    "a = np.array(prop_df['heatingorsystemtypeid'].values.tolist())\n",
    "prop_df['heatingorsystemtypeid'] = np.where(a == 21, 14, a)  #.tolist()\n",
    "a = np.array(prop_df['heatingorsystemtypeid'].values.tolist())\n",
    "prop_df['heatingorsystemtypeid'] = np.where(a == 11, 14, a)  #.tolist()\n",
    "a = np.array(prop_df['heatingorsystemtypeid'].values.tolist())\n",
    "prop_df['heatingorsystemtypeid'] = np.where(a == 12, 14, a)  #.tolist()\n",
    "a = np.array(prop_df['heatingorsystemtypeid'].values.tolist())\n",
    "prop_df['heatingorsystemtypeid'] = np.where(a == 10, 14, a)  #.tolist()\n",
    "a = np.array(prop_df['heatingorsystemtypeid'].values.tolist())\n",
    "prop_df['heatingorsystemtypeid'] = np.where(a ==  1, 14, a)  #.tolist()\n",
    "a = np.array(prop_df['heatingorsystemtypeid'].values.tolist())\n",
    "prop_df['heatingorsystemtypeid'] = np.where(a == 18, 14, a)  #.tolist()\n",
    "a = np.array(prop_df['heatingorsystemtypeid'].values.tolist())\n",
    "prop_df['heatingorsystemtypeid'] = np.where(a == 13, 14, a)  #.tolist()\n",
    "a = np.array(prop_df['heatingorsystemtypeid'].values.tolist())\n",
    "prop_df['heatingorsystemtypeid'] = np.where(a == 20, 14, a)  #.tolist()\n",
    "a = np.array(prop_df['heatingorsystemtypeid'].values.tolist())\n",
    "prop_df['heatingorsystemtypeid'] = np.where(a == 12, 14, a).tolist()\n",
    "a = np.array(prop_df['heatingorsystemtypeid'].values.tolist())\n",
    "\n",
    "prop_df['heatingorsystemtypeid'].fillna(value=99,inplace=True) #set NaN to 99"
   ]
  },
  {
   "cell_type": "code",
   "execution_count": 7,
   "metadata": {
    "collapsed": true
   },
   "outputs": [],
   "source": [
    "\n",
    "\n",
    "## numberofstories\n",
    "a = np.array(prop_df['numberofstories'].values.tolist())\n",
    "prop_df['numberofstories'] = np.where(a > 3,  3, a)  #.tolist()\n",
    "prop_df['numberofstories'].fillna(value=99,inplace=True) #set NaN to 99\n",
    "\n",
    "## poolcnt\n",
    "prop_df['poolcnt'].fillna(value=0,inplace=True) #set NaN to zero\n",
    "\n",
    "## propertylandusetypeid\n",
    "prop_df['propertylandusetypeid'].fillna(value=99,inplace=True) #set NaN to 99\n",
    "\n",
    "## regionidcounty\n",
    "prop_df['regionidcounty'].fillna(value=99,inplace=True) #set NaN to 99\n",
    "\n",
    "## calculatedbathnbr\n",
    "prop_df['calculatedbathnbr'].fillna(value=2,inplace=True)  # Or maybe impute with most_common, which is 2"
   ]
  },
  {
   "cell_type": "code",
   "execution_count": 8,
   "metadata": {
    "collapsed": true
   },
   "outputs": [],
   "source": [
    "\n",
    "\n",
    "## roomcnt\n",
    "a = np.array(prop_df['roomcnt'].values.tolist())\n",
    "prop_df['roomcnt0'] = np.where(a == 0, 1, 0)  #.tolist()\n",
    "prop_df['roomcnt'] = np.where(a < 3,  3, a)  #.tolist()\n",
    "a = np.array(prop_df['roomcnt'].values.tolist())\n",
    "prop_df['roomcnt'] = np.where(a > 7, 10, a)  #.tolist()\n",
    "a = np.array(prop_df['roomcnt'].values.tolist())\n",
    "prop_df['roomcnt'] = np.where(a == 5, 7, a)  #.tolist()\n",
    "a = np.array(prop_df['roomcnt'].values.tolist())\n",
    "prop_df['roomcnt'] = np.where(a == 6, 7, a).tolist()\n",
    "a = np.array(prop_df['roomcnt'].values.tolist())\n",
    "prop_df['roomcnt'].fillna(value=6,inplace=True) #set NaN to 6, most common value\n",
    "\n",
    "\n",
    "## unitcnt\n",
    "a = np.array(prop_df['unitcnt'].values.tolist())\n",
    "prop_df['unitcnt'] = np.where(a > 5, 5, a)  #.tolist()\n",
    "prop_df['unitcnt'].fillna(value=1,inplace=True) #set NaN to 1\n"
   ]
  },
  {
   "cell_type": "code",
   "execution_count": 9,
   "metadata": {
    "collapsed": true
   },
   "outputs": [],
   "source": [
    "\n",
    "## yearbuilt    \n",
    "a = np.array(prop_df['yearbuilt'].values.tolist())\n",
    "prop_df['yearbuilt'] = (prop_df['yearbuilt']/10).round()\n",
    "a = np.array(prop_df['yearbuilt'].values.tolist())\n",
    "prop_df['yearbuilt'] = np.where(a < 190, 189, a)  #.tolist()\n",
    "prop_df['yearbuilt'].fillna(value=195,inplace=True) #set NaN to 195\n",
    "\n",
    "\n",
    "\n",
    "##  taxdelinquencyflag   prop_df['taxdelinquencyflag'].value_counts()\n",
    "prop_df['taxdelinquencyflag'] = [1 if x == 'Y' else 0 for x in prop_df['taxdelinquencyflag']] \n",
    "prop_df['taxdelinquencyflag'].fillna(value=0,inplace=True) #set NaN to zeroTrue) #set NaN to zero"
   ]
  },
  {
   "cell_type": "code",
   "execution_count": 10,
   "metadata": {
    "collapsed": true
   },
   "outputs": [],
   "source": [
    "##  Numeric variables whose NaN we'll set to zero\n",
    "a = np.array(prop_df['basementsqft'].values.tolist())\n",
    "prop_df['basementsqft_NaN'] = np.where(a == np.NaN, 1, 0)  #.tolist()\n",
    "prop_df['basementsqft'].fillna(value=0,inplace=True) #set NaN to zero\n",
    "\n",
    "a = np.array(prop_df['calculatedfinishedsquarefeet'].values.tolist())\n",
    "prop_df['calculatedfinishedsquarefeet_NaN'] = np.where(a == np.NaN, 1, 0)  #.tolist()\n",
    "prop_df['calculatedfinishedsquarefeet'].fillna(value=0,inplace=True) #set NaN to zero\n",
    "\n",
    "a = np.array(prop_df['lotsizesquarefeet'].values.tolist())\n",
    "prop_df['lotsizesquarefeet_NaN'] = np.where(a == np.NaN, 1, 0)  #.tolist()\n",
    "prop_df['lotsizesquarefeet'].fillna(value=0,inplace=True) #set NaN to zero\n",
    "\n",
    "a = np.array(prop_df['yardbuildingsqft17'].values.tolist())\n",
    "prop_df['yardbuildingsqft17_NaN'] = np.where(a == np.NaN, 1, 0)  #.tolist()\n",
    "prop_df['yardbuildingsqft17'].fillna(value=0,inplace=True) #set NaN to zero\n",
    "a = np.array(prop_df['yardbuildingsqft17'].values.tolist())\n",
    "prop_df['yardbuildingsqft17'] = np.where(a > 0, 1, 0)  #.tolist()\n",
    "\n",
    "a = np.array(prop_df['yardbuildingsqft26'].values.tolist())\n",
    "prop_df['yardbuildingsqft26_NaN'] = np.where(a == np.NaN, 1, 0)  #.tolist()\n",
    "prop_df['yardbuildingsqft26'].fillna(value=0,inplace=True) #set NaN to zero\n",
    "a = np.array(prop_df['yardbuildingsqft26'].values.tolist())\n",
    "prop_df['yardbuildingsqft26'] = np.where(a > 0, 1, 0)  #.tolist()\n",
    "\n",
    "a = np.array(prop_df['structuretaxvaluedollarcnt'].values.tolist())\n",
    "prop_df['structuretaxvaluedollarcnt_NaN'] = np.where(a == np.NaN, 1, 0)  #.tolist()\n",
    "prop_df['structuretaxvaluedollarcnt'].fillna(value=0,inplace=True) #set NaN to zero\n",
    "\n",
    "a = np.array(prop_df['landtaxvaluedollarcnt'].values.tolist())\n",
    "prop_df['landtaxvaluedollarcnt_NaN'] = np.where(a == np.NaN, 1, 0)  #.tolist()\n",
    "prop_df['landtaxvaluedollarcnt'].fillna(value=10000,inplace=True) #set NaN to 10000\n",
    "\n",
    "a = np.array(prop_df['calculatedfinishedsquarefeet'].values.tolist())\n",
    "prop_df['calculatedfinishedsquarefeet_NaN'] = np.where(a == np.NaN, 1, 0)  #.tolist()\n",
    "prop_df['calculatedfinishedsquarefeet'].fillna(value=6000,inplace=True) #set NaN to 6000, most common number\n",
    "\n"
   ]
  },
  {
   "cell_type": "code",
   "execution_count": 13,
   "metadata": {
    "scrolled": true
   },
   "outputs": [
    {
     "data": {
      "image/png": "[encoded data removed]",
      "text/plain": [
       "<matplotlib.figure.Figure at 0x10f6a34d0>"
      ]
     },
     "metadata": {},
     "output_type": "display_data"
    }
   ],
   "source": [
    "# Check Missing values again, after processing attempt to remove some fields and assign a value to others' NaN values\n",
    "missing_df = prop_df.isnull().sum(axis=0).reset_index()\n",
    "missing_df.columns = ['column_name', 'missing_count']\n",
    "missing_df = missing_df.ix[missing_df['missing_count']>0]\n",
    "missing_df = missing_df.sort_values(by='missing_count')\n",
    "\n",
    "ind = np.arange(missing_df.shape[0])\n",
    "width = 0.9\n",
    "fig, ax = plt.subplots(figsize=(12,18))\n",
    "rects = ax.barh(ind, missing_df.missing_count.values, color='blue')\n",
    "ax.set_yticks(ind)\n",
    "ax.set_yticklabels(missing_df.column_name.values, rotation='horizontal')\n",
    "ax.set_xlabel(\"Count of missing values\")\n",
    "ax.set_title(\"Number of missing values in each column\")\n",
    "plt.show()"
   ]
  },
  {
   "cell_type": "code",
   "execution_count": 14,
   "metadata": {
    "collapsed": true
   },
   "outputs": [],
   "source": [
    "\n",
    "objs = [ 'airconditioningtypeid'\n",
    "        ,'bedroomcnt'\n",
    "        ,'buildingqualitytypeid'\n",
    "        ,'fireplacecnt'\n",
    "        ,'garagecarcnt'\n",
    "        ,'heatingorsystemtypeid'\n",
    "        ,'numberofstories'\n",
    "        ,'poolcnt'        \n",
    "        ,'propertylandusetypeid'   \n",
    "        ,'regionidcounty'\n",
    "        ,'unitcnt'\n",
    "        ,'yearbuilt'   \n",
    "        ,'taxdelinquencyflag'  \n",
    "        ,'yardbuildingsqft17'\n",
    "        ,'yardbuildingsqft26'        \n",
    "        ]\n",
    "\n",
    "\n",
    "for obj in objs:\n",
    "    prop_df[obj] = prop_df[obj].astype(object)"
   ]
  },
  {
   "cell_type": "code",
   "execution_count": 15,
   "metadata": {
    "collapsed": true
   },
   "outputs": [],
   "source": [
    "\n",
    "flts = [ 'basementsqft'\n",
    "        ,'calculatedbathnbr'\n",
    "        ,'calculatedfinishedsquarefeet'\n",
    "        ,'landtaxvaluedollarcnt'\n",
    "        ,'lotsizesquarefeet'\n",
    "        ,'roomcnt'\n",
    "        ,'structuretaxvaluedollarcnt'\n",
    "       ]\n",
    "\n",
    "for flt in flts:\n",
    "    prop_df[flt] = prop_df[flt].astype(float)"
   ]
  },
  {
   "cell_type": "code",
   "execution_count": 16,
   "metadata": {},
   "outputs": [
    {
     "name": "stdout",
     "output_type": "stream",
     "text": [
      "Feature 'airconditioningtypeid' has 8 unique categories\n",
      "Feature 'bedroomcnt' has 7 unique categories\n",
      "Feature 'buildingqualitytypeid' has 4 unique categories\n",
      "Feature 'fireplacecnt' has 4 unique categories\n",
      "Feature 'garagecarcnt' has 5 unique categories\n",
      "Feature 'heatingorsystemtypeid' has 6 unique categories\n",
      "Feature 'poolcnt' has 2 unique categories\n",
      "Feature 'propertylandusetypeid' has 16 unique categories\n",
      "Feature 'regionidcounty' has 4 unique categories\n",
      "Feature 'unitcnt' has 5 unique categories\n",
      "Feature 'yardbuildingsqft17' has 2 unique categories\n",
      "Feature 'yardbuildingsqft26' has 2 unique categories\n",
      "Feature 'yearbuilt' has 14 unique categories\n",
      "Feature 'numberofstories' has 4 unique categories\n",
      "Feature 'taxdelinquencyflag' has 2 unique categories\n"
     ]
    }
   ],
   "source": [
    "# Decide which categorical variables you want to use in model\n",
    "for col in prop_df.columns:\n",
    "    if prop_df[col].dtypes == 'object':       \n",
    "        unique_cat = len(prop_df[col].unique())\n",
    "        print(\"Feature '{col_name}' has {unique_cat} unique categories\".format(col_name=col, unique_cat=unique_cat))"
   ]
  },
  {
   "cell_type": "code",
   "execution_count": 17,
   "metadata": {
    "collapsed": true
   },
   "outputs": [],
   "source": [
    "# Create dummy list\n",
    "to_dummy = [ 'airconditioningtypeid'\n",
    "            ,'bedroomcnt'\n",
    "            ,'buildingqualitytypeid'\n",
    "            ,'fireplacecnt'\n",
    "            ,'garagecarcnt'\n",
    "            ,'heatingorsystemtypeid'\n",
    "            ,'numberofstories'\n",
    "            ,'poolcnt'\n",
    "            ,'propertylandusetypeid'   \n",
    "            ,'regionidcounty'         \n",
    "            ,'unitcnt'\n",
    "            ,'yearbuilt'   \n",
    "            ,'taxdelinquencyflag'  \n",
    "            ,'yardbuildingsqft17'\n",
    "            ,'yardbuildingsqft26'   \n",
    "            ]"
   ]
  },
  {
   "cell_type": "code",
   "execution_count": 18,
   "metadata": {
    "collapsed": true
   },
   "outputs": [],
   "source": [
    "# Use this function to dummy all the categorical variables we want to keep\n",
    "def dummy_df(df, todummy_list):\n",
    "    for x in todummy_list:       \n",
    "        dummies = pd.get_dummies(df[x], prefix=x, dummy_na=True)\n",
    "        df = df.drop(x, 1)\n",
    "        df = pd.concat([df, dummies], axis=1)\n",
    "    return df"
   ]
  },
  {
   "cell_type": "code",
   "execution_count": 19,
   "metadata": {
    "collapsed": true
   },
   "outputs": [],
   "source": [
    "## bool  \n",
    "prop_df = dummy_df(prop_df, to_dummy)"
   ]
  },
  {
   "cell_type": "code",
   "execution_count": 20,
   "metadata": {},
   "outputs": [
    {
     "data": {
      "text/html": [
       "<div>\n",
       "<style>\n",
       "    .dataframe thead tr:only-child th {\n",
       "        text-align: right;\n",
       "    }\n",
       "\n",
       "    .dataframe thead th {\n",
       "        text-align: left;\n",
       "    }\n",
       "\n",
       "    .dataframe tbody tr th {\n",
       "        vertical-align: top;\n",
       "    }\n",
       "</style>\n",
       "<table border=\"1\" class=\"dataframe\">\n",
       "  <thead>\n",
       "    <tr style=\"text-align: right;\">\n",
       "      <th></th>\n",
       "      <th>parcelid</th>\n",
       "      <th>basementsqft</th>\n",
       "      <th>calculatedbathnbr</th>\n",
       "      <th>calculatedfinishedsquarefeet</th>\n",
       "      <th>lotsizesquarefeet</th>\n",
       "      <th>roomcnt</th>\n",
       "      <th>structuretaxvaluedollarcnt</th>\n",
       "      <th>landtaxvaluedollarcnt</th>\n",
       "      <th>roomcnt0</th>\n",
       "      <th>basementsqft_NaN</th>\n",
       "      <th>...</th>\n",
       "      <th>yearbuilt_nan</th>\n",
       "      <th>taxdelinquencyflag_0.0</th>\n",
       "      <th>taxdelinquencyflag_1.0</th>\n",
       "      <th>taxdelinquencyflag_nan</th>\n",
       "      <th>yardbuildingsqft17_0.0</th>\n",
       "      <th>yardbuildingsqft17_1.0</th>\n",
       "      <th>yardbuildingsqft17_nan</th>\n",
       "      <th>yardbuildingsqft26_0.0</th>\n",
       "      <th>yardbuildingsqft26_1.0</th>\n",
       "      <th>yardbuildingsqft26_nan</th>\n",
       "    </tr>\n",
       "  </thead>\n",
       "  <tbody>\n",
       "    <tr>\n",
       "      <th>0</th>\n",
       "      <td>10754147</td>\n",
       "      <td>0.0</td>\n",
       "      <td>2.0</td>\n",
       "      <td>0.0</td>\n",
       "      <td>85768.0</td>\n",
       "      <td>3.0</td>\n",
       "      <td>0.0</td>\n",
       "      <td>9.0</td>\n",
       "      <td>1</td>\n",
       "      <td>0</td>\n",
       "      <td>...</td>\n",
       "      <td>0</td>\n",
       "      <td>1</td>\n",
       "      <td>0</td>\n",
       "      <td>0</td>\n",
       "      <td>1</td>\n",
       "      <td>0</td>\n",
       "      <td>0</td>\n",
       "      <td>1</td>\n",
       "      <td>0</td>\n",
       "      <td>0</td>\n",
       "    </tr>\n",
       "    <tr>\n",
       "      <th>1</th>\n",
       "      <td>10759547</td>\n",
       "      <td>0.0</td>\n",
       "      <td>2.0</td>\n",
       "      <td>0.0</td>\n",
       "      <td>4083.0</td>\n",
       "      <td>3.0</td>\n",
       "      <td>0.0</td>\n",
       "      <td>27516.0</td>\n",
       "      <td>1</td>\n",
       "      <td>0</td>\n",
       "      <td>...</td>\n",
       "      <td>0</td>\n",
       "      <td>1</td>\n",
       "      <td>0</td>\n",
       "      <td>0</td>\n",
       "      <td>1</td>\n",
       "      <td>0</td>\n",
       "      <td>0</td>\n",
       "      <td>1</td>\n",
       "      <td>0</td>\n",
       "      <td>0</td>\n",
       "    </tr>\n",
       "    <tr>\n",
       "      <th>2</th>\n",
       "      <td>10843547</td>\n",
       "      <td>0.0</td>\n",
       "      <td>2.0</td>\n",
       "      <td>73026.0</td>\n",
       "      <td>63085.0</td>\n",
       "      <td>3.0</td>\n",
       "      <td>650756.0</td>\n",
       "      <td>762631.0</td>\n",
       "      <td>1</td>\n",
       "      <td>0</td>\n",
       "      <td>...</td>\n",
       "      <td>0</td>\n",
       "      <td>1</td>\n",
       "      <td>0</td>\n",
       "      <td>0</td>\n",
       "      <td>1</td>\n",
       "      <td>0</td>\n",
       "      <td>0</td>\n",
       "      <td>1</td>\n",
       "      <td>0</td>\n",
       "      <td>0</td>\n",
       "    </tr>\n",
       "    <tr>\n",
       "      <th>3</th>\n",
       "      <td>10859147</td>\n",
       "      <td>0.0</td>\n",
       "      <td>2.0</td>\n",
       "      <td>5068.0</td>\n",
       "      <td>7521.0</td>\n",
       "      <td>3.0</td>\n",
       "      <td>571346.0</td>\n",
       "      <td>585488.0</td>\n",
       "      <td>1</td>\n",
       "      <td>0</td>\n",
       "      <td>...</td>\n",
       "      <td>0</td>\n",
       "      <td>1</td>\n",
       "      <td>0</td>\n",
       "      <td>0</td>\n",
       "      <td>1</td>\n",
       "      <td>0</td>\n",
       "      <td>0</td>\n",
       "      <td>1</td>\n",
       "      <td>0</td>\n",
       "      <td>0</td>\n",
       "    </tr>\n",
       "    <tr>\n",
       "      <th>4</th>\n",
       "      <td>10879947</td>\n",
       "      <td>0.0</td>\n",
       "      <td>2.0</td>\n",
       "      <td>1776.0</td>\n",
       "      <td>8512.0</td>\n",
       "      <td>3.0</td>\n",
       "      <td>193796.0</td>\n",
       "      <td>239695.0</td>\n",
       "      <td>1</td>\n",
       "      <td>0</td>\n",
       "      <td>...</td>\n",
       "      <td>0</td>\n",
       "      <td>1</td>\n",
       "      <td>0</td>\n",
       "      <td>0</td>\n",
       "      <td>1</td>\n",
       "      <td>0</td>\n",
       "      <td>0</td>\n",
       "      <td>1</td>\n",
       "      <td>0</td>\n",
       "      <td>0</td>\n",
       "    </tr>\n",
       "  </tbody>\n",
       "</table>\n",
       "<p>5 rows × 116 columns</p>\n",
       "</div>"
      ],
      "text/plain": [
       "   parcelid  basementsqft  calculatedbathnbr  calculatedfinishedsquarefeet  \\\n",
       "0  10754147           0.0                2.0                           0.0   \n",
       "1  10759547           0.0                2.0                           0.0   \n",
       "2  10843547           0.0                2.0                       73026.0   \n",
       "3  10859147           0.0                2.0                        5068.0   \n",
       "4  10879947           0.0                2.0                        1776.0   \n",
       "\n",
       "   lotsizesquarefeet  roomcnt  structuretaxvaluedollarcnt  \\\n",
       "0            85768.0      3.0                         0.0   \n",
       "1             4083.0      3.0                         0.0   \n",
       "2            63085.0      3.0                    650756.0   \n",
       "3             7521.0      3.0                    571346.0   \n",
       "4             8512.0      3.0                    193796.0   \n",
       "\n",
       "   landtaxvaluedollarcnt  roomcnt0  basementsqft_NaN           ...            \\\n",
       "0                    9.0         1                 0           ...             \n",
       "1                27516.0         1                 0           ...             \n",
       "2               762631.0         1                 0           ...             \n",
       "3               585488.0         1                 0           ...             \n",
       "4               239695.0         1                 0           ...             \n",
       "\n",
       "   yearbuilt_nan  taxdelinquencyflag_0.0  taxdelinquencyflag_1.0  \\\n",
       "0              0                       1                       0   \n",
       "1              0                       1                       0   \n",
       "2              0                       1                       0   \n",
       "3              0                       1                       0   \n",
       "4              0                       1                       0   \n",
       "\n",
       "   taxdelinquencyflag_nan  yardbuildingsqft17_0.0  yardbuildingsqft17_1.0  \\\n",
       "0                       0                       1                       0   \n",
       "1                       0                       1                       0   \n",
       "2                       0                       1                       0   \n",
       "3                       0                       1                       0   \n",
       "4                       0                       1                       0   \n",
       "\n",
       "   yardbuildingsqft17_nan  yardbuildingsqft26_0.0  yardbuildingsqft26_1.0  \\\n",
       "0                       0                       1                       0   \n",
       "1                       0                       1                       0   \n",
       "2                       0                       1                       0   \n",
       "3                       0                       1                       0   \n",
       "4                       0                       1                       0   \n",
       "\n",
       "   yardbuildingsqft26_nan  \n",
       "0                       0  \n",
       "1                       0  \n",
       "2                       0  \n",
       "3                       0  \n",
       "4                       0  \n",
       "\n",
       "[5 rows x 116 columns]"
      ]
     },
     "execution_count": 20,
     "metadata": {},
     "output_type": "execute_result"
    }
   ],
   "source": [
    "prop_df.head()"
   ]
  },
  {
   "cell_type": "code",
   "execution_count": 30,
   "metadata": {},
   "outputs": [
    {
     "name": "stdout",
     "output_type": "stream",
     "text": [
      "(2985217, 7)\n",
      "(2985217, 116)\n",
      "   parcelid  201610  201611  201612  201710  201711  201712\n",
      "0  10754147       0       0       0       0       0       0\n",
      "1  10759547       0       0       0       0       0       0\n",
      "2  10843547       0       0       0       0       0       0\n",
      "3  10859147       0       0       0       0       0       0\n",
      "4  10879947       0       0       0       0       0       0\n"
     ]
    }
   ],
   "source": [
    "sample_submission = pd.read_csv(\"sample_submission.csv\")\n",
    "sample_submission.rename(columns={'ParcelId': 'parcelid'}, inplace=True)\n",
    "print sample_submission.shape\n",
    "print prop_df.shape\n",
    "print sample_submission.head()"
   ]
  },
  {
   "cell_type": "code",
   "execution_count": 27,
   "metadata": {},
   "outputs": [
    {
     "name": "stdout",
     "output_type": "stream",
     "text": [
      "Dataframe shape: (2985217, 122)\n"
     ]
    }
   ],
   "source": [
    "# inner merge with sample_submission to ensure we use the correct parcelIds in our submission\n",
    "properties_to_use = pd.merge(prop_df, sample_submission, on='parcelid', how='inner')\n",
    "print 'Dataframe shape:', properties_to_use.shape"
   ]
  },
  {
   "cell_type": "code",
   "execution_count": 22,
   "metadata": {
    "collapsed": true
   },
   "outputs": [],
   "source": [
    "properties_to_use.to_csv(\"preprocessed_properties.csv\")"
   ]
  },
  {
   "cell_type": "code",
   "execution_count": null,
   "metadata": {
    "collapsed": true
   },
   "outputs": [],
   "source": []
  }
 ],
 "metadata": {
  "anaconda-cloud": {},
  "kernelspec": {
   "display_name": "Python 2",
   "language": "python",
   "name": "python2"
  },
  "language_info": {
   "codemirror_mode": {
    "name": "ipython",
    "version": 2
   },
   "file_extension": ".py",
   "mimetype": "text/x-python",
   "name": "python",
   "nbconvert_exporter": "python",
   "pygments_lexer": "ipython2",
   "version": "2.7.13"
  }
 },
 "nbformat": 4,
 "nbformat_minor": 1
}
