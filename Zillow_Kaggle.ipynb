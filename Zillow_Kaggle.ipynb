{
 "cells": [
  {
   "cell_type": "markdown",
   "metadata": {},
   "source": [
    "<h1> MIDS W207 Final</h1>\n",
    "\n",
    "<h3> Group Members </h3>\n",
    "Ben Attix <br>\n",
    "Justin Plumley <br>\n",
    "Dan Watson\n",
    "\n",
    "<h3> Kaggle Competition </h3>\n",
    "Zillow Prize: Zillow’s Home Value Prediction (Zestimate)\n",
    "\n",
    "<h3> Evaluation </h3>\n",
    "Submissions are evaluated on Mean Absolute Error between the predicted log error and the actual log error. The log error is defined as:\n",
    "logerror=log(Zestimate)−log(SalePrice)\n",
    "and it is recorded in the transactions training data. If a transaction didn't happen for a property during that period of time, that row is ignored and not counted in the calculation of MAE.\n",
    "\n",
    "<h5> Competition Website </h5>\n",
    "https://www.kaggle.com/c/zillow-prize-1#description"
   ]
  },
  {
   "cell_type": "markdown",
   "metadata": {},
   "source": [
    "<h2> Load libraries, data, and test output"
   ]
  },
  {
   "cell_type": "code",
   "execution_count": 19,
   "metadata": {
    "collapsed": false
   },
   "outputs": [],
   "source": [
    "# This tells matplotlib not to try opening a new window for each plot.\n",
    "%matplotlib inline\n",
    "\n",
    "# General libraries.\n",
    "import os\n",
    "import numpy as np\n",
    "import pandas as pd\n",
    "import seaborn as sns\n",
    "import matplotlib.pyplot as plt\n",
    "color = sns.color_palette()\n",
    "\n",
    "# SK-learn libraries for learning.\n",
    "from sklearn.pipeline import Pipeline\n",
    "from sklearn.neighbors import KNeighborsClassifier\n",
    "from sklearn.grid_search import GridSearchCV\n",
    "\n",
    "# SK-learn libraries for evaluation.\n",
    "from sklearn.metrics import confusion_matrix\n",
    "from sklearn import metrics\n",
    "from sklearn.metrics import classification_report"
   ]
  },
  {
   "cell_type": "code",
   "execution_count": 3,
   "metadata": {
    "collapsed": false
   },
   "outputs": [
    {
     "name": "stderr",
     "output_type": "stream",
     "text": [
      "/Library/Frameworks/Python.framework/Versions/3.5/lib/python3.5/site-packages/IPython/core/interactiveshell.py:2723: DtypeWarning: Columns (22,32,34,49,55) have mixed types. Specify dtype option on import or set low_memory=False.\n",
      "  interactivity=interactivity, compiler=compiler, result=result)\n"
     ]
    },
    {
     "name": "stdout",
     "output_type": "stream",
     "text": [
      "(2985217, 58)\n",
      "(90275, 3)\n"
     ]
    }
   ],
   "source": [
    "train_df = pd.read_csv(\"train_2016_v2.csv\", parse_dates=[\"transactiondate\"])\n",
    "prop_df = pd.read_csv(\"properties_2016.csv\")\n",
    "print(prop_df.shape)\n",
    "print(train_df.shape)\n",
    "#df outputs\n",
    "#prop_df.head()\n",
    "#train_df.head()"
   ]
  },
  {
   "cell_type": "code",
   "execution_count": 4,
   "metadata": {
    "collapsed": false
   },
   "outputs": [],
   "source": [
    "# Test submission output\n",
    "#test_sub = pd.read_csv(\"sample_submission.csv\")\n",
    "#for i in test_sub.columns[test_sub.columns != \"ParcelId\"]:\n",
    "    #test_sub[i] = np.mean(train_df['logerror'])\n",
    "#test_sub.to_csv('test_submission.csv', index= False, float_format='%.4f')"
   ]
  },
  {
   "cell_type": "markdown",
   "metadata": {},
   "source": [
    "<H2> EDA </H2> <br>\n",
    "Many ideas and code taken from following EDA Kernels:\n",
    "https://www.kaggle.com/sudalairajkumar/simple-exploration-notebook-zillow-prize (python)\n",
    "https://www.kaggle.com/philippsp/exploratory-analysis-zillow (R)\n",
    "https://www.kaggle.com/captcalculator/a-very-extensive-zillow-exploratory-analysis (R)\n",
    "https://www.kaggle.com/viveksrinivasan/zillow-eda-on-missing-values-multicollinearity (python)\n",
    "\n",
    "<H5> Start with train dataframe </H5>\n",
    "<H5> Log Error </H5>"
   ]
  },
  {
   "cell_type": "code",
   "execution_count": 5,
   "metadata": {
    "collapsed": false
   },
   "outputs": [
    {
     "data": {
      "text/html": [
       "<div>\n",
       "<table border=\"1\" class=\"dataframe\">\n",
       "  <thead>\n",
       "    <tr style=\"text-align: right;\">\n",
       "      <th></th>\n",
       "      <th>parcelid</th>\n",
       "      <th>logerror</th>\n",
       "    </tr>\n",
       "  </thead>\n",
       "  <tbody>\n",
       "    <tr>\n",
       "      <th>count</th>\n",
       "      <td>9.027500e+04</td>\n",
       "      <td>90275.000000</td>\n",
       "    </tr>\n",
       "    <tr>\n",
       "      <th>mean</th>\n",
       "      <td>1.298466e+07</td>\n",
       "      <td>0.011457</td>\n",
       "    </tr>\n",
       "    <tr>\n",
       "      <th>std</th>\n",
       "      <td>2.504510e+06</td>\n",
       "      <td>0.161079</td>\n",
       "    </tr>\n",
       "    <tr>\n",
       "      <th>min</th>\n",
       "      <td>1.071174e+07</td>\n",
       "      <td>-4.605000</td>\n",
       "    </tr>\n",
       "    <tr>\n",
       "      <th>25%</th>\n",
       "      <td>1.155950e+07</td>\n",
       "      <td>-0.025300</td>\n",
       "    </tr>\n",
       "    <tr>\n",
       "      <th>50%</th>\n",
       "      <td>1.254734e+07</td>\n",
       "      <td>0.006000</td>\n",
       "    </tr>\n",
       "    <tr>\n",
       "      <th>75%</th>\n",
       "      <td>1.422755e+07</td>\n",
       "      <td>0.039200</td>\n",
       "    </tr>\n",
       "    <tr>\n",
       "      <th>max</th>\n",
       "      <td>1.629608e+08</td>\n",
       "      <td>4.737000</td>\n",
       "    </tr>\n",
       "  </tbody>\n",
       "</table>\n",
       "</div>"
      ],
      "text/plain": [
       "           parcelid      logerror\n",
       "count  9.027500e+04  90275.000000\n",
       "mean   1.298466e+07      0.011457\n",
       "std    2.504510e+06      0.161079\n",
       "min    1.071174e+07     -4.605000\n",
       "25%    1.155950e+07     -0.025300\n",
       "50%    1.254734e+07      0.006000\n",
       "75%    1.422755e+07      0.039200\n",
       "max    1.629608e+08      4.737000"
      ]
     },
     "execution_count": 5,
     "metadata": {},
     "output_type": "execute_result"
    }
   ],
   "source": [
    "train_df.describe()"
   ]
  },
  {
   "cell_type": "code",
   "execution_count": 9,
   "metadata": {
    "collapsed": false
   },
   "outputs": [
    {
     "data": {
      "image/png": "[encoded data removed]",
      "text/plain": [
       "<matplotlib.figure.Figure at 0x1048f6898>"
      ]
     },
     "metadata": {},
     "output_type": "display_data"
    }
   ],
   "source": [
    "plt.figure(figsize=(8,5))\n",
    "plt.scatter(range(train_df.shape[0]), np.sort(train_df.logerror.values))\n",
    "plt.xlabel('index', fontsize=12)\n",
    "plt.ylabel('logerror', fontsize=12)\n",
    "plt.show()"
   ]
  },
  {
   "cell_type": "markdown",
   "metadata": {},
   "source": [
    "Log error is quite good for vast majority- outliers are key here"
   ]
  },
  {
   "cell_type": "code",
   "execution_count": 10,
   "metadata": {
    "collapsed": false
   },
   "outputs": [
    {
     "data": {
      "image/png": "[encoded data removed]",
      "text/plain": [
       "<matplotlib.figure.Figure at 0x10315dcf8>"
      ]
     },
     "metadata": {},
     "output_type": "display_data"
    }
   ],
   "source": [
    "plt.figure(figsize=(12,8))\n",
    "sns.distplot(train_df.logerror.values, bins=50, kde=False)\n",
    "plt.xlabel('logerror', fontsize=12)\n",
    "plt.show()"
   ]
  },
  {
   "cell_type": "markdown",
   "metadata": {},
   "source": [
    "Seems liked a peaked distribution, but outliers on log error are affecting the histogram.  Removing outliers:"
   ]
  },
  {
   "cell_type": "code",
   "execution_count": 14,
   "metadata": {
    "collapsed": false,
    "scrolled": true
   },
   "outputs": [
    {
     "name": "stderr",
     "output_type": "stream",
     "text": [
      "/Library/Frameworks/Python.framework/Versions/3.5/lib/python3.5/site-packages/pandas/core/indexing.py:141: SettingWithCopyWarning: \n",
      "A value is trying to be set on a copy of a slice from a DataFrame\n",
      "\n",
      "See the caveats in the documentation: http://pandas.pydata.org/pandas-docs/stable/indexing.html#indexing-view-versus-copy\n",
      "  self._setitem_with_indexer(indexer, value)\n"
     ]
    },
    {
     "data": {
      "image/png": "[encoded data removed]",
      "text/plain": [
       "<matplotlib.figure.Figure at 0x103ceb0f0>"
      ]
     },
     "metadata": {},
     "output_type": "display_data"
    }
   ],
   "source": [
    "ulimit = np.percentile(train_df.logerror.values, 99)\n",
    "llimit = np.percentile(train_df.logerror.values, 1)\n",
    "train_df['logerror'].loc[train_df['logerror']>ulimit] = ulimit\n",
    "train_df['logerror'].loc[train_df['logerror']<llimit] = llimit\n",
    "\n",
    "plt.figure(figsize=(12,8))\n",
    "sns.distplot(train_df.logerror.values, bins=50, kde=False)\n",
    "plt.xlabel('logerror', fontsize=12)\n",
    "plt.show()"
   ]
  },
  {
   "cell_type": "markdown",
   "metadata": {},
   "source": [
    "Close to a normal distribution.  This shows why our test data of just predicting the mean did fairly ok.\n",
    "\n"
   ]
  },
  {
   "cell_type": "markdown",
   "metadata": {
    "collapsed": true
   },
   "source": [
    "<H5> Transaction Date </H5>"
   ]
  },
  {
   "cell_type": "code",
   "execution_count": 17,
   "metadata": {
    "collapsed": false
   },
   "outputs": [
    {
     "data": {
      "text/plain": [
       "count                   90275\n",
       "unique                    352\n",
       "top       2016-07-29 00:00:00\n",
       "freq                      910\n",
       "first     2016-01-01 00:00:00\n",
       "last      2016-12-30 00:00:00\n",
       "Name: transactiondate, dtype: object"
      ]
     },
     "execution_count": 17,
     "metadata": {},
     "output_type": "execute_result"
    }
   ],
   "source": [
    "train_df.transactiondate.describe()"
   ]
  },
  {
   "cell_type": "markdown",
   "metadata": {
    "collapsed": true
   },
   "source": [
    "All the data is from 2016- we can aggregate it by month"
   ]
  },
  {
   "cell_type": "code",
   "execution_count": 52,
   "metadata": {
    "collapsed": false
   },
   "outputs": [
    {
     "data": {
      "image/png": "[encoded data removed]",
      "text/plain": [
       "<matplotlib.figure.Figure at 0x10a8a5470>"
      ]
     },
     "metadata": {},
     "output_type": "display_data"
    }
   ],
   "source": [
    "train_df['transaction_month'] = train_df['transactiondate'].dt.month\n",
    "\n",
    "cnt_srs = train_df['transaction_month'].value_counts()\n",
    "plt.figure(figsize=(12,6))\n",
    "bars= sns.barplot(cnt_srs.index, cnt_srs.values,  color=color[2])\n",
    "plt.xticks()\n",
    "plt.xlabel('Month of transaction', fontsize=12)\n",
    "plt.ylabel('Number of Occurrences', fontsize=12)\n",
    "plt.show()"
   ]
  },
  {
   "cell_type": "markdown",
   "metadata": {},
   "source": [
    "Slow start of the year, then transactions pick up through August.  We do not have all the transactions after October 15th, per competition website."
   ]
  },
  {
   "cell_type": "markdown",
   "metadata": {
    "collapsed": true
   },
   "source": [
    "<h5> Parcel ID </h5>"
   ]
  },
  {
   "cell_type": "code",
   "execution_count": 65,
   "metadata": {
    "collapsed": false
   },
   "outputs": [
    {
     "name": "stdout",
     "output_type": "stream",
     "text": [
      "ERROR! Session/line number was not unique in database. History logging moved to new session 319\n"
     ]
    },
    {
     "data": {
      "text/plain": [
       "1    90026\n",
       "2      123\n",
       "3        1\n",
       "Name: parcelid, dtype: int64"
      ]
     },
     "execution_count": 65,
     "metadata": {},
     "output_type": "execute_result"
    }
   ],
   "source": [
    "train_df['parcelid'].value_counts().reset_index()['parcelid'].value_counts()"
   ]
  },
  {
   "cell_type": "markdown",
   "metadata": {
    "collapsed": true
   },
   "source": [
    "Only 124 of the 90k+ properties had multiple transactions in this year period"
   ]
  },
  {
   "cell_type": "markdown",
   "metadata": {
    "collapsed": true
   },
   "source": [
    "<H5> Onto the Properties 2016 file <H5>"
   ]
  },
  {
   "cell_type": "code",
   "execution_count": 62,
   "metadata": {
    "collapsed": false
   },
   "outputs": [
    {
     "data": {
      "text/html": [
       "<div>\n",
       "<table border=\"1\" class=\"dataframe\">\n",
       "  <thead>\n",
       "    <tr style=\"text-align: right;\">\n",
       "      <th></th>\n",
       "      <th>count</th>\n",
       "      <th>mean</th>\n",
       "      <th>std</th>\n",
       "      <th>min</th>\n",
       "      <th>25%</th>\n",
       "      <th>50%</th>\n",
       "      <th>75%</th>\n",
       "      <th>max</th>\n",
       "    </tr>\n",
       "  </thead>\n",
       "  <tbody>\n",
       "    <tr>\n",
       "      <th>parcelid</th>\n",
       "      <td>2985217.0</td>\n",
       "      <td>1.332586e+07</td>\n",
       "      <td>7.909966e+06</td>\n",
       "      <td>1.071172e+07</td>\n",
       "      <td>1.164371e+07</td>\n",
       "      <td>1.254509e+07</td>\n",
       "      <td>1.409712e+07</td>\n",
       "      <td>1.696019e+08</td>\n",
       "    </tr>\n",
       "    <tr>\n",
       "      <th>airconditioningtypeid</th>\n",
       "      <td>811519.0</td>\n",
       "      <td>1.931166e+00</td>\n",
       "      <td>3.148587e+00</td>\n",
       "      <td>1.000000e+00</td>\n",
       "      <td>1.000000e+00</td>\n",
       "      <td>1.000000e+00</td>\n",
       "      <td>1.000000e+00</td>\n",
       "      <td>1.300000e+01</td>\n",
       "    </tr>\n",
       "    <tr>\n",
       "      <th>architecturalstyletypeid</th>\n",
       "      <td>6061.0</td>\n",
       "      <td>7.202607e+00</td>\n",
       "      <td>2.436290e+00</td>\n",
       "      <td>2.000000e+00</td>\n",
       "      <td>7.000000e+00</td>\n",
       "      <td>7.000000e+00</td>\n",
       "      <td>7.000000e+00</td>\n",
       "      <td>2.700000e+01</td>\n",
       "    </tr>\n",
       "    <tr>\n",
       "      <th>basementsqft</th>\n",
       "      <td>1628.0</td>\n",
       "      <td>6.468833e+02</td>\n",
       "      <td>5.387935e+02</td>\n",
       "      <td>2.000000e+01</td>\n",
       "      <td>2.720000e+02</td>\n",
       "      <td>5.340000e+02</td>\n",
       "      <td>8.472500e+02</td>\n",
       "      <td>8.516000e+03</td>\n",
       "    </tr>\n",
       "    <tr>\n",
       "      <th>bathroomcnt</th>\n",
       "      <td>2973755.0</td>\n",
       "      <td>2.209143e+00</td>\n",
       "      <td>1.077754e+00</td>\n",
       "      <td>0.000000e+00</td>\n",
       "      <td>2.000000e+00</td>\n",
       "      <td>2.000000e+00</td>\n",
       "      <td>3.000000e+00</td>\n",
       "      <td>2.000000e+01</td>\n",
       "    </tr>\n",
       "    <tr>\n",
       "      <th>bedroomcnt</th>\n",
       "      <td>2973767.0</td>\n",
       "      <td>3.088949e+00</td>\n",
       "      <td>1.275859e+00</td>\n",
       "      <td>0.000000e+00</td>\n",
       "      <td>2.000000e+00</td>\n",
       "      <td>3.000000e+00</td>\n",
       "      <td>4.000000e+00</td>\n",
       "      <td>2.000000e+01</td>\n",
       "    </tr>\n",
       "    <tr>\n",
       "      <th>buildingclasstypeid</th>\n",
       "      <td>12629.0</td>\n",
       "      <td>3.725948e+00</td>\n",
       "      <td>5.017002e-01</td>\n",
       "      <td>1.000000e+00</td>\n",
       "      <td>3.000000e+00</td>\n",
       "      <td>4.000000e+00</td>\n",
       "      <td>4.000000e+00</td>\n",
       "      <td>5.000000e+00</td>\n",
       "    </tr>\n",
       "    <tr>\n",
       "      <th>buildingqualitytypeid</th>\n",
       "      <td>1938488.0</td>\n",
       "      <td>5.784787e+00</td>\n",
       "      <td>1.805352e+00</td>\n",
       "      <td>1.000000e+00</td>\n",
       "      <td>4.000000e+00</td>\n",
       "      <td>7.000000e+00</td>\n",
       "      <td>7.000000e+00</td>\n",
       "      <td>1.200000e+01</td>\n",
       "    </tr>\n",
       "    <tr>\n",
       "      <th>calculatedbathnbr</th>\n",
       "      <td>2856305.0</td>\n",
       "      <td>2.299263e+00</td>\n",
       "      <td>1.000736e+00</td>\n",
       "      <td>1.000000e+00</td>\n",
       "      <td>2.000000e+00</td>\n",
       "      <td>2.000000e+00</td>\n",
       "      <td>3.000000e+00</td>\n",
       "      <td>2.000000e+01</td>\n",
       "    </tr>\n",
       "    <tr>\n",
       "      <th>decktypeid</th>\n",
       "      <td>17096.0</td>\n",
       "      <td>6.600000e+01</td>\n",
       "      <td>0.000000e+00</td>\n",
       "      <td>6.600000e+01</td>\n",
       "      <td>6.600000e+01</td>\n",
       "      <td>6.600000e+01</td>\n",
       "      <td>6.600000e+01</td>\n",
       "      <td>6.600000e+01</td>\n",
       "    </tr>\n",
       "    <tr>\n",
       "      <th>finishedfloor1squarefeet</th>\n",
       "      <td>202717.0</td>\n",
       "      <td>1.380630e+03</td>\n",
       "      <td>6.328685e+02</td>\n",
       "      <td>3.000000e+00</td>\n",
       "      <td>1.012000e+03</td>\n",
       "      <td>1.283000e+03</td>\n",
       "      <td>1.615000e+03</td>\n",
       "      <td>3.130300e+04</td>\n",
       "    </tr>\n",
       "    <tr>\n",
       "      <th>calculatedfinishedsquarefeet</th>\n",
       "      <td>2929652.0</td>\n",
       "      <td>1.827162e+03</td>\n",
       "      <td>1.819780e+03</td>\n",
       "      <td>1.000000e+00</td>\n",
       "      <td>1.213000e+03</td>\n",
       "      <td>1.572000e+03</td>\n",
       "      <td>2.136000e+03</td>\n",
       "      <td>9.525760e+05</td>\n",
       "    </tr>\n",
       "    <tr>\n",
       "      <th>finishedsquarefeet12</th>\n",
       "      <td>2709184.0</td>\n",
       "      <td>1.760001e+03</td>\n",
       "      <td>9.710610e+02</td>\n",
       "      <td>1.000000e+00</td>\n",
       "      <td>1.196000e+03</td>\n",
       "      <td>1.539000e+03</td>\n",
       "      <td>2.070000e+03</td>\n",
       "      <td>2.903450e+05</td>\n",
       "    </tr>\n",
       "    <tr>\n",
       "      <th>finishedsquarefeet13</th>\n",
       "      <td>7672.0</td>\n",
       "      <td>1.178901e+03</td>\n",
       "      <td>3.570730e+02</td>\n",
       "      <td>1.200000e+02</td>\n",
       "      <td>9.600000e+02</td>\n",
       "      <td>1.296000e+03</td>\n",
       "      <td>1.440000e+03</td>\n",
       "      <td>2.688000e+03</td>\n",
       "    </tr>\n",
       "    <tr>\n",
       "      <th>finishedsquarefeet15</th>\n",
       "      <td>190798.0</td>\n",
       "      <td>2.739187e+03</td>\n",
       "      <td>5.447428e+03</td>\n",
       "      <td>1.120000e+02</td>\n",
       "      <td>1.694000e+03</td>\n",
       "      <td>2.172000e+03</td>\n",
       "      <td>2.976000e+03</td>\n",
       "      <td>8.202420e+05</td>\n",
       "    </tr>\n",
       "    <tr>\n",
       "      <th>finishedsquarefeet50</th>\n",
       "      <td>202717.0</td>\n",
       "      <td>1.388945e+03</td>\n",
       "      <td>6.644887e+02</td>\n",
       "      <td>3.000000e+00</td>\n",
       "      <td>1.013000e+03</td>\n",
       "      <td>1.284000e+03</td>\n",
       "      <td>1.618000e+03</td>\n",
       "      <td>3.130300e+04</td>\n",
       "    </tr>\n",
       "    <tr>\n",
       "      <th>finishedsquarefeet6</th>\n",
       "      <td>22001.0</td>\n",
       "      <td>2.414339e+03</td>\n",
       "      <td>7.695303e+03</td>\n",
       "      <td>1.170000e+02</td>\n",
       "      <td>1.079000e+03</td>\n",
       "      <td>1.992000e+03</td>\n",
       "      <td>3.366000e+03</td>\n",
       "      <td>9.525760e+05</td>\n",
       "    </tr>\n",
       "    <tr>\n",
       "      <th>fips</th>\n",
       "      <td>2973780.0</td>\n",
       "      <td>6.048032e+03</td>\n",
       "      <td>2.023278e+01</td>\n",
       "      <td>6.037000e+03</td>\n",
       "      <td>6.037000e+03</td>\n",
       "      <td>6.037000e+03</td>\n",
       "      <td>6.059000e+03</td>\n",
       "      <td>6.111000e+03</td>\n",
       "    </tr>\n",
       "    <tr>\n",
       "      <th>fireplacecnt</th>\n",
       "      <td>312637.0</td>\n",
       "      <td>1.168710e+00</td>\n",
       "      <td>4.612729e-01</td>\n",
       "      <td>1.000000e+00</td>\n",
       "      <td>1.000000e+00</td>\n",
       "      <td>1.000000e+00</td>\n",
       "      <td>1.000000e+00</td>\n",
       "      <td>9.000000e+00</td>\n",
       "    </tr>\n",
       "    <tr>\n",
       "      <th>fullbathcnt</th>\n",
       "      <td>2856305.0</td>\n",
       "      <td>2.244165e+00</td>\n",
       "      <td>9.912054e-01</td>\n",
       "      <td>1.000000e+00</td>\n",
       "      <td>2.000000e+00</td>\n",
       "      <td>2.000000e+00</td>\n",
       "      <td>3.000000e+00</td>\n",
       "      <td>2.000000e+01</td>\n",
       "    </tr>\n",
       "    <tr>\n",
       "      <th>garagecarcnt</th>\n",
       "      <td>883267.0</td>\n",
       "      <td>1.823517e+00</td>\n",
       "      <td>6.100354e-01</td>\n",
       "      <td>0.000000e+00</td>\n",
       "      <td>2.000000e+00</td>\n",
       "      <td>2.000000e+00</td>\n",
       "      <td>2.000000e+00</td>\n",
       "      <td>2.500000e+01</td>\n",
       "    </tr>\n",
       "    <tr>\n",
       "      <th>garagetotalsqft</th>\n",
       "      <td>883267.0</td>\n",
       "      <td>3.837694e+02</td>\n",
       "      <td>2.454434e+02</td>\n",
       "      <td>0.000000e+00</td>\n",
       "      <td>3.240000e+02</td>\n",
       "      <td>4.410000e+02</td>\n",
       "      <td>4.940000e+02</td>\n",
       "      <td>7.749000e+03</td>\n",
       "    </tr>\n",
       "    <tr>\n",
       "      <th>heatingorsystemtypeid</th>\n",
       "      <td>1806401.0</td>\n",
       "      <td>4.012053e+00</td>\n",
       "      <td>3.293733e+00</td>\n",
       "      <td>1.000000e+00</td>\n",
       "      <td>2.000000e+00</td>\n",
       "      <td>2.000000e+00</td>\n",
       "      <td>7.000000e+00</td>\n",
       "      <td>2.400000e+01</td>\n",
       "    </tr>\n",
       "    <tr>\n",
       "      <th>latitude</th>\n",
       "      <td>2973780.0</td>\n",
       "      <td>3.400147e+07</td>\n",
       "      <td>2.433812e+05</td>\n",
       "      <td>3.332439e+07</td>\n",
       "      <td>3.382768e+07</td>\n",
       "      <td>3.400825e+07</td>\n",
       "      <td>3.416186e+07</td>\n",
       "      <td>3.481965e+07</td>\n",
       "    </tr>\n",
       "    <tr>\n",
       "      <th>longitude</th>\n",
       "      <td>2973780.0</td>\n",
       "      <td>-1.182019e+08</td>\n",
       "      <td>3.453171e+05</td>\n",
       "      <td>-1.194758e+08</td>\n",
       "      <td>-1.183930e+08</td>\n",
       "      <td>-1.181725e+08</td>\n",
       "      <td>-1.179495e+08</td>\n",
       "      <td>-1.175543e+08</td>\n",
       "    </tr>\n",
       "    <tr>\n",
       "      <th>lotsizesquarefeet</th>\n",
       "      <td>2709118.0</td>\n",
       "      <td>2.282281e+04</td>\n",
       "      <td>3.375924e+05</td>\n",
       "      <td>1.000000e+02</td>\n",
       "      <td>5.688000e+03</td>\n",
       "      <td>7.000000e+03</td>\n",
       "      <td>9.898000e+03</td>\n",
       "      <td>3.282638e+08</td>\n",
       "    </tr>\n",
       "    <tr>\n",
       "      <th>poolcnt</th>\n",
       "      <td>517534.0</td>\n",
       "      <td>1.000000e+00</td>\n",
       "      <td>0.000000e+00</td>\n",
       "      <td>1.000000e+00</td>\n",
       "      <td>1.000000e+00</td>\n",
       "      <td>1.000000e+00</td>\n",
       "      <td>1.000000e+00</td>\n",
       "      <td>1.000000e+00</td>\n",
       "    </tr>\n",
       "    <tr>\n",
       "      <th>poolsizesum</th>\n",
       "      <td>27960.0</td>\n",
       "      <td>5.197110e+02</td>\n",
       "      <td>1.913233e+02</td>\n",
       "      <td>1.900000e+01</td>\n",
       "      <td>4.300000e+02</td>\n",
       "      <td>4.950000e+02</td>\n",
       "      <td>5.940000e+02</td>\n",
       "      <td>1.741000e+04</td>\n",
       "    </tr>\n",
       "    <tr>\n",
       "      <th>pooltypeid10</th>\n",
       "      <td>36939.0</td>\n",
       "      <td>1.000000e+00</td>\n",
       "      <td>0.000000e+00</td>\n",
       "      <td>1.000000e+00</td>\n",
       "      <td>1.000000e+00</td>\n",
       "      <td>1.000000e+00</td>\n",
       "      <td>1.000000e+00</td>\n",
       "      <td>1.000000e+00</td>\n",
       "    </tr>\n",
       "    <tr>\n",
       "      <th>pooltypeid2</th>\n",
       "      <td>32075.0</td>\n",
       "      <td>1.000000e+00</td>\n",
       "      <td>0.000000e+00</td>\n",
       "      <td>1.000000e+00</td>\n",
       "      <td>1.000000e+00</td>\n",
       "      <td>1.000000e+00</td>\n",
       "      <td>1.000000e+00</td>\n",
       "      <td>1.000000e+00</td>\n",
       "    </tr>\n",
       "    <tr>\n",
       "      <th>pooltypeid7</th>\n",
       "      <td>485459.0</td>\n",
       "      <td>1.000000e+00</td>\n",
       "      <td>0.000000e+00</td>\n",
       "      <td>1.000000e+00</td>\n",
       "      <td>1.000000e+00</td>\n",
       "      <td>1.000000e+00</td>\n",
       "      <td>1.000000e+00</td>\n",
       "      <td>1.000000e+00</td>\n",
       "    </tr>\n",
       "    <tr>\n",
       "      <th>propertylandusetypeid</th>\n",
       "      <td>2973780.0</td>\n",
       "      <td>2.600484e+02</td>\n",
       "      <td>1.590817e+01</td>\n",
       "      <td>3.100000e+01</td>\n",
       "      <td>2.610000e+02</td>\n",
       "      <td>2.610000e+02</td>\n",
       "      <td>2.610000e+02</td>\n",
       "      <td>2.750000e+02</td>\n",
       "    </tr>\n",
       "    <tr>\n",
       "      <th>rawcensustractandblock</th>\n",
       "      <td>2973780.0</td>\n",
       "      <td>6.048345e+07</td>\n",
       "      <td>2.008117e+05</td>\n",
       "      <td>6.037101e+07</td>\n",
       "      <td>6.037320e+07</td>\n",
       "      <td>6.037571e+07</td>\n",
       "      <td>6.059042e+07</td>\n",
       "      <td>6.111009e+07</td>\n",
       "    </tr>\n",
       "    <tr>\n",
       "      <th>regionidcity</th>\n",
       "      <td>2922372.0</td>\n",
       "      <td>3.499335e+04</td>\n",
       "      <td>5.072747e+04</td>\n",
       "      <td>3.491000e+03</td>\n",
       "      <td>1.244700e+04</td>\n",
       "      <td>2.521800e+04</td>\n",
       "      <td>4.545700e+04</td>\n",
       "      <td>3.965560e+05</td>\n",
       "    </tr>\n",
       "    <tr>\n",
       "      <th>regionidcounty</th>\n",
       "      <td>2973780.0</td>\n",
       "      <td>2.570461e+03</td>\n",
       "      <td>7.880711e+02</td>\n",
       "      <td>1.286000e+03</td>\n",
       "      <td>2.061000e+03</td>\n",
       "      <td>3.101000e+03</td>\n",
       "      <td>3.101000e+03</td>\n",
       "      <td>3.101000e+03</td>\n",
       "    </tr>\n",
       "    <tr>\n",
       "      <th>regionidneighborhood</th>\n",
       "      <td>1156402.0</td>\n",
       "      <td>1.934764e+05</td>\n",
       "      <td>1.657133e+05</td>\n",
       "      <td>6.952000e+03</td>\n",
       "      <td>4.673600e+04</td>\n",
       "      <td>1.189200e+05</td>\n",
       "      <td>2.748000e+05</td>\n",
       "      <td>7.641670e+05</td>\n",
       "    </tr>\n",
       "    <tr>\n",
       "      <th>regionidzip</th>\n",
       "      <td>2971237.0</td>\n",
       "      <td>9.655267e+04</td>\n",
       "      <td>3.673175e+03</td>\n",
       "      <td>9.598200e+04</td>\n",
       "      <td>9.618000e+04</td>\n",
       "      <td>9.637700e+04</td>\n",
       "      <td>9.697400e+04</td>\n",
       "      <td>3.996750e+05</td>\n",
       "    </tr>\n",
       "    <tr>\n",
       "      <th>roomcnt</th>\n",
       "      <td>2973742.0</td>\n",
       "      <td>1.475018e+00</td>\n",
       "      <td>2.840403e+00</td>\n",
       "      <td>0.000000e+00</td>\n",
       "      <td>0.000000e+00</td>\n",
       "      <td>0.000000e+00</td>\n",
       "      <td>0.000000e+00</td>\n",
       "      <td>9.600000e+01</td>\n",
       "    </tr>\n",
       "    <tr>\n",
       "      <th>storytypeid</th>\n",
       "      <td>1624.0</td>\n",
       "      <td>7.000000e+00</td>\n",
       "      <td>0.000000e+00</td>\n",
       "      <td>7.000000e+00</td>\n",
       "      <td>7.000000e+00</td>\n",
       "      <td>7.000000e+00</td>\n",
       "      <td>7.000000e+00</td>\n",
       "      <td>7.000000e+00</td>\n",
       "    </tr>\n",
       "    <tr>\n",
       "      <th>threequarterbathnbr</th>\n",
       "      <td>311631.0</td>\n",
       "      <td>1.010009e+00</td>\n",
       "      <td>1.177093e-01</td>\n",
       "      <td>1.000000e+00</td>\n",
       "      <td>1.000000e+00</td>\n",
       "      <td>1.000000e+00</td>\n",
       "      <td>1.000000e+00</td>\n",
       "      <td>7.000000e+00</td>\n",
       "    </tr>\n",
       "    <tr>\n",
       "      <th>typeconstructiontypeid</th>\n",
       "      <td>6747.0</td>\n",
       "      <td>5.999555e+00</td>\n",
       "      <td>3.840503e-01</td>\n",
       "      <td>4.000000e+00</td>\n",
       "      <td>6.000000e+00</td>\n",
       "      <td>6.000000e+00</td>\n",
       "      <td>6.000000e+00</td>\n",
       "      <td>1.300000e+01</td>\n",
       "    </tr>\n",
       "    <tr>\n",
       "      <th>unitcnt</th>\n",
       "      <td>1977490.0</td>\n",
       "      <td>1.181171e+00</td>\n",
       "      <td>2.447896e+00</td>\n",
       "      <td>1.000000e+00</td>\n",
       "      <td>1.000000e+00</td>\n",
       "      <td>1.000000e+00</td>\n",
       "      <td>1.000000e+00</td>\n",
       "      <td>9.970000e+02</td>\n",
       "    </tr>\n",
       "    <tr>\n",
       "      <th>yardbuildingsqft17</th>\n",
       "      <td>80355.0</td>\n",
       "      <td>3.198034e+02</td>\n",
       "      <td>2.330863e+02</td>\n",
       "      <td>1.000000e+01</td>\n",
       "      <td>1.900000e+02</td>\n",
       "      <td>2.700000e+02</td>\n",
       "      <td>3.900000e+02</td>\n",
       "      <td>7.983000e+03</td>\n",
       "    </tr>\n",
       "    <tr>\n",
       "      <th>yardbuildingsqft26</th>\n",
       "      <td>2647.0</td>\n",
       "      <td>2.782966e+02</td>\n",
       "      <td>3.697315e+02</td>\n",
       "      <td>1.000000e+01</td>\n",
       "      <td>9.600000e+01</td>\n",
       "      <td>1.680000e+02</td>\n",
       "      <td>3.200000e+02</td>\n",
       "      <td>6.141000e+03</td>\n",
       "    </tr>\n",
       "    <tr>\n",
       "      <th>yearbuilt</th>\n",
       "      <td>2925289.0</td>\n",
       "      <td>1.964262e+03</td>\n",
       "      <td>2.344132e+01</td>\n",
       "      <td>1.801000e+03</td>\n",
       "      <td>1.950000e+03</td>\n",
       "      <td>1.963000e+03</td>\n",
       "      <td>1.981000e+03</td>\n",
       "      <td>2.015000e+03</td>\n",
       "    </tr>\n",
       "    <tr>\n",
       "      <th>numberofstories</th>\n",
       "      <td>682069.0</td>\n",
       "      <td>1.401464e+00</td>\n",
       "      <td>5.390758e-01</td>\n",
       "      <td>1.000000e+00</td>\n",
       "      <td>1.000000e+00</td>\n",
       "      <td>1.000000e+00</td>\n",
       "      <td>2.000000e+00</td>\n",
       "      <td>4.100000e+01</td>\n",
       "    </tr>\n",
       "    <tr>\n",
       "      <th>structuretaxvaluedollarcnt</th>\n",
       "      <td>2930235.0</td>\n",
       "      <td>1.708836e+05</td>\n",
       "      <td>4.020683e+05</td>\n",
       "      <td>1.000000e+00</td>\n",
       "      <td>7.480000e+04</td>\n",
       "      <td>1.225900e+05</td>\n",
       "      <td>1.968890e+05</td>\n",
       "      <td>2.514860e+08</td>\n",
       "    </tr>\n",
       "    <tr>\n",
       "      <th>taxvaluedollarcnt</th>\n",
       "      <td>2942667.0</td>\n",
       "      <td>4.204790e+05</td>\n",
       "      <td>7.263467e+05</td>\n",
       "      <td>1.000000e+00</td>\n",
       "      <td>1.796750e+05</td>\n",
       "      <td>3.060860e+05</td>\n",
       "      <td>4.880000e+05</td>\n",
       "      <td>2.827860e+08</td>\n",
       "    </tr>\n",
       "    <tr>\n",
       "      <th>assessmentyear</th>\n",
       "      <td>2973778.0</td>\n",
       "      <td>2.014999e+03</td>\n",
       "      <td>3.683161e-02</td>\n",
       "      <td>2.000000e+03</td>\n",
       "      <td>2.015000e+03</td>\n",
       "      <td>2.015000e+03</td>\n",
       "      <td>2.015000e+03</td>\n",
       "      <td>2.016000e+03</td>\n",
       "    </tr>\n",
       "    <tr>\n",
       "      <th>landtaxvaluedollarcnt</th>\n",
       "      <td>2917484.0</td>\n",
       "      <td>2.524780e+05</td>\n",
       "      <td>4.450132e+05</td>\n",
       "      <td>1.000000e+00</td>\n",
       "      <td>7.483600e+04</td>\n",
       "      <td>1.670420e+05</td>\n",
       "      <td>3.069180e+05</td>\n",
       "      <td>9.024622e+07</td>\n",
       "    </tr>\n",
       "    <tr>\n",
       "      <th>taxamount</th>\n",
       "      <td>2953967.0</td>\n",
       "      <td>5.377607e+03</td>\n",
       "      <td>9.183107e+03</td>\n",
       "      <td>1.340000e+00</td>\n",
       "      <td>2.461070e+03</td>\n",
       "      <td>3.991780e+03</td>\n",
       "      <td>6.201005e+03</td>\n",
       "      <td>3.458861e+06</td>\n",
       "    </tr>\n",
       "    <tr>\n",
       "      <th>taxdelinquencyyear</th>\n",
       "      <td>56464.0</td>\n",
       "      <td>1.389241e+01</td>\n",
       "      <td>2.581006e+00</td>\n",
       "      <td>0.000000e+00</td>\n",
       "      <td>1.400000e+01</td>\n",
       "      <td>1.400000e+01</td>\n",
       "      <td>1.500000e+01</td>\n",
       "      <td>9.900000e+01</td>\n",
       "    </tr>\n",
       "    <tr>\n",
       "      <th>censustractandblock</th>\n",
       "      <td>2910091.0</td>\n",
       "      <td>6.048431e+13</td>\n",
       "      <td>3.249035e+11</td>\n",
       "      <td>-1.000000e+00</td>\n",
       "      <td>6.037400e+13</td>\n",
       "      <td>6.037572e+13</td>\n",
       "      <td>6.059042e+13</td>\n",
       "      <td>4.830301e+14</td>\n",
       "    </tr>\n",
       "  </tbody>\n",
       "</table>\n",
       "</div>"
      ],
      "text/plain": [
       "                                  count          mean           std  \\\n",
       "parcelid                      2985217.0  1.332586e+07  7.909966e+06   \n",
       "airconditioningtypeid          811519.0  1.931166e+00  3.148587e+00   \n",
       "architecturalstyletypeid         6061.0  7.202607e+00  2.436290e+00   \n",
       "basementsqft                     1628.0  6.468833e+02  5.387935e+02   \n",
       "bathroomcnt                   2973755.0  2.209143e+00  1.077754e+00   \n",
       "bedroomcnt                    2973767.0  3.088949e+00  1.275859e+00   \n",
       "buildingclasstypeid             12629.0  3.725948e+00  5.017002e-01   \n",
       "buildingqualitytypeid         1938488.0  5.784787e+00  1.805352e+00   \n",
       "calculatedbathnbr             2856305.0  2.299263e+00  1.000736e+00   \n",
       "decktypeid                      17096.0  6.600000e+01  0.000000e+00   \n",
       "finishedfloor1squarefeet       202717.0  1.380630e+03  6.328685e+02   \n",
       "calculatedfinishedsquarefeet  2929652.0  1.827162e+03  1.819780e+03   \n",
       "finishedsquarefeet12          2709184.0  1.760001e+03  9.710610e+02   \n",
       "finishedsquarefeet13             7672.0  1.178901e+03  3.570730e+02   \n",
       "finishedsquarefeet15           190798.0  2.739187e+03  5.447428e+03   \n",
       "finishedsquarefeet50           202717.0  1.388945e+03  6.644887e+02   \n",
       "finishedsquarefeet6             22001.0  2.414339e+03  7.695303e+03   \n",
       "fips                          2973780.0  6.048032e+03  2.023278e+01   \n",
       "fireplacecnt                   312637.0  1.168710e+00  4.612729e-01   \n",
       "fullbathcnt                   2856305.0  2.244165e+00  9.912054e-01   \n",
       "garagecarcnt                   883267.0  1.823517e+00  6.100354e-01   \n",
       "garagetotalsqft                883267.0  3.837694e+02  2.454434e+02   \n",
       "heatingorsystemtypeid         1806401.0  4.012053e+00  3.293733e+00   \n",
       "latitude                      2973780.0  3.400147e+07  2.433812e+05   \n",
       "longitude                     2973780.0 -1.182019e+08  3.453171e+05   \n",
       "lotsizesquarefeet             2709118.0  2.282281e+04  3.375924e+05   \n",
       "poolcnt                        517534.0  1.000000e+00  0.000000e+00   \n",
       "poolsizesum                     27960.0  5.197110e+02  1.913233e+02   \n",
       "pooltypeid10                    36939.0  1.000000e+00  0.000000e+00   \n",
       "pooltypeid2                     32075.0  1.000000e+00  0.000000e+00   \n",
       "pooltypeid7                    485459.0  1.000000e+00  0.000000e+00   \n",
       "propertylandusetypeid         2973780.0  2.600484e+02  1.590817e+01   \n",
       "rawcensustractandblock        2973780.0  6.048345e+07  2.008117e+05   \n",
       "regionidcity                  2922372.0  3.499335e+04  5.072747e+04   \n",
       "regionidcounty                2973780.0  2.570461e+03  7.880711e+02   \n",
       "regionidneighborhood          1156402.0  1.934764e+05  1.657133e+05   \n",
       "regionidzip                   2971237.0  9.655267e+04  3.673175e+03   \n",
       "roomcnt                       2973742.0  1.475018e+00  2.840403e+00   \n",
       "storytypeid                      1624.0  7.000000e+00  0.000000e+00   \n",
       "threequarterbathnbr            311631.0  1.010009e+00  1.177093e-01   \n",
       "typeconstructiontypeid           6747.0  5.999555e+00  3.840503e-01   \n",
       "unitcnt                       1977490.0  1.181171e+00  2.447896e+00   \n",
       "yardbuildingsqft17              80355.0  3.198034e+02  2.330863e+02   \n",
       "yardbuildingsqft26               2647.0  2.782966e+02  3.697315e+02   \n",
       "yearbuilt                     2925289.0  1.964262e+03  2.344132e+01   \n",
       "numberofstories                682069.0  1.401464e+00  5.390758e-01   \n",
       "structuretaxvaluedollarcnt    2930235.0  1.708836e+05  4.020683e+05   \n",
       "taxvaluedollarcnt             2942667.0  4.204790e+05  7.263467e+05   \n",
       "assessmentyear                2973778.0  2.014999e+03  3.683161e-02   \n",
       "landtaxvaluedollarcnt         2917484.0  2.524780e+05  4.450132e+05   \n",
       "taxamount                     2953967.0  5.377607e+03  9.183107e+03   \n",
       "taxdelinquencyyear              56464.0  1.389241e+01  2.581006e+00   \n",
       "censustractandblock           2910091.0  6.048431e+13  3.249035e+11   \n",
       "\n",
       "                                       min           25%           50%  \\\n",
       "parcelid                      1.071172e+07  1.164371e+07  1.254509e+07   \n",
       "airconditioningtypeid         1.000000e+00  1.000000e+00  1.000000e+00   \n",
       "architecturalstyletypeid      2.000000e+00  7.000000e+00  7.000000e+00   \n",
       "basementsqft                  2.000000e+01  2.720000e+02  5.340000e+02   \n",
       "bathroomcnt                   0.000000e+00  2.000000e+00  2.000000e+00   \n",
       "bedroomcnt                    0.000000e+00  2.000000e+00  3.000000e+00   \n",
       "buildingclasstypeid           1.000000e+00  3.000000e+00  4.000000e+00   \n",
       "buildingqualitytypeid         1.000000e+00  4.000000e+00  7.000000e+00   \n",
       "calculatedbathnbr             1.000000e+00  2.000000e+00  2.000000e+00   \n",
       "decktypeid                    6.600000e+01  6.600000e+01  6.600000e+01   \n",
       "finishedfloor1squarefeet      3.000000e+00  1.012000e+03  1.283000e+03   \n",
       "calculatedfinishedsquarefeet  1.000000e+00  1.213000e+03  1.572000e+03   \n",
       "finishedsquarefeet12          1.000000e+00  1.196000e+03  1.539000e+03   \n",
       "finishedsquarefeet13          1.200000e+02  9.600000e+02  1.296000e+03   \n",
       "finishedsquarefeet15          1.120000e+02  1.694000e+03  2.172000e+03   \n",
       "finishedsquarefeet50          3.000000e+00  1.013000e+03  1.284000e+03   \n",
       "finishedsquarefeet6           1.170000e+02  1.079000e+03  1.992000e+03   \n",
       "fips                          6.037000e+03  6.037000e+03  6.037000e+03   \n",
       "fireplacecnt                  1.000000e+00  1.000000e+00  1.000000e+00   \n",
       "fullbathcnt                   1.000000e+00  2.000000e+00  2.000000e+00   \n",
       "garagecarcnt                  0.000000e+00  2.000000e+00  2.000000e+00   \n",
       "garagetotalsqft               0.000000e+00  3.240000e+02  4.410000e+02   \n",
       "heatingorsystemtypeid         1.000000e+00  2.000000e+00  2.000000e+00   \n",
       "latitude                      3.332439e+07  3.382768e+07  3.400825e+07   \n",
       "longitude                    -1.194758e+08 -1.183930e+08 -1.181725e+08   \n",
       "lotsizesquarefeet             1.000000e+02  5.688000e+03  7.000000e+03   \n",
       "poolcnt                       1.000000e+00  1.000000e+00  1.000000e+00   \n",
       "poolsizesum                   1.900000e+01  4.300000e+02  4.950000e+02   \n",
       "pooltypeid10                  1.000000e+00  1.000000e+00  1.000000e+00   \n",
       "pooltypeid2                   1.000000e+00  1.000000e+00  1.000000e+00   \n",
       "pooltypeid7                   1.000000e+00  1.000000e+00  1.000000e+00   \n",
       "propertylandusetypeid         3.100000e+01  2.610000e+02  2.610000e+02   \n",
       "rawcensustractandblock        6.037101e+07  6.037320e+07  6.037571e+07   \n",
       "regionidcity                  3.491000e+03  1.244700e+04  2.521800e+04   \n",
       "regionidcounty                1.286000e+03  2.061000e+03  3.101000e+03   \n",
       "regionidneighborhood          6.952000e+03  4.673600e+04  1.189200e+05   \n",
       "regionidzip                   9.598200e+04  9.618000e+04  9.637700e+04   \n",
       "roomcnt                       0.000000e+00  0.000000e+00  0.000000e+00   \n",
       "storytypeid                   7.000000e+00  7.000000e+00  7.000000e+00   \n",
       "threequarterbathnbr           1.000000e+00  1.000000e+00  1.000000e+00   \n",
       "typeconstructiontypeid        4.000000e+00  6.000000e+00  6.000000e+00   \n",
       "unitcnt                       1.000000e+00  1.000000e+00  1.000000e+00   \n",
       "yardbuildingsqft17            1.000000e+01  1.900000e+02  2.700000e+02   \n",
       "yardbuildingsqft26            1.000000e+01  9.600000e+01  1.680000e+02   \n",
       "yearbuilt                     1.801000e+03  1.950000e+03  1.963000e+03   \n",
       "numberofstories               1.000000e+00  1.000000e+00  1.000000e+00   \n",
       "structuretaxvaluedollarcnt    1.000000e+00  7.480000e+04  1.225900e+05   \n",
       "taxvaluedollarcnt             1.000000e+00  1.796750e+05  3.060860e+05   \n",
       "assessmentyear                2.000000e+03  2.015000e+03  2.015000e+03   \n",
       "landtaxvaluedollarcnt         1.000000e+00  7.483600e+04  1.670420e+05   \n",
       "taxamount                     1.340000e+00  2.461070e+03  3.991780e+03   \n",
       "taxdelinquencyyear            0.000000e+00  1.400000e+01  1.400000e+01   \n",
       "censustractandblock          -1.000000e+00  6.037400e+13  6.037572e+13   \n",
       "\n",
       "                                       75%           max  \n",
       "parcelid                      1.409712e+07  1.696019e+08  \n",
       "airconditioningtypeid         1.000000e+00  1.300000e+01  \n",
       "architecturalstyletypeid      7.000000e+00  2.700000e+01  \n",
       "basementsqft                  8.472500e+02  8.516000e+03  \n",
       "bathroomcnt                   3.000000e+00  2.000000e+01  \n",
       "bedroomcnt                    4.000000e+00  2.000000e+01  \n",
       "buildingclasstypeid           4.000000e+00  5.000000e+00  \n",
       "buildingqualitytypeid         7.000000e+00  1.200000e+01  \n",
       "calculatedbathnbr             3.000000e+00  2.000000e+01  \n",
       "decktypeid                    6.600000e+01  6.600000e+01  \n",
       "finishedfloor1squarefeet      1.615000e+03  3.130300e+04  \n",
       "calculatedfinishedsquarefeet  2.136000e+03  9.525760e+05  \n",
       "finishedsquarefeet12          2.070000e+03  2.903450e+05  \n",
       "finishedsquarefeet13          1.440000e+03  2.688000e+03  \n",
       "finishedsquarefeet15          2.976000e+03  8.202420e+05  \n",
       "finishedsquarefeet50          1.618000e+03  3.130300e+04  \n",
       "finishedsquarefeet6           3.366000e+03  9.525760e+05  \n",
       "fips                          6.059000e+03  6.111000e+03  \n",
       "fireplacecnt                  1.000000e+00  9.000000e+00  \n",
       "fullbathcnt                   3.000000e+00  2.000000e+01  \n",
       "garagecarcnt                  2.000000e+00  2.500000e+01  \n",
       "garagetotalsqft               4.940000e+02  7.749000e+03  \n",
       "heatingorsystemtypeid         7.000000e+00  2.400000e+01  \n",
       "latitude                      3.416186e+07  3.481965e+07  \n",
       "longitude                    -1.179495e+08 -1.175543e+08  \n",
       "lotsizesquarefeet             9.898000e+03  3.282638e+08  \n",
       "poolcnt                       1.000000e+00  1.000000e+00  \n",
       "poolsizesum                   5.940000e+02  1.741000e+04  \n",
       "pooltypeid10                  1.000000e+00  1.000000e+00  \n",
       "pooltypeid2                   1.000000e+00  1.000000e+00  \n",
       "pooltypeid7                   1.000000e+00  1.000000e+00  \n",
       "propertylandusetypeid         2.610000e+02  2.750000e+02  \n",
       "rawcensustractandblock        6.059042e+07  6.111009e+07  \n",
       "regionidcity                  4.545700e+04  3.965560e+05  \n",
       "regionidcounty                3.101000e+03  3.101000e+03  \n",
       "regionidneighborhood          2.748000e+05  7.641670e+05  \n",
       "regionidzip                   9.697400e+04  3.996750e+05  \n",
       "roomcnt                       0.000000e+00  9.600000e+01  \n",
       "storytypeid                   7.000000e+00  7.000000e+00  \n",
       "threequarterbathnbr           1.000000e+00  7.000000e+00  \n",
       "typeconstructiontypeid        6.000000e+00  1.300000e+01  \n",
       "unitcnt                       1.000000e+00  9.970000e+02  \n",
       "yardbuildingsqft17            3.900000e+02  7.983000e+03  \n",
       "yardbuildingsqft26            3.200000e+02  6.141000e+03  \n",
       "yearbuilt                     1.981000e+03  2.015000e+03  \n",
       "numberofstories               2.000000e+00  4.100000e+01  \n",
       "structuretaxvaluedollarcnt    1.968890e+05  2.514860e+08  \n",
       "taxvaluedollarcnt             4.880000e+05  2.827860e+08  \n",
       "assessmentyear                2.015000e+03  2.016000e+03  \n",
       "landtaxvaluedollarcnt         3.069180e+05  9.024622e+07  \n",
       "taxamount                     6.201005e+03  3.458861e+06  \n",
       "taxdelinquencyyear            1.500000e+01  9.900000e+01  \n",
       "censustractandblock           6.059042e+13  4.830301e+14  "
      ]
     },
     "execution_count": 62,
     "metadata": {},
     "output_type": "execute_result"
    }
   ],
   "source": [
    "prop_df.describe().transpose()"
   ]
  },
  {
   "cell_type": "markdown",
   "metadata": {
    "collapsed": true
   },
   "source": [
    "We can clearly see that a lot of these columns are missing data"
   ]
  },
  {
   "cell_type": "code",
   "execution_count": 63,
   "metadata": {
    "collapsed": false
   },
   "outputs": [
    {
     "data": {
      "image/png": "[encoded data removed]",
      "text/plain": [
       "<matplotlib.figure.Figure at 0x10a859860>"
      ]
     },
     "metadata": {},
     "output_type": "display_data"
    }
   ],
   "source": [
    "missing_df = prop_df.isnull().sum(axis=0).reset_index()\n",
    "missing_df.columns = ['column_name', 'missing_count']\n",
    "missing_df = missing_df.ix[missing_df['missing_count']>0]\n",
    "missing_df = missing_df.sort_values(by='missing_count')\n",
    "\n",
    "ind = np.arange(missing_df.shape[0])\n",
    "width = 0.9\n",
    "fig, ax = plt.subplots(figsize=(12,18))\n",
    "rects = ax.barh(ind, missing_df.missing_count.values, color='blue')\n",
    "ax.set_yticks(ind)\n",
    "ax.set_yticklabels(missing_df.column_name.values, rotation='horizontal')\n",
    "ax.set_xlabel(\"Count of missing values\")\n",
    "ax.set_title(\"Number of missing values in each column\")\n",
    "plt.show()"
   ]
  },
  {
   "cell_type": "code",
   "execution_count": 66,
   "metadata": {
    "collapsed": false
   },
   "outputs": [
    {
     "data": {
      "text/plain": [
       "<matplotlib.figure.Figure at 0x22b20d630>"
      ]
     },
     "metadata": {},
     "output_type": "display_data"
    },
    {
     "data": {
      "image/png": "[encoded data removed]",
      "text/plain": [
       "<matplotlib.figure.Figure at 0x22b20abe0>"
      ]
     },
     "metadata": {},
     "output_type": "display_data"
    }
   ],
   "source": [
    "plt.figure(figsize=(12,12))\n",
    "sns.jointplot(x=prop_df.latitude.values, y=prop_df.longitude.values, size=10)\n",
    "plt.ylabel('Longitude', fontsize=12)\n",
    "plt.xlabel('Latitude', fontsize=12)\n",
    "plt.show()"
   ]
  },
  {
   "cell_type": "code",
   "execution_count": null,
   "metadata": {
    "collapsed": true
   },
   "outputs": [],
   "source": []
  },
  {
   "cell_type": "code",
   "execution_count": null,
   "metadata": {
    "collapsed": true
   },
   "outputs": [],
   "source": []
  },
  {
   "cell_type": "code",
   "execution_count": null,
   "metadata": {
    "collapsed": true
   },
   "outputs": [],
   "source": []
  },
  {
   "cell_type": "code",
   "execution_count": null,
   "metadata": {
    "collapsed": true
   },
   "outputs": [],
   "source": []
  },
  {
   "cell_type": "markdown",
   "metadata": {},
   "source": [
    "<h2> ML Start </h2>"
   ]
  },
  {
   "cell_type": "code",
   "execution_count": null,
   "metadata": {
    "collapsed": true
   },
   "outputs": [],
   "source": []
  }
 ],
 "metadata": {
  "kernelspec": {
   "display_name": "Python 3",
   "language": "python",
   "name": "python3"
  },
  "language_info": {
   "codemirror_mode": {
    "name": "ipython",
    "version": 3
   },
   "file_extension": ".py",
   "mimetype": "text/x-python",
   "name": "python",
   "nbconvert_exporter": "python",
   "pygments_lexer": "ipython3",
   "version": "3.5.1"
  }
 },
 "nbformat": 4,
 "nbformat_minor": 0
}
