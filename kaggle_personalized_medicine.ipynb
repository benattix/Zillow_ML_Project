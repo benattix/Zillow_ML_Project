{
 "cells": [
  {
   "cell_type": "markdown",
   "metadata": {},
   "source": [
    "<h1> W207 Final </h1>\n",
    "<h3> Group Members: </h3>\n",
    "Ben Attix <br>\n",
    "Justin Plumley <br>\n",
    "Dan Watson <br>\n",
    "<h3>Kaggle Competition: <br> Personalized Medicine: Redefining Cancer Treatment </h3><br>\n",
    "https://www.kaggle.com/c/msk-redefining-cancer-treatment<br>\n",
    "<h5> Evaluation </h5>\n",
    "Submissions are evaluated on Multi Class Log Loss between the predicted probability and the observed target."
   ]
  },
  {
   "cell_type": "code",
   "execution_count": 1,
   "metadata": {
    "collapsed": false
   },
   "outputs": [
    {
     "name": "stderr",
     "output_type": "stream",
     "text": [
      "/Library/Frameworks/Python.framework/Versions/3.5/lib/python3.5/site-packages/sklearn/cross_validation.py:44: DeprecationWarning: This module was deprecated in version 0.18 in favor of the model_selection module into which all the refactored classes and functions are moved. Also note that the interface of the new CV iterators are different from that of this module. This module will be removed in 0.20.\n",
      "  \"This module will be removed in 0.20.\", DeprecationWarning)\n",
      "/Library/Frameworks/Python.framework/Versions/3.5/lib/python3.5/site-packages/sklearn/grid_search.py:43: DeprecationWarning: This module was deprecated in version 0.18 in favor of the model_selection module into which all the refactored classes and functions are moved. This module will be removed in 0.20.\n",
      "  DeprecationWarning)\n"
     ]
    }
   ],
   "source": [
    "# General libraries.\n",
    "import numpy as np\n",
    "from numpy import genfromtxt\n",
    "import matplotlib.pyplot as plt\n",
    "import pandas as pd\n",
    "\n",
    "# SK-learn libraries for learning.\n",
    "from sklearn.pipeline import Pipeline\n",
    "from sklearn.neighbors import KNeighborsClassifier\n",
    "from sklearn.grid_search import GridSearchCV\n",
    "\n",
    "# SK-learn libraries for evaluation.\n",
    "from sklearn.metrics import confusion_matrix\n",
    "from sklearn import metrics\n",
    "from sklearn.metrics import classification_report"
   ]
  },
  {
   "cell_type": "code",
   "execution_count": 21,
   "metadata": {
    "collapsed": false
   },
   "outputs": [
    {
     "name": "stdout",
     "output_type": "stream",
     "text": [
      "Train Variants shape: (3321, 4)\n",
      "Test Variants shape: (5668, 3)\n",
      "Train Text shape: (3321, 2)\n",
      "Test Text shape: (5668, 2)\n"
     ]
    }
   ],
   "source": [
    "#Load data- easiest into dataframe then convert to np.array\n",
    "train_variants_df = pd.read_csv(\"/Users/Dan/Documents/Berkeley/w207_Kaggle/training_variants\")\n",
    "test_variants_df = pd.read_csv(\"/Users/Dan/Documents/Berkeley/w207_Kaggle/test_variants\")\n",
    "train_text_df = pd.read_csv(\"/Users/Dan/Documents/Berkeley/w207_Kaggle/training_text\", sep=\"\\|\\|\", engine=\"python\", skiprows=1, names=[\"ID\", \"Text\"])\n",
    "test_text_df = pd.read_csv(\"/Users/Dan/Documents/Berkeley/w207_Kaggle/test_text\", sep=\"\\|\\|\", engine=\"python\", skiprows=1, names=[\"ID\", \"Text\"])\n",
    "\n",
    "# convert dfs into np arrays\n",
    "train_variants = train_variants_df.as_matrix()\n",
    "test_variants = test_variants_df.as_matrix()\n",
    "train_text = train_text_df.as_matrix()\n",
    "test_text = test_text_df.as_matrix()\n",
    "\n",
    "print(\"Train Variants shape: \" + str(train_variants.shape))\n",
    "print(\"Test Variants shape: \" + str(test_variants.shape))\n",
    "print(\"Train Text shape: \" + str(train_text.shape))\n",
    "print(\"Test Text shape: \" + str(test_text.shape))"
   ]
  },
  {
   "cell_type": "code",
   "execution_count": 27,
   "metadata": {
    "collapsed": false
   },
   "outputs": [
    {
     "data": {
      "text/html": [
       "<div>\n",
       "<table border=\"1\" class=\"dataframe\">\n",
       "  <thead>\n",
       "    <tr style=\"text-align: right;\">\n",
       "      <th></th>\n",
       "      <th>ID</th>\n",
       "      <th>Gene</th>\n",
       "      <th>Variation</th>\n",
       "      <th>Class</th>\n",
       "    </tr>\n",
       "  </thead>\n",
       "  <tbody>\n",
       "    <tr>\n",
       "      <th>0</th>\n",
       "      <td>0</td>\n",
       "      <td>FAM58A</td>\n",
       "      <td>Truncating Mutations</td>\n",
       "      <td>1</td>\n",
       "    </tr>\n",
       "    <tr>\n",
       "      <th>1</th>\n",
       "      <td>1</td>\n",
       "      <td>CBL</td>\n",
       "      <td>W802*</td>\n",
       "      <td>2</td>\n",
       "    </tr>\n",
       "    <tr>\n",
       "      <th>2</th>\n",
       "      <td>2</td>\n",
       "      <td>CBL</td>\n",
       "      <td>Q249E</td>\n",
       "      <td>2</td>\n",
       "    </tr>\n",
       "    <tr>\n",
       "      <th>3</th>\n",
       "      <td>3</td>\n",
       "      <td>CBL</td>\n",
       "      <td>N454D</td>\n",
       "      <td>3</td>\n",
       "    </tr>\n",
       "    <tr>\n",
       "      <th>4</th>\n",
       "      <td>4</td>\n",
       "      <td>CBL</td>\n",
       "      <td>L399V</td>\n",
       "      <td>4</td>\n",
       "    </tr>\n",
       "  </tbody>\n",
       "</table>\n",
       "</div>"
      ],
      "text/plain": [
       "   ID    Gene             Variation  Class\n",
       "0   0  FAM58A  Truncating Mutations      1\n",
       "1   1     CBL                 W802*      2\n",
       "2   2     CBL                 Q249E      2\n",
       "3   3     CBL                 N454D      3\n",
       "4   4     CBL                 L399V      4"
      ]
     },
     "execution_count": 27,
     "metadata": {},
     "output_type": "execute_result"
    }
   ],
   "source": [
    "## View dataframes \n",
    "train_variants_df.head()\n",
    "#test_variants_df.head()\n",
    "#train_text_df.head()\n",
    "#train_text_df.head()\n"
   ]
  },
  {
   "cell_type": "code",
   "execution_count": 29,
   "metadata": {
    "collapsed": false
   },
   "outputs": [],
   "source": [
    "y_train_variants, X_train_variants = train_variants [:, 3:], train_variants[:, :3]"
   ]
  },
  {
   "cell_type": "code",
   "execution_count": 32,
   "metadata": {
    "collapsed": false
   },
   "outputs": [
    {
     "data": {
      "text/plain": [
       "array([[0, 'FAM58A', 'Truncating Mutations'],\n",
       "       [1, 'CBL', 'W802*'],\n",
       "       [2, 'CBL', 'Q249E'],\n",
       "       ..., \n",
       "       [3318, 'RUNX1', 'Fusions'],\n",
       "       [3319, 'RUNX1', 'R80C'],\n",
       "       [3320, 'RUNX1', 'K83E']], dtype=object)"
      ]
     },
     "execution_count": 32,
     "metadata": {},
     "output_type": "execute_result"
    }
   ],
   "source": [
    "X_train_variants"
   ]
  },
  {
   "cell_type": "code",
   "execution_count": 34,
   "metadata": {
    "collapsed": false
   },
   "outputs": [
    {
     "data": {
      "text/html": [
       "<div>\n",
       "<table border=\"1\" class=\"dataframe\">\n",
       "  <thead>\n",
       "    <tr style=\"text-align: right;\">\n",
       "      <th></th>\n",
       "      <th>ID</th>\n",
       "      <th>class1</th>\n",
       "      <th>class2</th>\n",
       "      <th>class3</th>\n",
       "      <th>class4</th>\n",
       "      <th>class5</th>\n",
       "      <th>class6</th>\n",
       "      <th>class7</th>\n",
       "      <th>class8</th>\n",
       "      <th>class9</th>\n",
       "    </tr>\n",
       "  </thead>\n",
       "  <tbody>\n",
       "    <tr>\n",
       "      <th>0</th>\n",
       "      <td>0</td>\n",
       "      <td>0.171033</td>\n",
       "      <td>0.136104</td>\n",
       "      <td>0.026799</td>\n",
       "      <td>0.206564</td>\n",
       "      <td>0.07287</td>\n",
       "      <td>0.082806</td>\n",
       "      <td>0.286962</td>\n",
       "      <td>0.005721</td>\n",
       "      <td>0.011141</td>\n",
       "    </tr>\n",
       "    <tr>\n",
       "      <th>1</th>\n",
       "      <td>1</td>\n",
       "      <td>0.171033</td>\n",
       "      <td>0.136104</td>\n",
       "      <td>0.026799</td>\n",
       "      <td>0.206564</td>\n",
       "      <td>0.07287</td>\n",
       "      <td>0.082806</td>\n",
       "      <td>0.286962</td>\n",
       "      <td>0.005721</td>\n",
       "      <td>0.011141</td>\n",
       "    </tr>\n",
       "    <tr>\n",
       "      <th>2</th>\n",
       "      <td>2</td>\n",
       "      <td>0.171033</td>\n",
       "      <td>0.136104</td>\n",
       "      <td>0.026799</td>\n",
       "      <td>0.206564</td>\n",
       "      <td>0.07287</td>\n",
       "      <td>0.082806</td>\n",
       "      <td>0.286962</td>\n",
       "      <td>0.005721</td>\n",
       "      <td>0.011141</td>\n",
       "    </tr>\n",
       "    <tr>\n",
       "      <th>3</th>\n",
       "      <td>3</td>\n",
       "      <td>0.171033</td>\n",
       "      <td>0.136104</td>\n",
       "      <td>0.026799</td>\n",
       "      <td>0.206564</td>\n",
       "      <td>0.07287</td>\n",
       "      <td>0.082806</td>\n",
       "      <td>0.286962</td>\n",
       "      <td>0.005721</td>\n",
       "      <td>0.011141</td>\n",
       "    </tr>\n",
       "    <tr>\n",
       "      <th>4</th>\n",
       "      <td>4</td>\n",
       "      <td>0.171033</td>\n",
       "      <td>0.136104</td>\n",
       "      <td>0.026799</td>\n",
       "      <td>0.206564</td>\n",
       "      <td>0.07287</td>\n",
       "      <td>0.082806</td>\n",
       "      <td>0.286962</td>\n",
       "      <td>0.005721</td>\n",
       "      <td>0.011141</td>\n",
       "    </tr>\n",
       "  </tbody>\n",
       "</table>\n",
       "</div>"
      ],
      "text/plain": [
       "   ID    class1    class2    class3    class4   class5    class6    class7  \\\n",
       "0   0  0.171033  0.136104  0.026799  0.206564  0.07287  0.082806  0.286962   \n",
       "1   1  0.171033  0.136104  0.026799  0.206564  0.07287  0.082806  0.286962   \n",
       "2   2  0.171033  0.136104  0.026799  0.206564  0.07287  0.082806  0.286962   \n",
       "3   3  0.171033  0.136104  0.026799  0.206564  0.07287  0.082806  0.286962   \n",
       "4   4  0.171033  0.136104  0.026799  0.206564  0.07287  0.082806  0.286962   \n",
       "\n",
       "     class8    class9  \n",
       "0  0.005721  0.011141  \n",
       "1  0.005721  0.011141  \n",
       "2  0.005721  0.011141  \n",
       "3  0.005721  0.011141  \n",
       "4  0.005721  0.011141  "
      ]
     },
     "execution_count": 34,
     "metadata": {},
     "output_type": "execute_result"
    }
   ],
   "source": [
    "#Simple output for initial submission- blatantly taken from Kaggle\n",
    "class_probs = []\n",
    "for i in range(1,10):\n",
    "    class_probs.append(train_variants_df[train_variants_df['Class'] == i].shape[0]/3321.)\n",
    "    \n",
    "submission = pd.read_csv(\"/Users/Dan/Documents/Berkeley/w207_Kaggle/submissionFile\")\n",
    "\n",
    "for i in range(9):\n",
    "    submission['class'+str(i+1)] = class_probs[i]\n",
    "    \n",
    "submission.to_csv(\"dumb_submission.csv\", index=False)\n",
    "submission.head()"
   ]
  },
  {
   "cell_type": "code",
   "execution_count": 25,
   "metadata": {
    "collapsed": false
   },
   "outputs": [],
   "source": []
  },
  {
   "cell_type": "code",
   "execution_count": null,
   "metadata": {
    "collapsed": false
   },
   "outputs": [],
   "source": []
  },
  {
   "cell_type": "code",
   "execution_count": null,
   "metadata": {
    "collapsed": false
   },
   "outputs": [],
   "source": []
  },
  {
   "cell_type": "code",
   "execution_count": null,
   "metadata": {
    "collapsed": true
   },
   "outputs": [],
   "source": []
  }
 ],
 "metadata": {
  "kernelspec": {
   "display_name": "Python 3",
   "language": "python",
   "name": "python3"
  },
  "language_info": {
   "codemirror_mode": {
    "name": "ipython",
    "version": 3
   },
   "file_extension": ".py",
   "mimetype": "text/x-python",
   "name": "python",
   "nbconvert_exporter": "python",
   "pygments_lexer": "ipython3",
   "version": "3.5.1"
  }
 },
 "nbformat": 4,
 "nbformat_minor": 0
}
