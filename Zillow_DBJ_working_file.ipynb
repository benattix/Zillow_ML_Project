{
 "cells": [
  {
   "cell_type": "markdown",
   "metadata": {},
   "source": [
    "<h1> MIDS W207 Final</h1>\n",
    "\n",
    "<h3> Group Members </h3>\n",
    "Ben Attix <br>\n",
    "Justin Plumley <br>\n",
    "Dan Watson\n",
    "\n",
    "<h3> Kaggle Competition </h3>\n",
    "Zillow Prize: Zillow’s Home Value Prediction (Zestimate)\n",
    "\n",
    "<h3> Evaluation </h3>\n",
    "Submissions are evaluated on Mean Absolute Error between the predicted log error and the actual log error. The log error is defined as:\n",
    "logerror=log(Zestimate)−log(SalePrice)\n",
    "and it is recorded in the transactions training data. If a transaction didn't happen for a property during that period of time, that row is ignored and not counted in the calculation of MAE.\n",
    "\n",
    "<h5> Competition Website </h5>\n",
    "https://www.kaggle.com/c/zillow-prize-1#description"
   ]
  },
  {
   "cell_type": "markdown",
   "metadata": {},
   "source": [
    "<h2> Load libraries, data, and test output"
   ]
  },
  {
   "cell_type": "code",
   "execution_count": 1,
   "metadata": {},
   "outputs": [
    {
     "name": "stderr",
     "output_type": "stream",
     "text": [
      "/anaconda/lib/python2.7/site-packages/sklearn/cross_validation.py:44: DeprecationWarning: This module was deprecated in version 0.18 in favor of the model_selection module into which all the refactored classes and functions are moved. Also note that the interface of the new CV iterators are different from that of this module. This module will be removed in 0.20.\n",
      "  \"This module will be removed in 0.20.\", DeprecationWarning)\n",
      "/anaconda/lib/python2.7/site-packages/sklearn/grid_search.py:43: DeprecationWarning: This module was deprecated in version 0.18 in favor of the model_selection module into which all the refactored classes and functions are moved. This module will be removed in 0.20.\n",
      "  DeprecationWarning)\n"
     ]
    }
   ],
   "source": [
    "# This tells matplotlib not to try opening a new window for each plot.\n",
    "%matplotlib inline\n",
    "\n",
    "import warningswarnings.filterwarnings('ignore')\n",
    "\n",
    "# General libraries.\n",
    "import os\n",
    "import numpy as np\n",
    "import pandas as pd\n",
    "import seaborn as sns\n",
    "import matplotlib.pyplot as plt\n",
    "color = sns.color_palette()\n",
    "import time\n",
    "from matplotlib.ticker import MultipleLocator\n",
    "from mpl_toolkits.mplot3d import Axes3D\n",
    "\n",
    "\n",
    "# preprocessing\n",
    "from sklearn.preprocessing import Imputer\n",
    "from sklearn.preprocessing import OneHotEncoder\n",
    "\n",
    "# SK-learn libraries for learning.\n",
    "from sklearn.pipeline import Pipeline\n",
    "from sklearn.grid_search import GridSearchCV\n",
    "from sklearn.neighbors import KNeighborsClassifier\n",
    "from sklearn.linear_model import LinearRegression\n",
    "from sklearn.linear_model import LogisticRegression\n",
    "from sklearn.ensemble import GradientBoostingRegressor\n",
    "from sklearn.naive_bayes import BernoulliNB\n",
    "from sklearn.naive_bayes import MultinomialNB\n",
    "from sklearn.naive_bayes import GaussianNB\n",
    "from sklearn.decomposition import PCA\n",
    "from sklearn.decomposition import SparsePCA\n",
    "from sklearn.cluster import KMeans\n",
    "from sklearn.mixture import GMM\n",
    "from sklearn.mixture import GaussianMixture \n",
    "from sklearn.tree import DecisionTreeRegressor\n",
    "from sklearn.ensemble import RandomForestRegressor \n",
    "\n",
    "\n",
    "# SK-learn libraries for evaluation.\n",
    "from sklearn import metrics\n",
    "from sklearn.metrics import confusion_matrix\n",
    "from sklearn.metrics import classification_report"
   ]
  },
  {
   "cell_type": "code",
   "execution_count": 24,
   "metadata": {},
   "outputs": [
    {
     "name": "stdout",
     "output_type": "stream",
     "text": [
      "(2985217, 58)\n",
      "(90275, 33)\n"
     ]
    }
   ],
   "source": [
    "train_csv = pd.read_csv(\"train_2016_v2.csv\", parse_dates=[\"transactiondate\"])\n",
    "prop_df = pd.read_csv(\"properties_2016.csv\")\n",
    "print prop_df.shape \n",
    "print train_csv.shape\n",
    "#df outputs\n",
    "#prop_df.head()\n",
    "#train_df.head()"
   ]
  },
  {
   "cell_type": "markdown",
   "metadata": {},
   "source": [
    "<H2> EDA </H2> <br>\n",
    "Many ideas and code taken from following EDA Kernels:\n",
    "https://www.kaggle.com/sudalairajkumar/simple-exploration-notebook-zillow-prize (python)\n",
    "https://www.kaggle.com/philippsp/exploratory-analysis-zillow (R)\n",
    "https://www.kaggle.com/captcalculator/a-very-extensive-zillow-exploratory-analysis (R)\n",
    "https://www.kaggle.com/viveksrinivasan/zillow-eda-on-missing-values-multicollinearity (python)\n",
    "\n",
    "<H5> Start by looking at the parcelIDs that occur in each dataset </H5>"
   ]
  },
  {
   "cell_type": "code",
   "execution_count": 3,
   "metadata": {},
   "outputs": [
    {
     "name": "stdout",
     "output_type": "stream",
     "text": [
      "Unique ParcelIDs in train_df: 90150\n",
      "Unique ParcelIDs in prop_df: 2985217\n"
     ]
    }
   ],
   "source": [
    "# start by looing at unique parcelIDs\n",
    "print \"Unique ParcelIDs in train_df:\", train_csv.parcelid.nunique()\n",
    "print \"Unique ParcelIDs in prop_df:\", prop_df.parcelid.nunique()"
   ]
  },
  {
   "cell_type": "markdown",
   "metadata": {},
   "source": [
    "We have 2,985,217 parcel IDs in the properties data but only 90,150 in the training data. The only parcel IDs we can use are the ones both datasets, the rest are useless to us.\n",
    "\n",
    "By doing an inner merge we can limit our data down to the parcel IDs we want."
   ]
  },
  {
   "cell_type": "code",
   "execution_count": 25,
   "metadata": {},
   "outputs": [
    {
     "name": "stdout",
     "output_type": "stream",
     "text": [
      "Dataframe shape: (90275, 60)\n"
     ]
    },
    {
     "data": {
      "text/html": [
       "<div>\n",
       "<style>\n",
       "    .dataframe thead tr:only-child th {\n",
       "        text-align: right;\n",
       "    }\n",
       "\n",
       "    .dataframe thead th {\n",
       "        text-align: left;\n",
       "    }\n",
       "\n",
       "    .dataframe tbody tr th {\n",
       "        vertical-align: top;\n",
       "    }\n",
       "</style>\n",
       "<table border=\"1\" class=\"dataframe\">\n",
       "  <thead>\n",
       "    <tr style=\"text-align: right;\">\n",
       "      <th></th>\n",
       "      <th>parcelid</th>\n",
       "      <th>logerror</th>\n",
       "      <th>transactiondate</th>\n",
       "      <th>airconditioningtypeid</th>\n",
       "      <th>architecturalstyletypeid</th>\n",
       "      <th>basementsqft</th>\n",
       "      <th>bathroomcnt</th>\n",
       "      <th>bedroomcnt</th>\n",
       "      <th>buildingclasstypeid</th>\n",
       "      <th>buildingqualitytypeid</th>\n",
       "      <th>...</th>\n",
       "      <th>numberofstories</th>\n",
       "      <th>fireplaceflag</th>\n",
       "      <th>structuretaxvaluedollarcnt</th>\n",
       "      <th>taxvaluedollarcnt</th>\n",
       "      <th>assessmentyear</th>\n",
       "      <th>landtaxvaluedollarcnt</th>\n",
       "      <th>taxamount</th>\n",
       "      <th>taxdelinquencyflag</th>\n",
       "      <th>taxdelinquencyyear</th>\n",
       "      <th>censustractandblock</th>\n",
       "    </tr>\n",
       "  </thead>\n",
       "  <tbody>\n",
       "    <tr>\n",
       "      <th>0</th>\n",
       "      <td>11016594</td>\n",
       "      <td>0.0276</td>\n",
       "      <td>2016-01-01</td>\n",
       "      <td>1.0</td>\n",
       "      <td>NaN</td>\n",
       "      <td>NaN</td>\n",
       "      <td>2.0</td>\n",
       "      <td>3.0</td>\n",
       "      <td>NaN</td>\n",
       "      <td>4.0</td>\n",
       "      <td>...</td>\n",
       "      <td>NaN</td>\n",
       "      <td>NaN</td>\n",
       "      <td>122754.0</td>\n",
       "      <td>360170.0</td>\n",
       "      <td>2015.0</td>\n",
       "      <td>237416.0</td>\n",
       "      <td>6735.88</td>\n",
       "      <td>NaN</td>\n",
       "      <td>NaN</td>\n",
       "      <td>6.037107e+13</td>\n",
       "    </tr>\n",
       "    <tr>\n",
       "      <th>1</th>\n",
       "      <td>14366692</td>\n",
       "      <td>-0.1684</td>\n",
       "      <td>2016-01-01</td>\n",
       "      <td>NaN</td>\n",
       "      <td>NaN</td>\n",
       "      <td>NaN</td>\n",
       "      <td>3.5</td>\n",
       "      <td>4.0</td>\n",
       "      <td>NaN</td>\n",
       "      <td>NaN</td>\n",
       "      <td>...</td>\n",
       "      <td>NaN</td>\n",
       "      <td>NaN</td>\n",
       "      <td>346458.0</td>\n",
       "      <td>585529.0</td>\n",
       "      <td>2015.0</td>\n",
       "      <td>239071.0</td>\n",
       "      <td>10153.02</td>\n",
       "      <td>NaN</td>\n",
       "      <td>NaN</td>\n",
       "      <td>NaN</td>\n",
       "    </tr>\n",
       "    <tr>\n",
       "      <th>2</th>\n",
       "      <td>12098116</td>\n",
       "      <td>-0.0040</td>\n",
       "      <td>2016-01-01</td>\n",
       "      <td>1.0</td>\n",
       "      <td>NaN</td>\n",
       "      <td>NaN</td>\n",
       "      <td>3.0</td>\n",
       "      <td>2.0</td>\n",
       "      <td>NaN</td>\n",
       "      <td>4.0</td>\n",
       "      <td>...</td>\n",
       "      <td>NaN</td>\n",
       "      <td>NaN</td>\n",
       "      <td>61994.0</td>\n",
       "      <td>119906.0</td>\n",
       "      <td>2015.0</td>\n",
       "      <td>57912.0</td>\n",
       "      <td>11484.48</td>\n",
       "      <td>NaN</td>\n",
       "      <td>NaN</td>\n",
       "      <td>6.037464e+13</td>\n",
       "    </tr>\n",
       "    <tr>\n",
       "      <th>3</th>\n",
       "      <td>12643413</td>\n",
       "      <td>0.0218</td>\n",
       "      <td>2016-01-02</td>\n",
       "      <td>1.0</td>\n",
       "      <td>NaN</td>\n",
       "      <td>NaN</td>\n",
       "      <td>2.0</td>\n",
       "      <td>2.0</td>\n",
       "      <td>NaN</td>\n",
       "      <td>4.0</td>\n",
       "      <td>...</td>\n",
       "      <td>NaN</td>\n",
       "      <td>NaN</td>\n",
       "      <td>171518.0</td>\n",
       "      <td>244880.0</td>\n",
       "      <td>2015.0</td>\n",
       "      <td>73362.0</td>\n",
       "      <td>3048.74</td>\n",
       "      <td>NaN</td>\n",
       "      <td>NaN</td>\n",
       "      <td>6.037296e+13</td>\n",
       "    </tr>\n",
       "    <tr>\n",
       "      <th>4</th>\n",
       "      <td>14432541</td>\n",
       "      <td>-0.0050</td>\n",
       "      <td>2016-01-02</td>\n",
       "      <td>NaN</td>\n",
       "      <td>NaN</td>\n",
       "      <td>NaN</td>\n",
       "      <td>2.5</td>\n",
       "      <td>4.0</td>\n",
       "      <td>NaN</td>\n",
       "      <td>NaN</td>\n",
       "      <td>...</td>\n",
       "      <td>2.0</td>\n",
       "      <td>NaN</td>\n",
       "      <td>169574.0</td>\n",
       "      <td>434551.0</td>\n",
       "      <td>2015.0</td>\n",
       "      <td>264977.0</td>\n",
       "      <td>5488.96</td>\n",
       "      <td>NaN</td>\n",
       "      <td>NaN</td>\n",
       "      <td>6.059042e+13</td>\n",
       "    </tr>\n",
       "  </tbody>\n",
       "</table>\n",
       "<p>5 rows × 60 columns</p>\n",
       "</div>"
      ],
      "text/plain": [
       "   parcelid  logerror transactiondate  airconditioningtypeid  \\\n",
       "0  11016594    0.0276      2016-01-01                    1.0   \n",
       "1  14366692   -0.1684      2016-01-01                    NaN   \n",
       "2  12098116   -0.0040      2016-01-01                    1.0   \n",
       "3  12643413    0.0218      2016-01-02                    1.0   \n",
       "4  14432541   -0.0050      2016-01-02                    NaN   \n",
       "\n",
       "   architecturalstyletypeid  basementsqft  bathroomcnt  bedroomcnt  \\\n",
       "0                       NaN           NaN          2.0         3.0   \n",
       "1                       NaN           NaN          3.5         4.0   \n",
       "2                       NaN           NaN          3.0         2.0   \n",
       "3                       NaN           NaN          2.0         2.0   \n",
       "4                       NaN           NaN          2.5         4.0   \n",
       "\n",
       "   buildingclasstypeid  buildingqualitytypeid         ...           \\\n",
       "0                  NaN                    4.0         ...            \n",
       "1                  NaN                    NaN         ...            \n",
       "2                  NaN                    4.0         ...            \n",
       "3                  NaN                    4.0         ...            \n",
       "4                  NaN                    NaN         ...            \n",
       "\n",
       "   numberofstories  fireplaceflag  structuretaxvaluedollarcnt  \\\n",
       "0              NaN            NaN                    122754.0   \n",
       "1              NaN            NaN                    346458.0   \n",
       "2              NaN            NaN                     61994.0   \n",
       "3              NaN            NaN                    171518.0   \n",
       "4              2.0            NaN                    169574.0   \n",
       "\n",
       "   taxvaluedollarcnt  assessmentyear  landtaxvaluedollarcnt  taxamount  \\\n",
       "0           360170.0          2015.0               237416.0    6735.88   \n",
       "1           585529.0          2015.0               239071.0   10153.02   \n",
       "2           119906.0          2015.0                57912.0   11484.48   \n",
       "3           244880.0          2015.0                73362.0    3048.74   \n",
       "4           434551.0          2015.0               264977.0    5488.96   \n",
       "\n",
       "   taxdelinquencyflag  taxdelinquencyyear  censustractandblock  \n",
       "0                 NaN                 NaN         6.037107e+13  \n",
       "1                 NaN                 NaN                  NaN  \n",
       "2                 NaN                 NaN         6.037464e+13  \n",
       "3                 NaN                 NaN         6.037296e+13  \n",
       "4                 NaN                 NaN         6.059042e+13  \n",
       "\n",
       "[5 rows x 60 columns]"
      ]
     },
     "execution_count": 25,
     "metadata": {},
     "output_type": "execute_result"
    }
   ],
   "source": [
    "# merge dataframes and view result\n",
    "train_df = pd.merge(train_csv, prop_df, on='parcelid', how='inner')\n",
    "print 'Dataframe shape:', train_df.shape\n",
    "train_df.head()"
   ]
  },
  {
   "cell_type": "code",
   "execution_count": 5,
   "metadata": {},
   "outputs": [
    {
     "data": {
      "text/html": [
       "<div>\n",
       "<style>\n",
       "    .dataframe thead tr:only-child th {\n",
       "        text-align: right;\n",
       "    }\n",
       "\n",
       "    .dataframe thead th {\n",
       "        text-align: left;\n",
       "    }\n",
       "\n",
       "    .dataframe tbody tr th {\n",
       "        vertical-align: top;\n",
       "    }\n",
       "</style>\n",
       "<table border=\"1\" class=\"dataframe\">\n",
       "  <thead>\n",
       "    <tr style=\"text-align: right;\">\n",
       "      <th></th>\n",
       "      <th>parcelid</th>\n",
       "      <th>logerror</th>\n",
       "      <th>airconditioningtypeid</th>\n",
       "      <th>architecturalstyletypeid</th>\n",
       "      <th>basementsqft</th>\n",
       "      <th>bathroomcnt</th>\n",
       "      <th>bedroomcnt</th>\n",
       "      <th>buildingclasstypeid</th>\n",
       "      <th>buildingqualitytypeid</th>\n",
       "      <th>calculatedbathnbr</th>\n",
       "      <th>...</th>\n",
       "      <th>yardbuildingsqft26</th>\n",
       "      <th>yearbuilt</th>\n",
       "      <th>numberofstories</th>\n",
       "      <th>structuretaxvaluedollarcnt</th>\n",
       "      <th>taxvaluedollarcnt</th>\n",
       "      <th>assessmentyear</th>\n",
       "      <th>landtaxvaluedollarcnt</th>\n",
       "      <th>taxamount</th>\n",
       "      <th>taxdelinquencyyear</th>\n",
       "      <th>censustractandblock</th>\n",
       "    </tr>\n",
       "  </thead>\n",
       "  <tbody>\n",
       "    <tr>\n",
       "      <th>count</th>\n",
       "      <td>9.027500e+04</td>\n",
       "      <td>90275.000000</td>\n",
       "      <td>28781.000000</td>\n",
       "      <td>261.000000</td>\n",
       "      <td>43.000000</td>\n",
       "      <td>90275.000000</td>\n",
       "      <td>90275.000000</td>\n",
       "      <td>16.0</td>\n",
       "      <td>57364.000000</td>\n",
       "      <td>89093.000000</td>\n",
       "      <td>...</td>\n",
       "      <td>95.000000</td>\n",
       "      <td>89519.000000</td>\n",
       "      <td>20570.000000</td>\n",
       "      <td>8.989500e+04</td>\n",
       "      <td>9.027400e+04</td>\n",
       "      <td>90275.0</td>\n",
       "      <td>9.027400e+04</td>\n",
       "      <td>90269.000000</td>\n",
       "      <td>1783.000000</td>\n",
       "      <td>8.967000e+04</td>\n",
       "    </tr>\n",
       "    <tr>\n",
       "      <th>mean</th>\n",
       "      <td>1.298466e+07</td>\n",
       "      <td>0.011457</td>\n",
       "      <td>1.816372</td>\n",
       "      <td>7.229885</td>\n",
       "      <td>713.581395</td>\n",
       "      <td>2.279474</td>\n",
       "      <td>3.031869</td>\n",
       "      <td>4.0</td>\n",
       "      <td>5.565407</td>\n",
       "      <td>2.309216</td>\n",
       "      <td>...</td>\n",
       "      <td>311.694737</td>\n",
       "      <td>1968.532870</td>\n",
       "      <td>1.440739</td>\n",
       "      <td>1.800934e+05</td>\n",
       "      <td>4.576726e+05</td>\n",
       "      <td>2015.0</td>\n",
       "      <td>2.783353e+05</td>\n",
       "      <td>5983.975927</td>\n",
       "      <td>13.402692</td>\n",
       "      <td>6.049151e+13</td>\n",
       "    </tr>\n",
       "    <tr>\n",
       "      <th>std</th>\n",
       "      <td>2.504510e+06</td>\n",
       "      <td>0.161079</td>\n",
       "      <td>2.974168</td>\n",
       "      <td>2.716196</td>\n",
       "      <td>437.434198</td>\n",
       "      <td>1.004271</td>\n",
       "      <td>1.156436</td>\n",
       "      <td>0.0</td>\n",
       "      <td>1.900602</td>\n",
       "      <td>0.976172</td>\n",
       "      <td>...</td>\n",
       "      <td>346.354850</td>\n",
       "      <td>23.763475</td>\n",
       "      <td>0.544498</td>\n",
       "      <td>2.091299e+05</td>\n",
       "      <td>5.548844e+05</td>\n",
       "      <td>0.0</td>\n",
       "      <td>4.004955e+05</td>\n",
       "      <td>6838.876956</td>\n",
       "      <td>2.715966</td>\n",
       "      <td>2.046605e+11</td>\n",
       "    </tr>\n",
       "    <tr>\n",
       "      <th>min</th>\n",
       "      <td>1.071174e+07</td>\n",
       "      <td>-4.605000</td>\n",
       "      <td>1.000000</td>\n",
       "      <td>2.000000</td>\n",
       "      <td>100.000000</td>\n",
       "      <td>0.000000</td>\n",
       "      <td>0.000000</td>\n",
       "      <td>4.0</td>\n",
       "      <td>1.000000</td>\n",
       "      <td>1.000000</td>\n",
       "      <td>...</td>\n",
       "      <td>18.000000</td>\n",
       "      <td>1885.000000</td>\n",
       "      <td>1.000000</td>\n",
       "      <td>1.000000e+02</td>\n",
       "      <td>2.200000e+01</td>\n",
       "      <td>2015.0</td>\n",
       "      <td>2.200000e+01</td>\n",
       "      <td>49.080000</td>\n",
       "      <td>6.000000</td>\n",
       "      <td>6.037101e+13</td>\n",
       "    </tr>\n",
       "    <tr>\n",
       "      <th>25%</th>\n",
       "      <td>1.155950e+07</td>\n",
       "      <td>-0.025300</td>\n",
       "      <td>1.000000</td>\n",
       "      <td>7.000000</td>\n",
       "      <td>407.500000</td>\n",
       "      <td>2.000000</td>\n",
       "      <td>2.000000</td>\n",
       "      <td>4.0</td>\n",
       "      <td>4.000000</td>\n",
       "      <td>2.000000</td>\n",
       "      <td>...</td>\n",
       "      <td>100.000000</td>\n",
       "      <td>1953.000000</td>\n",
       "      <td>1.000000</td>\n",
       "      <td>8.124500e+04</td>\n",
       "      <td>1.990232e+05</td>\n",
       "      <td>2015.0</td>\n",
       "      <td>8.222800e+04</td>\n",
       "      <td>2872.830000</td>\n",
       "      <td>13.000000</td>\n",
       "      <td>6.037320e+13</td>\n",
       "    </tr>\n",
       "    <tr>\n",
       "      <th>50%</th>\n",
       "      <td>1.254734e+07</td>\n",
       "      <td>0.006000</td>\n",
       "      <td>1.000000</td>\n",
       "      <td>7.000000</td>\n",
       "      <td>616.000000</td>\n",
       "      <td>2.000000</td>\n",
       "      <td>3.000000</td>\n",
       "      <td>4.0</td>\n",
       "      <td>7.000000</td>\n",
       "      <td>2.000000</td>\n",
       "      <td>...</td>\n",
       "      <td>159.000000</td>\n",
       "      <td>1970.000000</td>\n",
       "      <td>1.000000</td>\n",
       "      <td>1.320000e+05</td>\n",
       "      <td>3.428720e+05</td>\n",
       "      <td>2015.0</td>\n",
       "      <td>1.929700e+05</td>\n",
       "      <td>4542.750000</td>\n",
       "      <td>14.000000</td>\n",
       "      <td>6.037615e+13</td>\n",
       "    </tr>\n",
       "    <tr>\n",
       "      <th>75%</th>\n",
       "      <td>1.422755e+07</td>\n",
       "      <td>0.039200</td>\n",
       "      <td>1.000000</td>\n",
       "      <td>7.000000</td>\n",
       "      <td>872.000000</td>\n",
       "      <td>3.000000</td>\n",
       "      <td>4.000000</td>\n",
       "      <td>4.0</td>\n",
       "      <td>7.000000</td>\n",
       "      <td>3.000000</td>\n",
       "      <td>...</td>\n",
       "      <td>361.000000</td>\n",
       "      <td>1987.000000</td>\n",
       "      <td>2.000000</td>\n",
       "      <td>2.105345e+05</td>\n",
       "      <td>5.405890e+05</td>\n",
       "      <td>2015.0</td>\n",
       "      <td>3.454195e+05</td>\n",
       "      <td>6901.090000</td>\n",
       "      <td>15.000000</td>\n",
       "      <td>6.059042e+13</td>\n",
       "    </tr>\n",
       "    <tr>\n",
       "      <th>max</th>\n",
       "      <td>1.629608e+08</td>\n",
       "      <td>4.737000</td>\n",
       "      <td>13.000000</td>\n",
       "      <td>21.000000</td>\n",
       "      <td>1555.000000</td>\n",
       "      <td>20.000000</td>\n",
       "      <td>16.000000</td>\n",
       "      <td>4.0</td>\n",
       "      <td>12.000000</td>\n",
       "      <td>20.000000</td>\n",
       "      <td>...</td>\n",
       "      <td>1366.000000</td>\n",
       "      <td>2015.000000</td>\n",
       "      <td>4.000000</td>\n",
       "      <td>9.948100e+06</td>\n",
       "      <td>2.775000e+07</td>\n",
       "      <td>2015.0</td>\n",
       "      <td>2.450000e+07</td>\n",
       "      <td>321936.090000</td>\n",
       "      <td>99.000000</td>\n",
       "      <td>6.111009e+13</td>\n",
       "    </tr>\n",
       "  </tbody>\n",
       "</table>\n",
       "<p>8 rows × 54 columns</p>\n",
       "</div>"
      ],
      "text/plain": [
       "           parcelid      logerror  airconditioningtypeid  \\\n",
       "count  9.027500e+04  90275.000000           28781.000000   \n",
       "mean   1.298466e+07      0.011457               1.816372   \n",
       "std    2.504510e+06      0.161079               2.974168   \n",
       "min    1.071174e+07     -4.605000               1.000000   \n",
       "25%    1.155950e+07     -0.025300               1.000000   \n",
       "50%    1.254734e+07      0.006000               1.000000   \n",
       "75%    1.422755e+07      0.039200               1.000000   \n",
       "max    1.629608e+08      4.737000              13.000000   \n",
       "\n",
       "       architecturalstyletypeid  basementsqft   bathroomcnt    bedroomcnt  \\\n",
       "count                261.000000     43.000000  90275.000000  90275.000000   \n",
       "mean                   7.229885    713.581395      2.279474      3.031869   \n",
       "std                    2.716196    437.434198      1.004271      1.156436   \n",
       "min                    2.000000    100.000000      0.000000      0.000000   \n",
       "25%                    7.000000    407.500000      2.000000      2.000000   \n",
       "50%                    7.000000    616.000000      2.000000      3.000000   \n",
       "75%                    7.000000    872.000000      3.000000      4.000000   \n",
       "max                   21.000000   1555.000000     20.000000     16.000000   \n",
       "\n",
       "       buildingclasstypeid  buildingqualitytypeid  calculatedbathnbr  \\\n",
       "count                 16.0           57364.000000       89093.000000   \n",
       "mean                   4.0               5.565407           2.309216   \n",
       "std                    0.0               1.900602           0.976172   \n",
       "min                    4.0               1.000000           1.000000   \n",
       "25%                    4.0               4.000000           2.000000   \n",
       "50%                    4.0               7.000000           2.000000   \n",
       "75%                    4.0               7.000000           3.000000   \n",
       "max                    4.0              12.000000          20.000000   \n",
       "\n",
       "              ...           yardbuildingsqft26     yearbuilt  numberofstories  \\\n",
       "count         ...                    95.000000  89519.000000     20570.000000   \n",
       "mean          ...                   311.694737   1968.532870         1.440739   \n",
       "std           ...                   346.354850     23.763475         0.544498   \n",
       "min           ...                    18.000000   1885.000000         1.000000   \n",
       "25%           ...                   100.000000   1953.000000         1.000000   \n",
       "50%           ...                   159.000000   1970.000000         1.000000   \n",
       "75%           ...                   361.000000   1987.000000         2.000000   \n",
       "max           ...                  1366.000000   2015.000000         4.000000   \n",
       "\n",
       "       structuretaxvaluedollarcnt  taxvaluedollarcnt  assessmentyear  \\\n",
       "count                8.989500e+04       9.027400e+04         90275.0   \n",
       "mean                 1.800934e+05       4.576726e+05          2015.0   \n",
       "std                  2.091299e+05       5.548844e+05             0.0   \n",
       "min                  1.000000e+02       2.200000e+01          2015.0   \n",
       "25%                  8.124500e+04       1.990232e+05          2015.0   \n",
       "50%                  1.320000e+05       3.428720e+05          2015.0   \n",
       "75%                  2.105345e+05       5.405890e+05          2015.0   \n",
       "max                  9.948100e+06       2.775000e+07          2015.0   \n",
       "\n",
       "       landtaxvaluedollarcnt      taxamount  taxdelinquencyyear  \\\n",
       "count           9.027400e+04   90269.000000         1783.000000   \n",
       "mean            2.783353e+05    5983.975927           13.402692   \n",
       "std             4.004955e+05    6838.876956            2.715966   \n",
       "min             2.200000e+01      49.080000            6.000000   \n",
       "25%             8.222800e+04    2872.830000           13.000000   \n",
       "50%             1.929700e+05    4542.750000           14.000000   \n",
       "75%             3.454195e+05    6901.090000           15.000000   \n",
       "max             2.450000e+07  321936.090000           99.000000   \n",
       "\n",
       "       censustractandblock  \n",
       "count         8.967000e+04  \n",
       "mean          6.049151e+13  \n",
       "std           2.046605e+11  \n",
       "min           6.037101e+13  \n",
       "25%           6.037320e+13  \n",
       "50%           6.037615e+13  \n",
       "75%           6.059042e+13  \n",
       "max           6.111009e+13  \n",
       "\n",
       "[8 rows x 54 columns]"
      ]
     },
     "execution_count": 5,
     "metadata": {},
     "output_type": "execute_result"
    }
   ],
   "source": [
    "train_df.describe()"
   ]
  },
  {
   "cell_type": "code",
   "execution_count": 7,
   "metadata": {},
   "outputs": [
    {
     "data": {
      "image/png": "[encoded data removed]",
      "text/plain": [
       "<matplotlib.figure.Figure at 0x132996e50>"
      ]
     },
     "metadata": {},
     "output_type": "display_data"
    }
   ],
   "source": [
    "plt.figure(figsize=(8,5))\n",
    "plt.scatter(range(train_df.shape[0]), np.sort(train_df.logerror.values))\n",
    "plt.xlabel('index', fontsize=12)\n",
    "plt.ylabel('logerror', fontsize=12)\n",
    "plt.show()"
   ]
  },
  {
   "cell_type": "markdown",
   "metadata": {},
   "source": [
    "Log error is quite good for vast majority- outliers are key here"
   ]
  },
  {
   "cell_type": "code",
   "execution_count": 8,
   "metadata": {},
   "outputs": [
    {
     "data": {
      "image/png": "[encoded data removed]",
      "text/plain": [
       "<matplotlib.figure.Figure at 0x1381677d0>"
      ]
     },
     "metadata": {},
     "output_type": "display_data"
    }
   ],
   "source": [
    "plt.figure(figsize=(12,8))\n",
    "sns.distplot(train_df.logerror.values, bins=50, kde=False)\n",
    "plt.xlabel('logerror', fontsize=12)\n",
    "plt.show()"
   ]
  },
  {
   "cell_type": "markdown",
   "metadata": {},
   "source": [
    "Seems liked a peaked distribution, but outliers on log error are affecting the histogram.  Removing outliers:"
   ]
  },
  {
   "cell_type": "markdown",
   "metadata": {
    "collapsed": true
   },
   "source": [
    "<H5> Transaction Date </H5>"
   ]
  },
  {
   "cell_type": "code",
   "execution_count": 10,
   "metadata": {},
   "outputs": [
    {
     "data": {
      "text/plain": [
       "count                   90275\n",
       "unique                    352\n",
       "top       2016-07-29 00:00:00\n",
       "freq                      910\n",
       "first     2016-01-01 00:00:00\n",
       "last      2016-12-30 00:00:00\n",
       "Name: transactiondate, dtype: object"
      ]
     },
     "execution_count": 10,
     "metadata": {},
     "output_type": "execute_result"
    }
   ],
   "source": [
    "train_df.transactiondate.describe()"
   ]
  },
  {
   "cell_type": "markdown",
   "metadata": {
    "collapsed": true
   },
   "source": [
    "All the data is from 2016- we can aggregate it by month"
   ]
  },
  {
   "cell_type": "code",
   "execution_count": 26,
   "metadata": {},
   "outputs": [
    {
     "data": {
      "image/png": "[encoded data removed]",
      "text/plain": [
       "<matplotlib.figure.Figure at 0x11de6fbd0>"
      ]
     },
     "metadata": {},
     "output_type": "display_data"
    }
   ],
   "source": [
    "train_df['transaction_month'] = train_df['transactiondate'].dt.month\n",
    "\n",
    "cnt_srs = train_df['transaction_month'].value_counts()\n",
    "plt.figure(figsize=(12,6))\n",
    "bars= sns.barplot(cnt_srs.index, cnt_srs.values,  color=color[2])\n",
    "plt.xticks()\n",
    "plt.xlabel('Month of transaction', fontsize=12)\n",
    "plt.ylabel('Number of Occurrences', fontsize=12)\n",
    "plt.show()"
   ]
  },
  {
   "cell_type": "markdown",
   "metadata": {},
   "source": [
    "Slow start of the year, then transactions pick up through August.  We do not have all the transactions after October 15th, per competition website."
   ]
  },
  {
   "cell_type": "code",
   "execution_count": 7,
   "metadata": {},
   "outputs": [
    {
     "data": {
      "text/plain": [
       "<matplotlib.axes._subplots.AxesSubplot at 0x1471ee110>"
      ]
     },
     "execution_count": 7,
     "metadata": {},
     "output_type": "execute_result"
    },
    {
     "data": {
      "image/png": "[encoded data removed]",
      "text/plain": [
       "<matplotlib.figure.Figure at 0x1055a6b90>"
      ]
     },
     "metadata": {},
     "output_type": "display_data"
    }
   ],
   "source": [
    "sns.set_style(\"whitegrid\")\n",
    "s1_dims = (15, 20)\n",
    "fig, ax = plt.subplots(figsize=s1_dims)\n",
    "ax.set(ylim=(-0.2, 0.2))\n",
    "sns.violinplot(ax=ax, data=train_df, x=\"transaction_month\", y=\"logerror\")\n"
   ]
  },
  {
   "cell_type": "markdown",
   "metadata": {},
   "source": [
    "Variance appears to grow with the later months (those with fewer values), though the medians appear to be positive, particularly for the winter months.  Besides normal features, we may want to include dummy variables for seasonality.\n"
   ]
  },
  {
   "cell_type": "markdown",
   "metadata": {
    "collapsed": true
   },
   "source": [
    "<h5> Parcel ID </h5>"
   ]
  },
  {
   "cell_type": "code",
   "execution_count": 13,
   "metadata": {},
   "outputs": [
    {
     "data": {
      "text/plain": [
       "1    90026\n",
       "2      123\n",
       "3        1\n",
       "Name: parcelid, dtype: int64"
      ]
     },
     "execution_count": 13,
     "metadata": {},
     "output_type": "execute_result"
    }
   ],
   "source": [
    "train_df['parcelid'].value_counts().reset_index()['parcelid'].value_counts()"
   ]
  },
  {
   "cell_type": "markdown",
   "metadata": {
    "collapsed": true
   },
   "source": [
    "Only 124 of the 90k+ properties had multiple transactions in this year period"
   ]
  },
  {
   "cell_type": "markdown",
   "metadata": {
    "collapsed": true
   },
   "source": [
    "<H5> Onto the Properties 2016 file <H5>"
   ]
  },
  {
   "cell_type": "code",
   "execution_count": 6,
   "metadata": {
    "scrolled": true
   },
   "outputs": [
    {
     "name": "stderr",
     "output_type": "stream",
     "text": [
      "/anaconda/lib/python2.7/site-packages/ipykernel_launcher.py:3: DeprecationWarning: \n",
      ".ix is deprecated. Please use\n",
      ".loc for label based indexing or\n",
      ".iloc for positional indexing\n",
      "\n",
      "See the documentation here:\n",
      "http://pandas.pydata.org/pandas-docs/stable/indexing.html#deprecate_ix\n",
      "  This is separate from the ipykernel package so we can avoid doing imports until\n"
     ]
    },
    {
     "data": {
      "image/png": "[encoded data removed]",
      "text/plain": [
       "<matplotlib.figure.Figure at 0x16e019510>"
      ]
     },
     "metadata": {},
     "output_type": "display_data"
    }
   ],
   "source": [
    "missing_df = train_df.isnull().sum(axis=0).reset_index()\n",
    "missing_df.columns = ['column_name', 'missing_count']\n",
    "missing_df = missing_df.ix[missing_df['missing_count']>0]\n",
    "missing_df = missing_df.sort_values(by='missing_count')\n",
    "\n",
    "ind = np.arange(missing_df.shape[0])\n",
    "width = 0.9\n",
    "fig, ax = plt.subplots(figsize=(12,18))\n",
    "rects = ax.barh(ind, missing_df.missing_count.values, color='blue')\n",
    "ax.set_yticks(ind)\n",
    "ax.set_yticklabels(missing_df.column_name.values, rotation='horizontal')\n",
    "ax.set_xlabel(\"Count of missing values\")\n",
    "ax.set_title(\"Number of missing values in each column\")\n",
    "plt.show()"
   ]
  },
  {
   "cell_type": "code",
   "execution_count": 9,
   "metadata": {},
   "outputs": [
    {
     "data": {
      "text/plain": [
       "buildingclasstypeid     90259\n",
       "finishedsquarefeet13    90242\n",
       "basementsqft            90232\n",
       "storytypeid             90232\n",
       "yardbuildingsqft26      90180\n",
       "dtype: int64"
      ]
     },
     "execution_count": 9,
     "metadata": {},
     "output_type": "execute_result"
    }
   ],
   "source": [
    "# How much of your data is missing?\n",
    "train_df.isnull().sum().sort_values(ascending=False).head()"
   ]
  },
  {
   "cell_type": "code",
   "execution_count": 33,
   "metadata": {
    "collapsed": true
   },
   "outputs": [],
   "source": [
    "# df = df.drop('column_name', 1)\n",
    "to_drop = [ 'parcelid'\n",
    "           ,'architecturalstyletypeid'\n",
    "           ,'assessmentyear'\n",
    "           ,'bathroomcnt'\n",
    "           ,'buildingclasstypeid'\n",
    "           ,'decktypeid'\n",
    "           ,'threequarterbathnbr'\n",
    "           ,'finishedfloor1squarefeet'\n",
    "           ,'finishedsquarefeet6'\n",
    "           ,'finishedsquarefeet12'\n",
    "           ,'finishedsquarefeet13'\n",
    "           ,'finishedsquarefeet15'\n",
    "           ,'finishedsquarefeet50'\n",
    "           ,'fireplaceflag'\n",
    "           ,'fullbathcnt'\n",
    "           ,'garagetotalsqft'\n",
    "           ,'latitude'\n",
    "           ,'longitude'\n",
    "           ,'poolsizesum'\n",
    "           ,'propertyzoningdesc'\n",
    "           ,'rawcensustractandblock'\n",
    "           ,'censustractandblock'\n",
    "           ,'regionidzip'\n",
    "           ,'storytypeid'\n",
    "           ,'typeconstructiontypeid'\n",
    "           ,'taxvaluedollarcnt'\n",
    "           ,'taxamount'\n",
    "           ,'taxdelinquencyyear'\n",
    "           ,'fips'\n",
    "           \n",
    "           ,'hashottuborspa'\n",
    "           ,'pooltypeid10'\n",
    "           ,'pooltypeid2'\n",
    "           ,'pooltypeid7'\n",
    "               \n",
    "           ,'propertycountylandusecode'   # 241 unique values, cannot dummy for size reasons          \n",
    "           ,'regionidcity'            # 187 unique values, cannot dummy for size reasons\n",
    "           ,'regionidneighborhood'    # 529 unique values, cannot dummy for size reasons\n",
    "           ,'transactiondate'\n",
    "          ]\n",
    "\n",
    "for col in to_drop:\n",
    "    train_df = train_df.drop(col,1)"
   ]
  },
  {
   "cell_type": "code",
   "execution_count": 27,
   "metadata": {},
   "outputs": [
    {
     "name": "stderr",
     "output_type": "stream",
     "text": [
      "/anaconda/lib/python2.7/site-packages/ipykernel_launcher.py:15: RuntimeWarning: invalid value encountered in less\n",
      "  from ipykernel import kernelapp as app\n",
      "/anaconda/lib/python2.7/site-packages/ipykernel_launcher.py:17: RuntimeWarning: invalid value encountered in greater\n",
      "/anaconda/lib/python2.7/site-packages/ipykernel_launcher.py:30: RuntimeWarning: invalid value encountered in greater\n",
      "/anaconda/lib/python2.7/site-packages/ipykernel_launcher.py:35: RuntimeWarning: invalid value encountered in greater\n",
      "/anaconda/lib/python2.7/site-packages/ipykernel_launcher.py:68: RuntimeWarning: invalid value encountered in greater\n",
      "/anaconda/lib/python2.7/site-packages/ipykernel_launcher.py:120: RuntimeWarning: invalid value encountered in greater\n",
      "/anaconda/lib/python2.7/site-packages/ipykernel_launcher.py:127: RuntimeWarning: invalid value encountered in less\n"
     ]
    }
   ],
   "source": [
    "##df['bedroomcnt'] = [0 if x <3 else 1 for x in df['bedroomcnt']] #bad example, but you get the point\n",
    "# Bin object variables in specific ways\n",
    "\n",
    "## airconditioningtypeid\n",
    "train_df['airconditioningtypeid'].fillna(value='missing',inplace=True)\n",
    "\n",
    "## bedroomcnt\n",
    "a = np.array(train_df['bedroomcnt'].values.tolist())\n",
    "train_df['bedroomcnt'] = np.where(a > 6, 6, a).tolist()\n",
    "train_df['bedroomcnt'].fillna(value=3,inplace=True) # Or maybe impute with most_common, which is 3\n",
    "\n",
    "## buildingqualitytypeid (best=lowest, worse=highest)\n",
    "\n",
    "a = np.array(train_df['buildingqualitytypeid'].values.tolist())\n",
    "train_df['buildingqualitytypeid'] = np.where(a < 4,  4, a)  #.tolist()\n",
    "a = np.array(train_df['buildingqualitytypeid'].values.tolist())\n",
    "train_df['buildingqualitytypeid'] = np.where(a > 7, 10, a)  #.tolist()\n",
    "a = np.array(train_df['buildingqualitytypeid'].values.tolist())\n",
    "train_df['buildingqualitytypeid'] = np.where(a == 5, 7, a)  #.tolist()\n",
    "a = np.array(train_df['buildingqualitytypeid'].values.tolist())\n",
    "train_df['buildingqualitytypeid'] = np.where(a == 6, 7, a).tolist()\n",
    "a = np.array(train_df['buildingqualitytypeid'].values.tolist())\n",
    "train_df['buildingqualitytypeid'].fillna(value=99,inplace=True) # 99 = missing (BE CAREFUL NOT TO CHANGE BEFORE '>' STATEMENT)\n",
    "\n",
    "## fips - we dropped this so no need to proprocess\n",
    "# train_df['fips'].fillna(value=99,inplace=True)\n",
    "\n",
    "## fireplacecnt\n",
    "a = np.array(train_df['fireplacecnt'].values.tolist())\n",
    "train_df['fireplacecnt'] = np.where(a > 3,  3, a)  #.tolist()\n",
    "train_df['fireplacecnt'].fillna(value=0,inplace=True) #set NaN to zero\n",
    "\n",
    "## garagecarcnt\n",
    "a = np.array(train_df['garagecarcnt'].values.tolist())\n",
    "train_df['garagecarcnt'] = np.where(a > 3,  3, a)  #.tolist()\n",
    "train_df['garagecarcnt'].fillna(value=99,inplace=True) #set NaN to 99\n",
    "\n",
    "##  hashottuborspa\n",
    "#train_df['hashottuborspa'].fillna(value=False,inplace=True) #set NaN to False\n",
    "\n",
    "## heatingorsystemtypeid\n",
    "a = np.array(train_df['heatingorsystemtypeid'].values.tolist())\n",
    "train_df['heatingorsystemtypeid'] = np.where(a == 19,  14, a)  #.tolist()\n",
    "a = np.array(train_df['heatingorsystemtypeid'].values.tolist())\n",
    "train_df['heatingorsystemtypeid'] = np.where(a == 21, 14, a)  #.tolist()\n",
    "a = np.array(train_df['heatingorsystemtypeid'].values.tolist())\n",
    "train_df['heatingorsystemtypeid'] = np.where(a == 11, 14, a)  #.tolist()\n",
    "a = np.array(train_df['heatingorsystemtypeid'].values.tolist())\n",
    "train_df['heatingorsystemtypeid'] = np.where(a == 12, 14, a)  #.tolist()\n",
    "a = np.array(train_df['heatingorsystemtypeid'].values.tolist())\n",
    "train_df['heatingorsystemtypeid'] = np.where(a == 10, 14, a)  #.tolist()\n",
    "a = np.array(train_df['heatingorsystemtypeid'].values.tolist())\n",
    "train_df['heatingorsystemtypeid'] = np.where(a ==  1, 14, a)  #.tolist()\n",
    "a = np.array(train_df['heatingorsystemtypeid'].values.tolist())\n",
    "train_df['heatingorsystemtypeid'] = np.where(a == 18, 14, a)  #.tolist()\n",
    "a = np.array(train_df['heatingorsystemtypeid'].values.tolist())\n",
    "train_df['heatingorsystemtypeid'] = np.where(a == 13, 14, a)  #.tolist()\n",
    "a = np.array(train_df['heatingorsystemtypeid'].values.tolist())\n",
    "train_df['heatingorsystemtypeid'] = np.where(a == 20, 14, a)  #.tolist()\n",
    "a = np.array(train_df['heatingorsystemtypeid'].values.tolist())\n",
    "train_df['heatingorsystemtypeid'] = np.where(a == 12, 14, a).tolist()\n",
    "a = np.array(train_df['heatingorsystemtypeid'].values.tolist())\n",
    "\n",
    "train_df['heatingorsystemtypeid'].fillna(value=99,inplace=True) #set NaN to 99\n",
    "\n",
    "## numberofstories\n",
    "a = np.array(train_df['numberofstories'].values.tolist())\n",
    "train_df['numberofstories'] = np.where(a > 3,  3, a)  #.tolist()\n",
    "train_df['numberofstories'].fillna(value=99,inplace=True) #set NaN to 99\n",
    "\n",
    "## poolcnt\n",
    "train_df['poolcnt'].fillna(value=0,inplace=True) #set NaN to zero\n",
    "\n",
    "## pooltypes\n",
    "#train_df['pooltypeid10'].fillna(value=0,inplace=True) #set NaN to zero\n",
    "#train_df['pooltypeid2'].fillna(value=0,inplace=True) #set NaN to zero\n",
    "#train_df['pooltypeid7'].fillna(value=0,inplace=True) #set NaN to zero\n",
    "\n",
    "\n",
    "## propertycountylandusecode\n",
    "#### probably should loop through, has 241 distinct values, some of which have count=1\n",
    "#train_df['propertycountylandusecode'].fillna(value=99,inplace=True) #set NaN to 99\n",
    "\n",
    "## propertylandusetypeid\n",
    "### too many unique values, so had to drop\n",
    "train_df['propertylandusetypeid'].fillna(value=99,inplace=True) #set NaN to 99\n",
    "\n",
    "## regionidcounty\n",
    "train_df['regionidcounty'].fillna(value=99,inplace=True) #set NaN to 99\n",
    "\n",
    "## regionidcity\n",
    "#### probably should loop through, has 187 distinct values, some of which have count=1\n",
    "### too many unique values, so had to drop\n",
    "#train_df['regionidcity'].fillna(value=99,inplace=True) #set NaN to 99\n",
    "\n",
    "## regionidneighborhood\n",
    "#### probably should loop through, has 500+ distinct values, some of which have count=1.  Maybe use lat-long to KNN???\n",
    "### too many unique values, so had to drop\n",
    "#train_df['regionidneighborhood'].fillna(value=99,inplace=True) #set NaN to 99\n",
    "\n",
    "## calculatedbathnbr\n",
    "train_df['calculatedbathnbr'].fillna(value=2,inplace=True)  # Or maybe impute with most_common, which is 2\n",
    "\n",
    "## roomcnt\n",
    "a = np.array(train_df['roomcnt'].values.tolist())\n",
    "train_df['roomcnt0'] = np.where(a == 0, 1, 0)  #.tolist()\n",
    "train_df['roomcnt'] = np.where(a < 3,  3, a)  #.tolist()\n",
    "a = np.array(train_df['roomcnt'].values.tolist())\n",
    "train_df['roomcnt'] = np.where(a > 7, 10, a)  #.tolist()\n",
    "a = np.array(train_df['roomcnt'].values.tolist())\n",
    "train_df['roomcnt'] = np.where(a == 5, 7, a)  #.tolist()\n",
    "a = np.array(train_df['roomcnt'].values.tolist())\n",
    "train_df['roomcnt'] = np.where(a == 6, 7, a).tolist()\n",
    "a = np.array(train_df['roomcnt'].values.tolist())\n",
    "train_df['roomcnt'].fillna(value=6,inplace=True) #set NaN to 6, most common value\n",
    "\n",
    "\n",
    "## unitcnt\n",
    "a = np.array(train_df['unitcnt'].values.tolist())\n",
    "train_df['unitcnt'] = np.where(a > 5, 5, a)  #.tolist()\n",
    "train_df['unitcnt'].fillna(value=1,inplace=True) #set NaN to 1\n",
    "\n",
    "## yearbuilt    \n",
    "a = np.array(train_df['yearbuilt'].values.tolist())\n",
    "train_df['yearbuilt'] = (train_df['yearbuilt']/10).round()\n",
    "a = np.array(train_df['yearbuilt'].values.tolist())\n",
    "train_df['yearbuilt'] = np.where(a < 190, 189, a)  #.tolist()\n",
    "train_df['yearbuilt'].fillna(value=195,inplace=True) #set NaN to 195\n",
    "\n",
    "\n",
    "\n",
    "##  taxdelinquencyflag   train_df['taxdelinquencyflag'].value_counts()\n",
    "train_df['taxdelinquencyflag'] = [1 if x == 'Y' else 0 for x in train_df['taxdelinquencyflag']] \n",
    "train_df['taxdelinquencyflag'].fillna(value=0,inplace=True) #set NaN to zeroTrue) #set NaN to zero\n",
    "\n",
    "\n",
    "##  Numeric variables whose NaN we'll set to zero\n",
    "a = np.array(train_df['basementsqft'].values.tolist())\n",
    "train_df['basementsqft_NaN'] = np.where(a == np.NaN, 1, 0)  #.tolist()\n",
    "train_df['basementsqft'].fillna(value=0,inplace=True) #set NaN to zero\n",
    "\n",
    "a = np.array(train_df['calculatedfinishedsquarefeet'].values.tolist())\n",
    "train_df['calculatedfinishedsquarefeet_NaN'] = np.where(a == np.NaN, 1, 0)  #.tolist()\n",
    "train_df['calculatedfinishedsquarefeet'].fillna(value=0,inplace=True) #set NaN to zero\n",
    "\n",
    "a = np.array(train_df['lotsizesquarefeet'].values.tolist())\n",
    "train_df['lotsizesquarefeet_NaN'] = np.where(a == np.NaN, 1, 0)  #.tolist()\n",
    "train_df['lotsizesquarefeet'].fillna(value=0,inplace=True) #set NaN to zero\n",
    "\n",
    "a = np.array(train_df['yardbuildingsqft17'].values.tolist())\n",
    "train_df['yardbuildingsqft17_NaN'] = np.where(a == np.NaN, 1, 0)  #.tolist()\n",
    "train_df['yardbuildingsqft17'].fillna(value=0,inplace=True) #set NaN to zero\n",
    "a = np.array(train_df['yardbuildingsqft17'].values.tolist())\n",
    "train_df['yardbuildingsqft17'] = np.where(a > 0, 1, 0)  #.tolist()\n",
    "\n",
    "a = np.array(train_df['yardbuildingsqft26'].values.tolist())\n",
    "train_df['yardbuildingsqft26_NaN'] = np.where(a == np.NaN, 1, 0)  #.tolist()\n",
    "train_df['yardbuildingsqft26'].fillna(value=0,inplace=True) #set NaN to zero\n",
    "a = np.array(train_df['yardbuildingsqft26'].values.tolist())\n",
    "train_df['yardbuildingsqft26'] = np.where(a > 0, 1, 0)  #.tolist()\n",
    "\n",
    "a = np.array(train_df['structuretaxvaluedollarcnt'].values.tolist())\n",
    "train_df['structuretaxvaluedollarcnt_NaN'] = np.where(a == np.NaN, 1, 0)  #.tolist()\n",
    "train_df['structuretaxvaluedollarcnt'].fillna(value=0,inplace=True) #set NaN to zero\n",
    "\n",
    "a = np.array(train_df['landtaxvaluedollarcnt'].values.tolist())\n",
    "train_df['landtaxvaluedollarcnt_NaN'] = np.where(a == np.NaN, 1, 0)  #.tolist()\n",
    "train_df['landtaxvaluedollarcnt'].fillna(value=10000,inplace=True) #set NaN to 10000\n",
    "\n",
    "a = np.array(train_df['calculatedfinishedsquarefeet'].values.tolist())\n",
    "train_df['calculatedfinishedsquarefeet_NaN'] = np.where(a == np.NaN, 1, 0)  #.tolist()\n",
    "train_df['calculatedfinishedsquarefeet'].fillna(value=6000,inplace=True) #set NaN to 6000, most common number\n",
    "\n"
   ]
  },
  {
   "cell_type": "code",
   "execution_count": 70,
   "metadata": {
    "scrolled": true
   },
   "outputs": [
    {
     "name": "stderr",
     "output_type": "stream",
     "text": [
      "/anaconda/lib/python2.7/site-packages/ipykernel_launcher.py:4: DeprecationWarning: \n",
      ".ix is deprecated. Please use\n",
      ".loc for label based indexing or\n",
      ".iloc for positional indexing\n",
      "\n",
      "See the documentation here:\n",
      "http://pandas.pydata.org/pandas-docs/stable/indexing.html#deprecate_ix\n",
      "  after removing the cwd from sys.path.\n"
     ]
    },
    {
     "data": {
      "image/png": "[encoded data removed]",
      "text/plain": [
       "<matplotlib.figure.Figure at 0x15bcd1fd0>"
      ]
     },
     "metadata": {},
     "output_type": "display_data"
    }
   ],
   "source": [
    "# Check Missing values again, after processing attempt to remove some fields and assign a value to others' NaN values\n",
    "missing_df = train_df.isnull().sum(axis=0).reset_index()\n",
    "missing_df.columns = ['column_name', 'missing_count']\n",
    "missing_df = missing_df.ix[missing_df['missing_count']>0]\n",
    "missing_df = missing_df.sort_values(by='missing_count')\n",
    "\n",
    "ind = np.arange(missing_df.shape[0])\n",
    "width = 0.9\n",
    "fig, ax = plt.subplots(figsize=(12,18))\n",
    "rects = ax.barh(ind, missing_df.missing_count.values, color='blue')\n",
    "ax.set_yticks(ind)\n",
    "ax.set_yticklabels(missing_df.column_name.values, rotation='horizontal')\n",
    "ax.set_xlabel(\"Count of missing values\")\n",
    "ax.set_title(\"Number of missing values in each column\")\n",
    "plt.show()"
   ]
  },
  {
   "cell_type": "code",
   "execution_count": 29,
   "metadata": {
    "collapsed": true
   },
   "outputs": [],
   "source": [
    "\n",
    "objs = [ 'airconditioningtypeid'\n",
    "        ,'bedroomcnt'\n",
    "        ,'buildingqualitytypeid'\n",
    "        ,'fireplacecnt'\n",
    "        ,'garagecarcnt'\n",
    "        ,'heatingorsystemtypeid'\n",
    "        ,'numberofstories'\n",
    "        ,'poolcnt'        \n",
    "        ,'propertylandusetypeid'   \n",
    "        ,'regionidcounty'\n",
    "        ,'unitcnt'\n",
    "        ,'yearbuilt'   \n",
    "        ,'taxdelinquencyflag'  \n",
    "        ,'yardbuildingsqft17'\n",
    "        ,'yardbuildingsqft26'        \n",
    "        #,'hashottuborspa'\n",
    "        #,'pooltypeid10'\n",
    "        #,'pooltypeid2'\n",
    "        #,'pooltypeid7'\n",
    "        #,'propertycountylandusecode'  # too many unique values, had to drop\n",
    "        #,'regionidcity'            # too many unique values, had to drop\n",
    "        #,'regionidneighborhood'    # too many unique values, had to drop\n",
    "        ]\n",
    "\n",
    "\n",
    "for obj in objs:\n",
    "    train_df[obj] = train_df[obj].astype(object)"
   ]
  },
  {
   "cell_type": "code",
   "execution_count": 30,
   "metadata": {
    "collapsed": true
   },
   "outputs": [],
   "source": [
    "\n",
    "flts = [ 'basementsqft'\n",
    "        ,'calculatedbathnbr'\n",
    "        ,'calculatedfinishedsquarefeet'\n",
    "        ,'landtaxvaluedollarcnt'\n",
    "        ,'lotsizesquarefeet'\n",
    "        ,'roomcnt'\n",
    "        ,'structuretaxvaluedollarcnt'\n",
    "       ]\n",
    "\n",
    "for flt in flts:\n",
    "    train_df[flt] = train_df[flt].astype(float)"
   ]
  },
  {
   "cell_type": "code",
   "execution_count": 31,
   "metadata": {},
   "outputs": [
    {
     "name": "stdout",
     "output_type": "stream",
     "text": [
      "Feature 'airconditioningtypeid' has 7 unique categories\n",
      "Feature 'bedroomcnt' has 7 unique categories\n",
      "Feature 'buildingqualitytypeid' has 4 unique categories\n",
      "Feature 'fips' has 3 unique categories\n",
      "Feature 'fireplacecnt' has 4 unique categories\n",
      "Feature 'garagecarcnt' has 5 unique categories\n",
      "Feature 'hashottuborspa' has 2 unique categories\n",
      "Feature 'heatingorsystemtypeid' has 6 unique categories\n",
      "Feature 'poolcnt' has 2 unique categories\n",
      "Feature 'propertycountylandusecode' has 78 unique categories\n",
      "Feature 'propertylandusetypeid' has 14 unique categories\n",
      "Feature 'propertyzoningdesc' has 1997 unique categories\n",
      "Feature 'regionidcounty' has 3 unique categories\n",
      "Feature 'unitcnt' has 6 unique categories\n",
      "Feature 'yardbuildingsqft17' has 2 unique categories\n",
      "Feature 'yardbuildingsqft26' has 2 unique categories\n",
      "Feature 'yearbuilt' has 14 unique categories\n",
      "Feature 'numberofstories' has 4 unique categories\n",
      "Feature 'fireplaceflag' has 2 unique categories\n",
      "Feature 'taxdelinquencyflag' has 2 unique categories\n"
     ]
    }
   ],
   "source": [
    "##OneHotEncoder train_df['storytypeid']\n",
    "\n",
    "# Decide which categorical variables you want to use in model\n",
    "for col in train_df.columns:\n",
    "    if train_df[col].dtypes == 'object':       \n",
    "        unique_cat = len(train_df[col].unique())\n",
    "        print(\"Feature '{col_name}' has {unique_cat} unique categories\".format(col_name=col, unique_cat=unique_cat))"
   ]
  },
  {
   "cell_type": "code",
   "execution_count": 39,
   "metadata": {
    "collapsed": true
   },
   "outputs": [],
   "source": [
    "# Create dummy list\n",
    "to_dummy = [ 'airconditioningtypeid'\n",
    "            ,'bedroomcnt'\n",
    "            ,'buildingqualitytypeid'\n",
    "            ,'fireplacecnt'\n",
    "            ,'garagecarcnt'\n",
    "            ,'heatingorsystemtypeid'\n",
    "            ,'numberofstories'\n",
    "            ,'poolcnt'\n",
    "            ,'propertylandusetypeid'   \n",
    "            ,'regionidcounty'         \n",
    "            ,'unitcnt'\n",
    "            ,'yearbuilt'   \n",
    "            ,'taxdelinquencyflag'  \n",
    "            ,'yardbuildingsqft17'\n",
    "            ,'yardbuildingsqft26'            \n",
    "            #,'hashottuborspa'\n",
    "            #,'pooltypeid10'\n",
    "            #,'pooltypeid2'\n",
    "            #,'pooltypeid7'            \n",
    "            #,'propertycountylandusecode'  # 241 unique values, cannot dummy for size reasons                    \n",
    "#            ,'regionidcity'            # 187 unique values, cannot dummy for size reasons\n",
    "#            ,'regionidneighborhood'    # 529 unique values, cannot dummy for size reasons            \n",
    "            ]\n",
    "            \n",
    "\n",
    "\n"
   ]
  },
  {
   "cell_type": "code",
   "execution_count": 43,
   "metadata": {
    "collapsed": true
   },
   "outputs": [],
   "source": [
    "# Use this function to dummy all the categorical variables we want to keep\n",
    "def dummy_df(df, todummy_list):\n",
    "    for x in todummy_list:       \n",
    "        dummies = pd.get_dummies(df[x], prefix=x, dummy_na=True)\n",
    "        df = df.drop(x, 1)\n",
    "        df = pd.concat([df, dummies], axis=1)\n",
    "    return df"
   ]
  },
  {
   "cell_type": "code",
   "execution_count": 44,
   "metadata": {
    "collapsed": true
   },
   "outputs": [],
   "source": [
    "## bool  \n",
    "train_df = dummy_df(train_df, to_dummy)"
   ]
  },
  {
   "cell_type": "markdown",
   "metadata": {},
   "source": [
    "<h2> Analysis into Extreme Log Errors </h2>\n"
   ]
  },
  {
   "cell_type": "markdown",
   "metadata": {},
   "source": [
    "This competition is focused on predicting the log error of predicted versus transaction prices. As shown in the graph in EDA section and recreated below, the vast majority of log errors are quite low. It is in the extreme values where the error rates increase drastically. Therefore, we will perform an analysis on just these extreme values to see if there are any patterns that will help us identify these values."
   ]
  },
  {
   "cell_type": "code",
   "execution_count": 71,
   "metadata": {},
   "outputs": [
    {
     "data": {
      "image/png": "[encoded data removed]",
      "text/plain": [
       "<matplotlib.figure.Figure at 0x15bcd1ed0>"
      ]
     },
     "metadata": {},
     "output_type": "display_data"
    }
   ],
   "source": [
    "plt.figure(figsize=(8,5))\n",
    "# create a mask for values less than -.1 and greater than .1\n",
    "masked = np.ma.masked_outside(np.sort(train_df.logerror.values), -.1, .1)\n",
    "# plot masked and non-masked values\n",
    "plt.plot(range(train_df.shape[0]), np.sort(train_df.logerror.values), 'red')\n",
    "plt.plot(range(train_df.shape[0]), masked, 'blue')\n",
    "plt.xlabel('index', fontsize=12)\n",
    "plt.ylabel('logerror', fontsize=12)\n",
    "plt.show()"
   ]
  },
  {
   "cell_type": "code",
   "execution_count": 73,
   "metadata": {},
   "outputs": [
    {
     "name": "stdout",
     "output_type": "stream",
     "text": [
      "90275\n"
     ]
    }
   ],
   "source": [
    "high_error_df= train_df[(train_df.logerror <-.1) | (train_df.logerror >.1)]\n",
    "low_error_df = train_df[(train_df.logerror>=-.1) & (train_df.logerror<=.1)]\n",
    "print(len(high_error_df)+len(low_error_df))"
   ]
  },
  {
   "cell_type": "markdown",
   "metadata": {},
   "source": [
    "First we'll visualize the log errors by month of transaction to see if there are any seasonal effects."
   ]
  },
  {
   "cell_type": "code",
   "execution_count": 75,
   "metadata": {},
   "outputs": [
    {
     "data": {
      "image/png": "[encoded data removed]",
      "text/plain": [
       "<matplotlib.figure.Figure at 0x140b74790>"
      ]
     },
     "metadata": {},
     "output_type": "display_data"
    },
    {
     "data": {
      "image/png": "[encoded data removed]",
      "text/plain": [
       "<matplotlib.figure.Figure at 0x11deb3a50>"
      ]
     },
     "metadata": {},
     "output_type": "display_data"
    }
   ],
   "source": [
    "cnt_srs = high_error_df['transaction_month'].value_counts()\n",
    "plt.figure(figsize=(12,6))\n",
    "bars= sns.barplot(cnt_srs.index, cnt_srs.values,  color=color[2])\n",
    "plt.xticks()\n",
    "plt.xlabel('Month of transaction', fontsize=12)\n",
    "plt.ylabel('Number of Occurrences', fontsize=12)\n",
    "plt.title('Number of Transactions per Month- High Error Data')\n",
    "plt.show()\n",
    "\n",
    "\n",
    "\n",
    "cnt_srs = low_error_df['transaction_month'].value_counts()\n",
    "plt.figure(figsize=(12,6))\n",
    "bars= sns.barplot(cnt_srs.index, cnt_srs.values,  color=color[2])\n",
    "plt.xticks()\n",
    "plt.xlabel('Month of transaction', fontsize=12)\n",
    "plt.ylabel('Number of Occurrences', fontsize=12)\n",
    "plt.title('Number of Transactions per Month- All Data')\n",
    "plt.show()"
   ]
  },
  {
   "cell_type": "markdown",
   "metadata": {},
   "source": [
    "These charts tend to follow the same pattern"
   ]
  },
  {
   "cell_type": "code",
   "execution_count": 77,
   "metadata": {},
   "outputs": [
    {
     "name": "stderr",
     "output_type": "stream",
     "text": [
      "/anaconda/lib/python2.7/site-packages/ipykernel_launcher.py:1: DeprecationWarning: \n",
      ".ix is deprecated. Please use\n",
      ".loc for label based indexing or\n",
      ".iloc for positional indexing\n",
      "\n",
      "See the documentation here:\n",
      "http://pandas.pydata.org/pandas-docs/stable/indexing.html#deprecate_ix\n",
      "  \"\"\"Entry point for launching an IPython kernel.\n"
     ]
    },
    {
     "data": {
      "text/html": [
       "<div>\n",
       "<style>\n",
       "    .dataframe thead tr:only-child th {\n",
       "        text-align: right;\n",
       "    }\n",
       "\n",
       "    .dataframe thead th {\n",
       "        text-align: left;\n",
       "    }\n",
       "\n",
       "    .dataframe tbody tr th {\n",
       "        vertical-align: top;\n",
       "    }\n",
       "</style>\n",
       "<table border=\"1\" class=\"dataframe\">\n",
       "  <thead>\n",
       "    <tr style=\"text-align: right;\">\n",
       "      <th></th>\n",
       "      <th>logerror</th>\n",
       "      <th>basementsqft</th>\n",
       "      <th>calculatedbathnbr</th>\n",
       "      <th>calculatedfinishedsquarefeet</th>\n",
       "      <th>lotsizesquarefeet</th>\n",
       "      <th>roomcnt</th>\n",
       "      <th>structuretaxvaluedollarcnt</th>\n",
       "      <th>landtaxvaluedollarcnt</th>\n",
       "      <th>transaction_month</th>\n",
       "      <th>roomcnt0</th>\n",
       "    </tr>\n",
       "  </thead>\n",
       "  <tbody>\n",
       "    <tr>\n",
       "      <th>count</th>\n",
       "      <td>14575.000000</td>\n",
       "      <td>14575.000000</td>\n",
       "      <td>14575.000000</td>\n",
       "      <td>14575.000000</td>\n",
       "      <td>1.457500e+04</td>\n",
       "      <td>14575.000000</td>\n",
       "      <td>1.457500e+04</td>\n",
       "      <td>1.457500e+04</td>\n",
       "      <td>14575.000000</td>\n",
       "      <td>14575.000000</td>\n",
       "    </tr>\n",
       "    <tr>\n",
       "      <th>mean</th>\n",
       "      <td>0.050639</td>\n",
       "      <td>0.528714</td>\n",
       "      <td>2.338937</td>\n",
       "      <td>1870.002058</td>\n",
       "      <td>2.533688e+04</td>\n",
       "      <td>3.782504</td>\n",
       "      <td>1.922530e+05</td>\n",
       "      <td>3.225603e+05</td>\n",
       "      <td>5.737496</td>\n",
       "      <td>0.815232</td>\n",
       "    </tr>\n",
       "    <tr>\n",
       "      <th>std</th>\n",
       "      <td>0.387913</td>\n",
       "      <td>23.834662</td>\n",
       "      <td>1.181999</td>\n",
       "      <td>1197.682230</td>\n",
       "      <td>1.265985e+05</td>\n",
       "      <td>1.825376</td>\n",
       "      <td>3.102398e+05</td>\n",
       "      <td>6.413487e+05</td>\n",
       "      <td>2.852290</td>\n",
       "      <td>0.388123</td>\n",
       "    </tr>\n",
       "    <tr>\n",
       "      <th>min</th>\n",
       "      <td>-4.605000</td>\n",
       "      <td>0.000000</td>\n",
       "      <td>1.000000</td>\n",
       "      <td>0.000000</td>\n",
       "      <td>0.000000e+00</td>\n",
       "      <td>3.000000</td>\n",
       "      <td>0.000000e+00</td>\n",
       "      <td>2.780000e+02</td>\n",
       "      <td>1.000000</td>\n",
       "      <td>0.000000</td>\n",
       "    </tr>\n",
       "    <tr>\n",
       "      <th>25%</th>\n",
       "      <td>-0.148500</td>\n",
       "      <td>0.000000</td>\n",
       "      <td>2.000000</td>\n",
       "      <td>1149.000000</td>\n",
       "      <td>5.323000e+03</td>\n",
       "      <td>3.000000</td>\n",
       "      <td>6.541600e+04</td>\n",
       "      <td>6.301000e+04</td>\n",
       "      <td>3.000000</td>\n",
       "      <td>1.000000</td>\n",
       "    </tr>\n",
       "    <tr>\n",
       "      <th>50%</th>\n",
       "      <td>0.112400</td>\n",
       "      <td>0.000000</td>\n",
       "      <td>2.000000</td>\n",
       "      <td>1551.000000</td>\n",
       "      <td>7.017000e+03</td>\n",
       "      <td>3.000000</td>\n",
       "      <td>1.172820e+05</td>\n",
       "      <td>1.721250e+05</td>\n",
       "      <td>6.000000</td>\n",
       "      <td>1.000000</td>\n",
       "    </tr>\n",
       "    <tr>\n",
       "      <th>75%</th>\n",
       "      <td>0.193900</td>\n",
       "      <td>0.000000</td>\n",
       "      <td>3.000000</td>\n",
       "      <td>2241.500000</td>\n",
       "      <td>1.152650e+04</td>\n",
       "      <td>3.000000</td>\n",
       "      <td>2.080690e+05</td>\n",
       "      <td>3.605195e+05</td>\n",
       "      <td>8.000000</td>\n",
       "      <td>1.000000</td>\n",
       "    </tr>\n",
       "    <tr>\n",
       "      <th>max</th>\n",
       "      <td>4.737000</td>\n",
       "      <td>1555.000000</td>\n",
       "      <td>15.000000</td>\n",
       "      <td>20013.000000</td>\n",
       "      <td>6.971010e+06</td>\n",
       "      <td>10.000000</td>\n",
       "      <td>9.948100e+06</td>\n",
       "      <td>2.450000e+07</td>\n",
       "      <td>12.000000</td>\n",
       "      <td>1.000000</td>\n",
       "    </tr>\n",
       "  </tbody>\n",
       "</table>\n",
       "</div>"
      ],
      "text/plain": [
       "           logerror  basementsqft  calculatedbathnbr  \\\n",
       "count  14575.000000  14575.000000       14575.000000   \n",
       "mean       0.050639      0.528714           2.338937   \n",
       "std        0.387913     23.834662           1.181999   \n",
       "min       -4.605000      0.000000           1.000000   \n",
       "25%       -0.148500      0.000000           2.000000   \n",
       "50%        0.112400      0.000000           2.000000   \n",
       "75%        0.193900      0.000000           3.000000   \n",
       "max        4.737000   1555.000000          15.000000   \n",
       "\n",
       "       calculatedfinishedsquarefeet  lotsizesquarefeet       roomcnt  \\\n",
       "count                  14575.000000       1.457500e+04  14575.000000   \n",
       "mean                    1870.002058       2.533688e+04      3.782504   \n",
       "std                     1197.682230       1.265985e+05      1.825376   \n",
       "min                        0.000000       0.000000e+00      3.000000   \n",
       "25%                     1149.000000       5.323000e+03      3.000000   \n",
       "50%                     1551.000000       7.017000e+03      3.000000   \n",
       "75%                     2241.500000       1.152650e+04      3.000000   \n",
       "max                    20013.000000       6.971010e+06     10.000000   \n",
       "\n",
       "       structuretaxvaluedollarcnt  landtaxvaluedollarcnt  transaction_month  \\\n",
       "count                1.457500e+04           1.457500e+04       14575.000000   \n",
       "mean                 1.922530e+05           3.225603e+05           5.737496   \n",
       "std                  3.102398e+05           6.413487e+05           2.852290   \n",
       "min                  0.000000e+00           2.780000e+02           1.000000   \n",
       "25%                  6.541600e+04           6.301000e+04           3.000000   \n",
       "50%                  1.172820e+05           1.721250e+05           6.000000   \n",
       "75%                  2.080690e+05           3.605195e+05           8.000000   \n",
       "max                  9.948100e+06           2.450000e+07          12.000000   \n",
       "\n",
       "           roomcnt0  \n",
       "count  14575.000000  \n",
       "mean       0.815232  \n",
       "std        0.388123  \n",
       "min        0.000000  \n",
       "25%        1.000000  \n",
       "50%        1.000000  \n",
       "75%        1.000000  \n",
       "max        1.000000  "
      ]
     },
     "execution_count": 77,
     "metadata": {},
     "output_type": "execute_result"
    }
   ],
   "source": [
    "high_error_df.ix[:, 0:10].describe()"
   ]
  },
  {
   "cell_type": "code",
   "execution_count": 79,
   "metadata": {},
   "outputs": [
    {
     "name": "stderr",
     "output_type": "stream",
     "text": [
      "/anaconda/lib/python2.7/site-packages/ipykernel_launcher.py:1: DeprecationWarning: \n",
      ".ix is deprecated. Please use\n",
      ".loc for label based indexing or\n",
      ".iloc for positional indexing\n",
      "\n",
      "See the documentation here:\n",
      "http://pandas.pydata.org/pandas-docs/stable/indexing.html#deprecate_ix\n",
      "  \"\"\"Entry point for launching an IPython kernel.\n"
     ]
    },
    {
     "data": {
      "text/html": [
       "<div>\n",
       "<style>\n",
       "    .dataframe thead tr:only-child th {\n",
       "        text-align: right;\n",
       "    }\n",
       "\n",
       "    .dataframe thead th {\n",
       "        text-align: left;\n",
       "    }\n",
       "\n",
       "    .dataframe tbody tr th {\n",
       "        vertical-align: top;\n",
       "    }\n",
       "</style>\n",
       "<table border=\"1\" class=\"dataframe\">\n",
       "  <thead>\n",
       "    <tr style=\"text-align: right;\">\n",
       "      <th></th>\n",
       "      <th>logerror</th>\n",
       "      <th>basementsqft</th>\n",
       "      <th>calculatedbathnbr</th>\n",
       "      <th>calculatedfinishedsquarefeet</th>\n",
       "      <th>lotsizesquarefeet</th>\n",
       "      <th>roomcnt</th>\n",
       "      <th>structuretaxvaluedollarcnt</th>\n",
       "      <th>landtaxvaluedollarcnt</th>\n",
       "      <th>transaction_month</th>\n",
       "      <th>roomcnt0</th>\n",
       "    </tr>\n",
       "  </thead>\n",
       "  <tbody>\n",
       "    <tr>\n",
       "      <th>count</th>\n",
       "      <td>75700.000000</td>\n",
       "      <td>75700.000000</td>\n",
       "      <td>75700.000000</td>\n",
       "      <td>75700.000000</td>\n",
       "      <td>7.570000e+04</td>\n",
       "      <td>75700.000000</td>\n",
       "      <td>7.570000e+04</td>\n",
       "      <td>7.570000e+04</td>\n",
       "      <td>75700.000000</td>\n",
       "      <td>75700.000000</td>\n",
       "    </tr>\n",
       "    <tr>\n",
       "      <th>mean</th>\n",
       "      <td>0.003913</td>\n",
       "      <td>0.303540</td>\n",
       "      <td>2.298666</td>\n",
       "      <td>1739.062206</td>\n",
       "      <td>2.593351e+04</td>\n",
       "      <td>4.064941</td>\n",
       "      <td>1.768482e+05</td>\n",
       "      <td>2.698169e+05</td>\n",
       "      <td>5.871480</td>\n",
       "      <td>0.763778</td>\n",
       "    </tr>\n",
       "    <tr>\n",
       "      <th>std</th>\n",
       "      <td>0.040238</td>\n",
       "      <td>16.908352</td>\n",
       "      <td>0.923978</td>\n",
       "      <td>876.442295</td>\n",
       "      <td>1.126823e+05</td>\n",
       "      <td>2.090632</td>\n",
       "      <td>1.831119e+05</td>\n",
       "      <td>3.341222e+05</td>\n",
       "      <td>2.804503</td>\n",
       "      <td>0.424763</td>\n",
       "    </tr>\n",
       "    <tr>\n",
       "      <th>min</th>\n",
       "      <td>-0.099800</td>\n",
       "      <td>0.000000</td>\n",
       "      <td>1.000000</td>\n",
       "      <td>0.000000</td>\n",
       "      <td>0.000000e+00</td>\n",
       "      <td>3.000000</td>\n",
       "      <td>0.000000e+00</td>\n",
       "      <td>2.200000e+01</td>\n",
       "      <td>1.000000</td>\n",
       "      <td>0.000000</td>\n",
       "    </tr>\n",
       "    <tr>\n",
       "      <th>25%</th>\n",
       "      <td>-0.021200</td>\n",
       "      <td>0.000000</td>\n",
       "      <td>2.000000</td>\n",
       "      <td>1180.000000</td>\n",
       "      <td>4.962000e+03</td>\n",
       "      <td>3.000000</td>\n",
       "      <td>8.360650e+04</td>\n",
       "      <td>8.673650e+04</td>\n",
       "      <td>4.000000</td>\n",
       "      <td>1.000000</td>\n",
       "    </tr>\n",
       "    <tr>\n",
       "      <th>50%</th>\n",
       "      <td>0.004000</td>\n",
       "      <td>0.000000</td>\n",
       "      <td>2.000000</td>\n",
       "      <td>1531.000000</td>\n",
       "      <td>6.726000e+03</td>\n",
       "      <td>3.000000</td>\n",
       "      <td>1.341000e+05</td>\n",
       "      <td>1.963340e+05</td>\n",
       "      <td>6.000000</td>\n",
       "      <td>1.000000</td>\n",
       "    </tr>\n",
       "    <tr>\n",
       "      <th>75%</th>\n",
       "      <td>0.029600</td>\n",
       "      <td>0.000000</td>\n",
       "      <td>3.000000</td>\n",
       "      <td>2065.000000</td>\n",
       "      <td>1.018700e+04</td>\n",
       "      <td>3.000000</td>\n",
       "      <td>2.103108e+05</td>\n",
       "      <td>3.433420e+05</td>\n",
       "      <td>8.000000</td>\n",
       "      <td>1.000000</td>\n",
       "    </tr>\n",
       "    <tr>\n",
       "      <th>max</th>\n",
       "      <td>0.099800</td>\n",
       "      <td>1528.000000</td>\n",
       "      <td>20.000000</td>\n",
       "      <td>22741.000000</td>\n",
       "      <td>6.971010e+06</td>\n",
       "      <td>10.000000</td>\n",
       "      <td>6.500000e+06</td>\n",
       "      <td>1.315000e+07</td>\n",
       "      <td>12.000000</td>\n",
       "      <td>1.000000</td>\n",
       "    </tr>\n",
       "  </tbody>\n",
       "</table>\n",
       "</div>"
      ],
      "text/plain": [
       "           logerror  basementsqft  calculatedbathnbr  \\\n",
       "count  75700.000000  75700.000000       75700.000000   \n",
       "mean       0.003913      0.303540           2.298666   \n",
       "std        0.040238     16.908352           0.923978   \n",
       "min       -0.099800      0.000000           1.000000   \n",
       "25%       -0.021200      0.000000           2.000000   \n",
       "50%        0.004000      0.000000           2.000000   \n",
       "75%        0.029600      0.000000           3.000000   \n",
       "max        0.099800   1528.000000          20.000000   \n",
       "\n",
       "       calculatedfinishedsquarefeet  lotsizesquarefeet       roomcnt  \\\n",
       "count                  75700.000000       7.570000e+04  75700.000000   \n",
       "mean                    1739.062206       2.593351e+04      4.064941   \n",
       "std                      876.442295       1.126823e+05      2.090632   \n",
       "min                        0.000000       0.000000e+00      3.000000   \n",
       "25%                     1180.000000       4.962000e+03      3.000000   \n",
       "50%                     1531.000000       6.726000e+03      3.000000   \n",
       "75%                     2065.000000       1.018700e+04      3.000000   \n",
       "max                    22741.000000       6.971010e+06     10.000000   \n",
       "\n",
       "       structuretaxvaluedollarcnt  landtaxvaluedollarcnt  transaction_month  \\\n",
       "count                7.570000e+04           7.570000e+04       75700.000000   \n",
       "mean                 1.768482e+05           2.698169e+05           5.871480   \n",
       "std                  1.831119e+05           3.341222e+05           2.804503   \n",
       "min                  0.000000e+00           2.200000e+01           1.000000   \n",
       "25%                  8.360650e+04           8.673650e+04           4.000000   \n",
       "50%                  1.341000e+05           1.963340e+05           6.000000   \n",
       "75%                  2.103108e+05           3.433420e+05           8.000000   \n",
       "max                  6.500000e+06           1.315000e+07          12.000000   \n",
       "\n",
       "           roomcnt0  \n",
       "count  75700.000000  \n",
       "mean       0.763778  \n",
       "std        0.424763  \n",
       "min        0.000000  \n",
       "25%        1.000000  \n",
       "50%        1.000000  \n",
       "75%        1.000000  \n",
       "max        1.000000  "
      ]
     },
     "execution_count": 79,
     "metadata": {},
     "output_type": "execute_result"
    }
   ],
   "source": [
    "low_error_df.ix[:, 0:10].describe()"
   ]
  },
  {
   "cell_type": "markdown",
   "metadata": {},
   "source": [
    "Reviewing the differences in the high errors and low errors dataframes, we observe the following differences:\n",
    "\n",
    "__Calculated Finished Square Feet:__ The low error transactions have a mean value of 1739 sqft with a standard deviation of 876sqft.  The high error transactions have a high mean value of 1870 sqft with a higher standard deviation of 1197. \n",
    "\n",
    "<b> Structure Tax Value Dollar Count </b> The high error transactions have a higher mean (192253 vs 176848) and a higher standard deviation (310239 vs 183111) than low error transactions.\n",
    "\n",
    "<b> Land Tax Value Dollar Count </b> Similar to the structure tax value dollar count, the mean land value dollar count is higher for high error transactions (322560 vs 269816) and has a higher standard deviation (641348 vs 334122).\n",
    "\n",
    "<b> FIPS </b> The FIPS indicates the county of the home.  In the high error data, 73.8% of the homes are in Los Angeles County, 19% are in Orange County, and 6.7% are in Ventura County.  In the low error data, 63% are in Los Angeles County, 28% are in Orange County, and 8.2% are in Ventura County."
   ]
  },
  {
   "cell_type": "markdown",
   "metadata": {
    "collapsed": true
   },
   "source": [
    "<h2> KNN </h2>"
   ]
  },
  {
   "cell_type": "markdown",
   "metadata": {},
   "source": [
    "K-Nearest Neighbors is a classification model which predicts the classification of an unclassified data point based upon the values of it's closest k neighbors. Therefore, when k=1, the model will predict the value based upon the cloest neighbor. When k= 9, the model will find the new data points 9 closest neighbors and determine the majority classification of those nine points. The majority classification will be imputed to the unclassified data point.\n",
    "Here, we are attempting to classify whether an property value will result in a large positive error, a low error, or a large negative error. By classifying the type of error, we can help direct our final model towards a specific predicted error value, thus lowering the MAE."
   ]
  },
  {
   "cell_type": "code",
   "execution_count": 81,
   "metadata": {},
   "outputs": [
    {
     "name": "stdout",
     "output_type": "stream",
     "text": [
      "('data shape: ', (90275, 113))\n",
      "('label shape: ', (90275,))\n"
     ]
    }
   ],
   "source": [
    "#Create a copy of the train_data so that we cam make changes\n",
    "classifier_data = train_df.copy()\n",
    "\n",
    "classifier_data['logerror'].loc[classifier_data['logerror']>=.1] = 1\n",
    "classifier_data['logerror'].loc[classifier_data['logerror']<= -.1] = -1\n",
    "classifier_data['logerror'].loc[(classifier_data['logerror']>-.1) & (classifier_data['logerror']<.1)] = 0\n",
    "\n",
    "train_np = classifier_data.values\n",
    "Y = train_np[:,0]\n",
    "Y.flatten()\n",
    "X =train_np[:,1:]\n",
    "\n",
    "shuffle = np.random.permutation(np.arange(X.shape[0]))\n",
    "X, Y = X[shuffle], Y[shuffle]\n",
    "\n",
    "print('data shape: ', X.shape)\n",
    "print('label shape: ', Y.shape)\n",
    "\n",
    "# Set some variables to hold test, dev, and training data.\n",
    "classifier_test_data, classifier_test_labels = X[70000:], Y[70000:]\n",
    "classifier_train_data, classifier_train_labels = X[:70000], Y[:70000]"
   ]
  },
  {
   "cell_type": "code",
   "execution_count": 82,
   "metadata": {},
   "outputs": [
    {
     "name": "stdout",
     "output_type": "stream",
     "text": [
      "K: 10 Accuracy: 0.838520345253\n",
      "K: 12 Accuracy: 0.8398027127\n",
      "K: 14 Accuracy: 0.840443896424\n",
      "K: 16 Accuracy: 0.840986436498\n",
      "K: 18 Accuracy: 0.841134401973\n",
      "K: 20 Accuracy: 0.841183723798\n",
      "K: 22 Accuracy: 0.841331689273\n",
      "K: 24 Accuracy: 0.841430332922\n",
      "K: 26 Accuracy: 0.841479654747\n",
      "K: 28 Accuracy: 0.841331689273\n",
      "K: 30 Accuracy: 0.841233045623\n",
      "Classification Report for k = 30\n",
      "             precision    recall  f1-score   support\n",
      "\n",
      "         -1       0.40      0.00      0.00      1354\n",
      "          0       0.84      1.00      0.91     17063\n",
      "          1       0.00      0.00      0.00      1858\n",
      "\n",
      "avg / total       0.74      0.84      0.77     20275\n",
      "\n"
     ]
    }
   ],
   "source": [
    "#Originally ran with k values range (1,200,20), but little to no increase after k>20\n",
    "k_values = range(10,32, 2)\n",
    "for k in k_values:\n",
    "    #initialize and train the classifier\n",
    "    clf = KNeighborsClassifier(n_neighbors = k)\n",
    "    clf.fit(classifier_train_data, classifier_train_labels)\n",
    "    accuracy= clf.score(classifier_test_data, classifier_test_labels)\n",
    "    predictions = clf.predict(classifier_test_data)\n",
    "    \n",
    "    #Uncomment code below and comment out if statement above to get classification report for all k values\n",
    "#     print(\"Classification Report for k =\" + str(k))\n",
    "#     print(classification_report(knn_test_labels.astype(int),predictions))\n",
    "# For all k values, print the accuracy\n",
    "    print(\"K: \" + str(k) + \" Accuracy: \" + str(accuracy))\n",
    "    if k == 30:\n",
    "        print(\"Classification Report for k = {}\".format(k))\n",
    "        print(classification_report(classifier_test_labels.astype(int),predictions))"
   ]
  },
  {
   "cell_type": "markdown",
   "metadata": {},
   "source": [
    "<b>Results: </b> While the accuracy of this model in classifying whether the outcome will be a large positive error (1), a low error (0), or a large negative error(-1) is approximately 84%, this K-Nearest Neighbors classifier performance is quite poor. The printed classification report is for the k=1 model, but the reports for higher k models show the same general issues  \n",
    "\n",
    "The precision column indicates the positive predictive value, which is calculated by the number of true positives divided by the number of true positives plus false positives.  In our situation, the precision measures the percentage of predictions that our model predicted to be 1s that were actually 1s.  As you can see, the precision of this model is low at 25% values that extreme highs and 0% for extreme lows.  This classifier performs very poorly for precision. \n",
    "\n",
    "The recall column indicates the sensitivity of the model.  It is calculated by taking the ratio of true positive results divided by the sum of true positives and false negatives.  In this situation, recall measures the percentage of 1s that our model identifies out of all 1s it should have identified. In our model, the recall is 0% for the extreme log errors that we are trying to classify.  \n",
    "\n",
    "The f1-score is the weighted harmonic mean of the precision and recall and gives an understanding of the overall power of the classifier. \n",
    "\n",
    "Due to the relatively small amount of extreme results in our data, this classifier tends to overpredict results of 0.  As a result, we end up with high accuracy, but poor precision and recall.  Therefore, we will not add the results of this classifier into our dataset for our final model."
   ]
  },
  {
   "cell_type": "markdown",
   "metadata": {},
   "source": [
    "# Naive Bayes"
   ]
  },
  {
   "cell_type": "markdown",
   "metadata": {},
   "source": [
    "<h2> Naive Bayes </h2>\n",
    "\n",
    "Naive Bayes methods are supervised learning algorithms that apply Bayes' Theorem with the assumption of independence between each pair of features.  While we know that we do not have independence between each pair of features in our data, in practice, Naive Bayes has worked well in datasets that violate this assumption.  \n",
    "\n",
    "The SKLearn package supports three distinct Naive Bayes models.  The first is Gaussian Naive Bayes model.  This model assumes the likelihood of the features is distributed like a Gaussian, or normal, distribution.  The second supported model is the Multinomial Naive Bayes model.  The multinomial model is for multinomially distributed data and is best suited for data that can be turned into counts- such as text classification with word counts.  The final model is the Bernoulli Naive Bayes model, which is used with data distributed similar to a multivariate Bernoulli Distribution.  Each feature in a Bernoulli model is assumed to be binary.  \n",
    "\n",
    "More information about SKLearn Naive Bayes models can be located here: http://scikit-learn.org/stable/modules/naive_bayes.html\n",
    "\n",
    "Since our data can be best classified as normally distributed and is not binary and is not well suited for a multinomial distribution, we will use a Gaussian Naive Bayes model."
   ]
  },
  {
   "cell_type": "code",
   "execution_count": null,
   "metadata": {
    "collapsed": true
   },
   "outputs": [],
   "source": [
    "#Initialize model and test accuracy of multinomial naive bayes classifier\n",
    "gauss_nb = GaussianNB()\n",
    "gauss_nb.fit(classifier_train_data, classifier_train_labels)\n",
    "nb_accuracy = gauss_nb.score(classifier_test_data, classifier_test_labels)\n",
    "print(\"Accuracy of Gaussian Naive Bayes Model: {}\".format(round(nb_accuracy,3)))"
   ]
  },
  {
   "cell_type": "code",
   "execution_count": null,
   "metadata": {},
   "outputs": [],
   "source": [
    "# trainknn= train_df.copy()\n",
    "# #['airconditioningtypeid', 'parcelid','taxdelinquencyflag','transactiondate', 'propertycountylandusecode']\n",
    "\n",
    "# ulimit = np.percentile(trainknn.logerror.values, 99)\n",
    "# llimit = np.percentile(trainknn.logerror.values, 1)\n",
    "# trainknn['logerror'].loc[trainknn['logerror']>=ulimit] = 1\n",
    "# trainknn['logerror'].loc[trainknn['logerror']<=llimit] = -1\n",
    "# trainknn['logerror'].loc[(trainknn['logerror']>llimit) & (trainknn['logerror']<ulimit)] = 0\n",
    "\n",
    "# train_np = trainknn.values\n",
    "# Y_knn = train_np[:,0]\n",
    "# Y_knn.flatten()\n",
    "# X_knn =train_np[:,1:]\n",
    "\n",
    "# shuffle = np.random.permutation(np.arange(X_knn.shape[0]))\n",
    "# X_knn, Y_knn = X_knn[shuffle], Y_knn[shuffle]\n",
    "\n",
    "# print('data shape: ', X_knn.shape)\n",
    "# print('label shape: ', Y_knn.shape)\n",
    "\n",
    "# # Set some variables to hold test, dev, and training data.\n",
    "# train_data_knn, train_labels_knn = X_knn[:50000], Y_knn[:50000]\n",
    "# dev_data_knn, dev_labels_knn = X_knn[50000:70000], Y_knn[50000:70000]\n",
    "# test_data_knn, test_labels_knn = X_knn[70000:], Y_knn[70000:]\n",
    "\n",
    "\n",
    "# pca_knn = PCA(n_components=3)\n",
    "# pca_knn.fit(train_data_knn)\n",
    "# train_data_pca_knn = pca_knn.transform(train_data_knn) \n",
    "# dev_data_pca_knn = pca_knn.transform(dev_data_knn)"
   ]
  },
  {
   "cell_type": "code",
   "execution_count": null,
   "metadata": {},
   "outputs": [],
   "source": [
    "# k_values = range(1,20)\n",
    "# for i in k_values:\n",
    "#     #initialize and train the classifier\n",
    "#     clf = KNeighborsClassifier(n_neighbors = i)\n",
    "#     clf.fit(train_data_pca_knn, train_labels_knn.astype(int))\n",
    "#     accuracy= clf.score(dev_data_pca_knn, dev_labels_knn.astype(int))\n",
    "#     predictions = clf.predict(dev_data_pca_knn)\n",
    "#     ## if k = 1, then print the classification report\n",
    "#     if i == 10:\n",
    "#         print(\"Classification Report for k =\" + str(i))\n",
    "#         print(classification_report(dev_labels_knn.astype(int),predictions))\n",
    "#     # For all k values, print the accuracy\n",
    "#     print(\"K: \" + str(i) + \" Accuracy: \" + str(accuracy))"
   ]
  },
  {
   "cell_type": "markdown",
   "metadata": {},
   "source": [
    "<h2> ML Start </h2>"
   ]
  },
  {
   "cell_type": "code",
   "execution_count": 53,
   "metadata": {},
   "outputs": [
    {
     "name": "stdout",
     "output_type": "stream",
     "text": [
      "('data shape: ', (90275, 113))\n",
      "('label shape: ', (90275,))\n"
     ]
    }
   ],
   "source": [
    "# Multiple Regression\n",
    "\n",
    "train_np = train_df.values\n",
    "Y = train_np[:,0]\n",
    "Y.flatten()\n",
    "X = train_np[:,1:]\n",
    "\n",
    "shuffle = np.random.permutation(np.arange(X.shape[0]))\n",
    "X, Y = X[shuffle], Y[shuffle]\n",
    "\n",
    "print('data shape: ', X.shape)\n",
    "print('label shape: ', Y.shape)\n",
    "\n",
    "# Set some variables to hold test, dev, and training data.\n",
    "train_data, train_labels = X[:70000], Y[:70000]\n",
    "dev_data, dev_labels = X[70000:], Y[70000:]\n",
    "\n",
    "#definite MAE (Mean Absolute Error) function\n",
    "def MAE(test_labels, predictions):\n",
    "    values = []\n",
    "    for i in range(len(test_labels)):\n",
    "        difference = abs(round(test_labels[i],6) - round(predictions[i],6))\n",
    "        values.append(difference)\n",
    "    mean_abs_error = round(sum(values)/len(values),7)\n",
    "    return mean_abs_error"
   ]
  },
  {
   "cell_type": "markdown",
   "metadata": {
    "collapsed": true
   },
   "source": [
    "## Linear Regression Model"
   ]
  },
  {
   "cell_type": "code",
   "execution_count": 26,
   "metadata": {},
   "outputs": [
    {
     "name": "stdout",
     "output_type": "stream",
     "text": [
      "Linear Regression gives us a Mean Absolute Error of 0.0699228\n"
     ]
    }
   ],
   "source": [
    "# Initialize model\n",
    "lm = LinearRegression()\n",
    "lm.fit(train_data, train_labels)\n",
    "lm_predict = lm.predict(dev_data)\n",
    "\n",
    "lm_mae = MAE(dev_labels, lm_predict)\n",
    "print \"Linear Regression gives us a Mean Absolute Error of\", lm_mae"
   ]
  },
  {
   "cell_type": "markdown",
   "metadata": {},
   "source": [
    "## Gradient Boosting"
   ]
  },
  {
   "cell_type": "code",
   "execution_count": 37,
   "metadata": {},
   "outputs": [
    {
     "name": "stdout",
     "output_type": "stream",
     "text": [
      "Best estimator=14, MAE=0.068703\n"
     ]
    }
   ],
   "source": [
    "estimators = range(10,40)\n",
    "lowest_mae = 1\n",
    "results = []\n",
    "for i in estimators:\n",
    "    gboost = GradientBoostingRegressor(n_estimators=i) \n",
    "    gboost.fit(train_data, train_labels)\n",
    "    gboost_predict = gboost.predict(dev_data)\n",
    "\n",
    "    mae = MAE(dev_labels, gboost_predict)\n",
    "    results.append(mae)\n",
    "    \n",
    "    if mae < lowest_mae:\n",
    "        lowest_mae = mae\n",
    "        best_estimator = i\n",
    "print \"Best estimator=%d, MAE=%7.6f\" % (best_estimator, lowest_mae)"
   ]
  },
  {
   "cell_type": "code",
   "execution_count": 38,
   "metadata": {},
   "outputs": [
    {
     "name": "stdout",
     "output_type": "stream",
     "text": [
      "0.068703\n"
     ]
    },
    {
     "data": {
      "text/plain": [
       "[<matplotlib.lines.Line2D at 0x11bd20dd0>]"
      ]
     },
     "execution_count": 38,
     "metadata": {},
     "output_type": "execute_result"
    },
    {
     "data": {
      "image/png": "[encoded data removed]",
      "text/plain": [
       "<matplotlib.figure.Figure at 0x11c6a3a90>"
      ]
     },
     "metadata": {},
     "output_type": "display_data"
    }
   ],
   "source": [
    "# print(min(results))\n",
    "plt.plot(estimators, results)"
   ]
  },
  {
   "cell_type": "markdown",
   "metadata": {},
   "source": [
    "# PCA"
   ]
  },
  {
   "cell_type": "markdown",
   "metadata": {},
   "source": [
    "Principal Component Analysis (PCA) is a technique used to reduce high dimensionality data. High dimensionality data is problematic because as it acts as a multiplier to the feature space. For example, consider the area of a 10x10 coordinate system. The feature space has an area of 100 square units. If you add a z dimension of size 10 to the data, the volume becomes 1000 cubed units. Continuing to add more dimensions continues to multiply the size of the feature space which makes the data relatively sparse. This is the curse of dimensionality.\n",
    "PCA combats the curse of dimensionality by finding new dimensions that reduce the dimensionality of the data while minimizing the loss of information."
   ]
  },
  {
   "cell_type": "code",
   "execution_count": 54,
   "metadata": {},
   "outputs": [
    {
     "name": "stdout",
     "output_type": "stream",
     "text": [
      "k=1, explained variance = 0.824519296437\n",
      "k=2, explained variance = 0.937231894311\n",
      "k=3, explained variance = 0.999997948018\n",
      "k=4, explained variance = 0.999999998579\n",
      "k=5, explained variance = 0.999999999914\n",
      "k=6, explained variance = 0.999999999951\n",
      "k=7, explained variance = 0.999999999976\n",
      "k=8, explained variance = 0.999999999981\n",
      "k=9, explained variance = 0.999999999984\n",
      "k=10, explained variance = 0.999999999986\n"
     ]
    }
   ],
   "source": [
    "pca = PCA(n_components=10)\n",
    "pca.fit(train_data)\n",
    "for k in range(1,11):\n",
    "    explained_var = pca.explained_variance_ratio_[0:k]\n",
    "    print \"k=\" + str(k) + \", explained variance =\", sum(explained_var)\n",
    "    \n",
    "    "
   ]
  },
  {
   "cell_type": "markdown",
   "metadata": {},
   "source": [
    "__3 PCA components is probably best. This gives us >99.99% explained variance__"
   ]
  },
  {
   "cell_type": "code",
   "execution_count": 83,
   "metadata": {},
   "outputs": [
    {
     "name": "stdout",
     "output_type": "stream",
     "text": [
      "Total variance explained by first 50 principal components\n",
      "k: 1 Variance Explained: 0.8289658\n",
      "k: 2 Variance Explained: 0.9393665\n",
      "k: 3 Variance Explained: 0.9999979\n",
      "k: 4 Variance Explained: 1.0\n",
      "k: 5 Variance Explained: 1.0\n",
      "k: 6 Variance Explained: 1.0\n",
      "k: 7 Variance Explained: 1.0\n",
      "k: 8 Variance Explained: 1.0\n",
      "k: 9 Variance Explained: 1.0\n",
      "k: 10 Variance Explained: 1.0\n"
     ]
    },
    {
     "data": {
      "text/plain": [
       "<matplotlib.text.Text at 0x1113e99d0>"
      ]
     },
     "execution_count": 83,
     "metadata": {},
     "output_type": "execute_result"
    },
    {
     "data": {
      "image/png": "[encoded data removed]",
      "text/plain": [
       "<matplotlib.figure.Figure at 0x13217f990>"
      ]
     },
     "metadata": {},
     "output_type": "display_data"
    }
   ],
   "source": [
    "k= 10\n",
    "pca = PCA(n_components=k)\n",
    "pca.fit(classifier_data)\n",
    "\n",
    "# Create list of cumulative sum of variances explained\n",
    "var_exp = np.cumsum(pca.explained_variance_ratio_)\n",
    "var_exp_single = pca.explained_variance_ratio_\n",
    "print(\"Total variance explained by first 50 principal components\")\n",
    "for i in range(1, k+1):\n",
    "    print(\"k: \" + str(i) + \" Variance Explained: \" + str(round(var_exp[i-1], 7)))\n",
    "\n",
    "# Plot of variance explained\n",
    "plt.figure(figsize = (10,5))\n",
    "plt.plot(range(1, k+1), var_exp_single[:50])\n",
    "plt.ylabel(\"Variance Explained\")\n",
    "plt.xlabel(\"Component\")\n",
    "plt.title(\"Explained Variance by PCA Component\")"
   ]
  },
  {
   "cell_type": "code",
   "execution_count": null,
   "metadata": {
    "collapsed": true
   },
   "outputs": [],
   "source": [
    "pca = PCA(n_components=3)\n",
    "pca_data = pca.fit_transform(classifier_data)\n",
    "\n",
    "x1=pca_data[:,0][classifier_train_labels==1]\n",
    "y1= pca_data[:,1][classifier_train_labels==1]\n",
    "z1= pca_data[:,2][classifier_train_labels==1]\n",
    "\n",
    "x2= pca_data[:,0][classifier_train_labels == -1]\n",
    "y2=pca_data[:,1][classifier_train_labels==-1]\n",
    "z2=pca_data[:,2][classifier_train_labels==-1]\n",
    "\n",
    "x3= pca_data[:,0][classifier_train_labels==0]\n",
    "y3= pca_data[:,1][classifier_train_labels==0]\n",
    "z3= pca_data[:,2][classifier_train_labels==0]\n",
    "\n",
    "#plot PCA data\n",
    "fig = plt.figure()\n",
    "ax = fig.gca(projection='3d')\n",
    "ax.scatter(x1, y1, z1, color = 'red', label = 'Large Positive Error', alpha = .5)\n",
    "ax.scatter(x2, y2, z2, color = 'blue', label = 'Large Negative Error', alpha = .5)\n",
    "ax.scatter(x3, y3, z3, color = 'green', label = 'Small Error', alpha= .5)\n",
    "\n",
    "ax.set_xlabel('Principal Component 1')\n",
    "ax.set_ylabel('Principal Component 2')\n",
    "ax.set_zlabel('Principal Component 3')\n",
    "\n",
    "plt.legend(loc=\"best\", fontsize = 12)\n",
    "plt.title(\"3-D Projection of Log Errors Data\")\n"
   ]
  },
  {
   "cell_type": "code",
   "execution_count": null,
   "metadata": {
    "collapsed": true
   },
   "outputs": [],
   "source": [
    "k_values = range(1,21)\n",
    "for k in k_values:\n",
    "    #initialize and train the classifier\n",
    "    clf = KNeighborsClassifier(n_neighbors = k)\n",
    "    clf.fit(pca_classifier_train_data, pca_classifier_train_labels)\n",
    "    accuracy= clf.score(pca_classifier_test_data, pca_classifier_test_labels)\n",
    "    predictions = clf.predict(pca_classifier_test_data)\n",
    "    \n",
    "    #Uncomment code below and comment out if statement above to get classification report for all k values\n",
    "#     print(\"Classification Report for k =\" + str(k))\n",
    "#     print(classification_report(knn_test_labels.astype(int),predictions))\n",
    "# For all k values, print the accuracy\n",
    "    print(\"K: \" + str(k) + \" Accuracy: \" + str(accuracy))\n",
    "    if k == 15:\n",
    "        print(\"Classification Report for k = {}\".format(k))\n",
    "        print(classification_report(classifier_test_labels.astype(int),predictions))"
   ]
  },
  {
   "cell_type": "markdown",
   "metadata": {},
   "source": [
    "Using PCA, we do not notice an increase KNN Accuracy. Additionally, we notice worse precision and recall (0%) for the extreme values that we are trying to identify. The KNN model still provides no value for our model."
   ]
  },
  {
   "cell_type": "code",
   "execution_count": 84,
   "metadata": {},
   "outputs": [
    {
     "ename": "NameError",
     "evalue": "name 'pca_classifier_train_data' is not defined",
     "output_type": "error",
     "traceback": [
      "\u001b[0;31m---------------------------------------------------------------------------\u001b[0m",
      "\u001b[0;31mNameError\u001b[0m                                 Traceback (most recent call last)",
      "\u001b[0;32m<ipython-input-84-00fc8e75794e>\u001b[0m in \u001b[0;36m<module>\u001b[0;34m()\u001b[0m\n\u001b[1;32m      1\u001b[0m \u001b[0;31m#Initialize model and test accuracy of multinomial naive bayes classifier\u001b[0m\u001b[0;34m\u001b[0m\u001b[0;34m\u001b[0m\u001b[0m\n\u001b[1;32m      2\u001b[0m \u001b[0mmult_nb\u001b[0m \u001b[0;34m=\u001b[0m \u001b[0mGaussianNB\u001b[0m\u001b[0;34m(\u001b[0m\u001b[0;34m)\u001b[0m\u001b[0;34m\u001b[0m\u001b[0m\n\u001b[0;32m----> 3\u001b[0;31m \u001b[0mmult_nb\u001b[0m\u001b[0;34m.\u001b[0m\u001b[0mfit\u001b[0m\u001b[0;34m(\u001b[0m\u001b[0mpca_classifier_train_data\u001b[0m\u001b[0;34m,\u001b[0m \u001b[0mpca_classifier_train_labels\u001b[0m\u001b[0;34m)\u001b[0m\u001b[0;34m\u001b[0m\u001b[0m\n\u001b[0m\u001b[1;32m      4\u001b[0m \u001b[0mnb_accuracy\u001b[0m \u001b[0;34m=\u001b[0m \u001b[0mmult_nb\u001b[0m\u001b[0;34m.\u001b[0m\u001b[0mscore\u001b[0m\u001b[0;34m(\u001b[0m\u001b[0mpca_classifier_test_data\u001b[0m\u001b[0;34m,\u001b[0m \u001b[0mpca_classifier_test_labels\u001b[0m\u001b[0;34m)\u001b[0m\u001b[0;34m\u001b[0m\u001b[0m\n\u001b[1;32m      5\u001b[0m \u001b[0;32mprint\u001b[0m\u001b[0;34m(\u001b[0m\u001b[0;34m\"Accuracy of Multinomial Naive Bayes Model: {}\"\u001b[0m\u001b[0;34m.\u001b[0m\u001b[0mformat\u001b[0m\u001b[0;34m(\u001b[0m\u001b[0mround\u001b[0m\u001b[0;34m(\u001b[0m\u001b[0mnb_accuracy\u001b[0m\u001b[0;34m,\u001b[0m\u001b[0;36m3\u001b[0m\u001b[0;34m)\u001b[0m\u001b[0;34m)\u001b[0m\u001b[0;34m)\u001b[0m\u001b[0;34m\u001b[0m\u001b[0m\n",
      "\u001b[0;31mNameError\u001b[0m: name 'pca_classifier_train_data' is not defined"
     ]
    }
   ],
   "source": [
    "#Initialize model and test accuracy of multinomial naive bayes classifier\n",
    "mult_nb = GaussianNB()\n",
    "mult_nb.fit(pca_classifier_train_data, pca_classifier_train_labels)\n",
    "nb_accuracy = mult_nb.score(pca_classifier_test_data, pca_classifier_test_labels)\n",
    "print(\"Accuracy of Multinomial Naive Bayes Model: {}\".format(round(nb_accuracy,3)))"
   ]
  },
  {
   "cell_type": "code",
   "execution_count": 63,
   "metadata": {},
   "outputs": [
    {
     "name": "stdout",
     "output_type": "stream",
     "text": [
      "Best estimator=6, MAE=0.068213\n"
     ]
    }
   ],
   "source": [
    "pca = PCA(n_components=3)\n",
    "pca.fit(train_data)\n",
    "train_data_pca = pca.transform(train_data) \n",
    "dev_data_pca = pca.transform(dev_data) \n",
    "\n",
    "estimators = range(1,20)\n",
    "lowest_mae = 1\n",
    "results = []\n",
    "for i in estimators:\n",
    "    gboost = GradientBoostingRegressor(n_estimators=i) \n",
    "    gboost.fit(train_data_pca, train_labels)\n",
    "    gboost_predict = gboost.predict(dev_data_pca)\n",
    "\n",
    "    mae = MAE(dev_labels, gboost_predict)\n",
    "    results.append(mae)\n",
    "    \n",
    "    if mae < lowest_mae:\n",
    "        lowest_mae = mae\n",
    "        best_estimator = i\n",
    "print \"Best estimator=%d, MAE=%7.6f\" % (best_estimator, lowest_mae)"
   ]
  },
  {
   "cell_type": "code",
   "execution_count": 50,
   "metadata": {},
   "outputs": [
    {
     "data": {
      "text/plain": [
       "[<matplotlib.lines.Line2D at 0x143a41650>]"
      ]
     },
     "execution_count": 50,
     "metadata": {},
     "output_type": "execute_result"
    },
    {
     "data": {
      "image/png": "[encoded data removed]",
      "text/plain": [
       "<matplotlib.figure.Figure at 0x11089e690>"
      ]
     },
     "metadata": {},
     "output_type": "display_data"
    }
   ],
   "source": [
    "# print(min(results))\n",
    "plt.plot(estimators, results)"
   ]
  },
  {
   "cell_type": "markdown",
   "metadata": {},
   "source": [
    "__Using PCA with GradientBoostRegression doesn't help to reduce the MAE. We got 0.068703 before PCA and 0.068718 after. While it doesn't reduce MAE here, maybe it is still better for generalizability? (Maybe not, open to suggestions). PCA also reduced runtime from 20 minutes down to less than 30 seconds.__"
   ]
  },
  {
   "cell_type": "code",
   "execution_count": 55,
   "metadata": {},
   "outputs": [
    {
     "name": "stdout",
     "output_type": "stream",
     "text": [
      "k=1, explained variance = 0.824519296437\n",
      "k=2, explained variance = 0.937231894311\n",
      "k=3, explained variance = 0.999997948018\n",
      "k=4, explained variance = 0.999999998579\n",
      "k=5, explained variance = 0.999999999914\n",
      "k=6, explained variance = 0.999999999951\n",
      "k=7, explained variance = 0.999999999976\n",
      "k=8, explained variance = 0.999999999981\n",
      "k=9, explained variance = 0.999999999984\n",
      "k=10, explained variance = 0.999999999986\n"
     ]
    }
   ],
   "source": [
    "spca = SparsePCA(n_components = 10, alpha=0.5, tol=0.001)\n",
    "spca.fit(train_data)\n",
    "for k in range(1,11):\n",
    "    explained_var = pca.explained_variance_ratio_[0:k]\n",
    "    print \"k=\" + str(k) + \", explained variance =\", sum(explained_var)"
   ]
  },
  {
   "cell_type": "code",
   "execution_count": 56,
   "metadata": {},
   "outputs": [
    {
     "name": "stdout",
     "output_type": "stream",
     "text": [
      "Best estimator=1, MAE=0.068245\n"
     ]
    }
   ],
   "source": [
    "spca = SparsePCA(n_components = 3, alpha=0.5, tol=0.001)\n",
    "spca.fit(train_data)\n",
    "train_data_spca = spca.transform(train_data) \n",
    "dev_data_spca = spca.transform(dev_data) \n",
    "\n",
    "estimators = range(1,25)\n",
    "lowest_mae = 1\n",
    "results = []\n",
    "for i in estimators:\n",
    "    gboost = GradientBoostingRegressor(n_estimators=i) \n",
    "    gboost.fit(train_data_spca, train_labels)\n",
    "    gboost_predict = gboost.predict(dev_data_spca)\n",
    "\n",
    "    mae = MAE(dev_labels, gboost_predict)\n",
    "    results.append(mae)\n",
    "    \n",
    "    if mae < lowest_mae:\n",
    "        lowest_mae = mae\n",
    "        best_estimator = i\n",
    "print \"Best estimator=%d, MAE=%7.6f\" % (best_estimator, lowest_mae)"
   ]
  },
  {
   "cell_type": "code",
   "execution_count": 29,
   "metadata": {},
   "outputs": [
    {
     "data": {
      "text/plain": [
       "[<matplotlib.lines.Line2D at 0x110e8a910>]"
      ]
     },
     "execution_count": 29,
     "metadata": {},
     "output_type": "execute_result"
    },
    {
     "data": {
      "image/png": "[encoded data removed]",
      "text/plain": [
       "<matplotlib.figure.Figure at 0x11227c3d0>"
      ]
     },
     "metadata": {},
     "output_type": "display_data"
    }
   ],
   "source": [
    "# print(min(results))\n",
    "plt.plot(estimators, results)"
   ]
  },
  {
   "cell_type": "markdown",
   "metadata": {},
   "source": [
    "__Using SparcePCA with GradientBoostRegression doesn't help to reduce the MAE either. We got 0.068703 before SparsePCA and 0.068724 after. SparsePCA performed slightly worse than regular PCA (0.068718) as well. The PCA models ran much faster, so maybe they're still useful.__"
   ]
  },
  {
   "cell_type": "markdown",
   "metadata": {},
   "source": [
    "# Decision Tree Regression"
   ]
  },
  {
   "cell_type": "code",
   "execution_count": 32,
   "metadata": {},
   "outputs": [
    {
     "name": "stdout",
     "output_type": "stream",
     "text": [
      "DecisionTreeRegressor MAE = 0.1157935\n"
     ]
    }
   ],
   "source": [
    "dtr = DecisionTreeRegressor(criterion=\"mae\")\n",
    "dtr.fit(train_data_pca, train_labels)\n",
    "dtr_preds = dtr.predict(dev_data_pca)\n",
    "dtr_mae = MAE(dev_labels, dtr_preds)\n",
    "print 'DecisionTreeRegressor MAE =', dtr_mae"
   ]
  },
  {
   "cell_type": "markdown",
   "metadata": {},
   "source": [
    "# Random Forest Regression"
   ]
  },
  {
   "cell_type": "code",
   "execution_count": 64,
   "metadata": {},
   "outputs": [
    {
     "name": "stdout",
     "output_type": "stream",
     "text": [
      "RandomForestRegressor MAE = 0.093047\n"
     ]
    }
   ],
   "source": [
    "rfr = RandomForestRegressor(criterion=\"mae\", n_estimators=5)\n",
    "rfr.fit(train_data_pca, train_labels)\n",
    "rfr_preds = rfr.predict(dev_data_pca)\n",
    "mae = MAE(dev_labels, rfr_preds)\n",
    "print 'RandomForestRegressor MAE =', mae"
   ]
  },
  {
   "cell_type": "markdown",
   "metadata": {},
   "source": [
    "# Logistic Regression"
   ]
  },
  {
   "cell_type": "code",
   "execution_count": null,
   "metadata": {
    "collapsed": true
   },
   "outputs": [],
   "source": [
    "# Logistic Regression\n",
    "\n",
    "LR1 = LogisticRegression(penalty='l2', tol=0.0001, fit_intercept=True, intercept_scaling=1\n",
    "                              , solver='newton-cg', multi_class='multinomial')\n",
    "### GridSearchCV to find best C using l2 regularization.  \n",
    "## Using [float(2**i)/100 for i in range(1,20) ] ...\n",
    "LR1_para = {'C': [0.02, 0.04, 0.08, 0.16, 0.32, 0.64, 1.28, 2.56, 5.12, 10.24, 20.48, \n",
    "                       40.96, 81.92, 163.84, 327.68, 655.36, 1310.72, 2621.44, 5242.88] }\n",
    "LR1_GS = GridSearchCV(estimator=LR1, param_grid=LR1_para, scoring='f1', n_jobs=-1)\n",
    "LR1_GS.fit(train_data, train_labels)\n",
    "print(\"Start LogisticRegression:\")\n",
    "print(LR1_GS.best_score_)\n",
    "print(LR1_GS.best_params_)\n",
    "# print(\"f1:\",metrics.f1_score(dev_labels,LR1_GS.best_estimator_.predict(dev_data),average='micro'))\n",
    "\n"
   ]
  },
  {
   "cell_type": "markdown",
   "metadata": {
    "collapsed": true
   },
   "source": [
    "# General Team notes:\n",
    "KNN might've not worked before because we already rescaled the logerror so that anything above 99% percentile gets changed to 99% percentile and anything below 1% percentile gets scaled to 1% percentile. Removing this rescaling could make KNN better. I tried doing that, but my KNN runtime was too long so I killed it.\n",
    "\n",
    "In general, all runtimes are very long (crashing my machine sometimes). I think PCA is really valuable here because it can reduce dimensions and reduce runtimes. For Gradient Boost regression, regular PCA worked slightly better than SparsePCA.\n",
    "\n",
    "\n",
    "Since our outcomes variable (logerror) is continuous and not discrete, regressions make more sense than classifiers. Regressions include linear regression, Gradient Boost Regression, Decision Tree Regression, and Random Forest Regression (this crashes my machine so badly that it requires reboots). So far, gradient boost has given me the best results (lowest MAE)."
   ]
  },
  {
   "cell_type": "code",
   "execution_count": 67,
   "metadata": {},
   "outputs": [],
   "source": [
    "zipped = zip(train_df.columns, spca.components_)"
   ]
  },
  {
   "cell_type": "code",
   "execution_count": 69,
   "metadata": {},
   "outputs": [
    {
     "data": {
      "text/plain": [
       "[('logerror', array([ -7.70078914e+01,  -3.89123048e+02,  -3.26445716e+05,\n",
       "          -3.17207437e+06,  -5.64366747e+02,  -5.06797144e+07,\n",
       "          -1.07756654e+08,  -8.00183157e+02,  -1.05654444e+02,\n",
       "           0.00000000e+00,   0.00000000e+00,   0.00000000e+00,\n",
       "           0.00000000e+00,   0.00000000e+00,   0.00000000e+00,\n",
       "           0.00000000e+00,  -4.18835168e+01,   0.00000000e+00,\n",
       "           0.00000000e+00,   0.00000000e+00,   0.00000000e+00,\n",
       "          -2.66335436e+00,  -9.10580869e+01,   0.00000000e+00,\n",
       "          -1.56310798e+00,  -2.93576720e+00,  -2.54310404e+01,\n",
       "          -4.93532981e+01,  -3.58452260e+01,  -1.33525562e+01,\n",
       "          -5.54028678e+00,   0.00000000e+00,  -4.21359128e+01,\n",
       "          -2.92541422e+01,  -8.93529945e+00,  -5.51959281e+01,\n",
       "           0.00000000e+00,  -1.20876190e+02,  -1.15428123e+01,\n",
       "          -2.28650463e+00,  -8.15775309e-01,   0.00000000e+00,\n",
       "          -1.89693703e-01,  -6.89493519e+00,  -3.71123372e+01,\n",
       "          -4.23732281e+00,  -8.65869937e+01,   0.00000000e+00,\n",
       "          -6.16631055e+01,  -1.01987444e+00,  -1.57335382e+01,\n",
       "           0.00000000e+00,  -4.19198155e-01,  -5.58656087e+01,\n",
       "           0.00000000e+00,  -1.60057247e+01,  -1.35902218e+01,\n",
       "          -5.04437692e-01,  -1.05420898e+02,   0.00000000e+00,\n",
       "          -9.93353640e+01,  -3.71859187e+01,   0.00000000e+00,\n",
       "           0.00000000e+00,   0.00000000e+00,  -2.61710143e+00,\n",
       "          -5.95124016e-01,  -9.43510815e-01,   0.00000000e+00,\n",
       "          -9.97878064e+01,   0.00000000e+00,   0.00000000e+00,\n",
       "           0.00000000e+00,  -2.69160783e+01,   0.00000000e+00,\n",
       "          -3.00395744e+00,   0.00000000e+00,   0.00000000e+00,\n",
       "          -4.26159338e+01,  -9.30589141e+00,  -8.40994574e+01,\n",
       "           0.00000000e+00,  -7.83805096e+01,  -2.59857371e+00,\n",
       "          -5.44993051e-01,  -9.55365191e-01,   0.00000000e+00,\n",
       "          -5.25306125e+01,   0.00000000e+00,   0.00000000e+00,\n",
       "           0.00000000e+00,  -9.00202915e-01,  -5.25046072e+00,\n",
       "          -4.73006264e+00,  -7.27003668e+00,  -1.71848891e+01,\n",
       "          -2.05096725e+01,  -1.21964315e+01,  -1.78988682e+01,\n",
       "          -1.57503916e+01,  -2.00943330e+01,  -9.84158566e+00,\n",
       "           0.00000000e+00,   0.00000000e+00,  -1.34838505e+02,\n",
       "          -1.68277791e+00,   0.00000000e+00,  -1.33159421e+02,\n",
       "          -3.36186188e+00,   0.00000000e+00,  -1.36797619e+02,\n",
       "           0.00000000e+00,   0.00000000e+00])),\n",
       " ('basementsqft', array([ -1.01809425e+02,  -2.01028230e+02,  -1.71275746e+05,\n",
       "          -5.26419470e+06,  -2.15501279e+02,  -3.32554536e+07,\n",
       "           1.57960657e+07,  -3.51950856e+02,  -5.43105272e+01,\n",
       "           0.00000000e+00,   0.00000000e+00,   0.00000000e+00,\n",
       "           0.00000000e+00,   0.00000000e+00,   0.00000000e+00,\n",
       "           0.00000000e+00,  -3.76540523e+01,   0.00000000e+00,\n",
       "           0.00000000e+00,   0.00000000e+00,   0.00000000e+00,\n",
       "          -3.49880332e-01,  -2.06592096e+01,   0.00000000e+00,\n",
       "           0.00000000e+00,  -1.39714657e+00,  -7.81779690e+00,\n",
       "          -1.52650208e+01,  -1.95617427e+01,  -8.97277810e+00,\n",
       "          -3.62030273e+00,   0.00000000e+00,  -3.00816210e+01,\n",
       "          -5.26272188e+00,  -3.60743089e+00,  -1.90951751e+01,\n",
       "           0.00000000e+00,  -5.22080329e+01,  -4.42890026e+00,\n",
       "          -9.34277714e-01,  -4.75737979e-01,   0.00000000e+00,\n",
       "           0.00000000e+00,   0.00000000e+00,  -1.32785224e+01,\n",
       "          -2.75309176e+00,  -4.26553897e+01,   0.00000000e+00,\n",
       "          -4.09417304e+01,   0.00000000e+00,   5.11903462e-01,\n",
       "           0.00000000e+00,   0.00000000e+00,  -1.88526961e+01,\n",
       "           0.00000000e+00,   0.00000000e+00,  -4.20521971e+00,\n",
       "           0.00000000e+00,  -5.47266850e+01,   0.00000000e+00,\n",
       "          -3.65912516e+01,  -2.24556973e+01,   0.00000000e+00,\n",
       "           0.00000000e+00,   0.00000000e+00,  -2.31926931e-02,\n",
       "           0.00000000e+00,  -1.51788995e-01,   0.00000000e+00,\n",
       "          -3.22624279e+01,   0.00000000e+00,   0.00000000e+00,\n",
       "           0.00000000e+00,  -2.13168234e+01,   0.00000000e+00,\n",
       "          -3.07937875e+00,   0.00000000e+00,   0.00000000e+00,\n",
       "          -7.41462271e+00,  -9.10234758e+00,  -4.20299786e+01,\n",
       "           0.00000000e+00,  -3.99090194e+01,   0.00000000e+00,\n",
       "           0.00000000e+00,  -1.41000238e-01,   0.00000000e+00,\n",
       "          -1.78027123e+01,   0.00000000e+00,   0.00000000e+00,\n",
       "           0.00000000e+00,   0.00000000e+00,   3.72870074e-01,\n",
       "           0.00000000e+00,   2.64716744e-01,   0.00000000e+00,\n",
       "          -1.60209662e+00,  -3.55956568e+00,  -1.21323007e+01,\n",
       "          -1.39621549e+01,  -1.73674554e+01,  -1.06220627e+01,\n",
       "           0.00000000e+00,   0.00000000e+00,  -5.84590350e+01,\n",
       "          -5.87913931e-01,   0.00000000e+00,  -5.53810537e+01,\n",
       "          -3.66589519e+00,   0.00000000e+00,  -5.93035847e+01,\n",
       "           0.00000000e+00,   0.00000000e+00])),\n",
       " ('calculatedbathnbr',\n",
       "  array([ -1.31864417e+01,   2.69023479e+01,   4.84719630e+03,\n",
       "           2.59913726e+07,   5.23783563e+01,  -3.66012077e+06,\n",
       "           9.56281006e+05,   1.22406511e+02,   2.16105188e+01,\n",
       "           0.00000000e+00,   0.00000000e+00,   0.00000000e+00,\n",
       "           0.00000000e+00,   0.00000000e+00,   0.00000000e+00,\n",
       "           0.00000000e+00,   1.80583842e+01,   0.00000000e+00,\n",
       "           0.00000000e+00,   0.00000000e+00,   0.00000000e+00,\n",
       "           0.00000000e+00,   1.70532670e+00,   0.00000000e+00,\n",
       "           4.77848213e-01,   4.08463832e+00,   1.24691883e+01,\n",
       "           6.55692533e+00,  -1.68655955e+00,  -1.34406677e+00,\n",
       "          -5.31278114e-01,   0.00000000e+00,   1.78700991e+01,\n",
       "           7.48202432e+00,   0.00000000e+00,  -4.90601131e+00,\n",
       "           0.00000000e+00,   2.14968067e+01,  -6.77279400e-01,\n",
       "           0.00000000e+00,   0.00000000e+00,   0.00000000e+00,\n",
       "           0.00000000e+00,  -2.79478517e-02,  -3.99868361e+00,\n",
       "          -7.03027224e-02,   2.56100695e+01,   0.00000000e+00,\n",
       "           2.13424909e+01,   0.00000000e+00,   1.98404041e+00,\n",
       "           0.00000000e+00,   0.00000000e+00,  -3.02701952e+00,\n",
       "           0.00000000e+00,   0.00000000e+00,  -9.03717432e-01,\n",
       "           0.00000000e+00,   2.15320661e+01,   0.00000000e+00,\n",
       "           9.25092068e+00,   1.02757750e+01,   0.00000000e+00,\n",
       "           0.00000000e+00,   0.00000000e+00,   0.00000000e+00,\n",
       "           0.00000000e+00,   0.00000000e+00,   0.00000000e+00,\n",
       "          -4.09048925e+00,   0.00000000e+00,   0.00000000e+00,\n",
       "           0.00000000e+00,   2.41539519e+01,   0.00000000e+00,\n",
       "           3.19292111e-01,   0.00000000e+00,   0.00000000e+00,\n",
       "          -3.70418240e+00,  -1.11765415e+00,   2.58485322e+01,\n",
       "           0.00000000e+00,   2.56967974e+01,   0.00000000e+00,\n",
       "           0.00000000e+00,   0.00000000e+00,   0.00000000e+00,\n",
       "          -4.82523726e+00,   0.00000000e+00,   0.00000000e+00,\n",
       "           0.00000000e+00,   0.00000000e+00,   0.00000000e+00,\n",
       "           0.00000000e+00,   0.00000000e+00,   3.84014663e-01,\n",
       "           1.66081463e+00,   6.09763344e+00,   7.96571055e+00,\n",
       "           2.74644288e+00,   0.00000000e+00,  -1.13971311e+00,\n",
       "           0.00000000e+00,   0.00000000e+00,   1.95641387e+01,\n",
       "           0.00000000e+00,   0.00000000e+00,   2.06695867e+01,\n",
       "          -1.42891036e-01,   0.00000000e+00,   2.00109013e+01,\n",
       "           0.00000000e+00,   0.00000000e+00]))]"
      ]
     },
     "execution_count": 69,
     "metadata": {},
     "output_type": "execute_result"
    }
   ],
   "source": [
    "zipped"
   ]
  },
  {
   "cell_type": "code",
   "execution_count": 66,
   "metadata": {},
   "outputs": [
    {
     "data": {
      "text/plain": [
       "Index([u'logerror', u'basementsqft', u'calculatedbathnbr',\n",
       "       u'calculatedfinishedsquarefeet', u'lotsizesquarefeet', u'roomcnt',\n",
       "       u'structuretaxvaluedollarcnt', u'landtaxvaluedollarcnt',\n",
       "       u'transaction_month', u'roomcnt0',\n",
       "       ...\n",
       "       u'yearbuilt_nan', u'taxdelinquencyflag_0.0', u'taxdelinquencyflag_1.0',\n",
       "       u'taxdelinquencyflag_nan', u'yardbuildingsqft17_0.0',\n",
       "       u'yardbuildingsqft17_1.0', u'yardbuildingsqft17_nan',\n",
       "       u'yardbuildingsqft26_0.0', u'yardbuildingsqft26_1.0',\n",
       "       u'yardbuildingsqft26_nan'],\n",
       "      dtype='object', length=114)"
      ]
     },
     "execution_count": 66,
     "metadata": {},
     "output_type": "execute_result"
    }
   ],
   "source": [
    "train_df.columns"
   ]
  },
  {
   "cell_type": "markdown",
   "metadata": {},
   "source": [
    "Next steps:\n",
    "Check SparsePCA which features are dropped\n",
    "Model different months. Drop months before PCA, do PCA, then add months back in"
   ]
  },
  {
   "cell_type": "code",
   "execution_count": null,
   "metadata": {
    "collapsed": true
   },
   "outputs": [],
   "source": []
  }
 ],
 "metadata": {
  "anaconda-cloud": {},
  "kernelspec": {
   "display_name": "Python 2",
   "language": "python",
   "name": "python2"
  },
  "language_info": {
   "codemirror_mode": {
    "name": "ipython",
    "version": 2
   },
   "file_extension": ".py",
   "mimetype": "text/x-python",
   "name": "python",
   "nbconvert_exporter": "python",
   "pygments_lexer": "ipython2",
   "version": "2.7.13"
  }
 },
 "nbformat": 4,
 "nbformat_minor": 1
}
