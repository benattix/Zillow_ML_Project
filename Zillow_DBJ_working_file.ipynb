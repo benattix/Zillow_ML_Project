{
 "cells": [
  {
   "cell_type": "markdown",
   "metadata": {},
   "source": [
    "<h1> MIDS W207 Final</h1>\n",
    "\n",
    "<h3> Group Members </h3>\n",
    "Ben Attix <br>\n",
    "Justin Plumley <br>\n",
    "Dan Watson\n",
    "\n",
    "<h3> Kaggle Competition </h3>\n",
    "Zillow Prize: Zillow’s Home Value Prediction (Zestimate)\n",
    "\n",
    "<h3> Evaluation </h3>\n",
    "Submissions are evaluated on Mean Absolute Error between the predicted log error and the actual log error. The log error is defined as:\n",
    "logerror=log(Zestimate)−log(SalePrice)\n",
    "and it is recorded in the transactions training data. If a transaction didn't happen for a property during that period of time, that row is ignored and not counted in the calculation of MAE.\n",
    "\n",
    "<h5> Competition Website </h5>\n",
    "https://www.kaggle.com/c/zillow-prize-1#description"
   ]
  },
  {
   "cell_type": "markdown",
   "metadata": {},
   "source": [
    "<h2> Load libraries, data, and test output"
   ]
  },
  {
   "cell_type": "code",
   "execution_count": 1,
   "metadata": {},
   "outputs": [
    {
     "name": "stderr",
     "output_type": "stream",
     "text": [
      "/anaconda/lib/python2.7/site-packages/sklearn/cross_validation.py:44: DeprecationWarning: This module was deprecated in version 0.18 in favor of the model_selection module into which all the refactored classes and functions are moved. Also note that the interface of the new CV iterators are different from that of this module. This module will be removed in 0.20.\n",
      "  \"This module will be removed in 0.20.\", DeprecationWarning)\n",
      "/anaconda/lib/python2.7/site-packages/sklearn/grid_search.py:43: DeprecationWarning: This module was deprecated in version 0.18 in favor of the model_selection module into which all the refactored classes and functions are moved. This module will be removed in 0.20.\n",
      "  DeprecationWarning)\n"
     ]
    }
   ],
   "source": [
    "# This tells matplotlib not to try opening a new window for each plot.\n",
    "%matplotlib inline\n",
    "\n",
    "import warnings\n",
    "warnings.filterwarnings('ignore')\n",
    "\n",
    "# General libraries.\n",
    "import os\n",
    "import numpy as np\n",
    "import pandas as pd\n",
    "import seaborn as sns\n",
    "import matplotlib.pyplot as plt\n",
    "color = sns.color_palette()\n",
    "import time\n",
    "from matplotlib.ticker import MultipleLocator\n",
    "from mpl_toolkits.mplot3d import Axes3D\n",
    "\n",
    "\n",
    "# preprocessing\n",
    "from sklearn.preprocessing import Imputer\n",
    "from sklearn.preprocessing import OneHotEncoder\n",
    "\n",
    "# SK-learn libraries for learning.\n",
    "from sklearn.pipeline import Pipeline\n",
    "from sklearn.grid_search import GridSearchCV\n",
    "from sklearn.neighbors import KNeighborsClassifier\n",
    "from sklearn.linear_model import LinearRegression\n",
    "from sklearn.linear_model import LogisticRegression\n",
    "from sklearn.ensemble import GradientBoostingRegressor\n",
    "from sklearn.naive_bayes import BernoulliNB\n",
    "from sklearn.naive_bayes import MultinomialNB\n",
    "from sklearn.naive_bayes import GaussianNB\n",
    "from sklearn.decomposition import PCA\n",
    "from sklearn.decomposition import SparsePCA\n",
    "from sklearn.cluster import KMeans\n",
    "from sklearn.mixture import GMM\n",
    "from sklearn.mixture import GaussianMixture \n",
    "from sklearn.tree import DecisionTreeRegressor\n",
    "from sklearn.ensemble import RandomForestRegressor \n",
    "\n",
    "\n",
    "# SK-learn libraries for evaluation.\n",
    "from sklearn import metrics\n",
    "from sklearn.metrics import confusion_matrix\n",
    "from sklearn.metrics import classification_report"
   ]
  },
  {
   "cell_type": "code",
   "execution_count": 2,
   "metadata": {},
   "outputs": [
    {
     "name": "stdout",
     "output_type": "stream",
     "text": [
      "(2985217, 58)\n",
      "(90275, 3)\n"
     ]
    }
   ],
   "source": [
    "train_csv = pd.read_csv(\"train_2016_v2.csv\", parse_dates=[\"transactiondate\"])\n",
    "prop_df = pd.read_csv(\"properties_2016.csv\")\n",
    "print prop_df.shape \n",
    "print train_csv.shape\n",
    "#df outputs\n",
    "#prop_df.head()\n",
    "#train_df.head()"
   ]
  },
  {
   "cell_type": "code",
   "execution_count": 51,
   "metadata": {},
   "outputs": [
    {
     "data": {
      "text/html": [
       "<div>\n",
       "<style>\n",
       "    .dataframe thead tr:only-child th {\n",
       "        text-align: right;\n",
       "    }\n",
       "\n",
       "    .dataframe thead th {\n",
       "        text-align: left;\n",
       "    }\n",
       "\n",
       "    .dataframe tbody tr th {\n",
       "        vertical-align: top;\n",
       "    }\n",
       "</style>\n",
       "<table border=\"1\" class=\"dataframe\">\n",
       "  <thead>\n",
       "    <tr style=\"text-align: right;\">\n",
       "      <th></th>\n",
       "      <th>parcelid</th>\n",
       "      <th>logerror</th>\n",
       "      <th>transactiondate</th>\n",
       "    </tr>\n",
       "  </thead>\n",
       "  <tbody>\n",
       "    <tr>\n",
       "      <th>0</th>\n",
       "      <td>11016594</td>\n",
       "      <td>0.0276</td>\n",
       "      <td>2016-01-01</td>\n",
       "    </tr>\n",
       "    <tr>\n",
       "      <th>1</th>\n",
       "      <td>14366692</td>\n",
       "      <td>-0.1684</td>\n",
       "      <td>2016-01-01</td>\n",
       "    </tr>\n",
       "    <tr>\n",
       "      <th>2</th>\n",
       "      <td>12098116</td>\n",
       "      <td>-0.0040</td>\n",
       "      <td>2016-01-01</td>\n",
       "    </tr>\n",
       "    <tr>\n",
       "      <th>3</th>\n",
       "      <td>12643413</td>\n",
       "      <td>0.0218</td>\n",
       "      <td>2016-01-02</td>\n",
       "    </tr>\n",
       "    <tr>\n",
       "      <th>4</th>\n",
       "      <td>14432541</td>\n",
       "      <td>-0.0050</td>\n",
       "      <td>2016-01-02</td>\n",
       "    </tr>\n",
       "  </tbody>\n",
       "</table>\n",
       "</div>"
      ],
      "text/plain": [
       "   parcelid  logerror transactiondate\n",
       "0  11016594    0.0276      2016-01-01\n",
       "1  14366692   -0.1684      2016-01-01\n",
       "2  12098116   -0.0040      2016-01-01\n",
       "3  12643413    0.0218      2016-01-02\n",
       "4  14432541   -0.0050      2016-01-02"
      ]
     },
     "execution_count": 51,
     "metadata": {},
     "output_type": "execute_result"
    }
   ],
   "source": [
    "train_csv.head()"
   ]
  },
  {
   "cell_type": "markdown",
   "metadata": {},
   "source": [
    "<H2> EDA </H2> <br>\n",
    "Many ideas and code taken from following EDA Kernels:\n",
    "https://www.kaggle.com/sudalairajkumar/simple-exploration-notebook-zillow-prize (python)\n",
    "https://www.kaggle.com/philippsp/exploratory-analysis-zillow (R)\n",
    "https://www.kaggle.com/captcalculator/a-very-extensive-zillow-exploratory-analysis (R)\n",
    "https://www.kaggle.com/viveksrinivasan/zillow-eda-on-missing-values-multicollinearity (python)\n",
    "\n",
    "<H5> Start by looking at the parcelIDs that occur in each dataset </H5>"
   ]
  },
  {
   "cell_type": "code",
   "execution_count": null,
   "metadata": {
    "collapsed": true
   },
   "outputs": [],
   "source": [
    "# start by looing at unique parcelIDs\n",
    "print \"Unique ParcelIDs in train_df:\", train_csv.parcelid.nunique()\n",
    "print \"Unique ParcelIDs in prop_df:\", prop_df.parcelid.nunique()"
   ]
  },
  {
   "cell_type": "markdown",
   "metadata": {},
   "source": [
    "We have 2,985,217 parcel IDs in the properties data but only 90,150 in the training data. When training our model, the only parcel IDs we can use are the ones both datasets, the rest are useless to us.\n",
    "\n",
    "By doing an inner merge we can limit our data down to the parcel IDs we want."
   ]
  },
  {
   "cell_type": "code",
   "execution_count": 3,
   "metadata": {},
   "outputs": [
    {
     "name": "stdout",
     "output_type": "stream",
     "text": [
      "Dataframe shape: (90275, 60)\n"
     ]
    },
    {
     "data": {
      "text/html": [
       "<div>\n",
       "<style>\n",
       "    .dataframe thead tr:only-child th {\n",
       "        text-align: right;\n",
       "    }\n",
       "\n",
       "    .dataframe thead th {\n",
       "        text-align: left;\n",
       "    }\n",
       "\n",
       "    .dataframe tbody tr th {\n",
       "        vertical-align: top;\n",
       "    }\n",
       "</style>\n",
       "<table border=\"1\" class=\"dataframe\">\n",
       "  <thead>\n",
       "    <tr style=\"text-align: right;\">\n",
       "      <th></th>\n",
       "      <th>parcelid</th>\n",
       "      <th>logerror</th>\n",
       "      <th>transactiondate</th>\n",
       "      <th>airconditioningtypeid</th>\n",
       "      <th>architecturalstyletypeid</th>\n",
       "      <th>basementsqft</th>\n",
       "      <th>bathroomcnt</th>\n",
       "      <th>bedroomcnt</th>\n",
       "      <th>buildingclasstypeid</th>\n",
       "      <th>buildingqualitytypeid</th>\n",
       "      <th>...</th>\n",
       "      <th>numberofstories</th>\n",
       "      <th>fireplaceflag</th>\n",
       "      <th>structuretaxvaluedollarcnt</th>\n",
       "      <th>taxvaluedollarcnt</th>\n",
       "      <th>assessmentyear</th>\n",
       "      <th>landtaxvaluedollarcnt</th>\n",
       "      <th>taxamount</th>\n",
       "      <th>taxdelinquencyflag</th>\n",
       "      <th>taxdelinquencyyear</th>\n",
       "      <th>censustractandblock</th>\n",
       "    </tr>\n",
       "  </thead>\n",
       "  <tbody>\n",
       "    <tr>\n",
       "      <th>0</th>\n",
       "      <td>11016594</td>\n",
       "      <td>0.0276</td>\n",
       "      <td>2016-01-01</td>\n",
       "      <td>1.0</td>\n",
       "      <td>NaN</td>\n",
       "      <td>NaN</td>\n",
       "      <td>2.0</td>\n",
       "      <td>3.0</td>\n",
       "      <td>NaN</td>\n",
       "      <td>4.0</td>\n",
       "      <td>...</td>\n",
       "      <td>NaN</td>\n",
       "      <td>NaN</td>\n",
       "      <td>122754.0</td>\n",
       "      <td>360170.0</td>\n",
       "      <td>2015.0</td>\n",
       "      <td>237416.0</td>\n",
       "      <td>6735.88</td>\n",
       "      <td>NaN</td>\n",
       "      <td>NaN</td>\n",
       "      <td>6.037107e+13</td>\n",
       "    </tr>\n",
       "    <tr>\n",
       "      <th>1</th>\n",
       "      <td>14366692</td>\n",
       "      <td>-0.1684</td>\n",
       "      <td>2016-01-01</td>\n",
       "      <td>NaN</td>\n",
       "      <td>NaN</td>\n",
       "      <td>NaN</td>\n",
       "      <td>3.5</td>\n",
       "      <td>4.0</td>\n",
       "      <td>NaN</td>\n",
       "      <td>NaN</td>\n",
       "      <td>...</td>\n",
       "      <td>NaN</td>\n",
       "      <td>NaN</td>\n",
       "      <td>346458.0</td>\n",
       "      <td>585529.0</td>\n",
       "      <td>2015.0</td>\n",
       "      <td>239071.0</td>\n",
       "      <td>10153.02</td>\n",
       "      <td>NaN</td>\n",
       "      <td>NaN</td>\n",
       "      <td>NaN</td>\n",
       "    </tr>\n",
       "    <tr>\n",
       "      <th>2</th>\n",
       "      <td>12098116</td>\n",
       "      <td>-0.0040</td>\n",
       "      <td>2016-01-01</td>\n",
       "      <td>1.0</td>\n",
       "      <td>NaN</td>\n",
       "      <td>NaN</td>\n",
       "      <td>3.0</td>\n",
       "      <td>2.0</td>\n",
       "      <td>NaN</td>\n",
       "      <td>4.0</td>\n",
       "      <td>...</td>\n",
       "      <td>NaN</td>\n",
       "      <td>NaN</td>\n",
       "      <td>61994.0</td>\n",
       "      <td>119906.0</td>\n",
       "      <td>2015.0</td>\n",
       "      <td>57912.0</td>\n",
       "      <td>11484.48</td>\n",
       "      <td>NaN</td>\n",
       "      <td>NaN</td>\n",
       "      <td>6.037464e+13</td>\n",
       "    </tr>\n",
       "    <tr>\n",
       "      <th>3</th>\n",
       "      <td>12643413</td>\n",
       "      <td>0.0218</td>\n",
       "      <td>2016-01-02</td>\n",
       "      <td>1.0</td>\n",
       "      <td>NaN</td>\n",
       "      <td>NaN</td>\n",
       "      <td>2.0</td>\n",
       "      <td>2.0</td>\n",
       "      <td>NaN</td>\n",
       "      <td>4.0</td>\n",
       "      <td>...</td>\n",
       "      <td>NaN</td>\n",
       "      <td>NaN</td>\n",
       "      <td>171518.0</td>\n",
       "      <td>244880.0</td>\n",
       "      <td>2015.0</td>\n",
       "      <td>73362.0</td>\n",
       "      <td>3048.74</td>\n",
       "      <td>NaN</td>\n",
       "      <td>NaN</td>\n",
       "      <td>6.037296e+13</td>\n",
       "    </tr>\n",
       "    <tr>\n",
       "      <th>4</th>\n",
       "      <td>14432541</td>\n",
       "      <td>-0.0050</td>\n",
       "      <td>2016-01-02</td>\n",
       "      <td>NaN</td>\n",
       "      <td>NaN</td>\n",
       "      <td>NaN</td>\n",
       "      <td>2.5</td>\n",
       "      <td>4.0</td>\n",
       "      <td>NaN</td>\n",
       "      <td>NaN</td>\n",
       "      <td>...</td>\n",
       "      <td>2.0</td>\n",
       "      <td>NaN</td>\n",
       "      <td>169574.0</td>\n",
       "      <td>434551.0</td>\n",
       "      <td>2015.0</td>\n",
       "      <td>264977.0</td>\n",
       "      <td>5488.96</td>\n",
       "      <td>NaN</td>\n",
       "      <td>NaN</td>\n",
       "      <td>6.059042e+13</td>\n",
       "    </tr>\n",
       "  </tbody>\n",
       "</table>\n",
       "<p>5 rows × 60 columns</p>\n",
       "</div>"
      ],
      "text/plain": [
       "   parcelid  logerror transactiondate  airconditioningtypeid  \\\n",
       "0  11016594    0.0276      2016-01-01                    1.0   \n",
       "1  14366692   -0.1684      2016-01-01                    NaN   \n",
       "2  12098116   -0.0040      2016-01-01                    1.0   \n",
       "3  12643413    0.0218      2016-01-02                    1.0   \n",
       "4  14432541   -0.0050      2016-01-02                    NaN   \n",
       "\n",
       "   architecturalstyletypeid  basementsqft  bathroomcnt  bedroomcnt  \\\n",
       "0                       NaN           NaN          2.0         3.0   \n",
       "1                       NaN           NaN          3.5         4.0   \n",
       "2                       NaN           NaN          3.0         2.0   \n",
       "3                       NaN           NaN          2.0         2.0   \n",
       "4                       NaN           NaN          2.5         4.0   \n",
       "\n",
       "   buildingclasstypeid  buildingqualitytypeid         ...           \\\n",
       "0                  NaN                    4.0         ...            \n",
       "1                  NaN                    NaN         ...            \n",
       "2                  NaN                    4.0         ...            \n",
       "3                  NaN                    4.0         ...            \n",
       "4                  NaN                    NaN         ...            \n",
       "\n",
       "   numberofstories  fireplaceflag  structuretaxvaluedollarcnt  \\\n",
       "0              NaN            NaN                    122754.0   \n",
       "1              NaN            NaN                    346458.0   \n",
       "2              NaN            NaN                     61994.0   \n",
       "3              NaN            NaN                    171518.0   \n",
       "4              2.0            NaN                    169574.0   \n",
       "\n",
       "   taxvaluedollarcnt  assessmentyear  landtaxvaluedollarcnt  taxamount  \\\n",
       "0           360170.0          2015.0               237416.0    6735.88   \n",
       "1           585529.0          2015.0               239071.0   10153.02   \n",
       "2           119906.0          2015.0                57912.0   11484.48   \n",
       "3           244880.0          2015.0                73362.0    3048.74   \n",
       "4           434551.0          2015.0               264977.0    5488.96   \n",
       "\n",
       "   taxdelinquencyflag  taxdelinquencyyear  censustractandblock  \n",
       "0                 NaN                 NaN         6.037107e+13  \n",
       "1                 NaN                 NaN                  NaN  \n",
       "2                 NaN                 NaN         6.037464e+13  \n",
       "3                 NaN                 NaN         6.037296e+13  \n",
       "4                 NaN                 NaN         6.059042e+13  \n",
       "\n",
       "[5 rows x 60 columns]"
      ]
     },
     "execution_count": 3,
     "metadata": {},
     "output_type": "execute_result"
    }
   ],
   "source": [
    "# merge dataframes and view result\n",
    "train_df = pd.merge(train_csv, prop_df, on='parcelid', how='inner')\n",
    "print 'Dataframe shape:', train_df.shape\n",
    "train_df.head()"
   ]
  },
  {
   "cell_type": "code",
   "execution_count": null,
   "metadata": {
    "collapsed": true
   },
   "outputs": [],
   "source": [
    "train_df.describe()"
   ]
  },
  {
   "cell_type": "code",
   "execution_count": null,
   "metadata": {
    "collapsed": true
   },
   "outputs": [],
   "source": [
    "plt.figure(figsize=(8,5))\n",
    "plt.scatter(range(train_df.shape[0]), np.sort(train_df.logerror.values))\n",
    "plt.xlabel('index', fontsize=12)\n",
    "plt.ylabel('logerror', fontsize=12)\n",
    "plt.show()"
   ]
  },
  {
   "cell_type": "markdown",
   "metadata": {},
   "source": [
    "Log error is quite good for vast majority- outliers are key here"
   ]
  },
  {
   "cell_type": "code",
   "execution_count": null,
   "metadata": {
    "collapsed": true
   },
   "outputs": [],
   "source": [
    "plt.figure(figsize=(12,8))\n",
    "sns.distplot(train_df.logerror.values, bins=50, kde=False)\n",
    "plt.xlabel('logerror', fontsize=12)\n",
    "plt.show()"
   ]
  },
  {
   "cell_type": "markdown",
   "metadata": {},
   "source": [
    "Seems liked a peaked distribution, but outliers on log error are affecting the histogram.  Removing outliers:"
   ]
  },
  {
   "cell_type": "markdown",
   "metadata": {
    "collapsed": true
   },
   "source": [
    "<H5> Transaction Date </H5>"
   ]
  },
  {
   "cell_type": "code",
   "execution_count": null,
   "metadata": {
    "collapsed": true
   },
   "outputs": [],
   "source": [
    "train_df.transactiondate.describe()"
   ]
  },
  {
   "cell_type": "markdown",
   "metadata": {
    "collapsed": true
   },
   "source": [
    "All the data is from 2016- we can aggregate it by month"
   ]
  },
  {
   "cell_type": "code",
   "execution_count": 4,
   "metadata": {},
   "outputs": [
    {
     "data": {
      "image/png": "[encoded data removed]",
      "text/plain": [
       "<matplotlib.figure.Figure at 0x1081a3850>"
      ]
     },
     "metadata": {},
     "output_type": "display_data"
    }
   ],
   "source": [
    "train_df['transaction_month'] = train_df['transactiondate'].dt.month\n",
    "\n",
    "cnt_srs = train_df['transaction_month'].value_counts()\n",
    "plt.figure(figsize=(12,6))\n",
    "bars= sns.barplot(cnt_srs.index, cnt_srs.values,  color=color[2])\n",
    "plt.xticks()\n",
    "plt.xlabel('Month of transaction', fontsize=12)\n",
    "plt.ylabel('Number of Occurrences', fontsize=12)\n",
    "plt.show()"
   ]
  },
  {
   "cell_type": "markdown",
   "metadata": {},
   "source": [
    "Slow start of the year, then transactions pick up through August.  We do not have all the transactions after October 15th, per competition website."
   ]
  },
  {
   "cell_type": "code",
   "execution_count": null,
   "metadata": {
    "collapsed": true
   },
   "outputs": [],
   "source": [
    "sns.set_style(\"whitegrid\")\n",
    "s1_dims = (15, 20)\n",
    "fig, ax = plt.subplots(figsize=s1_dims)\n",
    "ax.set(ylim=(-0.2, 0.2))\n",
    "sns.violinplot(ax=ax, data=train_df, x=\"transaction_month\", y=\"logerror\")"
   ]
  },
  {
   "cell_type": "markdown",
   "metadata": {},
   "source": [
    "Variance appears to grow with the later months (those with fewer values), though the medians appear to be positive, particularly for the winter months.  Besides normal features, we may want to include dummy variables for seasonality.\n"
   ]
  },
  {
   "cell_type": "markdown",
   "metadata": {
    "collapsed": true
   },
   "source": [
    "<h5> Parcel ID </h5>"
   ]
  },
  {
   "cell_type": "code",
   "execution_count": null,
   "metadata": {
    "collapsed": true
   },
   "outputs": [],
   "source": [
    "train_df['parcelid'].value_counts().reset_index()['parcelid'].value_counts()"
   ]
  },
  {
   "cell_type": "markdown",
   "metadata": {
    "collapsed": true
   },
   "source": [
    "Only 124 of the 90k+ properties had multiple transactions in this year period"
   ]
  },
  {
   "cell_type": "markdown",
   "metadata": {
    "collapsed": true
   },
   "source": [
    "<H5> Onto the Properties 2016 file <H5>"
   ]
  },
  {
   "cell_type": "code",
   "execution_count": 45,
   "metadata": {
    "scrolled": true
   },
   "outputs": [
    {
     "data": {
      "image/png": "[encoded data removed]",
      "text/plain": [
       "<matplotlib.figure.Figure at 0x12b18b4d0>"
      ]
     },
     "metadata": {},
     "output_type": "display_data"
    }
   ],
   "source": [
    "missing_df = train_df.isnull().sum(axis=0).reset_index()\n",
    "missing_df.columns = ['column_name', 'missing_count']\n",
    "missing_df = missing_df.ix[missing_df['missing_count']>0]\n",
    "missing_df = missing_df.sort_values(by='missing_count')\n",
    "\n",
    "ind = np.arange(missing_df.shape[0])\n",
    "width = 0.9\n",
    "fig, ax = plt.subplots(figsize=(12,18))\n",
    "rects = ax.barh(ind, missing_df.missing_count.values, color='blue')\n",
    "ax.set_yticks(ind)\n",
    "ax.set_yticklabels(missing_df.column_name.values, rotation='horizontal')\n",
    "ax.set_xlabel(\"Count of missing values\")\n",
    "ax.set_title(\"Number of missing values in each column\")\n",
    "plt.show()"
   ]
  },
  {
   "cell_type": "code",
   "execution_count": null,
   "metadata": {
    "collapsed": true
   },
   "outputs": [],
   "source": [
    "# How much of your data is missing?\n",
    "train_df.isnull().sum().sort_values(ascending=False).head()"
   ]
  },
  {
   "cell_type": "code",
   "execution_count": 5,
   "metadata": {
    "collapsed": true
   },
   "outputs": [],
   "source": [
    "# df = df.drop('column_name', 1)\n",
    "to_drop = ['architecturalstyletypeid'\n",
    "           ,'assessmentyear'\n",
    "           ,'bathroomcnt'\n",
    "           ,'buildingclasstypeid'\n",
    "           ,'decktypeid'\n",
    "           ,'threequarterbathnbr'\n",
    "           ,'finishedfloor1squarefeet'\n",
    "           ,'finishedsquarefeet6'\n",
    "           ,'finishedsquarefeet12'\n",
    "           ,'finishedsquarefeet13'\n",
    "           ,'finishedsquarefeet15'\n",
    "           ,'finishedsquarefeet50'\n",
    "           ,'fireplaceflag'\n",
    "           ,'fullbathcnt'\n",
    "           ,'garagetotalsqft'\n",
    "           ,'latitude'\n",
    "           ,'longitude'\n",
    "           ,'poolsizesum'\n",
    "           ,'propertyzoningdesc'\n",
    "           ,'rawcensustractandblock'\n",
    "           ,'censustractandblock'\n",
    "           ,'regionidzip'\n",
    "           ,'storytypeid'\n",
    "           ,'typeconstructiontypeid'\n",
    "           ,'taxvaluedollarcnt'\n",
    "           ,'taxamount'\n",
    "           ,'taxdelinquencyyear'\n",
    "           ,'fips'\n",
    "           \n",
    "           ,'hashottuborspa'\n",
    "           ,'pooltypeid10'\n",
    "           ,'pooltypeid2'\n",
    "           ,'pooltypeid7'\n",
    "               \n",
    "           ,'propertycountylandusecode'   # 241 unique values, cannot dummy for size reasons          \n",
    "           ,'regionidcity'            # 187 unique values, cannot dummy for size reasons\n",
    "           ,'regionidneighborhood'    # 529 unique values, cannot dummy for size reasons\n",
    "           ,'transactiondate'\n",
    "          ]\n",
    "\n",
    "for col in to_drop:\n",
    "    train_df = train_df.drop(col,1)"
   ]
  },
  {
   "cell_type": "code",
   "execution_count": 6,
   "metadata": {
    "collapsed": true
   },
   "outputs": [],
   "source": [
    "##df['bedroomcnt'] = [0 if x <3 else 1 for x in df['bedroomcnt']] #bad example, but you get the point\n",
    "# Bin object variables in specific ways\n",
    "\n",
    "## airconditioningtypeid\n",
    "train_df['airconditioningtypeid'].fillna(value='missing',inplace=True)\n",
    "\n",
    "## bedroomcnt\n",
    "a = np.array(train_df['bedroomcnt'].values.tolist())\n",
    "train_df['bedroomcnt'] = np.where(a > 6, 6, a).tolist()\n",
    "train_df['bedroomcnt'].fillna(value=3,inplace=True) # Or maybe impute with most_common, which is 3\n",
    "\n",
    "## buildingqualitytypeid (best=lowest, worse=highest)\n",
    "\n",
    "a = np.array(train_df['buildingqualitytypeid'].values.tolist())\n",
    "train_df['buildingqualitytypeid'] = np.where(a < 4,  4, a)  #.tolist()\n",
    "a = np.array(train_df['buildingqualitytypeid'].values.tolist())\n",
    "train_df['buildingqualitytypeid'] = np.where(a > 7, 10, a)  #.tolist()\n",
    "a = np.array(train_df['buildingqualitytypeid'].values.tolist())\n",
    "train_df['buildingqualitytypeid'] = np.where(a == 5, 7, a)  #.tolist()\n",
    "a = np.array(train_df['buildingqualitytypeid'].values.tolist())\n",
    "train_df['buildingqualitytypeid'] = np.where(a == 6, 7, a).tolist()\n",
    "a = np.array(train_df['buildingqualitytypeid'].values.tolist())\n",
    "train_df['buildingqualitytypeid'].fillna(value=99,inplace=True) # 99 = missing (BE CAREFUL NOT TO CHANGE BEFORE '>' STATEMENT)\n",
    "\n",
    "## fips - we dropped this so no need to proprocess\n",
    "# train_df['fips'].fillna(value=99,inplace=True)\n",
    "\n",
    "## fireplacecnt\n",
    "a = np.array(train_df['fireplacecnt'].values.tolist())\n",
    "train_df['fireplacecnt'] = np.where(a > 3,  3, a)  #.tolist()\n",
    "train_df['fireplacecnt'].fillna(value=0,inplace=True) #set NaN to zero\n",
    "\n",
    "## garagecarcnt\n",
    "a = np.array(train_df['garagecarcnt'].values.tolist())\n",
    "train_df['garagecarcnt'] = np.where(a > 3,  3, a)  #.tolist()\n",
    "train_df['garagecarcnt'].fillna(value=99,inplace=True) #set NaN to 99\n",
    "\n",
    "##  hashottuborspa\n",
    "#train_df['hashottuborspa'].fillna(value=False,inplace=True) #set NaN to False\n",
    "\n",
    "## heatingorsystemtypeid\n",
    "a = np.array(train_df['heatingorsystemtypeid'].values.tolist())\n",
    "train_df['heatingorsystemtypeid'] = np.where(a == 19,  14, a)  #.tolist()\n",
    "a = np.array(train_df['heatingorsystemtypeid'].values.tolist())\n",
    "train_df['heatingorsystemtypeid'] = np.where(a == 21, 14, a)  #.tolist()\n",
    "a = np.array(train_df['heatingorsystemtypeid'].values.tolist())\n",
    "train_df['heatingorsystemtypeid'] = np.where(a == 11, 14, a)  #.tolist()\n",
    "a = np.array(train_df['heatingorsystemtypeid'].values.tolist())\n",
    "train_df['heatingorsystemtypeid'] = np.where(a == 12, 14, a)  #.tolist()\n",
    "a = np.array(train_df['heatingorsystemtypeid'].values.tolist())\n",
    "train_df['heatingorsystemtypeid'] = np.where(a == 10, 14, a)  #.tolist()\n",
    "a = np.array(train_df['heatingorsystemtypeid'].values.tolist())\n",
    "train_df['heatingorsystemtypeid'] = np.where(a ==  1, 14, a)  #.tolist()\n",
    "a = np.array(train_df['heatingorsystemtypeid'].values.tolist())\n",
    "train_df['heatingorsystemtypeid'] = np.where(a == 18, 14, a)  #.tolist()\n",
    "a = np.array(train_df['heatingorsystemtypeid'].values.tolist())\n",
    "train_df['heatingorsystemtypeid'] = np.where(a == 13, 14, a)  #.tolist()\n",
    "a = np.array(train_df['heatingorsystemtypeid'].values.tolist())\n",
    "train_df['heatingorsystemtypeid'] = np.where(a == 20, 14, a)  #.tolist()\n",
    "a = np.array(train_df['heatingorsystemtypeid'].values.tolist())\n",
    "train_df['heatingorsystemtypeid'] = np.where(a == 12, 14, a).tolist()\n",
    "a = np.array(train_df['heatingorsystemtypeid'].values.tolist())\n",
    "\n",
    "train_df['heatingorsystemtypeid'].fillna(value=99,inplace=True) #set NaN to 99\n",
    "\n",
    "## numberofstories\n",
    "a = np.array(train_df['numberofstories'].values.tolist())\n",
    "train_df['numberofstories'] = np.where(a > 3,  3, a)  #.tolist()\n",
    "train_df['numberofstories'].fillna(value=99,inplace=True) #set NaN to 99\n",
    "\n",
    "## poolcnt\n",
    "train_df['poolcnt'].fillna(value=0,inplace=True) #set NaN to zero\n",
    "\n",
    "## pooltypes\n",
    "#train_df['pooltypeid10'].fillna(value=0,inplace=True) #set NaN to zero\n",
    "#train_df['pooltypeid2'].fillna(value=0,inplace=True) #set NaN to zero\n",
    "#train_df['pooltypeid7'].fillna(value=0,inplace=True) #set NaN to zero\n",
    "\n",
    "\n",
    "## propertycountylandusecode\n",
    "#### probably should loop through, has 241 distinct values, some of which have count=1\n",
    "#train_df['propertycountylandusecode'].fillna(value=99,inplace=True) #set NaN to 99\n",
    "\n",
    "## propertylandusetypeid\n",
    "### too many unique values, so had to drop\n",
    "train_df['propertylandusetypeid'].fillna(value=99,inplace=True) #set NaN to 99\n",
    "\n",
    "## regionidcounty\n",
    "train_df['regionidcounty'].fillna(value=99,inplace=True) #set NaN to 99\n",
    "\n",
    "## regionidcity\n",
    "#### probably should loop through, has 187 distinct values, some of which have count=1\n",
    "### too many unique values, so had to drop\n",
    "#train_df['regionidcity'].fillna(value=99,inplace=True) #set NaN to 99\n",
    "\n",
    "## regionidneighborhood\n",
    "#### probably should loop through, has 500+ distinct values, some of which have count=1.  Maybe use lat-long to KNN???\n",
    "### too many unique values, so had to drop\n",
    "#train_df['regionidneighborhood'].fillna(value=99,inplace=True) #set NaN to 99\n",
    "\n",
    "## calculatedbathnbr\n",
    "train_df['calculatedbathnbr'].fillna(value=2,inplace=True)  # Or maybe impute with most_common, which is 2\n",
    "\n",
    "## roomcnt\n",
    "a = np.array(train_df['roomcnt'].values.tolist())\n",
    "train_df['roomcnt0'] = np.where(a == 0, 1, 0)  #.tolist()\n",
    "train_df['roomcnt'] = np.where(a < 3,  3, a)  #.tolist()\n",
    "a = np.array(train_df['roomcnt'].values.tolist())\n",
    "train_df['roomcnt'] = np.where(a > 7, 10, a)  #.tolist()\n",
    "a = np.array(train_df['roomcnt'].values.tolist())\n",
    "train_df['roomcnt'] = np.where(a == 5, 7, a)  #.tolist()\n",
    "a = np.array(train_df['roomcnt'].values.tolist())\n",
    "train_df['roomcnt'] = np.where(a == 6, 7, a).tolist()\n",
    "a = np.array(train_df['roomcnt'].values.tolist())\n",
    "train_df['roomcnt'].fillna(value=6,inplace=True) #set NaN to 6, most common value\n",
    "\n",
    "\n",
    "## unitcnt\n",
    "a = np.array(train_df['unitcnt'].values.tolist())\n",
    "train_df['unitcnt'] = np.where(a > 5, 5, a)  #.tolist()\n",
    "train_df['unitcnt'].fillna(value=1,inplace=True) #set NaN to 1\n",
    "\n",
    "## yearbuilt    \n",
    "a = np.array(train_df['yearbuilt'].values.tolist())\n",
    "train_df['yearbuilt'] = (train_df['yearbuilt']/10).round()\n",
    "a = np.array(train_df['yearbuilt'].values.tolist())\n",
    "train_df['yearbuilt'] = np.where(a < 190, 189, a)  #.tolist()\n",
    "train_df['yearbuilt'].fillna(value=195,inplace=True) #set NaN to 195\n",
    "\n",
    "\n",
    "\n",
    "##  taxdelinquencyflag   train_df['taxdelinquencyflag'].value_counts()\n",
    "train_df['taxdelinquencyflag'] = [1 if x == 'Y' else 0 for x in train_df['taxdelinquencyflag']] \n",
    "train_df['taxdelinquencyflag'].fillna(value=0,inplace=True) #set NaN to zeroTrue) #set NaN to zero\n",
    "\n",
    "\n",
    "##  Numeric variables whose NaN we'll set to zero\n",
    "a = np.array(train_df['basementsqft'].values.tolist())\n",
    "train_df['basementsqft_NaN'] = np.where(a == np.NaN, 1, 0)  #.tolist()\n",
    "train_df['basementsqft'].fillna(value=0,inplace=True) #set NaN to zero\n",
    "\n",
    "a = np.array(train_df['calculatedfinishedsquarefeet'].values.tolist())\n",
    "train_df['calculatedfinishedsquarefeet_NaN'] = np.where(a == np.NaN, 1, 0)  #.tolist()\n",
    "train_df['calculatedfinishedsquarefeet'].fillna(value=0,inplace=True) #set NaN to zero\n",
    "\n",
    "a = np.array(train_df['lotsizesquarefeet'].values.tolist())\n",
    "train_df['lotsizesquarefeet_NaN'] = np.where(a == np.NaN, 1, 0)  #.tolist()\n",
    "train_df['lotsizesquarefeet'].fillna(value=0,inplace=True) #set NaN to zero\n",
    "\n",
    "a = np.array(train_df['yardbuildingsqft17'].values.tolist())\n",
    "train_df['yardbuildingsqft17_NaN'] = np.where(a == np.NaN, 1, 0)  #.tolist()\n",
    "train_df['yardbuildingsqft17'].fillna(value=0,inplace=True) #set NaN to zero\n",
    "a = np.array(train_df['yardbuildingsqft17'].values.tolist())\n",
    "train_df['yardbuildingsqft17'] = np.where(a > 0, 1, 0)  #.tolist()\n",
    "\n",
    "a = np.array(train_df['yardbuildingsqft26'].values.tolist())\n",
    "train_df['yardbuildingsqft26_NaN'] = np.where(a == np.NaN, 1, 0)  #.tolist()\n",
    "train_df['yardbuildingsqft26'].fillna(value=0,inplace=True) #set NaN to zero\n",
    "a = np.array(train_df['yardbuildingsqft26'].values.tolist())\n",
    "train_df['yardbuildingsqft26'] = np.where(a > 0, 1, 0)  #.tolist()\n",
    "\n",
    "a = np.array(train_df['structuretaxvaluedollarcnt'].values.tolist())\n",
    "train_df['structuretaxvaluedollarcnt_NaN'] = np.where(a == np.NaN, 1, 0)  #.tolist()\n",
    "train_df['structuretaxvaluedollarcnt'].fillna(value=0,inplace=True) #set NaN to zero\n",
    "\n",
    "a = np.array(train_df['landtaxvaluedollarcnt'].values.tolist())\n",
    "train_df['landtaxvaluedollarcnt_NaN'] = np.where(a == np.NaN, 1, 0)  #.tolist()\n",
    "train_df['landtaxvaluedollarcnt'].fillna(value=10000,inplace=True) #set NaN to 10000\n",
    "\n",
    "a = np.array(train_df['calculatedfinishedsquarefeet'].values.tolist())\n",
    "train_df['calculatedfinishedsquarefeet_NaN'] = np.where(a == np.NaN, 1, 0)  #.tolist()\n",
    "train_df['calculatedfinishedsquarefeet'].fillna(value=6000,inplace=True) #set NaN to 6000, most common number\n",
    "\n"
   ]
  },
  {
   "cell_type": "code",
   "execution_count": 60,
   "metadata": {
    "scrolled": true
   },
   "outputs": [
    {
     "data": {
      "image/png": "[encoded data removed]",
      "text/plain": [
       "<matplotlib.figure.Figure at 0x116dea310>"
      ]
     },
     "metadata": {},
     "output_type": "display_data"
    }
   ],
   "source": [
    "# Check Missing values again, after processing attempt to remove some fields and assign a value to others' NaN values\n",
    "missing_df = train_df.isnull().sum(axis=0).reset_index()\n",
    "missing_df.columns = ['column_name', 'missing_count']\n",
    "missing_df = missing_df.ix[missing_df['missing_count']>0]\n",
    "missing_df = missing_df.sort_values(by='missing_count')\n",
    "\n",
    "ind = np.arange(missing_df.shape[0])\n",
    "width = 0.9\n",
    "fig, ax = plt.subplots(figsize=(12,18))\n",
    "rects = ax.barh(ind, missing_df.missing_count.values, color='blue')\n",
    "ax.set_yticks(ind)\n",
    "ax.set_yticklabels(missing_df.column_name.values, rotation='horizontal')\n",
    "ax.set_xlabel(\"Count of missing values\")\n",
    "ax.set_title(\"Number of missing values in each column\")\n",
    "plt.show()"
   ]
  },
  {
   "cell_type": "code",
   "execution_count": 7,
   "metadata": {
    "collapsed": true
   },
   "outputs": [],
   "source": [
    "\n",
    "objs = [ 'airconditioningtypeid'\n",
    "        ,'bedroomcnt'\n",
    "        ,'buildingqualitytypeid'\n",
    "        ,'fireplacecnt'\n",
    "        ,'garagecarcnt'\n",
    "        ,'heatingorsystemtypeid'\n",
    "        ,'numberofstories'\n",
    "        ,'poolcnt'        \n",
    "        ,'propertylandusetypeid'   \n",
    "        ,'regionidcounty'\n",
    "        ,'unitcnt'\n",
    "        ,'yearbuilt'   \n",
    "        ,'taxdelinquencyflag'  \n",
    "        ,'yardbuildingsqft17'\n",
    "        ,'yardbuildingsqft26'        \n",
    "        ]\n",
    "\n",
    "\n",
    "for obj in objs:\n",
    "    train_df[obj] = train_df[obj].astype(object)"
   ]
  },
  {
   "cell_type": "code",
   "execution_count": 8,
   "metadata": {
    "collapsed": true
   },
   "outputs": [],
   "source": [
    "\n",
    "flts = [ 'basementsqft'\n",
    "        ,'calculatedbathnbr'\n",
    "        ,'calculatedfinishedsquarefeet'\n",
    "        ,'landtaxvaluedollarcnt'\n",
    "        ,'lotsizesquarefeet'\n",
    "        ,'roomcnt'\n",
    "        ,'structuretaxvaluedollarcnt'\n",
    "       ]\n",
    "\n",
    "for flt in flts:\n",
    "    train_df[flt] = train_df[flt].astype(float)"
   ]
  },
  {
   "cell_type": "code",
   "execution_count": 9,
   "metadata": {},
   "outputs": [
    {
     "name": "stdout",
     "output_type": "stream",
     "text": [
      "Feature 'airconditioningtypeid' has 7 unique categories\n",
      "Feature 'bedroomcnt' has 7 unique categories\n",
      "Feature 'buildingqualitytypeid' has 4 unique categories\n",
      "Feature 'fireplacecnt' has 4 unique categories\n",
      "Feature 'garagecarcnt' has 5 unique categories\n",
      "Feature 'heatingorsystemtypeid' has 6 unique categories\n",
      "Feature 'poolcnt' has 2 unique categories\n",
      "Feature 'propertylandusetypeid' has 14 unique categories\n",
      "Feature 'regionidcounty' has 3 unique categories\n",
      "Feature 'unitcnt' has 5 unique categories\n",
      "Feature 'yardbuildingsqft17' has 2 unique categories\n",
      "Feature 'yardbuildingsqft26' has 2 unique categories\n",
      "Feature 'yearbuilt' has 14 unique categories\n",
      "Feature 'numberofstories' has 4 unique categories\n",
      "Feature 'taxdelinquencyflag' has 2 unique categories\n"
     ]
    }
   ],
   "source": [
    "# Decide which categorical variables you want to use in model\n",
    "for col in train_df.columns:\n",
    "    if train_df[col].dtypes == 'object':       \n",
    "        unique_cat = len(train_df[col].unique())\n",
    "        print(\"Feature '{col_name}' has {unique_cat} unique categories\".format(col_name=col, unique_cat=unique_cat))"
   ]
  },
  {
   "cell_type": "code",
   "execution_count": 10,
   "metadata": {
    "collapsed": true
   },
   "outputs": [],
   "source": [
    "# Create dummy list\n",
    "to_dummy = [ 'airconditioningtypeid'\n",
    "            ,'bedroomcnt'\n",
    "            ,'buildingqualitytypeid'\n",
    "            ,'fireplacecnt'\n",
    "            ,'garagecarcnt'\n",
    "            ,'heatingorsystemtypeid'\n",
    "            ,'numberofstories'\n",
    "            ,'poolcnt'\n",
    "            ,'propertylandusetypeid'   \n",
    "            ,'regionidcounty'         \n",
    "            ,'unitcnt'\n",
    "            ,'yearbuilt'   \n",
    "            ,'taxdelinquencyflag'  \n",
    "            ,'yardbuildingsqft17'\n",
    "            ,'yardbuildingsqft26'   \n",
    "            ,'transaction_month'\n",
    "            ]"
   ]
  },
  {
   "cell_type": "code",
   "execution_count": 11,
   "metadata": {
    "collapsed": true
   },
   "outputs": [],
   "source": [
    "# Use this function to dummy all the categorical variables we want to keep\n",
    "def dummy_df(df, todummy_list):\n",
    "    for x in todummy_list:       \n",
    "        dummies = pd.get_dummies(df[x], prefix=x, dummy_na=True)\n",
    "        df = df.drop(x, 1)\n",
    "        df = pd.concat([df, dummies], axis=1)\n",
    "    return df"
   ]
  },
  {
   "cell_type": "code",
   "execution_count": 12,
   "metadata": {
    "collapsed": true
   },
   "outputs": [],
   "source": [
    "## bool  \n",
    "train_df = dummy_df(train_df, to_dummy)"
   ]
  },
  {
   "cell_type": "markdown",
   "metadata": {},
   "source": [
    "<h2> Analysis into Extreme Log Errors </h2>\n"
   ]
  },
  {
   "cell_type": "markdown",
   "metadata": {},
   "source": [
    "This competition is focused on predicting the log error of predicted versus transaction prices. As shown in the graph in EDA section and recreated below, the vast majority of log errors are quite low. It is in the extreme values where the error rates increase drastically. Therefore, we will perform an analysis on just these extreme values to see if there are any patterns that will help us identify these values."
   ]
  },
  {
   "cell_type": "code",
   "execution_count": null,
   "metadata": {
    "collapsed": true
   },
   "outputs": [],
   "source": [
    "plt.figure(figsize=(8,5))\n",
    "# create a mask for values less than -.1 and greater than .1\n",
    "masked = np.ma.masked_outside(np.sort(train_df.logerror.values), -.1, .1)\n",
    "# plot masked and non-masked values\n",
    "plt.plot(range(train_df.shape[0]), np.sort(train_df.logerror.values), 'red')\n",
    "plt.plot(range(train_df.shape[0]), masked, 'blue')\n",
    "plt.xlabel('index', fontsize=12)\n",
    "plt.ylabel('logerror', fontsize=12)\n",
    "plt.show()"
   ]
  },
  {
   "cell_type": "code",
   "execution_count": null,
   "metadata": {
    "collapsed": true
   },
   "outputs": [],
   "source": [
    "high_error_df= train_df[(train_df.logerror <-.1) | (train_df.logerror >.1)]\n",
    "low_error_df = train_df[(train_df.logerror>=-.1) & (train_df.logerror<=.1)]"
   ]
  },
  {
   "cell_type": "markdown",
   "metadata": {},
   "source": [
    "First we'll visualize the log errors by month of transaction to see if there are any seasonal effects."
   ]
  },
  {
   "cell_type": "code",
   "execution_count": null,
   "metadata": {
    "collapsed": true
   },
   "outputs": [],
   "source": [
    "cnt_srs = high_error_df['transaction_month'].value_counts()\n",
    "plt.figure(figsize=(12,6))\n",
    "bars= sns.barplot(cnt_srs.index, cnt_srs.values,  color=color[2])\n",
    "plt.xticks()\n",
    "plt.xlabel('Month of transaction', fontsize=12)\n",
    "plt.ylabel('Number of Occurrences', fontsize=12)\n",
    "plt.title('Number of Transactions per Month- High Error Data')\n",
    "plt.show()\n",
    "\n",
    "\n",
    "\n",
    "cnt_srs = low_error_df['transaction_month'].value_counts()\n",
    "plt.figure(figsize=(12,6))\n",
    "bars= sns.barplot(cnt_srs.index, cnt_srs.values,  color=color[2])\n",
    "plt.xticks()\n",
    "plt.xlabel('Month of transaction', fontsize=12)\n",
    "plt.ylabel('Number of Occurrences', fontsize=12)\n",
    "plt.title('Number of Transactions per Month- All Data')\n",
    "plt.show()"
   ]
  },
  {
   "cell_type": "markdown",
   "metadata": {},
   "source": [
    "These charts tend to follow the same pattern"
   ]
  },
  {
   "cell_type": "code",
   "execution_count": null,
   "metadata": {
    "collapsed": true
   },
   "outputs": [],
   "source": [
    "high_error_df.ix[:, 0:10].describe()"
   ]
  },
  {
   "cell_type": "code",
   "execution_count": null,
   "metadata": {
    "collapsed": true
   },
   "outputs": [],
   "source": [
    "low_error_df.ix[:, 0:10].describe()"
   ]
  },
  {
   "cell_type": "markdown",
   "metadata": {},
   "source": [
    "Reviewing the differences in the high errors and low errors dataframes, we observe the following differences:\n",
    "\n",
    "__Calculated Finished Square Feet:__ The low error transactions have a mean value of 1739 sqft with a standard deviation of 876sqft.  The high error transactions have a high mean value of 1870 sqft with a higher standard deviation of 1197. \n",
    "\n",
    "<b> Structure Tax Value Dollar Count </b> The high error transactions have a higher mean (192253 vs 176848) and a higher standard deviation (310239 vs 183111) than low error transactions.\n",
    "\n",
    "<b> Land Tax Value Dollar Count </b> Similar to the structure tax value dollar count, the mean land value dollar count is higher for high error transactions (322560 vs 269816) and has a higher standard deviation (641348 vs 334122).\n",
    "\n",
    "<b> FIPS </b> The FIPS indicates the county of the home.  In the high error data, 73.8% of the homes are in Los Angeles County, 19% are in Orange County, and 6.7% are in Ventura County.  In the low error data, 63% are in Los Angeles County, 28% are in Orange County, and 8.2% are in Ventura County."
   ]
  },
  {
   "cell_type": "markdown",
   "metadata": {
    "collapsed": true
   },
   "source": [
    "<h2> K-Nearest Neighbors </h2>"
   ]
  },
  {
   "cell_type": "markdown",
   "metadata": {},
   "source": [
    "K-Nearest Neighbors is a classification model which predicts the classification of an unclassified data point based upon the values of it's closest k neighbors. Therefore, when k=1, the model will predict the value based upon the cloest neighbor. When k= 9, the model will find the new data points 9 closest neighbors and determine the majority classification of those nine points. The majority classification will be imputed to the unclassified data point.\n",
    "Here, we are attempting to classify whether an property value will result in a large positive error, a low error, or a large negative error. By classifying the type of error, we can help direct our final model towards a specific predicted error value, thus lowering the MAE."
   ]
  },
  {
   "cell_type": "code",
   "execution_count": null,
   "metadata": {
    "collapsed": true
   },
   "outputs": [],
   "source": [
    "#Create a copy of the train_data so that we cam make changes\n",
    "classifier_data = train_df.copy()\n",
    "\n",
    "classifier_data['logerror'].loc[classifier_data['logerror']>=.1] = 1\n",
    "classifier_data['logerror'].loc[classifier_data['logerror']<= -.1] = -1\n",
    "classifier_data['logerror'].loc[(classifier_data['logerror']>-.1) & (classifier_data['logerror']<.1)] = 0\n",
    "\n",
    "train_np = classifier_data.values\n",
    "Y = train_np[:,0]\n",
    "Y.flatten()\n",
    "X =train_np[:,1:]\n",
    "\n",
    "shuffle = np.random.permutation(np.arange(X.shape[0]))\n",
    "X, Y = X[shuffle], Y[shuffle]\n",
    "\n",
    "print('data shape: ', X.shape)\n",
    "print('label shape: ', Y.shape)\n",
    "\n",
    "# Set some variables to hold test, dev, and training data.\n",
    "classifier_test_data, classifier_test_labels = X[70000:], Y[70000:]\n",
    "classifier_train_data, classifier_train_labels = X[:70000], Y[:70000]"
   ]
  },
  {
   "cell_type": "code",
   "execution_count": null,
   "metadata": {
    "collapsed": true
   },
   "outputs": [],
   "source": [
    "#Originally ran with k values range (1,200,20), but little to no increase after k>20\n",
    "k_values = range(10,32, 2)\n",
    "for k in k_values:\n",
    "    #initialize and train the classifier\n",
    "    clf = KNeighborsClassifier(n_neighbors = k)\n",
    "    clf.fit(classifier_train_data, classifier_train_labels)\n",
    "    accuracy= clf.score(classifier_test_data, classifier_test_labels)\n",
    "    predictions = clf.predict(classifier_test_data)\n",
    "    \n",
    "    #Uncomment code below and comment out if statement above to get classification report for all k values\n",
    "#     print(\"Classification Report for k =\" + str(k))\n",
    "#     print(classification_report(knn_test_labels.astype(int),predictions))\n",
    "# For all k values, print the accuracy\n",
    "    print(\"K: \" + str(k) + \" Accuracy: \" + str(accuracy))\n",
    "    if k == 30:\n",
    "        print(\"Classification Report for k = {}\".format(k))\n",
    "        print(classification_report(classifier_test_labels.astype(int),predictions))"
   ]
  },
  {
   "cell_type": "markdown",
   "metadata": {},
   "source": [
    "<b>Results: </b> While the accuracy of this model in classifying whether the outcome will be a large positive error (1), a low error (0), or a large negative error(-1) is approximately 84%, this K-Nearest Neighbors classifier performance is quite poor. The printed classification report is for the k=1 model, but the reports for higher k models show the same general issues  \n",
    "\n",
    "The precision column indicates the positive predictive value, which is calculated by the number of true positives divided by the number of true positives plus false positives.  In our situation, the precision measures the percentage of predictions that our model predicted to be 1s that were actually 1s.  As you can see, the precision of this model is low at 25% values that extreme highs and 0% for extreme lows.  This classifier performs very poorly for precision. \n",
    "\n",
    "The recall column indicates the sensitivity of the model.  It is calculated by taking the ratio of true positive results divided by the sum of true positives and false negatives.  In this situation, recall measures the percentage of 1s that our model identifies out of all 1s it should have identified. In our model, the recall is 0% for the extreme log errors that we are trying to classify.  \n",
    "\n",
    "The f1-score is the weighted harmonic mean of the precision and recall and gives an understanding of the overall power of the classifier. \n",
    "\n",
    "Due to the relatively small amount of extreme results in our data, this classifier tends to overpredict results of 0.  As a result, we end up with high accuracy, but poor precision and recall.  Therefore, we will not add the results of this classifier into our dataset for our final model."
   ]
  },
  {
   "cell_type": "markdown",
   "metadata": {},
   "source": [
    "# Naive Bayes"
   ]
  },
  {
   "cell_type": "markdown",
   "metadata": {},
   "source": [
    "<h2> Naive Bayes </h2>\n",
    "\n",
    "Naive Bayes methods are supervised learning algorithms that apply Bayes' Theorem with the assumption of independence between each pair of features.  While we know that we do not have independence between each pair of features in our data, in practice, Naive Bayes has worked well in datasets that violate this assumption.  \n",
    "\n",
    "The SKLearn package supports three distinct Naive Bayes models.  The first is Gaussian Naive Bayes model.  This model assumes the likelihood of the features is distributed like a Gaussian, or normal, distribution.  The second supported model is the Multinomial Naive Bayes model.  The multinomial model is for multinomially distributed data and is best suited for data that can be turned into counts- such as text classification with word counts.  The final model is the Bernoulli Naive Bayes model, which is used with data distributed similar to a multivariate Bernoulli Distribution.  Each feature in a Bernoulli model is assumed to be binary.  \n",
    "\n",
    "More information about SKLearn Naive Bayes models can be located here: http://scikit-learn.org/stable/modules/naive_bayes.html\n",
    "\n",
    "Since our data can be best classified as normally distributed and is not binary and is not well suited for a multinomial distribution, we will use a Gaussian Naive Bayes model."
   ]
  },
  {
   "cell_type": "code",
   "execution_count": null,
   "metadata": {
    "collapsed": true
   },
   "outputs": [],
   "source": [
    "#Initialize model and test accuracy of multinomial naive bayes classifier\n",
    "gauss_nb = GaussianNB()\n",
    "gauss_nb.fit(classifier_train_data, classifier_train_labels)\n",
    "nb_accuracy = gauss_nb.score(classifier_test_data, classifier_test_labels)\n",
    "print(\"Accuracy of Gaussian Naive Bayes Model: {}\".format(round(nb_accuracy,3)))"
   ]
  },
  {
   "cell_type": "code",
   "execution_count": null,
   "metadata": {
    "collapsed": true
   },
   "outputs": [],
   "source": [
    "# trainknn= train_df.copy()\n",
    "# #['airconditioningtypeid', 'parcelid','taxdelinquencyflag','transactiondate', 'propertycountylandusecode']\n",
    "\n",
    "# ulimit = np.percentile(trainknn.logerror.values, 99)\n",
    "# llimit = np.percentile(trainknn.logerror.values, 1)\n",
    "# trainknn['logerror'].loc[trainknn['logerror']>=ulimit] = 1\n",
    "# trainknn['logerror'].loc[trainknn['logerror']<=llimit] = -1\n",
    "# trainknn['logerror'].loc[(trainknn['logerror']>llimit) & (trainknn['logerror']<ulimit)] = 0\n",
    "\n",
    "# train_np = trainknn.values\n",
    "# Y_knn = train_np[:,0]\n",
    "# Y_knn.flatten()\n",
    "# X_knn =train_np[:,1:]\n",
    "\n",
    "# shuffle = np.random.permutation(np.arange(X_knn.shape[0]))\n",
    "# X_knn, Y_knn = X_knn[shuffle], Y_knn[shuffle]\n",
    "\n",
    "# print('data shape: ', X_knn.shape)\n",
    "# print('label shape: ', Y_knn.shape)\n",
    "\n",
    "# # Set some variables to hold test, dev, and training data.\n",
    "# train_data_knn, train_labels_knn = X_knn[:50000], Y_knn[:50000]\n",
    "# dev_data_knn, dev_labels_knn = X_knn[50000:70000], Y_knn[50000:70000]\n",
    "# test_data_knn, test_labels_knn = X_knn[70000:], Y_knn[70000:]\n",
    "\n",
    "\n",
    "# pca_knn = PCA(n_components=3)\n",
    "# pca_knn.fit(train_data_knn)\n",
    "# train_data_pca_knn = pca_knn.transform(train_data_knn) \n",
    "# dev_data_pca_knn = pca_knn.transform(dev_data_knn)"
   ]
  },
  {
   "cell_type": "code",
   "execution_count": null,
   "metadata": {
    "collapsed": true
   },
   "outputs": [],
   "source": [
    "# k_values = range(1,20)\n",
    "# for i in k_values:\n",
    "#     #initialize and train the classifier\n",
    "#     clf = KNeighborsClassifier(n_neighbors = i)\n",
    "#     clf.fit(train_data_pca_knn, train_labels_knn.astype(int))\n",
    "#     accuracy= clf.score(dev_data_pca_knn, dev_labels_knn.astype(int))\n",
    "#     predictions = clf.predict(dev_data_pca_knn)\n",
    "#     ## if k = 1, then print the classification report\n",
    "#     if i == 10:\n",
    "#         print(\"Classification Report for k =\" + str(i))\n",
    "#         print(classification_report(dev_labels_knn.astype(int),predictions))\n",
    "#     # For all k values, print the accuracy\n",
    "#     print(\"K: \" + str(i) + \" Accuracy: \" + str(accuracy))"
   ]
  },
  {
   "cell_type": "markdown",
   "metadata": {},
   "source": [
    "<h2> ML Start </h2>"
   ]
  },
  {
   "cell_type": "code",
   "execution_count": 27,
   "metadata": {},
   "outputs": [
    {
     "name": "stdout",
     "output_type": "stream",
     "text": [
      "('data shape: ', (90275, 124))\n",
      "('label shape: ', (90275,))\n"
     ]
    }
   ],
   "source": [
    "# split data into training and dev sets. We don't need test sets since that is done on the Kaggle website\n",
    "train_np = train_df.values\n",
    "Y = train_np[:,1]\n",
    "Y.flatten()\n",
    "X = train_np[:,2:]\n",
    "\n",
    "shuffle = np.random.permutation(np.arange(X.shape[0]))\n",
    "X, Y = X[shuffle], Y[shuffle]\n",
    "\n",
    "print('data shape: ', X.shape)\n",
    "print('label shape: ', Y.shape)\n",
    "\n",
    "# Set some variables to hold test, dev, and training data.\n",
    "train_data, train_labels = X[:70000], Y[:70000]\n",
    "dev_data, dev_labels = X[70000:], Y[70000:]\n",
    "\n",
    "#definite MAE (Mean Absolute Error) function\n",
    "def MAE(test_labels, predictions):\n",
    "    values = []\n",
    "    for i in range(len(test_labels)):\n",
    "        difference = abs(round(test_labels[i],6) - round(predictions[i],6))\n",
    "        values.append(difference)\n",
    "    mean_abs_error = round(sum(values)/len(values),7)\n",
    "    return mean_abs_error"
   ]
  },
  {
   "cell_type": "markdown",
   "metadata": {},
   "source": [
    "### Create Submission Dataset"
   ]
  },
  {
   "cell_type": "code",
   "execution_count": 66,
   "metadata": {},
   "outputs": [
    {
     "name": "stdout",
     "output_type": "stream",
     "text": [
      "(2985217, 112)\n"
     ]
    }
   ],
   "source": [
    "properties_df = pd.read_csv(\"preprocessed_properties.csv\")\n",
    "print properties_df.shape\n",
    "\n",
    "# convert to array and remove parcelIDs\n",
    "properties_np = properties_df.values\n",
    "parcelids = properties_np[:, 0]\n",
    "props_to_model = properties_np[:, 1:]\n",
    "\n",
    "# function to create Kaggle submission files \n",
    "def get_submission_file(parcelids, oct_est, nov_est, dec_est):\n",
    "    submission_array = np.vstack((parcelids, oct_est, nov_est, dec_est, oct_est, nov_est, dec_est))\n",
    "\n",
    "    submission_df = pd.DataFrame(submission_array.T)\n",
    "    submission_df.rename(columns={0: 'ParcelId',\n",
    "                                  1: '201610',\n",
    "                                  2: '201611',\n",
    "                                  3: '201612',\n",
    "                                  4: '201710',\n",
    "                                  5: '201711',\n",
    "                                  6: '201712'\n",
    "                                 }, inplace=True)\n",
    "    \n",
    "    submission_df[\"ParcelId\"] = submission_df[\"ParcelId\"].astype(int)\n",
    "    submission_df.to_csv(\"Zillow_submission_file.csv\", index = False)"
   ]
  },
  {
   "cell_type": "code",
   "execution_count": 30,
   "metadata": {
    "collapsed": true
   },
   "outputs": [],
   "source": [
    "# create arrays to represent months Oct, Nov, Dec\n",
    "# note: our months are dummy variables\n",
    "rows = props_to_model.shape[0]\n",
    "october = np.hstack((np.zeros((rows,9)), np.ones((rows,1)), np.zeros((rows,3))))\n",
    "november = np.hstack((np.zeros((rows,10)), np.ones((rows,1)), np.zeros((rows,2))))\n",
    "december = np.hstack((np.zeros((rows,11)), np.ones((rows,1)), np.zeros((rows,1))))\n",
    "\n",
    "submission_setup_oct = np.hstack((props_to_model, october))\n",
    "submission_setup_nov = np.hstack((props_to_model, november))\n",
    "submission_setup_dec = np.hstack((props_to_model, december))"
   ]
  },
  {
   "cell_type": "markdown",
   "metadata": {
    "collapsed": true
   },
   "source": [
    "## Linear Regression Model"
   ]
  },
  {
   "cell_type": "code",
   "execution_count": 28,
   "metadata": {},
   "outputs": [
    {
     "name": "stdout",
     "output_type": "stream",
     "text": [
      "Linear Regression gives us a Mean Absolute Error of 0.068632\n"
     ]
    }
   ],
   "source": [
    "# Initialize model\n",
    "lm = LinearRegression()\n",
    "lm.fit(train_data, train_labels)\n",
    "lm_predict = lm.predict(dev_data)\n",
    "\n",
    "lm_mae = MAE(dev_labels, lm_predict)\n",
    "print \"Linear Regression gives us a Mean Absolute Error of\", lm_mae"
   ]
  },
  {
   "cell_type": "code",
   "execution_count": 47,
   "metadata": {},
   "outputs": [
    {
     "name": "stdout",
     "output_type": "stream",
     "text": [
      "(2985217, 7)\n"
     ]
    }
   ],
   "source": [
    "# predict final outputs\n",
    "lm_subm_oct = lm.predict(submission_setup_oct)\n",
    "lm_subm_nov = lm.predict(submission_setup_nov)\n",
    "lm_subm_dec = lm.predict(submission_setup_dec)"
   ]
  },
  {
   "cell_type": "code",
   "execution_count": 70,
   "metadata": {},
   "outputs": [],
   "source": [
    "get_submission_file(parcelids, lm_subm_oct, lm_subm_nov, lm_subm_dec)"
   ]
  },
  {
   "cell_type": "markdown",
   "metadata": {},
   "source": [
    "## Gradient Boosting"
   ]
  },
  {
   "cell_type": "code",
   "execution_count": null,
   "metadata": {
    "collapsed": true
   },
   "outputs": [],
   "source": [
    "estimators = range(5,30)\n",
    "lowest_mae = 1\n",
    "results = []\n",
    "for i in estimators:\n",
    "    gboost = GradientBoostingRegressor(n_estimators=i) \n",
    "    gboost.fit(train_data, train_labels)\n",
    "    gboost_predict = gboost.predict(dev_data)\n",
    "\n",
    "    mae = MAE(dev_labels, gboost_predict)\n",
    "    results.append(mae)\n",
    "    \n",
    "    if mae < lowest_mae:\n",
    "        lowest_mae = mae\n",
    "        best_estimator = i\n",
    "print \"Best estimator=%d, MAE=%7.6f\" % (best_estimator, lowest_mae)"
   ]
  },
  {
   "cell_type": "code",
   "execution_count": null,
   "metadata": {
    "collapsed": true
   },
   "outputs": [],
   "source": [
    "# print(min(results))\n",
    "plt.plot(estimators, results)"
   ]
  },
  {
   "cell_type": "markdown",
   "metadata": {},
   "source": [
    "# PCA"
   ]
  },
  {
   "cell_type": "markdown",
   "metadata": {},
   "source": [
    "Principal Component Analysis (PCA) is a technique used to reduce high dimensionality data. High dimensionality data is problematic because as it acts as a multiplier to the feature space. For example, consider the area of a 10x10 coordinate system. The feature space has an area of 100 square units. If you add a z dimension of size 10 to the data, the volume becomes 1000 cubed units. Continuing to add more dimensions continues to multiply the size of the feature space which makes the data relatively sparse. This is the curse of dimensionality.\n",
    "PCA combats the curse of dimensionality by finding new dimensions that reduce the dimensionality of the data while minimizing the loss of information."
   ]
  },
  {
   "cell_type": "code",
   "execution_count": null,
   "metadata": {
    "collapsed": true
   },
   "outputs": [],
   "source": [
    "pca = PCA(n_components=10)\n",
    "pca.fit(train_data)\n",
    "for k in range(1,11):\n",
    "    explained_var = pca.explained_variance_ratio_[0:k]\n",
    "    print \"k=\" + str(k) + \", explained variance =\", sum(explained_var)\n",
    "    \n",
    "    "
   ]
  },
  {
   "cell_type": "markdown",
   "metadata": {},
   "source": [
    "__3 PCA components is probably best. This gives us >99.99% explained variance__"
   ]
  },
  {
   "cell_type": "code",
   "execution_count": null,
   "metadata": {
    "collapsed": true
   },
   "outputs": [],
   "source": [
    "k= 10\n",
    "pca = PCA(n_components=k)\n",
    "pca.fit(classifier_data)\n",
    "\n",
    "# Create list of cumulative sum of variances explained\n",
    "var_exp = np.cumsum(pca.explained_variance_ratio_)\n",
    "var_exp_single = pca.explained_variance_ratio_\n",
    "print(\"Total variance explained by first 50 principal components\")\n",
    "for i in range(1, k+1):\n",
    "    print(\"k: \" + str(i) + \" Variance Explained: \" + str(round(var_exp[i-1], 7)))\n",
    "\n",
    "# Plot of variance explained\n",
    "plt.figure(figsize = (10,5))\n",
    "plt.plot(range(1, k+1), var_exp_single[:50])\n",
    "plt.ylabel(\"Variance Explained\")\n",
    "plt.xlabel(\"Component\")\n",
    "plt.title(\"Explained Variance by PCA Component\")"
   ]
  },
  {
   "cell_type": "code",
   "execution_count": null,
   "metadata": {
    "collapsed": true
   },
   "outputs": [],
   "source": [
    "pca = PCA(n_components=3)\n",
    "pca_data = pca.fit_transform(classifier_data)\n",
    "\n",
    "x1=pca_data[:,0][classifier_train_labels==1]\n",
    "y1= pca_data[:,1][classifier_train_labels==1]\n",
    "z1= pca_data[:,2][classifier_train_labels==1]\n",
    "\n",
    "x2= pca_data[:,0][classifier_train_labels == -1]\n",
    "y2=pca_data[:,1][classifier_train_labels==-1]\n",
    "z2=pca_data[:,2][classifier_train_labels==-1]\n",
    "\n",
    "x3= pca_data[:,0][classifier_train_labels==0]\n",
    "y3= pca_data[:,1][classifier_train_labels==0]\n",
    "z3= pca_data[:,2][classifier_train_labels==0]\n",
    "\n",
    "#plot PCA data\n",
    "fig = plt.figure()\n",
    "ax = fig.gca(projection='3d')\n",
    "ax.scatter(x1, y1, z1, color = 'red', label = 'Large Positive Error', alpha = .5)\n",
    "ax.scatter(x2, y2, z2, color = 'blue', label = 'Large Negative Error', alpha = .5)\n",
    "ax.scatter(x3, y3, z3, color = 'green', label = 'Small Error', alpha= .5)\n",
    "\n",
    "ax.set_xlabel('Principal Component 1')\n",
    "ax.set_ylabel('Principal Component 2')\n",
    "ax.set_zlabel('Principal Component 3')\n",
    "\n",
    "plt.legend(loc=\"best\", fontsize = 12)\n",
    "plt.title(\"3-D Projection of Log Errors Data\")\n"
   ]
  },
  {
   "cell_type": "code",
   "execution_count": null,
   "metadata": {
    "collapsed": true
   },
   "outputs": [],
   "source": [
    "k_values = range(1,21)\n",
    "for k in k_values:\n",
    "    #initialize and train the classifier\n",
    "    clf = KNeighborsClassifier(n_neighbors = k)\n",
    "    clf.fit(pca_classifier_train_data, pca_classifier_train_labels)\n",
    "    accuracy= clf.score(pca_classifier_test_data, pca_classifier_test_labels)\n",
    "    predictions = clf.predict(pca_classifier_test_data)\n",
    "    \n",
    "    #Uncomment code below and comment out if statement above to get classification report for all k values\n",
    "#     print(\"Classification Report for k =\" + str(k))\n",
    "#     print(classification_report(knn_test_labels.astype(int),predictions))\n",
    "# For all k values, print the accuracy\n",
    "    print(\"K: \" + str(k) + \" Accuracy: \" + str(accuracy))\n",
    "    if k == 15:\n",
    "        print(\"Classification Report for k = {}\".format(k))\n",
    "        print(classification_report(classifier_test_labels.astype(int),predictions))"
   ]
  },
  {
   "cell_type": "markdown",
   "metadata": {},
   "source": [
    "Using PCA, we do not notice an increase KNN Accuracy. Additionally, we notice worse precision and recall (0%) for the extreme values that we are trying to identify. The KNN model still provides no value for our model."
   ]
  },
  {
   "cell_type": "code",
   "execution_count": null,
   "metadata": {
    "collapsed": true
   },
   "outputs": [],
   "source": [
    "#Initialize model and test accuracy of multinomial naive bayes classifier\n",
    "mult_nb = GaussianNB()\n",
    "mult_nb.fit(pca_classifier_train_data, pca_classifier_train_labels)\n",
    "nb_accuracy = mult_nb.score(pca_classifier_test_data, pca_classifier_test_labels)\n",
    "print(\"Accuracy of Multinomial Naive Bayes Model: {}\".format(round(nb_accuracy,3)))"
   ]
  },
  {
   "cell_type": "code",
   "execution_count": 76,
   "metadata": {},
   "outputs": [
    {
     "name": "stdout",
     "output_type": "stream",
     "text": [
      "Best estimator=4, MAE=0.068591\n"
     ]
    }
   ],
   "source": [
    "pca = PCA(n_components=3)\n",
    "pca.fit(train_data)\n",
    "train_data_pca = pca.transform(train_data) \n",
    "dev_data_pca = pca.transform(dev_data) \n",
    "\n",
    "estimators = range(1,20)\n",
    "lowest_mae = 1\n",
    "results = []\n",
    "for i in estimators:\n",
    "    gboost = GradientBoostingRegressor(n_estimators=i) \n",
    "    gboost.fit(train_data_pca, train_labels)\n",
    "    gboost_predict = gboost.predict(dev_data_pca)\n",
    "\n",
    "    mae = MAE(dev_labels, gboost_predict)\n",
    "    results.append(mae)\n",
    "    \n",
    "    if mae < lowest_mae:\n",
    "        lowest_mae = mae\n",
    "        best_estimator = i\n",
    "print \"Best estimator=%d, MAE=%7.6f\" % (best_estimator, lowest_mae)"
   ]
  },
  {
   "cell_type": "code",
   "execution_count": 77,
   "metadata": {},
   "outputs": [
    {
     "data": {
      "text/plain": [
       "[<matplotlib.lines.Line2D at 0x113c47950>]"
      ]
     },
     "execution_count": 77,
     "metadata": {},
     "output_type": "execute_result"
    },
    {
     "data": {
      "image/png": "[encoded data removed]",
      "text/plain": [
       "<matplotlib.figure.Figure at 0x1140c4c10>"
      ]
     },
     "metadata": {},
     "output_type": "display_data"
    }
   ],
   "source": [
    "# print(min(results))\n",
    "plt.plot(estimators, results)"
   ]
  },
  {
   "cell_type": "markdown",
   "metadata": {},
   "source": [
    "__Using PCA with GradientBoostRegression doesn't help to reduce the MAE. We got 0.068703 before PCA and 0.068718 after. While it doesn't reduce MAE here, maybe it is still better for generalizability? (Maybe not, open to suggestions). PCA also reduced runtime from 20 minutes down to less than 30 seconds.__"
   ]
  },
  {
   "cell_type": "code",
   "execution_count": null,
   "metadata": {
    "collapsed": true
   },
   "outputs": [],
   "source": [
    "spca = SparsePCA(n_components = 10, alpha=0.5, tol=0.001)\n",
    "spca.fit(train_data)\n",
    "for k in range(1,11):\n",
    "    explained_var = pca.explained_variance_ratio_[0:k]\n",
    "    print \"k=\" + str(k) + \", explained variance =\", sum(explained_var)"
   ]
  },
  {
   "cell_type": "code",
   "execution_count": null,
   "metadata": {
    "collapsed": true
   },
   "outputs": [],
   "source": [
    "spca = SparsePCA(n_components = 3, alpha=0.5, tol=0.001)\n",
    "spca.fit(train_data)\n",
    "train_data_spca = spca.transform(train_data) \n",
    "dev_data_spca = spca.transform(dev_data) \n",
    "\n",
    "estimators = range(1,25)\n",
    "lowest_mae = 1\n",
    "results = []\n",
    "for i in estimators:\n",
    "    gboost = GradientBoostingRegressor(n_estimators=i) \n",
    "    gboost.fit(train_data_spca, train_labels)\n",
    "    gboost_predict = gboost.predict(dev_data_spca)\n",
    "\n",
    "    mae = MAE(dev_labels, gboost_predict)\n",
    "    results.append(mae)\n",
    "    \n",
    "    if mae < lowest_mae:\n",
    "        lowest_mae = mae\n",
    "        best_estimator = i\n",
    "print \"Best estimator=%d, MAE=%7.6f\" % (best_estimator, lowest_mae)"
   ]
  },
  {
   "cell_type": "code",
   "execution_count": null,
   "metadata": {
    "collapsed": true
   },
   "outputs": [],
   "source": [
    "# print(min(results))\n",
    "plt.plot(estimators, results)"
   ]
  },
  {
   "cell_type": "markdown",
   "metadata": {},
   "source": [
    "__Using SparcePCA with GradientBoostRegression doesn't help to reduce the MAE either. We got 0.068703 before SparsePCA and 0.068724 after. SparsePCA performed slightly worse than regular PCA (0.068718) as well. The PCA models ran much faster, so maybe they're still useful.__"
   ]
  },
  {
   "cell_type": "markdown",
   "metadata": {},
   "source": [
    "# Decision Tree Regression"
   ]
  },
  {
   "cell_type": "code",
   "execution_count": null,
   "metadata": {
    "collapsed": true
   },
   "outputs": [],
   "source": [
    "dtr = DecisionTreeRegressor(criterion=\"mae\")\n",
    "dtr.fit(train_data_pca, train_labels)\n",
    "dtr_preds = dtr.predict(dev_data_pca)\n",
    "dtr_mae = MAE(dev_labels, dtr_preds)\n",
    "print 'DecisionTreeRegressor MAE =', dtr_mae"
   ]
  },
  {
   "cell_type": "markdown",
   "metadata": {},
   "source": [
    "# Random Forest Regression"
   ]
  },
  {
   "cell_type": "code",
   "execution_count": null,
   "metadata": {
    "collapsed": true
   },
   "outputs": [],
   "source": [
    "rfr = RandomForestRegressor(criterion=\"mae\", n_estimators=5)\n",
    "rfr.fit(train_data_pca, train_labels)\n",
    "rfr_preds = rfr.predict(dev_data_pca)\n",
    "mae = MAE(dev_labels, rfr_preds)\n",
    "print 'RandomForestRegressor MAE =', mae"
   ]
  },
  {
   "cell_type": "markdown",
   "metadata": {},
   "source": [
    "# Logistic Regression"
   ]
  },
  {
   "cell_type": "code",
   "execution_count": null,
   "metadata": {
    "collapsed": true
   },
   "outputs": [],
   "source": [
    "# Logistic Regression\n",
    "\n",
    "# LR1 = LogisticRegression(penalty='l2', tol=0.0001, fit_intercept=True, intercept_scaling=1\n",
    "#                               , solver='newton-cg', multi_class='multinomial')\n",
    "# ### GridSearchCV to find best C using l2 regularization.  \n",
    "# ## Using [float(2**i)/100 for i in range(1,20) ] ...\n",
    "# LR1_para = {'C': [0.02, 0.04, 0.08, 0.16, 0.32, 0.64, 1.28, 2.56, 5.12, 10.24, 20.48, \n",
    "#                        40.96, 81.92, 163.84, 327.68, 655.36, 1310.72, 2621.44, 5242.88] }\n",
    "# LR1_GS = GridSearchCV(estimator=LR1, param_grid=LR1_para, scoring='f1', n_jobs=-1)\n",
    "# LR1_GS.fit(train_data, train_labels)\n",
    "# print(\"Start LogisticRegression:\")\n",
    "# print(LR1_GS.best_score_)\n",
    "# print(LR1_GS.best_params_)\n",
    "# # print(\"f1:\",metrics.f1_score(dev_labels,LR1_GS.best_estimator_.predict(dev_data),average='micro'))\n",
    "\n"
   ]
  },
  {
   "cell_type": "code",
   "execution_count": null,
   "metadata": {
    "collapsed": true
   },
   "outputs": [],
   "source": [
    "# zipped = zip(train_df.columns, spca.components_)"
   ]
  },
  {
   "cell_type": "code",
   "execution_count": null,
   "metadata": {
    "collapsed": true
   },
   "outputs": [],
   "source": [
    "# spca.components_.shape"
   ]
  },
  {
   "cell_type": "markdown",
   "metadata": {},
   "source": [
    "Next steps:\n",
    "Check SparsePCA which features are dropped\n",
    "Model different months. Drop months before PCA, do PCA, then add months back in"
   ]
  },
  {
   "cell_type": "code",
   "execution_count": 73,
   "metadata": {},
   "outputs": [
    {
     "name": "stdout",
     "output_type": "stream",
     "text": [
      "(70000, 124)\n",
      "(70000, 111)\n",
      "(70000, 13)\n",
      "\n",
      "(20275, 124)\n",
      "(70000, 111)\n",
      "(70000, 13)\n"
     ]
    }
   ],
   "source": [
    "train_data_no_months = np.delete(train_data, range(111,124), axis=1)\n",
    "train_months = np.delete(train_data, range(0,111), axis=1)\n",
    "dev_data_no_months = np.delete(train_data, range(111,124), axis=1)\n",
    "dev_months = np.delete(train_data, range(0,111), axis=1)\n",
    "\n",
    "print train_data.shape\n",
    "print train_data_no_months.shape\n",
    "print train_months.shape\n",
    "print ''\n",
    "print dev_data.shape\n",
    "print dev_data_no_months.shape\n",
    "print dev_months.shape"
   ]
  },
  {
   "cell_type": "code",
   "execution_count": 74,
   "metadata": {},
   "outputs": [
    {
     "name": "stdout",
     "output_type": "stream",
     "text": [
      "Best estimator=1, MAE=0.068619\n"
     ]
    }
   ],
   "source": [
    "# TESTING REMOVING MONTHS AND RE-ADDING\n",
    "pca = PCA(n_components=3)\n",
    "pca.fit(train_data_no_months)\n",
    "train_data_pca = pca.transform(train_data_no_months) \n",
    "dev_data_pca = pca.transform(dev_data_no_months) \n",
    "\n",
    "train_data_final = np.hstack((train_data_pca, train_months))\n",
    "dev_data_final = np.hstack((dev_data_pca, dev_months))\n",
    "\n",
    "estimators = range(1,15)\n",
    "lowest_mae = 1\n",
    "results = []\n",
    "for i in estimators:\n",
    "    gboost = GradientBoostingRegressor(n_estimators=i) \n",
    "    gboost.fit(train_data_final, train_labels)\n",
    "    gboost_predict = gboost.predict(dev_data_final)\n",
    "\n",
    "    mae = MAE(dev_labels, gboost_predict)\n",
    "    results.append(mae)\n",
    "    \n",
    "    if mae < lowest_mae:\n",
    "        lowest_mae = mae\n",
    "        best_estimator = i\n",
    "print \"Best estimator=%d, MAE=%7.6f\" % (best_estimator, lowest_mae)"
   ]
  },
  {
   "cell_type": "code",
   "execution_count": 75,
   "metadata": {},
   "outputs": [
    {
     "data": {
      "text/plain": [
       "[<matplotlib.lines.Line2D at 0x113e45650>]"
      ]
     },
     "execution_count": 75,
     "metadata": {},
     "output_type": "execute_result"
    },
    {
     "data": {
      "image/png": "[encoded data removed]",
      "text/plain": [
       "<matplotlib.figure.Figure at 0x113bbf5d0>"
      ]
     },
     "metadata": {},
     "output_type": "display_data"
    }
   ],
   "source": [
    "# print(min(results))\n",
    "plt.plot(estimators, results)"
   ]
  },
  {
   "cell_type": "code",
   "execution_count": null,
   "metadata": {},
   "outputs": [],
   "source": [
    "# gboost = GradientBoostingRegressor(n_estimators=30) \n",
    "# gboost.fit(train_data, train_labels)\n",
    "# gboost_predict = gboost.predict(dev_data)\n",
    "\n",
    "# print MAE(dev_labels, gboost_predict)\n",
    "# print gboost.feature_importances_"
   ]
  },
  {
   "cell_type": "code",
   "execution_count": null,
   "metadata": {
    "collapsed": true
   },
   "outputs": [],
   "source": []
  }
 ],
 "metadata": {
  "anaconda-cloud": {},
  "kernelspec": {
   "display_name": "Python 2",
   "language": "python",
   "name": "python2"
  },
  "language_info": {
   "codemirror_mode": {
    "name": "ipython",
    "version": 2
   },
   "file_extension": ".py",
   "mimetype": "text/x-python",
   "name": "python",
   "nbconvert_exporter": "python",
   "pygments_lexer": "ipython2",
   "version": "2.7.13"
  }
 },
 "nbformat": 4,
 "nbformat_minor": 1
}
