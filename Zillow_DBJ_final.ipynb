{
 "cells": [
  {
   "cell_type": "markdown",
   "metadata": {},
   "source": [
    "<h1> MIDS W207 Final</h1>\n",
    "\n",
    "<h3> Group Members </h3>\n",
    "Ben Attix <br>\n",
    "Justin Plumley <br>\n",
    "Dan Watson\n",
    "\n",
    "<h3> Kaggle Competition </h3>\n",
    "Zillow Prize: Zillow’s Home Value Prediction (Zestimate)\n",
    "\n",
    "<h3> Evaluation </h3>\n",
    "Submissions are evaluated on Mean Absolute Error between the predicted log error and the actual log error. The log error is defined as:\n",
    "logerror=log(Zestimate)−log(SalePrice)\n",
    "and it is recorded in the transactions training data. If a transaction didn't happen for a property during that period of time, that row is ignored and not counted in the calculation of MAE.\n",
    "\n",
    "<h5> Competition Website </h5>\n",
    "https://www.kaggle.com/c/zillow-prize-1#description"
   ]
  },
  {
   "cell_type": "markdown",
   "metadata": {},
   "source": [
    "<h2> Load libraries, data, and test output"
   ]
  },
  {
   "cell_type": "code",
   "execution_count": 1,
   "metadata": {},
   "outputs": [
    {
     "name": "stderr",
     "output_type": "stream",
     "text": [
      "/anaconda/lib/python2.7/site-packages/sklearn/cross_validation.py:44: DeprecationWarning: This module was deprecated in version 0.18 in favor of the model_selection module into which all the refactored classes and functions are moved. Also note that the interface of the new CV iterators are different from that of this module. This module will be removed in 0.20.\n",
      "  \"This module will be removed in 0.20.\", DeprecationWarning)\n",
      "/anaconda/lib/python2.7/site-packages/sklearn/grid_search.py:43: DeprecationWarning: This module was deprecated in version 0.18 in favor of the model_selection module into which all the refactored classes and functions are moved. This module will be removed in 0.20.\n",
      "  DeprecationWarning)\n"
     ]
    }
   ],
   "source": [
    "# This tells matplotlib not to try opening a new window for each plot.\n",
    "%matplotlib inline\n",
    "\n",
    "#ignore warnings- deprecation issues w/ packages\n",
    "import warnings\n",
    "warnings.filterwarnings('ignore')\n",
    "\n",
    "# General libraries.\n",
    "import os\n",
    "import numpy as np\n",
    "import pandas as pd\n",
    "import seaborn as sns\n",
    "import matplotlib.pyplot as plt\n",
    "color = sns.color_palette()\n",
    "import time\n",
    "from matplotlib.ticker import MultipleLocator\n",
    "from mpl_toolkits.mplot3d import Axes3D\n",
    "\n",
    "\n",
    "# SK-learn libraries for learning.\n",
    "from sklearn.grid_search import GridSearchCV\n",
    "from sklearn.neighbors import KNeighborsClassifier\n",
    "from sklearn.linear_model import LinearRegression\n",
    "from sklearn.ensemble import GradientBoostingRegressor\n",
    "from sklearn.naive_bayes import GaussianNB\n",
    "from sklearn.decomposition import PCA\n",
    "from sklearn.cluster import KMeans\n",
    "from sklearn.mixture import GMM\n",
    "from sklearn.mixture import GaussianMixture \n",
    "from sklearn.tree import DecisionTreeRegressor\n",
    "from sklearn.ensemble import RandomForestRegressor \n",
    "\n",
    "\n",
    "# SK-learn libraries for evaluation.\n",
    "from sklearn import metrics\n",
    "from sklearn.metrics import confusion_matrix\n",
    "from sklearn.metrics import classification_report"
   ]
  },
  {
   "cell_type": "code",
   "execution_count": 2,
   "metadata": {},
   "outputs": [
    {
     "name": "stdout",
     "output_type": "stream",
     "text": [
      "(2985217, 58)\n",
      "(90275, 3)\n"
     ]
    }
   ],
   "source": [
    "train_csv = pd.read_csv(\"train_2016_v2.csv\", parse_dates=[\"transactiondate\"])\n",
    "prop_df = pd.read_csv(\"properties_2016.csv\")\n",
    "print(prop_df.shape)\n",
    "print(train_csv.shape)\n",
    "#df outputs\n",
    "#prop_df.head()\n",
    "#train_df.head()"
   ]
  },
  {
   "cell_type": "code",
   "execution_count": 3,
   "metadata": {},
   "outputs": [
    {
     "data": {
      "text/html": [
       "<div>\n",
       "<style>\n",
       "    .dataframe thead tr:only-child th {\n",
       "        text-align: right;\n",
       "    }\n",
       "\n",
       "    .dataframe thead th {\n",
       "        text-align: left;\n",
       "    }\n",
       "\n",
       "    .dataframe tbody tr th {\n",
       "        vertical-align: top;\n",
       "    }\n",
       "</style>\n",
       "<table border=\"1\" class=\"dataframe\">\n",
       "  <thead>\n",
       "    <tr style=\"text-align: right;\">\n",
       "      <th></th>\n",
       "      <th>parcelid</th>\n",
       "      <th>logerror</th>\n",
       "      <th>transactiondate</th>\n",
       "    </tr>\n",
       "  </thead>\n",
       "  <tbody>\n",
       "    <tr>\n",
       "      <th>0</th>\n",
       "      <td>11016594</td>\n",
       "      <td>0.0276</td>\n",
       "      <td>2016-01-01</td>\n",
       "    </tr>\n",
       "    <tr>\n",
       "      <th>1</th>\n",
       "      <td>14366692</td>\n",
       "      <td>-0.1684</td>\n",
       "      <td>2016-01-01</td>\n",
       "    </tr>\n",
       "    <tr>\n",
       "      <th>2</th>\n",
       "      <td>12098116</td>\n",
       "      <td>-0.0040</td>\n",
       "      <td>2016-01-01</td>\n",
       "    </tr>\n",
       "    <tr>\n",
       "      <th>3</th>\n",
       "      <td>12643413</td>\n",
       "      <td>0.0218</td>\n",
       "      <td>2016-01-02</td>\n",
       "    </tr>\n",
       "    <tr>\n",
       "      <th>4</th>\n",
       "      <td>14432541</td>\n",
       "      <td>-0.0050</td>\n",
       "      <td>2016-01-02</td>\n",
       "    </tr>\n",
       "  </tbody>\n",
       "</table>\n",
       "</div>"
      ],
      "text/plain": [
       "   parcelid  logerror transactiondate\n",
       "0  11016594    0.0276      2016-01-01\n",
       "1  14366692   -0.1684      2016-01-01\n",
       "2  12098116   -0.0040      2016-01-01\n",
       "3  12643413    0.0218      2016-01-02\n",
       "4  14432541   -0.0050      2016-01-02"
      ]
     },
     "execution_count": 3,
     "metadata": {},
     "output_type": "execute_result"
    }
   ],
   "source": [
    "train_csv.head()"
   ]
  },
  {
   "cell_type": "markdown",
   "metadata": {},
   "source": [
    "<H2> EDA </H2> <br>\n",
    "Many ideas and code taken from following EDA Kernels:\n",
    "https://www.kaggle.com/sudalairajkumar/simple-exploration-notebook-zillow-prize (python)\n",
    "https://www.kaggle.com/philippsp/exploratory-analysis-zillow (R)\n",
    "https://www.kaggle.com/captcalculator/a-very-extensive-zillow-exploratory-analysis (R)\n",
    "https://www.kaggle.com/viveksrinivasan/zillow-eda-on-missing-values-multicollinearity (python)\n",
    "\n",
    "<H5> Start by looking at the parcelIDs that occur in each dataset </H5>"
   ]
  },
  {
   "cell_type": "code",
   "execution_count": 4,
   "metadata": {},
   "outputs": [
    {
     "name": "stdout",
     "output_type": "stream",
     "text": [
      "('Unique ParcelIDs in train_df:', 90150)\n",
      "('Unique ParcelIDs in prop_df:', 2985217)\n"
     ]
    }
   ],
   "source": [
    "# start by looing at unique parcelIDs\n",
    "print(\"Unique ParcelIDs in train_df:\", train_csv.parcelid.nunique())\n",
    "print(\"Unique ParcelIDs in prop_df:\", prop_df.parcelid.nunique())"
   ]
  },
  {
   "cell_type": "markdown",
   "metadata": {},
   "source": [
    "We have 2,985,217 parcel IDs in the properties data but only 90,150 in the training data. When training our model, the only parcel IDs we can use are the ones both datasets, the rest are useless to us.\n",
    "\n",
    "By doing an inner merge we can limit our data down to the parcel IDs we want."
   ]
  },
  {
   "cell_type": "code",
   "execution_count": 5,
   "metadata": {},
   "outputs": [
    {
     "name": "stdout",
     "output_type": "stream",
     "text": [
      "('Dataframe shape:', (90275, 60))\n"
     ]
    },
    {
     "data": {
      "text/html": [
       "<div>\n",
       "<style>\n",
       "    .dataframe thead tr:only-child th {\n",
       "        text-align: right;\n",
       "    }\n",
       "\n",
       "    .dataframe thead th {\n",
       "        text-align: left;\n",
       "    }\n",
       "\n",
       "    .dataframe tbody tr th {\n",
       "        vertical-align: top;\n",
       "    }\n",
       "</style>\n",
       "<table border=\"1\" class=\"dataframe\">\n",
       "  <thead>\n",
       "    <tr style=\"text-align: right;\">\n",
       "      <th></th>\n",
       "      <th>parcelid</th>\n",
       "      <th>logerror</th>\n",
       "      <th>transactiondate</th>\n",
       "      <th>airconditioningtypeid</th>\n",
       "      <th>architecturalstyletypeid</th>\n",
       "      <th>basementsqft</th>\n",
       "      <th>bathroomcnt</th>\n",
       "      <th>bedroomcnt</th>\n",
       "      <th>buildingclasstypeid</th>\n",
       "      <th>buildingqualitytypeid</th>\n",
       "      <th>...</th>\n",
       "      <th>numberofstories</th>\n",
       "      <th>fireplaceflag</th>\n",
       "      <th>structuretaxvaluedollarcnt</th>\n",
       "      <th>taxvaluedollarcnt</th>\n",
       "      <th>assessmentyear</th>\n",
       "      <th>landtaxvaluedollarcnt</th>\n",
       "      <th>taxamount</th>\n",
       "      <th>taxdelinquencyflag</th>\n",
       "      <th>taxdelinquencyyear</th>\n",
       "      <th>censustractandblock</th>\n",
       "    </tr>\n",
       "  </thead>\n",
       "  <tbody>\n",
       "    <tr>\n",
       "      <th>0</th>\n",
       "      <td>11016594</td>\n",
       "      <td>0.0276</td>\n",
       "      <td>2016-01-01</td>\n",
       "      <td>1.0</td>\n",
       "      <td>NaN</td>\n",
       "      <td>NaN</td>\n",
       "      <td>2.0</td>\n",
       "      <td>3.0</td>\n",
       "      <td>NaN</td>\n",
       "      <td>4.0</td>\n",
       "      <td>...</td>\n",
       "      <td>NaN</td>\n",
       "      <td>NaN</td>\n",
       "      <td>122754.0</td>\n",
       "      <td>360170.0</td>\n",
       "      <td>2015.0</td>\n",
       "      <td>237416.0</td>\n",
       "      <td>6735.88</td>\n",
       "      <td>NaN</td>\n",
       "      <td>NaN</td>\n",
       "      <td>6.037107e+13</td>\n",
       "    </tr>\n",
       "    <tr>\n",
       "      <th>1</th>\n",
       "      <td>14366692</td>\n",
       "      <td>-0.1684</td>\n",
       "      <td>2016-01-01</td>\n",
       "      <td>NaN</td>\n",
       "      <td>NaN</td>\n",
       "      <td>NaN</td>\n",
       "      <td>3.5</td>\n",
       "      <td>4.0</td>\n",
       "      <td>NaN</td>\n",
       "      <td>NaN</td>\n",
       "      <td>...</td>\n",
       "      <td>NaN</td>\n",
       "      <td>NaN</td>\n",
       "      <td>346458.0</td>\n",
       "      <td>585529.0</td>\n",
       "      <td>2015.0</td>\n",
       "      <td>239071.0</td>\n",
       "      <td>10153.02</td>\n",
       "      <td>NaN</td>\n",
       "      <td>NaN</td>\n",
       "      <td>NaN</td>\n",
       "    </tr>\n",
       "    <tr>\n",
       "      <th>2</th>\n",
       "      <td>12098116</td>\n",
       "      <td>-0.0040</td>\n",
       "      <td>2016-01-01</td>\n",
       "      <td>1.0</td>\n",
       "      <td>NaN</td>\n",
       "      <td>NaN</td>\n",
       "      <td>3.0</td>\n",
       "      <td>2.0</td>\n",
       "      <td>NaN</td>\n",
       "      <td>4.0</td>\n",
       "      <td>...</td>\n",
       "      <td>NaN</td>\n",
       "      <td>NaN</td>\n",
       "      <td>61994.0</td>\n",
       "      <td>119906.0</td>\n",
       "      <td>2015.0</td>\n",
       "      <td>57912.0</td>\n",
       "      <td>11484.48</td>\n",
       "      <td>NaN</td>\n",
       "      <td>NaN</td>\n",
       "      <td>6.037464e+13</td>\n",
       "    </tr>\n",
       "    <tr>\n",
       "      <th>3</th>\n",
       "      <td>12643413</td>\n",
       "      <td>0.0218</td>\n",
       "      <td>2016-01-02</td>\n",
       "      <td>1.0</td>\n",
       "      <td>NaN</td>\n",
       "      <td>NaN</td>\n",
       "      <td>2.0</td>\n",
       "      <td>2.0</td>\n",
       "      <td>NaN</td>\n",
       "      <td>4.0</td>\n",
       "      <td>...</td>\n",
       "      <td>NaN</td>\n",
       "      <td>NaN</td>\n",
       "      <td>171518.0</td>\n",
       "      <td>244880.0</td>\n",
       "      <td>2015.0</td>\n",
       "      <td>73362.0</td>\n",
       "      <td>3048.74</td>\n",
       "      <td>NaN</td>\n",
       "      <td>NaN</td>\n",
       "      <td>6.037296e+13</td>\n",
       "    </tr>\n",
       "    <tr>\n",
       "      <th>4</th>\n",
       "      <td>14432541</td>\n",
       "      <td>-0.0050</td>\n",
       "      <td>2016-01-02</td>\n",
       "      <td>NaN</td>\n",
       "      <td>NaN</td>\n",
       "      <td>NaN</td>\n",
       "      <td>2.5</td>\n",
       "      <td>4.0</td>\n",
       "      <td>NaN</td>\n",
       "      <td>NaN</td>\n",
       "      <td>...</td>\n",
       "      <td>2.0</td>\n",
       "      <td>NaN</td>\n",
       "      <td>169574.0</td>\n",
       "      <td>434551.0</td>\n",
       "      <td>2015.0</td>\n",
       "      <td>264977.0</td>\n",
       "      <td>5488.96</td>\n",
       "      <td>NaN</td>\n",
       "      <td>NaN</td>\n",
       "      <td>6.059042e+13</td>\n",
       "    </tr>\n",
       "  </tbody>\n",
       "</table>\n",
       "<p>5 rows × 60 columns</p>\n",
       "</div>"
      ],
      "text/plain": [
       "   parcelid  logerror transactiondate  airconditioningtypeid  \\\n",
       "0  11016594    0.0276      2016-01-01                    1.0   \n",
       "1  14366692   -0.1684      2016-01-01                    NaN   \n",
       "2  12098116   -0.0040      2016-01-01                    1.0   \n",
       "3  12643413    0.0218      2016-01-02                    1.0   \n",
       "4  14432541   -0.0050      2016-01-02                    NaN   \n",
       "\n",
       "   architecturalstyletypeid  basementsqft  bathroomcnt  bedroomcnt  \\\n",
       "0                       NaN           NaN          2.0         3.0   \n",
       "1                       NaN           NaN          3.5         4.0   \n",
       "2                       NaN           NaN          3.0         2.0   \n",
       "3                       NaN           NaN          2.0         2.0   \n",
       "4                       NaN           NaN          2.5         4.0   \n",
       "\n",
       "   buildingclasstypeid  buildingqualitytypeid         ...           \\\n",
       "0                  NaN                    4.0         ...            \n",
       "1                  NaN                    NaN         ...            \n",
       "2                  NaN                    4.0         ...            \n",
       "3                  NaN                    4.0         ...            \n",
       "4                  NaN                    NaN         ...            \n",
       "\n",
       "   numberofstories  fireplaceflag  structuretaxvaluedollarcnt  \\\n",
       "0              NaN            NaN                    122754.0   \n",
       "1              NaN            NaN                    346458.0   \n",
       "2              NaN            NaN                     61994.0   \n",
       "3              NaN            NaN                    171518.0   \n",
       "4              2.0            NaN                    169574.0   \n",
       "\n",
       "   taxvaluedollarcnt  assessmentyear  landtaxvaluedollarcnt  taxamount  \\\n",
       "0           360170.0          2015.0               237416.0    6735.88   \n",
       "1           585529.0          2015.0               239071.0   10153.02   \n",
       "2           119906.0          2015.0                57912.0   11484.48   \n",
       "3           244880.0          2015.0                73362.0    3048.74   \n",
       "4           434551.0          2015.0               264977.0    5488.96   \n",
       "\n",
       "   taxdelinquencyflag  taxdelinquencyyear  censustractandblock  \n",
       "0                 NaN                 NaN         6.037107e+13  \n",
       "1                 NaN                 NaN                  NaN  \n",
       "2                 NaN                 NaN         6.037464e+13  \n",
       "3                 NaN                 NaN         6.037296e+13  \n",
       "4                 NaN                 NaN         6.059042e+13  \n",
       "\n",
       "[5 rows x 60 columns]"
      ]
     },
     "execution_count": 5,
     "metadata": {},
     "output_type": "execute_result"
    }
   ],
   "source": [
    "# merge dataframes and view result\n",
    "train_df = pd.merge(train_csv, prop_df, on='parcelid', how='inner')\n",
    "print('Dataframe shape:', train_df.shape)\n",
    "train_df.head()"
   ]
  },
  {
   "cell_type": "code",
   "execution_count": 6,
   "metadata": {},
   "outputs": [
    {
     "data": {
      "text/html": [
       "<div>\n",
       "<style>\n",
       "    .dataframe thead tr:only-child th {\n",
       "        text-align: right;\n",
       "    }\n",
       "\n",
       "    .dataframe thead th {\n",
       "        text-align: left;\n",
       "    }\n",
       "\n",
       "    .dataframe tbody tr th {\n",
       "        vertical-align: top;\n",
       "    }\n",
       "</style>\n",
       "<table border=\"1\" class=\"dataframe\">\n",
       "  <thead>\n",
       "    <tr style=\"text-align: right;\">\n",
       "      <th></th>\n",
       "      <th>parcelid</th>\n",
       "      <th>logerror</th>\n",
       "      <th>airconditioningtypeid</th>\n",
       "      <th>architecturalstyletypeid</th>\n",
       "      <th>basementsqft</th>\n",
       "      <th>bathroomcnt</th>\n",
       "      <th>bedroomcnt</th>\n",
       "      <th>buildingclasstypeid</th>\n",
       "      <th>buildingqualitytypeid</th>\n",
       "      <th>calculatedbathnbr</th>\n",
       "      <th>...</th>\n",
       "      <th>yardbuildingsqft26</th>\n",
       "      <th>yearbuilt</th>\n",
       "      <th>numberofstories</th>\n",
       "      <th>structuretaxvaluedollarcnt</th>\n",
       "      <th>taxvaluedollarcnt</th>\n",
       "      <th>assessmentyear</th>\n",
       "      <th>landtaxvaluedollarcnt</th>\n",
       "      <th>taxamount</th>\n",
       "      <th>taxdelinquencyyear</th>\n",
       "      <th>censustractandblock</th>\n",
       "    </tr>\n",
       "  </thead>\n",
       "  <tbody>\n",
       "    <tr>\n",
       "      <th>count</th>\n",
       "      <td>9.027500e+04</td>\n",
       "      <td>90275.000000</td>\n",
       "      <td>28781.000000</td>\n",
       "      <td>261.000000</td>\n",
       "      <td>43.000000</td>\n",
       "      <td>90275.000000</td>\n",
       "      <td>90275.000000</td>\n",
       "      <td>16.0</td>\n",
       "      <td>57364.000000</td>\n",
       "      <td>89093.000000</td>\n",
       "      <td>...</td>\n",
       "      <td>95.000000</td>\n",
       "      <td>89519.000000</td>\n",
       "      <td>20570.000000</td>\n",
       "      <td>8.989500e+04</td>\n",
       "      <td>9.027400e+04</td>\n",
       "      <td>90275.0</td>\n",
       "      <td>9.027400e+04</td>\n",
       "      <td>90269.000000</td>\n",
       "      <td>1783.000000</td>\n",
       "      <td>8.967000e+04</td>\n",
       "    </tr>\n",
       "    <tr>\n",
       "      <th>mean</th>\n",
       "      <td>1.298466e+07</td>\n",
       "      <td>0.011457</td>\n",
       "      <td>1.816372</td>\n",
       "      <td>7.229885</td>\n",
       "      <td>713.581395</td>\n",
       "      <td>2.279474</td>\n",
       "      <td>3.031869</td>\n",
       "      <td>4.0</td>\n",
       "      <td>5.565407</td>\n",
       "      <td>2.309216</td>\n",
       "      <td>...</td>\n",
       "      <td>311.694737</td>\n",
       "      <td>1968.532870</td>\n",
       "      <td>1.440739</td>\n",
       "      <td>1.800934e+05</td>\n",
       "      <td>4.576726e+05</td>\n",
       "      <td>2015.0</td>\n",
       "      <td>2.783353e+05</td>\n",
       "      <td>5983.975927</td>\n",
       "      <td>13.402692</td>\n",
       "      <td>6.049151e+13</td>\n",
       "    </tr>\n",
       "    <tr>\n",
       "      <th>std</th>\n",
       "      <td>2.504510e+06</td>\n",
       "      <td>0.161079</td>\n",
       "      <td>2.974168</td>\n",
       "      <td>2.716196</td>\n",
       "      <td>437.434198</td>\n",
       "      <td>1.004271</td>\n",
       "      <td>1.156436</td>\n",
       "      <td>0.0</td>\n",
       "      <td>1.900602</td>\n",
       "      <td>0.976172</td>\n",
       "      <td>...</td>\n",
       "      <td>346.354850</td>\n",
       "      <td>23.763475</td>\n",
       "      <td>0.544498</td>\n",
       "      <td>2.091299e+05</td>\n",
       "      <td>5.548844e+05</td>\n",
       "      <td>0.0</td>\n",
       "      <td>4.004955e+05</td>\n",
       "      <td>6838.876956</td>\n",
       "      <td>2.715966</td>\n",
       "      <td>2.046605e+11</td>\n",
       "    </tr>\n",
       "    <tr>\n",
       "      <th>min</th>\n",
       "      <td>1.071174e+07</td>\n",
       "      <td>-4.605000</td>\n",
       "      <td>1.000000</td>\n",
       "      <td>2.000000</td>\n",
       "      <td>100.000000</td>\n",
       "      <td>0.000000</td>\n",
       "      <td>0.000000</td>\n",
       "      <td>4.0</td>\n",
       "      <td>1.000000</td>\n",
       "      <td>1.000000</td>\n",
       "      <td>...</td>\n",
       "      <td>18.000000</td>\n",
       "      <td>1885.000000</td>\n",
       "      <td>1.000000</td>\n",
       "      <td>1.000000e+02</td>\n",
       "      <td>2.200000e+01</td>\n",
       "      <td>2015.0</td>\n",
       "      <td>2.200000e+01</td>\n",
       "      <td>49.080000</td>\n",
       "      <td>6.000000</td>\n",
       "      <td>6.037101e+13</td>\n",
       "    </tr>\n",
       "    <tr>\n",
       "      <th>25%</th>\n",
       "      <td>1.155950e+07</td>\n",
       "      <td>-0.025300</td>\n",
       "      <td>1.000000</td>\n",
       "      <td>7.000000</td>\n",
       "      <td>407.500000</td>\n",
       "      <td>2.000000</td>\n",
       "      <td>2.000000</td>\n",
       "      <td>4.0</td>\n",
       "      <td>4.000000</td>\n",
       "      <td>2.000000</td>\n",
       "      <td>...</td>\n",
       "      <td>100.000000</td>\n",
       "      <td>1953.000000</td>\n",
       "      <td>1.000000</td>\n",
       "      <td>8.124500e+04</td>\n",
       "      <td>1.990232e+05</td>\n",
       "      <td>2015.0</td>\n",
       "      <td>8.222800e+04</td>\n",
       "      <td>2872.830000</td>\n",
       "      <td>13.000000</td>\n",
       "      <td>6.037320e+13</td>\n",
       "    </tr>\n",
       "    <tr>\n",
       "      <th>50%</th>\n",
       "      <td>1.254734e+07</td>\n",
       "      <td>0.006000</td>\n",
       "      <td>1.000000</td>\n",
       "      <td>7.000000</td>\n",
       "      <td>616.000000</td>\n",
       "      <td>2.000000</td>\n",
       "      <td>3.000000</td>\n",
       "      <td>4.0</td>\n",
       "      <td>7.000000</td>\n",
       "      <td>2.000000</td>\n",
       "      <td>...</td>\n",
       "      <td>159.000000</td>\n",
       "      <td>1970.000000</td>\n",
       "      <td>1.000000</td>\n",
       "      <td>1.320000e+05</td>\n",
       "      <td>3.428720e+05</td>\n",
       "      <td>2015.0</td>\n",
       "      <td>1.929700e+05</td>\n",
       "      <td>4542.750000</td>\n",
       "      <td>14.000000</td>\n",
       "      <td>6.037615e+13</td>\n",
       "    </tr>\n",
       "    <tr>\n",
       "      <th>75%</th>\n",
       "      <td>1.422755e+07</td>\n",
       "      <td>0.039200</td>\n",
       "      <td>1.000000</td>\n",
       "      <td>7.000000</td>\n",
       "      <td>872.000000</td>\n",
       "      <td>3.000000</td>\n",
       "      <td>4.000000</td>\n",
       "      <td>4.0</td>\n",
       "      <td>7.000000</td>\n",
       "      <td>3.000000</td>\n",
       "      <td>...</td>\n",
       "      <td>361.000000</td>\n",
       "      <td>1987.000000</td>\n",
       "      <td>2.000000</td>\n",
       "      <td>2.105345e+05</td>\n",
       "      <td>5.405890e+05</td>\n",
       "      <td>2015.0</td>\n",
       "      <td>3.454195e+05</td>\n",
       "      <td>6901.090000</td>\n",
       "      <td>15.000000</td>\n",
       "      <td>6.059042e+13</td>\n",
       "    </tr>\n",
       "    <tr>\n",
       "      <th>max</th>\n",
       "      <td>1.629608e+08</td>\n",
       "      <td>4.737000</td>\n",
       "      <td>13.000000</td>\n",
       "      <td>21.000000</td>\n",
       "      <td>1555.000000</td>\n",
       "      <td>20.000000</td>\n",
       "      <td>16.000000</td>\n",
       "      <td>4.0</td>\n",
       "      <td>12.000000</td>\n",
       "      <td>20.000000</td>\n",
       "      <td>...</td>\n",
       "      <td>1366.000000</td>\n",
       "      <td>2015.000000</td>\n",
       "      <td>4.000000</td>\n",
       "      <td>9.948100e+06</td>\n",
       "      <td>2.775000e+07</td>\n",
       "      <td>2015.0</td>\n",
       "      <td>2.450000e+07</td>\n",
       "      <td>321936.090000</td>\n",
       "      <td>99.000000</td>\n",
       "      <td>6.111009e+13</td>\n",
       "    </tr>\n",
       "  </tbody>\n",
       "</table>\n",
       "<p>8 rows × 54 columns</p>\n",
       "</div>"
      ],
      "text/plain": [
       "           parcelid      logerror  airconditioningtypeid  \\\n",
       "count  9.027500e+04  90275.000000           28781.000000   \n",
       "mean   1.298466e+07      0.011457               1.816372   \n",
       "std    2.504510e+06      0.161079               2.974168   \n",
       "min    1.071174e+07     -4.605000               1.000000   \n",
       "25%    1.155950e+07     -0.025300               1.000000   \n",
       "50%    1.254734e+07      0.006000               1.000000   \n",
       "75%    1.422755e+07      0.039200               1.000000   \n",
       "max    1.629608e+08      4.737000              13.000000   \n",
       "\n",
       "       architecturalstyletypeid  basementsqft   bathroomcnt    bedroomcnt  \\\n",
       "count                261.000000     43.000000  90275.000000  90275.000000   \n",
       "mean                   7.229885    713.581395      2.279474      3.031869   \n",
       "std                    2.716196    437.434198      1.004271      1.156436   \n",
       "min                    2.000000    100.000000      0.000000      0.000000   \n",
       "25%                    7.000000    407.500000      2.000000      2.000000   \n",
       "50%                    7.000000    616.000000      2.000000      3.000000   \n",
       "75%                    7.000000    872.000000      3.000000      4.000000   \n",
       "max                   21.000000   1555.000000     20.000000     16.000000   \n",
       "\n",
       "       buildingclasstypeid  buildingqualitytypeid  calculatedbathnbr  \\\n",
       "count                 16.0           57364.000000       89093.000000   \n",
       "mean                   4.0               5.565407           2.309216   \n",
       "std                    0.0               1.900602           0.976172   \n",
       "min                    4.0               1.000000           1.000000   \n",
       "25%                    4.0               4.000000           2.000000   \n",
       "50%                    4.0               7.000000           2.000000   \n",
       "75%                    4.0               7.000000           3.000000   \n",
       "max                    4.0              12.000000          20.000000   \n",
       "\n",
       "              ...           yardbuildingsqft26     yearbuilt  numberofstories  \\\n",
       "count         ...                    95.000000  89519.000000     20570.000000   \n",
       "mean          ...                   311.694737   1968.532870         1.440739   \n",
       "std           ...                   346.354850     23.763475         0.544498   \n",
       "min           ...                    18.000000   1885.000000         1.000000   \n",
       "25%           ...                   100.000000   1953.000000         1.000000   \n",
       "50%           ...                   159.000000   1970.000000         1.000000   \n",
       "75%           ...                   361.000000   1987.000000         2.000000   \n",
       "max           ...                  1366.000000   2015.000000         4.000000   \n",
       "\n",
       "       structuretaxvaluedollarcnt  taxvaluedollarcnt  assessmentyear  \\\n",
       "count                8.989500e+04       9.027400e+04         90275.0   \n",
       "mean                 1.800934e+05       4.576726e+05          2015.0   \n",
       "std                  2.091299e+05       5.548844e+05             0.0   \n",
       "min                  1.000000e+02       2.200000e+01          2015.0   \n",
       "25%                  8.124500e+04       1.990232e+05          2015.0   \n",
       "50%                  1.320000e+05       3.428720e+05          2015.0   \n",
       "75%                  2.105345e+05       5.405890e+05          2015.0   \n",
       "max                  9.948100e+06       2.775000e+07          2015.0   \n",
       "\n",
       "       landtaxvaluedollarcnt      taxamount  taxdelinquencyyear  \\\n",
       "count           9.027400e+04   90269.000000         1783.000000   \n",
       "mean            2.783353e+05    5983.975927           13.402692   \n",
       "std             4.004955e+05    6838.876956            2.715966   \n",
       "min             2.200000e+01      49.080000            6.000000   \n",
       "25%             8.222800e+04    2872.830000           13.000000   \n",
       "50%             1.929700e+05    4542.750000           14.000000   \n",
       "75%             3.454195e+05    6901.090000           15.000000   \n",
       "max             2.450000e+07  321936.090000           99.000000   \n",
       "\n",
       "       censustractandblock  \n",
       "count         8.967000e+04  \n",
       "mean          6.049151e+13  \n",
       "std           2.046605e+11  \n",
       "min           6.037101e+13  \n",
       "25%           6.037320e+13  \n",
       "50%           6.037615e+13  \n",
       "75%           6.059042e+13  \n",
       "max           6.111009e+13  \n",
       "\n",
       "[8 rows x 54 columns]"
      ]
     },
     "execution_count": 6,
     "metadata": {},
     "output_type": "execute_result"
    }
   ],
   "source": [
    "train_df.describe()"
   ]
  },
  {
   "cell_type": "code",
   "execution_count": 7,
   "metadata": {},
   "outputs": [
    {
     "data": {
      "image/png": "[encoded data removed]",
      "text/plain": [
       "<matplotlib.figure.Figure at 0x10e356550>"
      ]
     },
     "metadata": {},
     "output_type": "display_data"
    }
   ],
   "source": [
    "# View ordered scatter of log errors\n",
    "plt.figure(figsize=(8,5))\n",
    "plt.scatter(range(train_df.shape[0]), np.sort(train_df.logerror.values))\n",
    "plt.xlabel('index', fontsize=12)\n",
    "plt.ylabel('logerror', fontsize=12)\n",
    "plt.show()"
   ]
  },
  {
   "cell_type": "markdown",
   "metadata": {},
   "source": [
    "Log error is quite good for vast majority.  Seem like most are very close to zero with relatively large errors at the extremes."
   ]
  },
  {
   "cell_type": "code",
   "execution_count": 8,
   "metadata": {},
   "outputs": [
    {
     "data": {
      "image/png": "[encoded data removed]",
      "text/plain": [
       "<matplotlib.figure.Figure at 0x14159d9d0>"
      ]
     },
     "metadata": {},
     "output_type": "display_data"
    }
   ],
   "source": [
    "plt.figure(figsize=(12,8))\n",
    "sns.distplot(train_df.logerror.values, bins=50, kde=False)\n",
    "plt.xlabel('logerror', fontsize=12)\n",
    "plt.show()"
   ]
  },
  {
   "cell_type": "markdown",
   "metadata": {},
   "source": [
    "Similar to above, very peaked distribution centered around 0 log error.  Very low outliers in number, but large in relative scale."
   ]
  },
  {
   "cell_type": "markdown",
   "metadata": {
    "collapsed": true
   },
   "source": [
    "<H5> Transaction Date </H5>"
   ]
  },
  {
   "cell_type": "code",
   "execution_count": 9,
   "metadata": {},
   "outputs": [
    {
     "data": {
      "text/plain": [
       "count                   90275\n",
       "unique                    352\n",
       "top       2016-07-29 00:00:00\n",
       "freq                      910\n",
       "first     2016-01-01 00:00:00\n",
       "last      2016-12-30 00:00:00\n",
       "Name: transactiondate, dtype: object"
      ]
     },
     "execution_count": 9,
     "metadata": {},
     "output_type": "execute_result"
    }
   ],
   "source": [
    "train_df.transactiondate.describe()"
   ]
  },
  {
   "cell_type": "markdown",
   "metadata": {
    "collapsed": true
   },
   "source": [
    "All the data is from 2016- we can aggregate it by month"
   ]
  },
  {
   "cell_type": "code",
   "execution_count": 10,
   "metadata": {},
   "outputs": [
    {
     "data": {
      "image/png": "[encoded data removed]",
      "text/plain": [
       "<matplotlib.figure.Figure at 0x10e8b42d0>"
      ]
     },
     "metadata": {},
     "output_type": "display_data"
    }
   ],
   "source": [
    "train_df['transaction_month'] = train_df['transactiondate'].dt.month\n",
    "\n",
    "cnt_srs = train_df['transaction_month'].value_counts()\n",
    "plt.figure(figsize=(12,6))\n",
    "bars= sns.barplot(cnt_srs.index, cnt_srs.values,  color=color[2])\n",
    "plt.xticks()\n",
    "plt.xlabel('Month of transaction', fontsize=12)\n",
    "plt.ylabel('Number of Occurrences', fontsize=12)\n",
    "plt.show()"
   ]
  },
  {
   "cell_type": "markdown",
   "metadata": {},
   "source": [
    "Slow start of the year, then transactions pick up through August.  We do not have all the transactions after October 15th, per competition website."
   ]
  },
  {
   "cell_type": "code",
   "execution_count": 11,
   "metadata": {},
   "outputs": [
    {
     "data": {
      "text/plain": [
       "<matplotlib.axes._subplots.AxesSubplot at 0x10e71ab10>"
      ]
     },
     "execution_count": 11,
     "metadata": {},
     "output_type": "execute_result"
    },
    {
     "data": {
      "image/png": "[encoded data removed]",
      "text/plain": [
       "<matplotlib.figure.Figure at 0x10e7dc9d0>"
      ]
     },
     "metadata": {},
     "output_type": "display_data"
    }
   ],
   "source": [
    "## Create violin plots to visualize range and variance of logerror by month\n",
    "sns.set_style(\"whitegrid\")\n",
    "s1_dims = (15, 20)\n",
    "fig, ax = plt.subplots(figsize=s1_dims)\n",
    "ax.set(ylim=(-0.2, 0.2))\n",
    "sns.violinplot(ax=ax, data=train_df, x=\"transaction_month\", y=\"logerror\")"
   ]
  },
  {
   "cell_type": "markdown",
   "metadata": {},
   "source": [
    "Variance appears to grow with the later months (those with fewer values), though the medians appear to be positive, particularly for the winter months.  Besides normal features, we may want to include dummy variables for seasonality.\n"
   ]
  },
  {
   "cell_type": "markdown",
   "metadata": {},
   "source": [
    "## More on Large Log Errors"
   ]
  },
  {
   "cell_type": "markdown",
   "metadata": {},
   "source": [
    "This competition is focused on predicting the log error of predicted versus transaction prices. As shown in the graph in EDA section and recreated below, the vast majority of log errors are quite low. It is in the extreme values where the error rates increase drastically. Therefore, we will perform an analysis on just these extreme values to see if there are any patterns that will help us identify these values.\n"
   ]
  },
  {
   "cell_type": "code",
   "execution_count": 13,
   "metadata": {},
   "outputs": [
    {
     "data": {
      "image/png": "[encoded data removed]",
      "text/plain": [
       "<matplotlib.figure.Figure at 0x10f6cf2d0>"
      ]
     },
     "metadata": {},
     "output_type": "display_data"
    }
   ],
   "source": [
    "plt.figure(figsize=(8,5))\n",
    "# create a mask for values less than -.1 and greater than .1\n",
    "masked = np.ma.masked_outside(np.sort(train_df.logerror.values), -.1, .1)\n",
    "# plot masked and non-masked values\n",
    "plt.plot(range(train_df.shape[0]), np.sort(train_df.logerror.values), 'red')\n",
    "plt.plot(range(train_df.shape[0]), masked, 'blue')\n",
    "plt.xlabel('index', fontsize=12)\n",
    "plt.ylabel('logerror', fontsize=12)\n",
    "plt.show()"
   ]
  },
  {
   "cell_type": "code",
   "execution_count": 14,
   "metadata": {
    "collapsed": true
   },
   "outputs": [],
   "source": [
    "high_error_df= train_df[(train_df.logerror <-.1) | (train_df.logerror >.1)]\n",
    "low_error_df = train_df[(train_df.logerror>=-.1) & (train_df.logerror<=.1)]"
   ]
  },
  {
   "cell_type": "code",
   "execution_count": 15,
   "metadata": {},
   "outputs": [
    {
     "data": {
      "image/png": "[encoded data removed]",
      "text/plain": [
       "<matplotlib.figure.Figure at 0x10f70bed0>"
      ]
     },
     "metadata": {},
     "output_type": "display_data"
    },
    {
     "data": {
      "image/png": "[encoded data removed]",
      "text/plain": [
       "<matplotlib.figure.Figure at 0x10f0f2390>"
      ]
     },
     "metadata": {},
     "output_type": "display_data"
    }
   ],
   "source": [
    "cnt_srs = high_error_df['transaction_month'].value_counts()\n",
    "plt.figure(figsize=(12,6))\n",
    "bars= sns.barplot(cnt_srs.index, cnt_srs.values,  color=color[2])\n",
    "plt.xticks()\n",
    "plt.xlabel('Month of transaction', fontsize=12)\n",
    "plt.ylabel('Number of Occurrences', fontsize=12)\n",
    "plt.title('Number of Transactions per Month- High Error Data')\n",
    "plt.show()\n",
    "\n",
    "\n",
    "\n",
    "cnt_srs = low_error_df['transaction_month'].value_counts()\n",
    "plt.figure(figsize=(12,6))\n",
    "bars= sns.barplot(cnt_srs.index, cnt_srs.values,  color=color[2])\n",
    "plt.xticks()\n",
    "plt.xlabel('Month of transaction', fontsize=12)\n",
    "plt.ylabel('Number of Occurrences', fontsize=12)\n",
    "plt.title('Number of Transactions per Month- All Data')\n",
    "plt.show()"
   ]
  },
  {
   "cell_type": "code",
   "execution_count": 16,
   "metadata": {},
   "outputs": [
    {
     "data": {
      "text/html": [
       "<div>\n",
       "<style>\n",
       "    .dataframe thead tr:only-child th {\n",
       "        text-align: right;\n",
       "    }\n",
       "\n",
       "    .dataframe thead th {\n",
       "        text-align: left;\n",
       "    }\n",
       "\n",
       "    .dataframe tbody tr th {\n",
       "        vertical-align: top;\n",
       "    }\n",
       "</style>\n",
       "<table border=\"1\" class=\"dataframe\">\n",
       "  <thead>\n",
       "    <tr style=\"text-align: right;\">\n",
       "      <th></th>\n",
       "      <th>parcelid</th>\n",
       "      <th>logerror</th>\n",
       "      <th>airconditioningtypeid</th>\n",
       "      <th>architecturalstyletypeid</th>\n",
       "      <th>basementsqft</th>\n",
       "      <th>bathroomcnt</th>\n",
       "      <th>bedroomcnt</th>\n",
       "      <th>buildingclasstypeid</th>\n",
       "      <th>buildingqualitytypeid</th>\n",
       "    </tr>\n",
       "  </thead>\n",
       "  <tbody>\n",
       "    <tr>\n",
       "      <th>count</th>\n",
       "      <td>1.457500e+04</td>\n",
       "      <td>14575.000000</td>\n",
       "      <td>3941.000000</td>\n",
       "      <td>26.000000</td>\n",
       "      <td>10.00000</td>\n",
       "      <td>14575.000000</td>\n",
       "      <td>14575.000000</td>\n",
       "      <td>13.0</td>\n",
       "      <td>10394.000000</td>\n",
       "    </tr>\n",
       "    <tr>\n",
       "      <th>mean</th>\n",
       "      <td>1.269726e+07</td>\n",
       "      <td>0.050639</td>\n",
       "      <td>1.587668</td>\n",
       "      <td>7.269231</td>\n",
       "      <td>770.60000</td>\n",
       "      <td>2.281990</td>\n",
       "      <td>3.063945</td>\n",
       "      <td>4.0</td>\n",
       "      <td>5.863575</td>\n",
       "    </tr>\n",
       "    <tr>\n",
       "      <th>std</th>\n",
       "      <td>2.059733e+06</td>\n",
       "      <td>0.387913</td>\n",
       "      <td>2.561674</td>\n",
       "      <td>3.079710</td>\n",
       "      <td>510.46715</td>\n",
       "      <td>1.244034</td>\n",
       "      <td>1.379942</td>\n",
       "      <td>0.0</td>\n",
       "      <td>1.962375</td>\n",
       "    </tr>\n",
       "    <tr>\n",
       "      <th>min</th>\n",
       "      <td>1.071180e+07</td>\n",
       "      <td>-4.605000</td>\n",
       "      <td>1.000000</td>\n",
       "      <td>2.000000</td>\n",
       "      <td>184.00000</td>\n",
       "      <td>0.000000</td>\n",
       "      <td>0.000000</td>\n",
       "      <td>4.0</td>\n",
       "      <td>1.000000</td>\n",
       "    </tr>\n",
       "    <tr>\n",
       "      <th>25%</th>\n",
       "      <td>1.156110e+07</td>\n",
       "      <td>-0.148500</td>\n",
       "      <td>1.000000</td>\n",
       "      <td>7.000000</td>\n",
       "      <td>369.00000</td>\n",
       "      <td>1.500000</td>\n",
       "      <td>2.000000</td>\n",
       "      <td>4.0</td>\n",
       "      <td>4.000000</td>\n",
       "    </tr>\n",
       "    <tr>\n",
       "      <th>50%</th>\n",
       "      <td>1.218885e+07</td>\n",
       "      <td>0.112400</td>\n",
       "      <td>1.000000</td>\n",
       "      <td>7.000000</td>\n",
       "      <td>653.00000</td>\n",
       "      <td>2.000000</td>\n",
       "      <td>3.000000</td>\n",
       "      <td>4.0</td>\n",
       "      <td>7.000000</td>\n",
       "    </tr>\n",
       "    <tr>\n",
       "      <th>75%</th>\n",
       "      <td>1.387711e+07</td>\n",
       "      <td>0.193900</td>\n",
       "      <td>1.000000</td>\n",
       "      <td>7.000000</td>\n",
       "      <td>1111.00000</td>\n",
       "      <td>3.000000</td>\n",
       "      <td>4.000000</td>\n",
       "      <td>4.0</td>\n",
       "      <td>7.000000</td>\n",
       "    </tr>\n",
       "    <tr>\n",
       "      <th>max</th>\n",
       "      <td>1.629604e+08</td>\n",
       "      <td>4.737000</td>\n",
       "      <td>13.000000</td>\n",
       "      <td>21.000000</td>\n",
       "      <td>1555.00000</td>\n",
       "      <td>15.000000</td>\n",
       "      <td>16.000000</td>\n",
       "      <td>4.0</td>\n",
       "      <td>12.000000</td>\n",
       "    </tr>\n",
       "  </tbody>\n",
       "</table>\n",
       "</div>"
      ],
      "text/plain": [
       "           parcelid      logerror  airconditioningtypeid  \\\n",
       "count  1.457500e+04  14575.000000            3941.000000   \n",
       "mean   1.269726e+07      0.050639               1.587668   \n",
       "std    2.059733e+06      0.387913               2.561674   \n",
       "min    1.071180e+07     -4.605000               1.000000   \n",
       "25%    1.156110e+07     -0.148500               1.000000   \n",
       "50%    1.218885e+07      0.112400               1.000000   \n",
       "75%    1.387711e+07      0.193900               1.000000   \n",
       "max    1.629604e+08      4.737000              13.000000   \n",
       "\n",
       "       architecturalstyletypeid  basementsqft   bathroomcnt    bedroomcnt  \\\n",
       "count                 26.000000      10.00000  14575.000000  14575.000000   \n",
       "mean                   7.269231     770.60000      2.281990      3.063945   \n",
       "std                    3.079710     510.46715      1.244034      1.379942   \n",
       "min                    2.000000     184.00000      0.000000      0.000000   \n",
       "25%                    7.000000     369.00000      1.500000      2.000000   \n",
       "50%                    7.000000     653.00000      2.000000      3.000000   \n",
       "75%                    7.000000    1111.00000      3.000000      4.000000   \n",
       "max                   21.000000    1555.00000     15.000000     16.000000   \n",
       "\n",
       "       buildingclasstypeid  buildingqualitytypeid  \n",
       "count                 13.0           10394.000000  \n",
       "mean                   4.0               5.863575  \n",
       "std                    0.0               1.962375  \n",
       "min                    4.0               1.000000  \n",
       "25%                    4.0               4.000000  \n",
       "50%                    4.0               7.000000  \n",
       "75%                    4.0               7.000000  \n",
       "max                    4.0              12.000000  "
      ]
     },
     "execution_count": 16,
     "metadata": {},
     "output_type": "execute_result"
    }
   ],
   "source": [
    "#Cycle through the column indxes of the next two cells to compare the descriptive statistics\n",
    "#between the high error and the low error transactions\n",
    "high_error_df.ix[:, 0:10].describe()"
   ]
  },
  {
   "cell_type": "code",
   "execution_count": 17,
   "metadata": {},
   "outputs": [
    {
     "data": {
      "text/html": [
       "<div>\n",
       "<style>\n",
       "    .dataframe thead tr:only-child th {\n",
       "        text-align: right;\n",
       "    }\n",
       "\n",
       "    .dataframe thead th {\n",
       "        text-align: left;\n",
       "    }\n",
       "\n",
       "    .dataframe tbody tr th {\n",
       "        vertical-align: top;\n",
       "    }\n",
       "</style>\n",
       "<table border=\"1\" class=\"dataframe\">\n",
       "  <thead>\n",
       "    <tr style=\"text-align: right;\">\n",
       "      <th></th>\n",
       "      <th>parcelid</th>\n",
       "      <th>logerror</th>\n",
       "      <th>airconditioningtypeid</th>\n",
       "      <th>architecturalstyletypeid</th>\n",
       "      <th>basementsqft</th>\n",
       "      <th>bathroomcnt</th>\n",
       "      <th>bedroomcnt</th>\n",
       "      <th>buildingclasstypeid</th>\n",
       "      <th>buildingqualitytypeid</th>\n",
       "    </tr>\n",
       "  </thead>\n",
       "  <tbody>\n",
       "    <tr>\n",
       "      <th>count</th>\n",
       "      <td>7.570000e+04</td>\n",
       "      <td>75700.000000</td>\n",
       "      <td>24840.000000</td>\n",
       "      <td>235.000000</td>\n",
       "      <td>33.000000</td>\n",
       "      <td>75700.000000</td>\n",
       "      <td>75700.000000</td>\n",
       "      <td>3.0</td>\n",
       "      <td>46970.000000</td>\n",
       "    </tr>\n",
       "    <tr>\n",
       "      <th>mean</th>\n",
       "      <td>1.303999e+07</td>\n",
       "      <td>0.003913</td>\n",
       "      <td>1.852657</td>\n",
       "      <td>7.225532</td>\n",
       "      <td>696.303030</td>\n",
       "      <td>2.278989</td>\n",
       "      <td>3.025694</td>\n",
       "      <td>4.0</td>\n",
       "      <td>5.499425</td>\n",
       "    </tr>\n",
       "    <tr>\n",
       "      <th>std</th>\n",
       "      <td>2.577699e+06</td>\n",
       "      <td>0.040238</td>\n",
       "      <td>3.032924</td>\n",
       "      <td>2.680291</td>\n",
       "      <td>420.159604</td>\n",
       "      <td>0.951204</td>\n",
       "      <td>1.108144</td>\n",
       "      <td>0.0</td>\n",
       "      <td>1.880302</td>\n",
       "    </tr>\n",
       "    <tr>\n",
       "      <th>min</th>\n",
       "      <td>1.071174e+07</td>\n",
       "      <td>-0.099800</td>\n",
       "      <td>1.000000</td>\n",
       "      <td>2.000000</td>\n",
       "      <td>100.000000</td>\n",
       "      <td>0.000000</td>\n",
       "      <td>0.000000</td>\n",
       "      <td>4.0</td>\n",
       "      <td>1.000000</td>\n",
       "    </tr>\n",
       "    <tr>\n",
       "      <th>25%</th>\n",
       "      <td>1.155898e+07</td>\n",
       "      <td>-0.021200</td>\n",
       "      <td>1.000000</td>\n",
       "      <td>7.000000</td>\n",
       "      <td>485.000000</td>\n",
       "      <td>2.000000</td>\n",
       "      <td>2.000000</td>\n",
       "      <td>4.0</td>\n",
       "      <td>4.000000</td>\n",
       "    </tr>\n",
       "    <tr>\n",
       "      <th>50%</th>\n",
       "      <td>1.262386e+07</td>\n",
       "      <td>0.004000</td>\n",
       "      <td>1.000000</td>\n",
       "      <td>7.000000</td>\n",
       "      <td>608.000000</td>\n",
       "      <td>2.000000</td>\n",
       "      <td>3.000000</td>\n",
       "      <td>4.0</td>\n",
       "      <td>7.000000</td>\n",
       "    </tr>\n",
       "    <tr>\n",
       "      <th>75%</th>\n",
       "      <td>1.428257e+07</td>\n",
       "      <td>0.029600</td>\n",
       "      <td>1.000000</td>\n",
       "      <td>7.000000</td>\n",
       "      <td>831.000000</td>\n",
       "      <td>3.000000</td>\n",
       "      <td>4.000000</td>\n",
       "      <td>4.0</td>\n",
       "      <td>7.000000</td>\n",
       "    </tr>\n",
       "    <tr>\n",
       "      <th>max</th>\n",
       "      <td>1.629608e+08</td>\n",
       "      <td>0.099800</td>\n",
       "      <td>13.000000</td>\n",
       "      <td>21.000000</td>\n",
       "      <td>1528.000000</td>\n",
       "      <td>20.000000</td>\n",
       "      <td>16.000000</td>\n",
       "      <td>4.0</td>\n",
       "      <td>12.000000</td>\n",
       "    </tr>\n",
       "  </tbody>\n",
       "</table>\n",
       "</div>"
      ],
      "text/plain": [
       "           parcelid      logerror  airconditioningtypeid  \\\n",
       "count  7.570000e+04  75700.000000           24840.000000   \n",
       "mean   1.303999e+07      0.003913               1.852657   \n",
       "std    2.577699e+06      0.040238               3.032924   \n",
       "min    1.071174e+07     -0.099800               1.000000   \n",
       "25%    1.155898e+07     -0.021200               1.000000   \n",
       "50%    1.262386e+07      0.004000               1.000000   \n",
       "75%    1.428257e+07      0.029600               1.000000   \n",
       "max    1.629608e+08      0.099800              13.000000   \n",
       "\n",
       "       architecturalstyletypeid  basementsqft   bathroomcnt    bedroomcnt  \\\n",
       "count                235.000000     33.000000  75700.000000  75700.000000   \n",
       "mean                   7.225532    696.303030      2.278989      3.025694   \n",
       "std                    2.680291    420.159604      0.951204      1.108144   \n",
       "min                    2.000000    100.000000      0.000000      0.000000   \n",
       "25%                    7.000000    485.000000      2.000000      2.000000   \n",
       "50%                    7.000000    608.000000      2.000000      3.000000   \n",
       "75%                    7.000000    831.000000      3.000000      4.000000   \n",
       "max                   21.000000   1528.000000     20.000000     16.000000   \n",
       "\n",
       "       buildingclasstypeid  buildingqualitytypeid  \n",
       "count                  3.0           46970.000000  \n",
       "mean                   4.0               5.499425  \n",
       "std                    0.0               1.880302  \n",
       "min                    4.0               1.000000  \n",
       "25%                    4.0               4.000000  \n",
       "50%                    4.0               7.000000  \n",
       "75%                    4.0               7.000000  \n",
       "max                    4.0              12.000000  "
      ]
     },
     "execution_count": 17,
     "metadata": {},
     "output_type": "execute_result"
    }
   ],
   "source": [
    "low_error_df.ix[:, 0:10].describe()"
   ]
  },
  {
   "cell_type": "markdown",
   "metadata": {},
   "source": [
    "Reviewing the differences in the high errors and low errors dataframes, we observe the following differences:\n",
    "\n",
    "__Calculated Finished Square Feet:__ The low error transactions have a mean value of 1739 sqft with a standard deviation of 876sqft.  The high error transactions have a high mean value of 1870 sqft with a higher standard deviation of 1197. \n",
    "\n",
    "<b> Structure Tax Value Dollar Count </b> The high error transactions have a higher mean (192253 vs 176848) and a higher standard deviation (310239 vs 183111) than low error transactions.\n",
    "\n",
    "<b> Land Tax Value Dollar Count </b> Similar to the structure tax value dollar count, the mean land value dollar count is higher for high error transactions (322560 vs 269816) and has a higher standard deviation (641348 vs 334122).\n",
    "\n",
    "<b> FIPS </b> The FIPS indicates the county of the home.  In the high error data, 73.8% of the homes are in Los Angeles County, 19% are in Orange County, and 6.7% are in Ventura County.  In the low error data, 63% are in Los Angeles County, 28% are in Orange County, and 8.2% are in Ventura County."
   ]
  },
  {
   "cell_type": "markdown",
   "metadata": {
    "collapsed": true
   },
   "source": [
    "<H3> Onto the Properties 2016 file <H3>"
   ]
  },
  {
   "cell_type": "code",
   "execution_count": 18,
   "metadata": {
    "scrolled": true
   },
   "outputs": [
    {
     "data": {
      "image/png": "[encoded data removed]",
      "text/plain": [
       "<matplotlib.figure.Figure at 0x10f159d10>"
      ]
     },
     "metadata": {},
     "output_type": "display_data"
    }
   ],
   "source": [
    "missing_df = train_df.isnull().sum(axis=0).reset_index()\n",
    "missing_df.columns = ['column_name', 'missing_count']\n",
    "missing_df = missing_df.ix[missing_df['missing_count']>0]\n",
    "missing_df = missing_df.sort_values(by='missing_count')\n",
    "\n",
    "ind = np.arange(missing_df.shape[0])\n",
    "width = 0.9\n",
    "fig, ax = plt.subplots(figsize=(12,18))\n",
    "rects = ax.barh(ind, missing_df.missing_count.values, color='blue')\n",
    "ax.set_yticks(ind)\n",
    "ax.set_yticklabels(missing_df.column_name.values, rotation='horizontal')\n",
    "ax.set_xlabel(\"Count of missing values\")\n",
    "ax.set_title(\"Number of missing values in each column\")\n",
    "plt.show()"
   ]
  },
  {
   "cell_type": "code",
   "execution_count": 19,
   "metadata": {},
   "outputs": [
    {
     "data": {
      "text/plain": [
       "buildingclasstypeid     90259\n",
       "finishedsquarefeet13    90242\n",
       "basementsqft            90232\n",
       "storytypeid             90232\n",
       "yardbuildingsqft26      90180\n",
       "dtype: int64"
      ]
     },
     "execution_count": 19,
     "metadata": {},
     "output_type": "execute_result"
    }
   ],
   "source": [
    "# How much of your data is missing?\n",
    "train_df.isnull().sum().sort_values(ascending=False).head()"
   ]
  },
  {
   "cell_type": "markdown",
   "metadata": {},
   "source": [
    "## Data Cleanup"
   ]
  },
  {
   "cell_type": "markdown",
   "metadata": {},
   "source": [
    "Our dataset is extremely sparse for many variables and also contains categorical variables that need to be transformed.  The following code makes those transformations."
   ]
  },
  {
   "cell_type": "code",
   "execution_count": 20,
   "metadata": {
    "collapsed": true
   },
   "outputs": [],
   "source": [
    "# df = df.drop('column_name', 1)\n",
    "to_drop = ['architecturalstyletypeid'\n",
    "           ,'assessmentyear'\n",
    "           ,'bathroomcnt'\n",
    "           ,'buildingclasstypeid'\n",
    "           ,'decktypeid'\n",
    "           ,'threequarterbathnbr'\n",
    "           ,'finishedfloor1squarefeet'\n",
    "           ,'finishedsquarefeet6'\n",
    "           ,'finishedsquarefeet12'\n",
    "           ,'finishedsquarefeet13'\n",
    "           ,'finishedsquarefeet15'\n",
    "           ,'finishedsquarefeet50'\n",
    "           ,'fireplaceflag'\n",
    "           ,'fullbathcnt'\n",
    "           ,'garagetotalsqft'\n",
    "           ,'latitude'\n",
    "           ,'longitude'\n",
    "           ,'poolsizesum'\n",
    "           ,'propertyzoningdesc'\n",
    "           ,'rawcensustractandblock'\n",
    "           ,'censustractandblock'\n",
    "           ,'regionidzip'\n",
    "           ,'storytypeid'\n",
    "           ,'typeconstructiontypeid'\n",
    "           ,'taxvaluedollarcnt'\n",
    "           ,'taxamount'\n",
    "           ,'taxdelinquencyyear'\n",
    "           ,'fips'\n",
    "           \n",
    "           ,'hashottuborspa'\n",
    "           ,'pooltypeid10'\n",
    "           ,'pooltypeid2'\n",
    "           ,'pooltypeid7'\n",
    "               \n",
    "           ,'propertycountylandusecode'   # 241 unique values, cannot dummy for size reasons          \n",
    "           ,'regionidcity'            # 187 unique values, cannot dummy for size reasons\n",
    "           ,'regionidneighborhood'    # 529 unique values, cannot dummy for size reasons\n",
    "           ,'transactiondate'\n",
    "          ]\n",
    "\n",
    "for col in to_drop:\n",
    "    train_df = train_df.drop(col,1)"
   ]
  },
  {
   "cell_type": "code",
   "execution_count": 21,
   "metadata": {
    "collapsed": true
   },
   "outputs": [],
   "source": [
    "##df['bedroomcnt'] = [0 if x <3 else 1 for x in df['bedroomcnt']] #bad example, but you get the point\n",
    "# Bin object variables in specific ways\n",
    "\n",
    "## airconditioningtypeid\n",
    "train_df['airconditioningtypeid'].fillna(value='missing',inplace=True)\n",
    "\n",
    "## bedroomcnt\n",
    "a = np.array(train_df['bedroomcnt'].values.tolist())\n",
    "train_df['bedroomcnt'] = np.where(a > 6, 6, a).tolist()\n",
    "train_df['bedroomcnt'].fillna(value=3,inplace=True) # Or maybe impute with most_common, which is 3\n",
    "\n",
    "## buildingqualitytypeid (best=lowest, worse=highest)\n",
    "\n",
    "a = np.array(train_df['buildingqualitytypeid'].values.tolist())\n",
    "train_df['buildingqualitytypeid'] = np.where(a < 4,  4, a)  #.tolist()\n",
    "a = np.array(train_df['buildingqualitytypeid'].values.tolist())\n",
    "train_df['buildingqualitytypeid'] = np.where(a > 7, 10, a)  #.tolist()\n",
    "a = np.array(train_df['buildingqualitytypeid'].values.tolist())\n",
    "train_df['buildingqualitytypeid'] = np.where(a == 5, 7, a)  #.tolist()\n",
    "a = np.array(train_df['buildingqualitytypeid'].values.tolist())\n",
    "train_df['buildingqualitytypeid'] = np.where(a == 6, 7, a).tolist()\n",
    "a = np.array(train_df['buildingqualitytypeid'].values.tolist())\n",
    "train_df['buildingqualitytypeid'].fillna(value=99,inplace=True) # 99 = missing (BE CAREFUL NOT TO CHANGE BEFORE '>' STATEMENT)\n",
    "\n",
    "## fips - we dropped this so no need to proprocess\n",
    "# train_df['fips'].fillna(value=99,inplace=True)\n",
    "\n",
    "## fireplacecnt\n",
    "a = np.array(train_df['fireplacecnt'].values.tolist())\n",
    "train_df['fireplacecnt'] = np.where(a > 3,  3, a)  #.tolist()\n",
    "train_df['fireplacecnt'].fillna(value=0,inplace=True) #set NaN to zero\n",
    "\n",
    "## garagecarcnt\n",
    "a = np.array(train_df['garagecarcnt'].values.tolist())\n",
    "train_df['garagecarcnt'] = np.where(a > 3,  3, a)  #.tolist()\n",
    "train_df['garagecarcnt'].fillna(value=99,inplace=True) #set NaN to 99\n",
    "\n",
    "##  hashottuborspa\n",
    "#train_df['hashottuborspa'].fillna(value=False,inplace=True) #set NaN to False\n",
    "\n",
    "## heatingorsystemtypeid\n",
    "a = np.array(train_df['heatingorsystemtypeid'].values.tolist())\n",
    "train_df['heatingorsystemtypeid'] = np.where(a == 19,  14, a)  #.tolist()\n",
    "a = np.array(train_df['heatingorsystemtypeid'].values.tolist())\n",
    "train_df['heatingorsystemtypeid'] = np.where(a == 21, 14, a)  #.tolist()\n",
    "a = np.array(train_df['heatingorsystemtypeid'].values.tolist())\n",
    "train_df['heatingorsystemtypeid'] = np.where(a == 11, 14, a)  #.tolist()\n",
    "a = np.array(train_df['heatingorsystemtypeid'].values.tolist())\n",
    "train_df['heatingorsystemtypeid'] = np.where(a == 12, 14, a)  #.tolist()\n",
    "a = np.array(train_df['heatingorsystemtypeid'].values.tolist())\n",
    "train_df['heatingorsystemtypeid'] = np.where(a == 10, 14, a)  #.tolist()\n",
    "a = np.array(train_df['heatingorsystemtypeid'].values.tolist())\n",
    "train_df['heatingorsystemtypeid'] = np.where(a ==  1, 14, a)  #.tolist()\n",
    "a = np.array(train_df['heatingorsystemtypeid'].values.tolist())\n",
    "train_df['heatingorsystemtypeid'] = np.where(a == 18, 14, a)  #.tolist()\n",
    "a = np.array(train_df['heatingorsystemtypeid'].values.tolist())\n",
    "train_df['heatingorsystemtypeid'] = np.where(a == 13, 14, a)  #.tolist()\n",
    "a = np.array(train_df['heatingorsystemtypeid'].values.tolist())\n",
    "train_df['heatingorsystemtypeid'] = np.where(a == 20, 14, a)  #.tolist()\n",
    "a = np.array(train_df['heatingorsystemtypeid'].values.tolist())\n",
    "train_df['heatingorsystemtypeid'] = np.where(a == 12, 14, a).tolist()\n",
    "a = np.array(train_df['heatingorsystemtypeid'].values.tolist())\n",
    "\n",
    "train_df['heatingorsystemtypeid'].fillna(value=99,inplace=True) #set NaN to 99\n",
    "\n",
    "## numberofstories\n",
    "a = np.array(train_df['numberofstories'].values.tolist())\n",
    "train_df['numberofstories'] = np.where(a > 3,  3, a)  #.tolist()\n",
    "train_df['numberofstories'].fillna(value=99,inplace=True) #set NaN to 99\n",
    "\n",
    "## poolcnt\n",
    "train_df['poolcnt'].fillna(value=0,inplace=True) #set NaN to zero\n",
    "\n",
    "## pooltypes\n",
    "#train_df['pooltypeid10'].fillna(value=0,inplace=True) #set NaN to zero\n",
    "#train_df['pooltypeid2'].fillna(value=0,inplace=True) #set NaN to zero\n",
    "#train_df['pooltypeid7'].fillna(value=0,inplace=True) #set NaN to zero\n",
    "\n",
    "\n",
    "## propertycountylandusecode\n",
    "#### probably should loop through, has 241 distinct values, some of which have count=1\n",
    "#train_df['propertycountylandusecode'].fillna(value=99,inplace=True) #set NaN to 99\n",
    "\n",
    "## propertylandusetypeid\n",
    "### too many unique values, so had to drop\n",
    "train_df['propertylandusetypeid'].fillna(value=99,inplace=True) #set NaN to 99\n",
    "\n",
    "## regionidcounty\n",
    "train_df['regionidcounty'].fillna(value=99,inplace=True) #set NaN to 99\n",
    "\n",
    "## regionidcity\n",
    "#### probably should loop through, has 187 distinct values, some of which have count=1\n",
    "### too many unique values, so had to drop\n",
    "#train_df['regionidcity'].fillna(value=99,inplace=True) #set NaN to 99\n",
    "\n",
    "## regionidneighborhood\n",
    "#### probably should loop through, has 500+ distinct values, some of which have count=1.  Maybe use lat-long to KNN???\n",
    "### too many unique values, so had to drop\n",
    "#train_df['regionidneighborhood'].fillna(value=99,inplace=True) #set NaN to 99\n",
    "\n",
    "## calculatedbathnbr\n",
    "train_df['calculatedbathnbr'].fillna(value=2,inplace=True)  # Or maybe impute with most_common, which is 2\n",
    "\n",
    "## roomcnt\n",
    "a = np.array(train_df['roomcnt'].values.tolist())\n",
    "train_df['roomcnt0'] = np.where(a == 0, 1, 0)  #.tolist()\n",
    "train_df['roomcnt'] = np.where(a < 3,  3, a)  #.tolist()\n",
    "a = np.array(train_df['roomcnt'].values.tolist())\n",
    "train_df['roomcnt'] = np.where(a > 7, 10, a)  #.tolist()\n",
    "a = np.array(train_df['roomcnt'].values.tolist())\n",
    "train_df['roomcnt'] = np.where(a == 5, 7, a)  #.tolist()\n",
    "a = np.array(train_df['roomcnt'].values.tolist())\n",
    "train_df['roomcnt'] = np.where(a == 6, 7, a).tolist()\n",
    "a = np.array(train_df['roomcnt'].values.tolist())\n",
    "train_df['roomcnt'].fillna(value=6,inplace=True) #set NaN to 6, most common value\n",
    "\n",
    "\n",
    "## unitcnt\n",
    "a = np.array(train_df['unitcnt'].values.tolist())\n",
    "train_df['unitcnt'] = np.where(a > 5, 5, a)  #.tolist()\n",
    "train_df['unitcnt'].fillna(value=1,inplace=True) #set NaN to 1\n",
    "\n",
    "## yearbuilt    \n",
    "a = np.array(train_df['yearbuilt'].values.tolist())\n",
    "train_df['yearbuilt'] = (train_df['yearbuilt']/10).round()\n",
    "a = np.array(train_df['yearbuilt'].values.tolist())\n",
    "train_df['yearbuilt'] = np.where(a < 190, 189, a)  #.tolist()\n",
    "train_df['yearbuilt'].fillna(value=195,inplace=True) #set NaN to 195\n",
    "\n",
    "\n",
    "\n",
    "##  taxdelinquencyflag   train_df['taxdelinquencyflag'].value_counts()\n",
    "train_df['taxdelinquencyflag'] = [1 if x == 'Y' else 0 for x in train_df['taxdelinquencyflag']] \n",
    "train_df['taxdelinquencyflag'].fillna(value=0,inplace=True) #set NaN to zeroTrue) #set NaN to zero\n",
    "\n",
    "\n",
    "##  Numeric variables whose NaN we'll set to zero\n",
    "a = np.array(train_df['basementsqft'].values.tolist())\n",
    "train_df['basementsqft_NaN'] = np.where(a == np.NaN, 1, 0)  #.tolist()\n",
    "train_df['basementsqft'].fillna(value=0,inplace=True) #set NaN to zero\n",
    "\n",
    "a = np.array(train_df['calculatedfinishedsquarefeet'].values.tolist())\n",
    "train_df['calculatedfinishedsquarefeet_NaN'] = np.where(a == np.NaN, 1, 0)  #.tolist()\n",
    "train_df['calculatedfinishedsquarefeet'].fillna(value=0,inplace=True) #set NaN to zero\n",
    "\n",
    "a = np.array(train_df['lotsizesquarefeet'].values.tolist())\n",
    "train_df['lotsizesquarefeet_NaN'] = np.where(a == np.NaN, 1, 0)  #.tolist()\n",
    "train_df['lotsizesquarefeet'].fillna(value=0,inplace=True) #set NaN to zero\n",
    "\n",
    "a = np.array(train_df['yardbuildingsqft17'].values.tolist())\n",
    "train_df['yardbuildingsqft17_NaN'] = np.where(a == np.NaN, 1, 0)  #.tolist()\n",
    "train_df['yardbuildingsqft17'].fillna(value=0,inplace=True) #set NaN to zero\n",
    "a = np.array(train_df['yardbuildingsqft17'].values.tolist())\n",
    "train_df['yardbuildingsqft17'] = np.where(a > 0, 1, 0)  #.tolist()\n",
    "\n",
    "a = np.array(train_df['yardbuildingsqft26'].values.tolist())\n",
    "train_df['yardbuildingsqft26_NaN'] = np.where(a == np.NaN, 1, 0)  #.tolist()\n",
    "train_df['yardbuildingsqft26'].fillna(value=0,inplace=True) #set NaN to zero\n",
    "a = np.array(train_df['yardbuildingsqft26'].values.tolist())\n",
    "train_df['yardbuildingsqft26'] = np.where(a > 0, 1, 0)  #.tolist()\n",
    "\n",
    "a = np.array(train_df['structuretaxvaluedollarcnt'].values.tolist())\n",
    "train_df['structuretaxvaluedollarcnt_NaN'] = np.where(a == np.NaN, 1, 0)  #.tolist()\n",
    "train_df['structuretaxvaluedollarcnt'].fillna(value=0,inplace=True) #set NaN to zero\n",
    "\n",
    "a = np.array(train_df['landtaxvaluedollarcnt'].values.tolist())\n",
    "train_df['landtaxvaluedollarcnt_NaN'] = np.where(a == np.NaN, 1, 0)  #.tolist()\n",
    "train_df['landtaxvaluedollarcnt'].fillna(value=10000,inplace=True) #set NaN to 10000\n",
    "\n",
    "a = np.array(train_df['calculatedfinishedsquarefeet'].values.tolist())\n",
    "train_df['calculatedfinishedsquarefeet_NaN'] = np.where(a == np.NaN, 1, 0)  #.tolist()\n",
    "train_df['calculatedfinishedsquarefeet'].fillna(value=6000,inplace=True) #set NaN to 6000, most common number\n",
    "\n"
   ]
  },
  {
   "cell_type": "code",
   "execution_count": 22,
   "metadata": {
    "scrolled": true
   },
   "outputs": [
    {
     "data": {
      "image/png": "[encoded data removed]",
      "text/plain": [
       "<matplotlib.figure.Figure at 0x10f107550>"
      ]
     },
     "metadata": {},
     "output_type": "display_data"
    }
   ],
   "source": [
    "# Check Missing values again, after processing attempt to remove some fields and assign a value to others' NaN values\n",
    "missing_df = train_df.isnull().sum(axis=0).reset_index()\n",
    "missing_df.columns = ['column_name', 'missing_count']\n",
    "missing_df = missing_df.ix[missing_df['missing_count']>0]\n",
    "missing_df = missing_df.sort_values(by='missing_count')\n",
    "\n",
    "ind = np.arange(missing_df.shape[0])\n",
    "width = 0.9\n",
    "fig, ax = plt.subplots(figsize=(12,18))\n",
    "rects = ax.barh(ind, missing_df.missing_count.values, color='blue')\n",
    "ax.set_yticks(ind)\n",
    "ax.set_yticklabels(missing_df.column_name.values, rotation='horizontal')\n",
    "ax.set_xlabel(\"Count of missing values\")\n",
    "ax.set_title(\"Number of missing values in each column\")\n",
    "plt.show()"
   ]
  },
  {
   "cell_type": "code",
   "execution_count": 23,
   "metadata": {
    "collapsed": true
   },
   "outputs": [],
   "source": [
    "\n",
    "objs = [ 'airconditioningtypeid'\n",
    "        ,'bedroomcnt'\n",
    "        ,'buildingqualitytypeid'\n",
    "        ,'fireplacecnt'\n",
    "        ,'garagecarcnt'\n",
    "        ,'heatingorsystemtypeid'\n",
    "        ,'numberofstories'\n",
    "        ,'poolcnt'        \n",
    "        ,'propertylandusetypeid'   \n",
    "        ,'regionidcounty'\n",
    "        ,'unitcnt'\n",
    "        ,'yearbuilt'   \n",
    "        ,'taxdelinquencyflag'  \n",
    "        ,'yardbuildingsqft17'\n",
    "        ,'yardbuildingsqft26'        \n",
    "        ]\n",
    "\n",
    "\n",
    "for obj in objs:\n",
    "    train_df[obj] = train_df[obj].astype(object)"
   ]
  },
  {
   "cell_type": "code",
   "execution_count": 24,
   "metadata": {
    "collapsed": true
   },
   "outputs": [],
   "source": [
    "\n",
    "flts = [ 'basementsqft'\n",
    "        ,'calculatedbathnbr'\n",
    "        ,'calculatedfinishedsquarefeet'\n",
    "        ,'landtaxvaluedollarcnt'\n",
    "        ,'lotsizesquarefeet'\n",
    "        ,'roomcnt'\n",
    "        ,'structuretaxvaluedollarcnt'\n",
    "       ]\n",
    "\n",
    "for flt in flts:\n",
    "    train_df[flt] = train_df[flt].astype(float)"
   ]
  },
  {
   "cell_type": "code",
   "execution_count": 25,
   "metadata": {},
   "outputs": [
    {
     "name": "stdout",
     "output_type": "stream",
     "text": [
      "Feature 'airconditioningtypeid' has 7 unique categories\n",
      "Feature 'bedroomcnt' has 7 unique categories\n",
      "Feature 'buildingqualitytypeid' has 4 unique categories\n",
      "Feature 'fireplacecnt' has 4 unique categories\n",
      "Feature 'garagecarcnt' has 5 unique categories\n",
      "Feature 'heatingorsystemtypeid' has 6 unique categories\n",
      "Feature 'poolcnt' has 2 unique categories\n",
      "Feature 'propertylandusetypeid' has 14 unique categories\n",
      "Feature 'regionidcounty' has 3 unique categories\n",
      "Feature 'unitcnt' has 5 unique categories\n",
      "Feature 'yardbuildingsqft17' has 2 unique categories\n",
      "Feature 'yardbuildingsqft26' has 2 unique categories\n",
      "Feature 'yearbuilt' has 14 unique categories\n",
      "Feature 'numberofstories' has 4 unique categories\n",
      "Feature 'taxdelinquencyflag' has 2 unique categories\n"
     ]
    }
   ],
   "source": [
    "# Decide which categorical variables you want to use in model\n",
    "for col in train_df.columns:\n",
    "    if train_df[col].dtypes == 'object':       \n",
    "        unique_cat = len(train_df[col].unique())\n",
    "        print(\"Feature '{col_name}' has {unique_cat} unique categories\".format(col_name=col, unique_cat=unique_cat))"
   ]
  },
  {
   "cell_type": "code",
   "execution_count": 26,
   "metadata": {
    "collapsed": true
   },
   "outputs": [],
   "source": [
    "# Create dummy list\n",
    "to_dummy = [ 'airconditioningtypeid'\n",
    "            ,'bedroomcnt'\n",
    "            ,'buildingqualitytypeid'\n",
    "            ,'fireplacecnt'\n",
    "            ,'garagecarcnt'\n",
    "            ,'heatingorsystemtypeid'\n",
    "            ,'numberofstories'\n",
    "            ,'poolcnt'\n",
    "            ,'propertylandusetypeid'   \n",
    "            ,'regionidcounty'         \n",
    "            ,'unitcnt'\n",
    "            ,'yearbuilt'   \n",
    "            ,'taxdelinquencyflag'  \n",
    "            ,'yardbuildingsqft17'\n",
    "            ,'yardbuildingsqft26'   \n",
    "            ,'transaction_month'\n",
    "            ]"
   ]
  },
  {
   "cell_type": "code",
   "execution_count": 27,
   "metadata": {
    "collapsed": true
   },
   "outputs": [],
   "source": [
    "# Use this function to dummy all the categorical variables we want to keep\n",
    "def dummy_df(df, todummy_list):\n",
    "    for x in todummy_list:       \n",
    "        dummies = pd.get_dummies(df[x], prefix=x, dummy_na=True)\n",
    "        df = df.drop(x, 1)\n",
    "        df = pd.concat([df, dummies], axis=1)\n",
    "    return df"
   ]
  },
  {
   "cell_type": "code",
   "execution_count": 28,
   "metadata": {
    "collapsed": true
   },
   "outputs": [],
   "source": [
    "## Transform to our training dataframe  \n",
    "train_df = dummy_df(train_df, to_dummy)"
   ]
  },
  {
   "cell_type": "code",
   "execution_count": 29,
   "metadata": {},
   "outputs": [
    {
     "data": {
      "text/html": [
       "<div>\n",
       "<style>\n",
       "    .dataframe thead tr:only-child th {\n",
       "        text-align: right;\n",
       "    }\n",
       "\n",
       "    .dataframe thead th {\n",
       "        text-align: left;\n",
       "    }\n",
       "\n",
       "    .dataframe tbody tr th {\n",
       "        vertical-align: top;\n",
       "    }\n",
       "</style>\n",
       "<table border=\"1\" class=\"dataframe\">\n",
       "  <thead>\n",
       "    <tr style=\"text-align: right;\">\n",
       "      <th></th>\n",
       "      <th>parcelid</th>\n",
       "      <th>logerror</th>\n",
       "      <th>basementsqft</th>\n",
       "      <th>calculatedbathnbr</th>\n",
       "      <th>calculatedfinishedsquarefeet</th>\n",
       "      <th>lotsizesquarefeet</th>\n",
       "      <th>roomcnt</th>\n",
       "      <th>structuretaxvaluedollarcnt</th>\n",
       "      <th>landtaxvaluedollarcnt</th>\n",
       "      <th>roomcnt0</th>\n",
       "      <th>...</th>\n",
       "      <th>transaction_month_4.0</th>\n",
       "      <th>transaction_month_5.0</th>\n",
       "      <th>transaction_month_6.0</th>\n",
       "      <th>transaction_month_7.0</th>\n",
       "      <th>transaction_month_8.0</th>\n",
       "      <th>transaction_month_9.0</th>\n",
       "      <th>transaction_month_10.0</th>\n",
       "      <th>transaction_month_11.0</th>\n",
       "      <th>transaction_month_12.0</th>\n",
       "      <th>transaction_month_nan</th>\n",
       "    </tr>\n",
       "  </thead>\n",
       "  <tbody>\n",
       "    <tr>\n",
       "      <th>0</th>\n",
       "      <td>11016594</td>\n",
       "      <td>0.0276</td>\n",
       "      <td>0.0</td>\n",
       "      <td>2.0</td>\n",
       "      <td>1684.0</td>\n",
       "      <td>7528.0</td>\n",
       "      <td>3.0</td>\n",
       "      <td>122754.0</td>\n",
       "      <td>237416.0</td>\n",
       "      <td>1</td>\n",
       "      <td>...</td>\n",
       "      <td>0</td>\n",
       "      <td>0</td>\n",
       "      <td>0</td>\n",
       "      <td>0</td>\n",
       "      <td>0</td>\n",
       "      <td>0</td>\n",
       "      <td>0</td>\n",
       "      <td>0</td>\n",
       "      <td>0</td>\n",
       "      <td>0</td>\n",
       "    </tr>\n",
       "    <tr>\n",
       "      <th>1</th>\n",
       "      <td>14366692</td>\n",
       "      <td>-0.1684</td>\n",
       "      <td>0.0</td>\n",
       "      <td>3.5</td>\n",
       "      <td>2263.0</td>\n",
       "      <td>3643.0</td>\n",
       "      <td>3.0</td>\n",
       "      <td>346458.0</td>\n",
       "      <td>239071.0</td>\n",
       "      <td>1</td>\n",
       "      <td>...</td>\n",
       "      <td>0</td>\n",
       "      <td>0</td>\n",
       "      <td>0</td>\n",
       "      <td>0</td>\n",
       "      <td>0</td>\n",
       "      <td>0</td>\n",
       "      <td>0</td>\n",
       "      <td>0</td>\n",
       "      <td>0</td>\n",
       "      <td>0</td>\n",
       "    </tr>\n",
       "    <tr>\n",
       "      <th>2</th>\n",
       "      <td>12098116</td>\n",
       "      <td>-0.0040</td>\n",
       "      <td>0.0</td>\n",
       "      <td>3.0</td>\n",
       "      <td>2217.0</td>\n",
       "      <td>11423.0</td>\n",
       "      <td>3.0</td>\n",
       "      <td>61994.0</td>\n",
       "      <td>57912.0</td>\n",
       "      <td>1</td>\n",
       "      <td>...</td>\n",
       "      <td>0</td>\n",
       "      <td>0</td>\n",
       "      <td>0</td>\n",
       "      <td>0</td>\n",
       "      <td>0</td>\n",
       "      <td>0</td>\n",
       "      <td>0</td>\n",
       "      <td>0</td>\n",
       "      <td>0</td>\n",
       "      <td>0</td>\n",
       "    </tr>\n",
       "    <tr>\n",
       "      <th>3</th>\n",
       "      <td>12643413</td>\n",
       "      <td>0.0218</td>\n",
       "      <td>0.0</td>\n",
       "      <td>2.0</td>\n",
       "      <td>839.0</td>\n",
       "      <td>70859.0</td>\n",
       "      <td>3.0</td>\n",
       "      <td>171518.0</td>\n",
       "      <td>73362.0</td>\n",
       "      <td>1</td>\n",
       "      <td>...</td>\n",
       "      <td>0</td>\n",
       "      <td>0</td>\n",
       "      <td>0</td>\n",
       "      <td>0</td>\n",
       "      <td>0</td>\n",
       "      <td>0</td>\n",
       "      <td>0</td>\n",
       "      <td>0</td>\n",
       "      <td>0</td>\n",
       "      <td>0</td>\n",
       "    </tr>\n",
       "    <tr>\n",
       "      <th>4</th>\n",
       "      <td>14432541</td>\n",
       "      <td>-0.0050</td>\n",
       "      <td>0.0</td>\n",
       "      <td>2.5</td>\n",
       "      <td>2283.0</td>\n",
       "      <td>6000.0</td>\n",
       "      <td>10.0</td>\n",
       "      <td>169574.0</td>\n",
       "      <td>264977.0</td>\n",
       "      <td>0</td>\n",
       "      <td>...</td>\n",
       "      <td>0</td>\n",
       "      <td>0</td>\n",
       "      <td>0</td>\n",
       "      <td>0</td>\n",
       "      <td>0</td>\n",
       "      <td>0</td>\n",
       "      <td>0</td>\n",
       "      <td>0</td>\n",
       "      <td>0</td>\n",
       "      <td>0</td>\n",
       "    </tr>\n",
       "  </tbody>\n",
       "</table>\n",
       "<p>5 rows × 126 columns</p>\n",
       "</div>"
      ],
      "text/plain": [
       "   parcelid  logerror  basementsqft  calculatedbathnbr  \\\n",
       "0  11016594    0.0276           0.0                2.0   \n",
       "1  14366692   -0.1684           0.0                3.5   \n",
       "2  12098116   -0.0040           0.0                3.0   \n",
       "3  12643413    0.0218           0.0                2.0   \n",
       "4  14432541   -0.0050           0.0                2.5   \n",
       "\n",
       "   calculatedfinishedsquarefeet  lotsizesquarefeet  roomcnt  \\\n",
       "0                        1684.0             7528.0      3.0   \n",
       "1                        2263.0             3643.0      3.0   \n",
       "2                        2217.0            11423.0      3.0   \n",
       "3                         839.0            70859.0      3.0   \n",
       "4                        2283.0             6000.0     10.0   \n",
       "\n",
       "   structuretaxvaluedollarcnt  landtaxvaluedollarcnt  roomcnt0  \\\n",
       "0                    122754.0               237416.0         1   \n",
       "1                    346458.0               239071.0         1   \n",
       "2                     61994.0                57912.0         1   \n",
       "3                    171518.0                73362.0         1   \n",
       "4                    169574.0               264977.0         0   \n",
       "\n",
       "           ...            transaction_month_4.0  transaction_month_5.0  \\\n",
       "0          ...                                0                      0   \n",
       "1          ...                                0                      0   \n",
       "2          ...                                0                      0   \n",
       "3          ...                                0                      0   \n",
       "4          ...                                0                      0   \n",
       "\n",
       "   transaction_month_6.0  transaction_month_7.0  transaction_month_8.0  \\\n",
       "0                      0                      0                      0   \n",
       "1                      0                      0                      0   \n",
       "2                      0                      0                      0   \n",
       "3                      0                      0                      0   \n",
       "4                      0                      0                      0   \n",
       "\n",
       "   transaction_month_9.0  transaction_month_10.0  transaction_month_11.0  \\\n",
       "0                      0                       0                       0   \n",
       "1                      0                       0                       0   \n",
       "2                      0                       0                       0   \n",
       "3                      0                       0                       0   \n",
       "4                      0                       0                       0   \n",
       "\n",
       "   transaction_month_12.0  transaction_month_nan  \n",
       "0                       0                      0  \n",
       "1                       0                      0  \n",
       "2                       0                      0  \n",
       "3                       0                      0  \n",
       "4                       0                      0  \n",
       "\n",
       "[5 rows x 126 columns]"
      ]
     },
     "execution_count": 29,
     "metadata": {},
     "output_type": "execute_result"
    }
   ],
   "source": [
    "train_df.head()"
   ]
  },
  {
   "cell_type": "markdown",
   "metadata": {},
   "source": [
    "<h1> Machine Learning Start </h1>\n",
    "\n",
    "First we'll split our data into training and development data.  We will not further split this into a test dataset, as the submission to Kaggle will test how well our model generalizes to new data.\n",
    "\n",
    "One note: Some of the machine learning models we used below (Gradient Boost, Decision Tree, Random Forest) have a parameter for \"critereon\" where we could specify MAE (mean absolute error). Since the Zillow competition is scored on MAE, it would make sense, in theory, for us to set the critereon to MAE. However, in practice, setting critereon=MAE caused severe computation performance issues which resulted in either our machines crashing or the models taking hours and hours to run. For that reason, we opted to not use critereon = MAE."
   ]
  },
  {
   "cell_type": "code",
   "execution_count": 30,
   "metadata": {},
   "outputs": [
    {
     "name": "stdout",
     "output_type": "stream",
     "text": [
      "('data shape: ', (90275, 124))\n",
      "('label shape: ', (90275,))\n"
     ]
    }
   ],
   "source": [
    "# split data into training and dev sets.\n",
    "train_np = train_df.values\n",
    "Y = train_np[:,1]\n",
    "Y.flatten()\n",
    "X = train_np[:,2:]\n",
    "\n",
    "shuffle = np.random.permutation(np.arange(X.shape[0]))\n",
    "X, Y = X[shuffle], Y[shuffle]\n",
    "\n",
    "print('data shape: ', X.shape)\n",
    "print('label shape: ', Y.shape)\n",
    "\n",
    "# Set some variables to hold test, dev, and training data.\n",
    "train_data, train_labels = X[:70000], Y[:70000]\n",
    "dev_data, dev_labels = X[70000:], Y[70000:]\n",
    "\n",
    "#definite MAE (Mean Absolute Error) function\n",
    "def MAE(test_labels, predictions):\n",
    "    values = []\n",
    "    for i in range(len(test_labels)):\n",
    "        difference = abs(round(test_labels[i],6) - round(predictions[i],6))\n",
    "        values.append(difference)\n",
    "    mean_abs_error = round(sum(values)/len(values),7)\n",
    "    return mean_abs_error"
   ]
  },
  {
   "cell_type": "markdown",
   "metadata": {},
   "source": [
    "### Create Submission Dataset"
   ]
  },
  {
   "cell_type": "markdown",
   "metadata": {},
   "source": [
    "The sample submission contains 6 distinct estimates (Oct-2016, Nov-2016, Dec-2016, Oct-2017, Nov-2017, and Dec-2017) for the 2.9 million properties. Since our training data only includes transactions from 2016, it is tough for us to determine if there is a time-series component to the logerrors or if the differences are simply due to seasonality. For that reason, we decided to simply make estimated for October, November, and December regardless of year and treat any differences as though they are just due to seasonality and the same seasonality differences will occur in both 2016 and 2017.\n",
    "\n",
    "The following code is used to simplify creating the submission file. The \"preprocessed_properties.csv\" file was created in a separate workbook but had identical transformations as the data above."
   ]
  },
  {
   "cell_type": "code",
   "execution_count": 31,
   "metadata": {},
   "outputs": [
    {
     "name": "stdout",
     "output_type": "stream",
     "text": [
      "(2985217, 112)\n"
     ]
    }
   ],
   "source": [
    "properties_df = pd.read_csv(\"preprocessed_properties.csv\")\n",
    "print(properties_df.shape)\n",
    "\n",
    "# convert to array and remove parcelIDs\n",
    "properties_np = properties_df.values\n",
    "parcelids = properties_np[:, 0]\n",
    "props_to_model = properties_np[:, 1:]\n",
    "\n",
    "# function to create Kaggle submission files \n",
    "def get_submission_file(parcelids, oct_est, nov_est, dec_est):\n",
    "    submission_array = np.vstack((parcelids, oct_est, nov_est, dec_est, oct_est, nov_est, dec_est))\n",
    "\n",
    "    submission_df = pd.DataFrame(submission_array.T)\n",
    "    submission_df.rename(columns={0: 'ParcelId',\n",
    "                                  1: '201610',\n",
    "                                  2: '201611',\n",
    "                                  3: '201612',\n",
    "                                  4: '201710',\n",
    "                                  5: '201711',\n",
    "                                  6: '201712'\n",
    "                                 }, inplace=True)\n",
    "    \n",
    "    submission_df[\"ParcelId\"] = submission_df[\"ParcelId\"].astype(int)\n",
    "    submission_df.to_csv(\"Zillow_submission_file.csv\", index = False)\n",
    "    \n",
    "    return submission_df.head()"
   ]
  },
  {
   "cell_type": "code",
   "execution_count": 32,
   "metadata": {
    "collapsed": true
   },
   "outputs": [],
   "source": [
    "# create arrays to represent months Oct, Nov, Dec\n",
    "# note: our months are dummy variables\n",
    "rows = props_to_model.shape[0]\n",
    "october = np.hstack((np.zeros((rows,9)), np.ones((rows,1)), np.zeros((rows,3))))\n",
    "november = np.hstack((np.zeros((rows,10)), np.ones((rows,1)), np.zeros((rows,2))))\n",
    "december = np.hstack((np.zeros((rows,11)), np.ones((rows,1)), np.zeros((rows,1))))\n",
    "\n",
    "# Create separate dataset for each month that we're trying to predict\n",
    "submission_setup_oct = np.hstack((props_to_model, october))\n",
    "submission_setup_nov = np.hstack((props_to_model, november))\n",
    "submission_setup_dec = np.hstack((props_to_model, december))"
   ]
  },
  {
   "cell_type": "markdown",
   "metadata": {
    "collapsed": true
   },
   "source": [
    "## Linear Regression Model"
   ]
  },
  {
   "cell_type": "markdown",
   "metadata": {},
   "source": [
    "Linear regression fits a \"best fit\" line to the linear combination of our features by minimizing the mean square error of the data.  The linear model makes multiple assumptions about our data- such as constant variance and no perfect multicollinearity among the features.  Given that our data is quite dependent- for example we would expect square footage to impact the number of rooms, number of bathrooms, and the tax value of the property- we would expect that independence of our data is quite limited and that this model will not generalize well to new information.  Despite such limitations, linear regression is a robust model and is an appropriate starting point for a baseline model."
   ]
  },
  {
   "cell_type": "code",
   "execution_count": 33,
   "metadata": {},
   "outputs": [
    {
     "name": "stdout",
     "output_type": "stream",
     "text": [
      "('Linear Regression gives us a Mean Absolute Error of', 0.0671205)\n"
     ]
    }
   ],
   "source": [
    "# Initialize model\n",
    "lm = LinearRegression()\n",
    "lm.fit(train_data, train_labels)\n",
    "lm_predict = lm.predict(dev_data)\n",
    "\n",
    "lm_mae = MAE(dev_labels, lm_predict)\n",
    "print(\"Linear Regression gives us a Mean Absolute Error of\", lm_mae)"
   ]
  },
  {
   "cell_type": "markdown",
   "metadata": {},
   "source": [
    "The linear regression model produced a mean absolute error of the log error of 0.0671205.  This is slightly worse than our test submission which estimated the sample mean of the log error for every property."
   ]
  },
  {
   "cell_type": "markdown",
   "metadata": {},
   "source": [
    "## Gradient Boosting Regression"
   ]
  },
  {
   "cell_type": "markdown",
   "metadata": {},
   "source": [
    "Gradient boosting regression is a type of decision tree model, which benefits from regression by minimizing the mean square error at each step it takes from the root.  The \"gradient boosting\" means that instead of just performing the decision tree model once, we create an ensemble of trees.  We presume that by using an ensemble of estimators over a single estimator, we will converge upon a better and more generalizable."
   ]
  },
  {
   "cell_type": "code",
   "execution_count": 34,
   "metadata": {},
   "outputs": [
    {
     "name": "stdout",
     "output_type": "stream",
     "text": [
      "Estimator: 10, Learning Rate: 0.05, MAE: 0.0669479\n",
      "Estimator: 10, Learning Rate: 0.1, MAE: 0.0668665\n",
      "Estimator: 50, Learning Rate: 0.05, MAE: 0.0669449\n",
      "Estimator: 50, Learning Rate: 0.1, MAE: 0.0669627\n",
      "Estimator: 100, Learning Rate: 0.05, MAE: 0.0670405\n",
      "Estimator: 100, Learning Rate: 0.1, MAE: 0.0672587\n",
      "Best Results- Estimator: 10, Learning Rate: 0.1,  MAE: 0.0668665\n"
     ]
    }
   ],
   "source": [
    "# Due to large number of features, we'll limit these parameters to make iteration faster\n",
    "estimators = [10, 50, 100] \n",
    "learning_rates = [.05, .1]\n",
    "lowest_mae = 1\n",
    "results = []\n",
    "for i in estimators:\n",
    "    for l in learning_rates:\n",
    "            gboost = GradientBoostingRegressor(n_estimators=i, learning_rate= l) \n",
    "            gboost.fit(train_data, train_labels)\n",
    "            gboost_predict = gboost.predict(dev_data)\n",
    "\n",
    "            mae = MAE(dev_labels, gboost_predict)\n",
    "            results.append(mae)\n",
    "            print(\"Estimator: {}, Learning Rate: {}, MAE: {}\".format(i, l, mae) )\n",
    "\n",
    "            if mae < lowest_mae:\n",
    "                lowest_mae = mae\n",
    "                best_estimator = i\n",
    "                best_lr = l\n",
    "                \n",
    "print(\"Best Results- Estimator: {}, Learning Rate: {},  MAE: {}\".format(best_estimator, best_lr, lowest_mae) )"
   ]
  },
  {
   "cell_type": "markdown",
   "metadata": {},
   "source": [
    "From a model perspective, we experienced a slight improvement in MAE by changing to a gradient boosting regression model.  From a practical perspective, iterating on a dataset with 120+ features is time-consuming and leads to dimensionality problems in our dataset.  We will continue with Principal Component Analysis to reduce our dataset into a denser feature space."
   ]
  },
  {
   "cell_type": "markdown",
   "metadata": {},
   "source": [
    "# Principal Component Analysis"
   ]
  },
  {
   "cell_type": "markdown",
   "metadata": {},
   "source": [
    "Principal Component Analysis (PCA) is a technique used to reduce high dimensionality data. High dimensionality data is problematic because as it acts as a multiplier to the feature space. For example, consider the area of a 10x10 coordinate system. The feature space has an area of 100 square units. If you add a z dimension of size 10 to the data, the volume becomes 1000 cubed units. Continuing to add more dimensions continues to multiply the size of the feature space which makes the data relatively sparse. This is the curse of dimensionality.\n",
    "PCA combats the curse of dimensionality by finding new dimensions that reduce the dimensionality of the data while minimizing the loss of information."
   ]
  },
  {
   "cell_type": "code",
   "execution_count": 35,
   "metadata": {},
   "outputs": [
    {
     "name": "stdout",
     "output_type": "stream",
     "text": [
      "('k=1, explained variance =', 0.83496692568086095)\n",
      "('k=2, explained variance =', 0.94025263963456585)\n",
      "('k=3, explained variance =', 0.99999797216408037)\n",
      "('k=4, explained variance =', 0.99999999807990947)\n",
      "('k=5, explained variance =', 0.99999999994929378)\n",
      "('k=6, explained variance =', 0.99999999997312095)\n",
      "('k=7, explained variance =', 0.99999999997680933)\n",
      "('k=8, explained variance =', 0.99999999998006328)\n",
      "('k=9, explained variance =', 0.99999999998169598)\n",
      "('k=10, explained variance =', 0.99999999998311406)\n"
     ]
    },
    {
     "data": {
      "text/plain": [
       "<matplotlib.text.Text at 0x111334bd0>"
      ]
     },
     "execution_count": 35,
     "metadata": {},
     "output_type": "execute_result"
    },
    {
     "data": {
      "image/png": "[encoded data removed]",
      "text/plain": [
       "<matplotlib.figure.Figure at 0x10f6ecf50>"
      ]
     },
     "metadata": {},
     "output_type": "display_data"
    }
   ],
   "source": [
    "pca = PCA(n_components=10)\n",
    "pca.fit(train_data)\n",
    "for k in range(1,11):\n",
    "    explained_var = pca.explained_variance_ratio_[0:k]\n",
    "    var_exp_single = pca.explained_variance_ratio_\n",
    "    print(\"k=\" + str(k) + \", explained variance =\", sum(explained_var))\n",
    "\n",
    "# Plot of variance explained\n",
    "plt.figure(figsize = (10,5))\n",
    "plt.plot(range(1, k+1), var_exp_single[:k])\n",
    "plt.ylabel(\"Variance Explained\")\n",
    "plt.xlabel(\"Component\")\n",
    "plt.title(\"Explained Variance by PCA Component\")"
   ]
  },
  {
   "cell_type": "markdown",
   "metadata": {},
   "source": [
    "We believe 3 PCA components is best to use. This gives us greater than 99.99% explained variance"
   ]
  },
  {
   "cell_type": "markdown",
   "metadata": {},
   "source": [
    "Now we'll create a classifier dataframe.  We'll classifier a logerror e<-.1 as -1, e> .1 as 1, and -.1< e < .1 as 0.  We'll use this data to visualize if the PCA separates the categories."
   ]
  },
  {
   "cell_type": "code",
   "execution_count": 36,
   "metadata": {},
   "outputs": [
    {
     "name": "stdout",
     "output_type": "stream",
     "text": [
      "('data shape: ', (90275, 124))\n",
      "('label shape: ', (90275,))\n"
     ]
    },
    {
     "data": {
      "text/plain": [
       "<matplotlib.text.Text at 0x10e96be10>"
      ]
     },
     "execution_count": 36,
     "metadata": {},
     "output_type": "execute_result"
    },
    {
     "data": {
      "image/png": "[encoded data removed]",
      "text/plain": [
       "<matplotlib.figure.Figure at 0x10e74b390>"
      ]
     },
     "metadata": {},
     "output_type": "display_data"
    }
   ],
   "source": [
    "#Create a copy of the train_data so that we cam make changes\n",
    "classifier_data = train_df.copy()\n",
    "classifier_data = classifier_data.drop('parcelid', axis = 1)\n",
    "\n",
    "classifier_data['logerror'].loc[classifier_data['logerror']>=.1] = 1\n",
    "classifier_data['logerror'].loc[classifier_data['logerror']<= -.1] = -1\n",
    "classifier_data['logerror'].loc[(classifier_data['logerror']>-.1) & (classifier_data['logerror']<.1)] = 0\n",
    "\n",
    "train_np = classifier_data.values\n",
    "Y = train_np[:,0]\n",
    "Y.flatten()\n",
    "X =train_np[:,1:]\n",
    "\n",
    "shuffle = np.random.permutation(np.arange(X.shape[0]))\n",
    "X, Y = X[shuffle], Y[shuffle]\n",
    "\n",
    "print('data shape: ', X.shape)\n",
    "print('label shape: ', Y.shape)\n",
    "\n",
    "# Set some variables to hold test, dev, and training data.\n",
    "classifier_test_data, classifier_test_labels = X[70000:], Y[70000:]\n",
    "classifier_train_data, classifier_train_labels = X[:70000], Y[:70000]\n",
    "\n",
    "# Now visualize\n",
    "pca = PCA(n_components=3)\n",
    "pca_data = pca.fit_transform(classifier_data)\n",
    "\n",
    "x1=pca_data[:,0][classifier_train_labels==1]\n",
    "y1= pca_data[:,1][classifier_train_labels==1]\n",
    "z1= pca_data[:,2][classifier_train_labels==1]\n",
    "\n",
    "x2= pca_data[:,0][classifier_train_labels == -1]\n",
    "y2=pca_data[:,1][classifier_train_labels==-1]\n",
    "z2=pca_data[:,2][classifier_train_labels==-1]\n",
    "\n",
    "x3= pca_data[:,0][classifier_train_labels==0]\n",
    "y3= pca_data[:,1][classifier_train_labels==0]\n",
    "z3= pca_data[:,2][classifier_train_labels==0]\n",
    "\n",
    "#plot PCA data\n",
    "fig = plt.figure()\n",
    "ax = fig.gca(projection='3d')\n",
    "ax.scatter(x1, y1, z1, color = 'red', label = 'Large Positive Error', alpha = .5)\n",
    "ax.scatter(x2, y2, z2, color = 'blue', label = 'Large Negative Error', alpha = .5)\n",
    "ax.scatter(x3, y3, z3, color = 'green', label = 'Small Error', alpha= .5)\n",
    "\n",
    "ax.set_xlabel('Principal Component 1')\n",
    "ax.set_ylabel('Principal Component 2')\n",
    "ax.set_zlabel('Principal Component 3')\n",
    "\n",
    "plt.legend(loc=\"best\", fontsize = 12)\n",
    "plt.title(\"3-D Projection of Log Errors Data\")\n"
   ]
  },
  {
   "cell_type": "markdown",
   "metadata": {
    "collapsed": true
   },
   "source": [
    "Despite capturing 99.99% of the variation, you can see that PCA does not help separate the data in 3-dimensional space."
   ]
  },
  {
   "cell_type": "markdown",
   "metadata": {},
   "source": [
    "## Gradient Boosting Regression with PCA"
   ]
  },
  {
   "cell_type": "code",
   "execution_count": 37,
   "metadata": {},
   "outputs": [
    {
     "name": "stdout",
     "output_type": "stream",
     "text": [
      "Best Results- Estimators: 39, Learning Rate: 0.1, Max Depth: 3, Loss: lad, MAE: 0.0666397\n"
     ]
    }
   ],
   "source": [
    "pca = PCA(n_components=3)\n",
    "pca.fit(train_data)\n",
    "train_data_pca = pca.transform(train_data) \n",
    "dev_data_pca = pca.transform(dev_data) \n",
    "\n",
    "## Best results were estimator = 39, learning rate= .1, depth= 3, loss = 'lad'\n",
    "estimators = range(15, 45, 2) # Ran from 50-300, but higher estimators did not improve results\n",
    "learning_rates = [0.01, .025, .05, .1] # Ran at rates of .2 and .5, but no improvement\n",
    "depths = [2, 3] #Rates of 4 and 5 decreased results, so removed\n",
    "loss_fncs = [\"ls\", \"lad\", \"huber\"]\n",
    "lowest_mae = 1\n",
    "results = []\n",
    "for i in estimators:\n",
    "    for l in learning_rates:\n",
    "        for d in depths:\n",
    "            for loss in loss_fncs:\n",
    "                gboost = GradientBoostingRegressor(n_estimators=i, learning_rate= l, max_depth = d, loss = loss) \n",
    "                gboost.fit(train_data_pca, train_labels)\n",
    "                gboost_predict = gboost.predict(dev_data_pca)\n",
    "\n",
    "                mae = MAE(dev_labels, gboost_predict)\n",
    "                results.append(mae)\n",
    "\n",
    "                if mae < lowest_mae:\n",
    "                    lowest_mae = mae\n",
    "                    best_estimator = i\n",
    "                    best_lr = l\n",
    "                    best_depth = d\n",
    "                    best_loss = loss\n",
    "                \n",
    "print(\"Best Results- Estimators: {}, Learning Rate: {}, Max Depth: {}, Loss: {}, MAE: {}\"\n",
    "      .format(best_estimator, best_lr, best_depth, best_loss, lowest_mae) )"
   ]
  },
  {
   "cell_type": "code",
   "execution_count": 45,
   "metadata": {
    "scrolled": true
   },
   "outputs": [
    {
     "data": {
      "text/plain": [
       "GradientBoostingRegressor(alpha=0.9, criterion='friedman_mse', init=None,\n",
       "             learning_rate=0.1, loss='lad', max_depth=3, max_features=None,\n",
       "             max_leaf_nodes=None, min_impurity_split=1e-07,\n",
       "             min_samples_leaf=1, min_samples_split=2,\n",
       "             min_weight_fraction_leaf=0.0, n_estimators=41, presort='auto',\n",
       "             random_state=None, subsample=1.0, verbose=0, warm_start=False)"
      ]
     },
     "execution_count": 45,
     "metadata": {},
     "output_type": "execute_result"
    }
   ],
   "source": [
    "# We'll post the results from the above into our submission model\n",
    "# transform datasets \n",
    "subm_pca_oct = pca.transform(submission_setup_oct)\n",
    "subm_pca_nov = pca.transform(submission_setup_nov)\n",
    "subm_pca_dec = pca.transform(submission_setup_dec)\n",
    "\n",
    "gboost = GradientBoostingRegressor(n_estimators=39, learning_rate= .1, max_depth= 3, loss = \"lad\") \n",
    "gboost.fit(train_data_pca, train_labels)"
   ]
  },
  {
   "cell_type": "code",
   "execution_count": 46,
   "metadata": {},
   "outputs": [
    {
     "data": {
      "text/html": [
       "<div>\n",
       "<style>\n",
       "    .dataframe thead tr:only-child th {\n",
       "        text-align: right;\n",
       "    }\n",
       "\n",
       "    .dataframe thead th {\n",
       "        text-align: left;\n",
       "    }\n",
       "\n",
       "    .dataframe tbody tr th {\n",
       "        vertical-align: top;\n",
       "    }\n",
       "</style>\n",
       "<table border=\"1\" class=\"dataframe\">\n",
       "  <thead>\n",
       "    <tr style=\"text-align: right;\">\n",
       "      <th></th>\n",
       "      <th>ParcelId</th>\n",
       "      <th>201610</th>\n",
       "      <th>201611</th>\n",
       "      <th>201612</th>\n",
       "      <th>201710</th>\n",
       "      <th>201711</th>\n",
       "      <th>201712</th>\n",
       "    </tr>\n",
       "  </thead>\n",
       "  <tbody>\n",
       "    <tr>\n",
       "      <th>0</th>\n",
       "      <td>10754147</td>\n",
       "      <td>0.015463</td>\n",
       "      <td>0.015463</td>\n",
       "      <td>0.015463</td>\n",
       "      <td>0.015463</td>\n",
       "      <td>0.015463</td>\n",
       "      <td>0.015463</td>\n",
       "    </tr>\n",
       "    <tr>\n",
       "      <th>1</th>\n",
       "      <td>10759547</td>\n",
       "      <td>0.002759</td>\n",
       "      <td>0.002759</td>\n",
       "      <td>0.002759</td>\n",
       "      <td>0.002759</td>\n",
       "      <td>0.002759</td>\n",
       "      <td>0.002759</td>\n",
       "    </tr>\n",
       "    <tr>\n",
       "      <th>2</th>\n",
       "      <td>10843547</td>\n",
       "      <td>0.025560</td>\n",
       "      <td>0.025560</td>\n",
       "      <td>0.025560</td>\n",
       "      <td>0.025560</td>\n",
       "      <td>0.025560</td>\n",
       "      <td>0.025560</td>\n",
       "    </tr>\n",
       "    <tr>\n",
       "      <th>3</th>\n",
       "      <td>10859147</td>\n",
       "      <td>0.013404</td>\n",
       "      <td>0.013404</td>\n",
       "      <td>0.013404</td>\n",
       "      <td>0.013404</td>\n",
       "      <td>0.013404</td>\n",
       "      <td>0.013404</td>\n",
       "    </tr>\n",
       "    <tr>\n",
       "      <th>4</th>\n",
       "      <td>10879947</td>\n",
       "      <td>0.003887</td>\n",
       "      <td>0.003887</td>\n",
       "      <td>0.003887</td>\n",
       "      <td>0.003887</td>\n",
       "      <td>0.003887</td>\n",
       "      <td>0.003887</td>\n",
       "    </tr>\n",
       "  </tbody>\n",
       "</table>\n",
       "</div>"
      ],
      "text/plain": [
       "   ParcelId    201610    201611    201612    201710    201711    201712\n",
       "0  10754147  0.015463  0.015463  0.015463  0.015463  0.015463  0.015463\n",
       "1  10759547  0.002759  0.002759  0.002759  0.002759  0.002759  0.002759\n",
       "2  10843547  0.025560  0.025560  0.025560  0.025560  0.025560  0.025560\n",
       "3  10859147  0.013404  0.013404  0.013404  0.013404  0.013404  0.013404\n",
       "4  10879947  0.003887  0.003887  0.003887  0.003887  0.003887  0.003887"
      ]
     },
     "execution_count": 46,
     "metadata": {},
     "output_type": "execute_result"
    }
   ],
   "source": [
    "# make predictions and create Kaggle submission file\n",
    "pca_gboost_subm_oct = gboost.predict(subm_pca_oct)\n",
    "pca_gboost_subm_nov = gboost.predict(subm_pca_nov)\n",
    "pca_gboost_subm_dec = gboost.predict(subm_pca_dec)\n",
    "\n",
    "get_submission_file(parcelids, pca_gboost_subm_oct, pca_gboost_subm_nov, pca_gboost_subm_dec)"
   ]
  },
  {
   "cell_type": "markdown",
   "metadata": {},
   "source": [
    "# Decision Tree Regression"
   ]
  },
  {
   "cell_type": "code",
   "execution_count": 40,
   "metadata": {},
   "outputs": [
    {
     "name": "stdout",
     "output_type": "stream",
     "text": [
      "DecisionTreeRegressor MAE = 0.1134992\n"
     ]
    }
   ],
   "source": [
    "dtr = DecisionTreeRegressor()\n",
    "dtr.fit(train_data_pca, train_labels)\n",
    "dtr_preds = dtr.predict(dev_data_pca)\n",
    "dtr_mae = MAE(dev_labels, dtr_preds)\n",
    "print 'DecisionTreeRegressor MAE =', dtr_mae"
   ]
  },
  {
   "cell_type": "markdown",
   "metadata": {},
   "source": [
    "A single decision tree does not work very well here (the Mean Absolute Error was almost twice as high as the models above). Next, let's try Random Forest to see if multiple trees help."
   ]
  },
  {
   "cell_type": "markdown",
   "metadata": {},
   "source": [
    "# Random Forest Regression"
   ]
  },
  {
   "cell_type": "code",
   "execution_count": 42,
   "metadata": {},
   "outputs": [
    {
     "name": "stdout",
     "output_type": "stream",
     "text": [
      "Best Results- Estimators: 11, Max Depth: 2, MAE: 0.0670595\n"
     ]
    }
   ],
   "source": [
    "estimators = range(5, 56, 2) \n",
    "depths = [2, 3] \n",
    "lowest_mae = 1\n",
    "results = []\n",
    "for i in estimators:\n",
    "    for d in depths:\n",
    "        rfr = RandomForestRegressor(n_estimators=i, max_depth = d) \n",
    "        rfr.fit(train_data_pca, train_labels)\n",
    "        rfr_preds = rfr.predict(dev_data_pca)\n",
    "\n",
    "        mae = MAE(dev_labels, rfr_preds)\n",
    "        results.append(mae)\n",
    "\n",
    "        if mae < lowest_mae:\n",
    "            lowest_mae = mae\n",
    "            best_estimator = i\n",
    "            best_depth = d\n",
    "                \n",
    "print(\"Best Results- Estimators: {}, Max Depth: {}, MAE: {}\".format(best_estimator, best_depth, lowest_mae) )"
   ]
  },
  {
   "cell_type": "markdown",
   "metadata": {},
   "source": [
    "The Random Forest Regression works much better than a single decision tree, but Random Forest still performs slightly worse than the Gradient Boost Regression above. Out of all of our models, Gradient Boost worked the best, so we decided to use that for our submission to Kaggle."
   ]
  },
  {
   "cell_type": "markdown",
   "metadata": {
    "collapsed": true
   },
   "source": [
    "## Appendix"
   ]
  },
  {
   "cell_type": "markdown",
   "metadata": {},
   "source": [
    "Our group tried multiple other models for classification and point prediction that were ultimately unhelpful to our final submission.  Here, we'll share our code and thought processes on attempting these models, as well as our thoughts as to why they failed to be predictive of log error."
   ]
  },
  {
   "cell_type": "markdown",
   "metadata": {},
   "source": [
    "<h2> K-Nearest Neighbors </h2>"
   ]
  },
  {
   "cell_type": "markdown",
   "metadata": {},
   "source": [
    "K-Nearest Neighbors is a classification model which predicts the classification of an unclassified data point based upon the values of it's closest k neighbors. Therefore, when k=1, the model will predict the value based upon the cloest neighbor. When k= 9, the model will find the new data points 9 closest neighbors and determine the majority classification of those nine points. The majority classification will be imputed to the unclassified data point.\n",
    "Here, we are attempting to classify whether an property value will result in a large positive error, a low error, or a large negative error. By classifying the type of error, we can help direct our final model towards a specific predicted error value, thus lowering the MAE."
   ]
  },
  {
   "cell_type": "code",
   "execution_count": 48,
   "metadata": {},
   "outputs": [
    {
     "name": "stdout",
     "output_type": "stream",
     "text": [
      "data shape:  (90275, 124)\n",
      "label shape:  (90275,)\n"
     ]
    }
   ],
   "source": [
    "#Create a copy of the train_data so that we can make changes\n",
    "classifier_data = train_df.copy()\n",
    "classifier_data = classifier_data.drop('parcelid', axis = 1)\n",
    "\n",
    "classifier_data['logerror'].loc[classifier_data['logerror']>=.1] = 1\n",
    "classifier_data['logerror'].loc[classifier_data['logerror']<= -.1] = -1\n",
    "classifier_data['logerror'].loc[(classifier_data['logerror']>-.1) & (classifier_data['logerror']<.1)] = 0\n",
    "\n",
    "train_np = classifier_data.values\n",
    "Y = train_np[:,0]\n",
    "Y.flatten()\n",
    "X =train_np[:,1:]\n",
    "\n",
    "shuffle = np.random.permutation(np.arange(X.shape[0]))\n",
    "X, Y = X[shuffle], Y[shuffle]\n",
    "\n",
    "print('data shape: ', X.shape)\n",
    "print('label shape: ', Y.shape)\n",
    "\n",
    "# Set some variables to hold test, dev, and training data.\n",
    "classifier_test_data, classifier_test_labels = X[70000:], Y[70000:]\n",
    "classifier_train_data, classifier_train_labels = X[:70000], Y[:70000]"
   ]
  },
  {
   "cell_type": "code",
   "execution_count": 49,
   "metadata": {},
   "outputs": [
    {
     "name": "stdout",
     "output_type": "stream",
     "text": [
      "K: 10 Accuracy: 0.837977805179\n",
      "K: 12 Accuracy: 0.838865598027\n",
      "K: 14 Accuracy: 0.838816276202\n",
      "K: 16 Accuracy: 0.839112207152\n",
      "K: 18 Accuracy: 0.838865598027\n",
      "K: 20 Accuracy: 0.839013563502\n",
      "K: 22 Accuracy: 0.839062885327\n",
      "K: 24 Accuracy: 0.839161528977\n",
      "K: 26 Accuracy: 0.839210850801\n",
      "K: 28 Accuracy: 0.839260172626\n",
      "K: 30 Accuracy: 0.839210850801\n",
      "Classification Report for k = 30\n",
      "             precision    recall  f1-score   support\n",
      "\n",
      "         -1       0.00      0.00      0.00      1374\n",
      "          0       0.84      1.00      0.91     17020\n",
      "          1       0.00      0.00      0.00      1881\n",
      "\n",
      "avg / total       0.70      0.84      0.77     20275\n",
      "\n"
     ]
    }
   ],
   "source": [
    "#Originally ran with k values range (1,200,20), but little to no increase after k>20\n",
    "k_values = range(10,32, 2)\n",
    "for k in k_values:\n",
    "    #initialize and train the classifier\n",
    "    clf = KNeighborsClassifier(n_neighbors = k)\n",
    "    clf.fit(classifier_train_data, classifier_train_labels)\n",
    "    accuracy= clf.score(classifier_test_data, classifier_test_labels)\n",
    "    predictions = clf.predict(classifier_test_data)\n",
    "    \n",
    "    #Uncomment code below and comment out if statement above to get classification report for all k values\n",
    "#     print(\"Classification Report for k =\" + str(k))\n",
    "#     print(classification_report(knn_test_labels.astype(int),predictions))\n",
    "# For all k values, print the accuracy\n",
    "    print(\"K: \" + str(k) + \" Accuracy: \" + str(accuracy))\n",
    "    if k == 30:\n",
    "        print(\"Classification Report for k = {}\".format(k))\n",
    "        print(classification_report(classifier_test_labels.astype(int),predictions))"
   ]
  },
  {
   "cell_type": "markdown",
   "metadata": {},
   "source": [
    "<b>Results: </b> While the accuracy of this model in classifying whether the outcome will be a large positive error (1), a low error (0), or a large negative error(-1) is approximately 84%, this K-Nearest Neighbors classifier performance is quite poor. The printed classification report is for the k=1 model, but the reports for higher k models show the same general issues  \n",
    "\n",
    "The precision column indicates the positive predictive value, which is calculated by the number of true positives divided by the number of true positives plus false positives.  In our situation, the precision measures the percentage of predictions that our model predicted to be 1s that were actually 1s.  As you can see, the precision of this model is low at 25% values that extreme highs and 0% for extreme lows.  This classifier performs very poorly for precision. \n",
    "\n",
    "The recall column indicates the sensitivity of the model.  It is calculated by taking the ratio of true positive results divided by the sum of true positives and false negatives.  In this situation, recall measures the percentage of 1s that our model identifies out of all 1s it should have identified. In our model, the recall is 0% for the extreme log errors that we are trying to classify.  \n",
    "\n",
    "The f1-score is the weighted harmonic mean of the precision and recall and gives an understanding of the overall power of the classifier. \n",
    "\n",
    "Due to the relatively small amount of extreme results in our data, this classifier tends to overpredict results of 0.  As a result, we end up with high accuracy, but poor precision and recall.  Therefore, we will not add the results of this classifier into our dataset for our final model."
   ]
  },
  {
   "cell_type": "markdown",
   "metadata": {},
   "source": [
    "<h2> Naive Bayes </h2>\n",
    "\n",
    "Naive Bayes methods are supervised learning algorithms that apply Bayes' Theorem with the assumption of independence between each pair of features.  While we know that we do not have independence between each pair of features in our data, in practice, Naive Bayes has worked well in datasets that violate this assumption.  \n",
    "\n",
    "The SKLearn package supports three distinct Naive Bayes models.  The first is Gaussian Naive Bayes model.  This model assumes the likelihood of the features is distributed like a Gaussian, or normal, distribution.  The second supported model is the Multinomial Naive Bayes model.  The multinomial model is for multinomially distributed data and is best suited for data that can be turned into counts- such as text classification with word counts.  The final model is the Bernoulli Naive Bayes model, which is used with data distributed similar to a multivariate Bernoulli Distribution.  Each feature in a Bernoulli model is assumed to be binary.  \n",
    "\n",
    "More information about SKLearn Naive Bayes models can be located here: http://scikit-learn.org/stable/modules/naive_bayes.html\n",
    "\n",
    "Since our data can be best classified as normally distributed and is not binary and is not well suited for a multinomial distribution, we will use a Gaussian Naive Bayes model."
   ]
  },
  {
   "cell_type": "code",
   "execution_count": 50,
   "metadata": {},
   "outputs": [
    {
     "name": "stdout",
     "output_type": "stream",
     "text": [
      "Accuracy of Gaussian Naive Bayes Model: 0.807\n"
     ]
    }
   ],
   "source": [
    "#Initialize model and test accuracy of multinomial naive bayes classifier\n",
    "gauss_nb = GaussianNB()\n",
    "gauss_nb.fit(classifier_train_data, classifier_train_labels)\n",
    "nb_accuracy = gauss_nb.score(classifier_test_data, classifier_test_labels)\n",
    "print(\"Accuracy of Gaussian Naive Bayes Model: {}\".format(round(nb_accuracy,3)))"
   ]
  },
  {
   "cell_type": "code",
   "execution_count": 51,
   "metadata": {},
   "outputs": [
    {
     "name": "stdout",
     "output_type": "stream",
     "text": [
      "Est Number High Neg Errors: 386 \n",
      "Est Number Low Errors: 19165 \n",
      "Est Number High Pos Errors: 724\n",
      "Actual High Negative Errors: 1374 \n",
      "Actual Low Errors: 17020 \n",
      "Actual High Pos Errors: 1881\n"
     ]
    }
   ],
   "source": [
    "gauss_probs = gauss_nb.predict_proba(classifier_test_data)\n",
    "high_neg_error = 0\n",
    "low_error = 0\n",
    "high_pos_error = 0\n",
    "\n",
    "for i in range(len(gauss_probs)):\n",
    "    val_array = gauss_probs[i]\n",
    "    max_index = np.argmax(val_array)\n",
    "    if max_index == 0:\n",
    "        high_neg_error +=1\n",
    "    elif max_index == 1:\n",
    "        low_error +=1\n",
    "    elif max_index ==2:\n",
    "        high_pos_error +=1\n",
    "    else:\n",
    "        print(\"unsure\")\n",
    "\n",
    "print(\"Est Number High Neg Errors: {} \\nEst Number Low Errors: {} \\nEst Number High Pos Errors: {}\".format(high_neg_error, low_error, high_pos_error))\n",
    "print(\"Actual High Negative Errors: {} \\nActual Low Errors: {} \\nActual High Pos Errors: {}\".format(len(classifier_test_labels[classifier_test_labels==-1]), len(classifier_test_labels[classifier_test_labels==0]), len(classifier_test_labels[classifier_test_labels==1])))"
   ]
  },
  {
   "cell_type": "code",
   "execution_count": 52,
   "metadata": {},
   "outputs": [
    {
     "data": {
      "text/plain": [
       "array([  4821.,  58680.,   6499.])"
      ]
     },
     "execution_count": 52,
     "metadata": {},
     "output_type": "execute_result"
    }
   ],
   "source": [
    "gauss_nb.class_count_"
   ]
  },
  {
   "cell_type": "code",
   "execution_count": 53,
   "metadata": {},
   "outputs": [
    {
     "name": "stdout",
     "output_type": "stream",
     "text": [
      "Percent of low errors in test data: 0.838\n",
      "Percent of low errors in training data: 0.839\n",
      "Percent of low errors predicted: 0.949\n"
     ]
    }
   ],
   "source": [
    "print(\"Percent of low errors in test data: {:.3}\".format(16992/(16992+1369+1914)))\n",
    "print(\"Percent of low errors in training data: {:.3}\".format(58708/(58708+6466+4826)))\n",
    "print(\"Percent of low errors predicted: {:.3}\".format(19239/(19239+688+348)))"
   ]
  },
  {
   "cell_type": "markdown",
   "metadata": {},
   "source": [
    "The Gaussian Naive Bayes model fails in improving predicting whether a transaction will have a high positive, high negative, or low log error.  Our data are not independent and does not meet the initial assumptions of the model.  Further, the highly peaked distribution with relatively few low error points (classified as 0s) which leads to an overprediction of low error transactions- 94% predicted versus 83% in test and training data."
   ]
  },
  {
   "cell_type": "markdown",
   "metadata": {
    "collapsed": true
   },
   "source": [
    "## K Nearest Neighbors with PCA Data"
   ]
  },
  {
   "cell_type": "code",
   "execution_count": 54,
   "metadata": {},
   "outputs": [
    {
     "name": "stdout",
     "output_type": "stream",
     "text": [
      "data shape:  (90275, 124)\n",
      "label shape:  (90275,)\n",
      "K: 1 Accuracy: 0.725819975339\n",
      "K: 2 Accuracy: 0.738002466091\n",
      "K: 3 Accuracy: 0.786979038224\n",
      "K: 4 Accuracy: 0.811344019729\n",
      "K: 5 Accuracy: 0.819531442663\n",
      "K: 6 Accuracy: 0.825647348952\n",
      "K: 7 Accuracy: 0.829889025894\n",
      "K: 8 Accuracy: 0.832305795314\n",
      "K: 9 Accuracy: 0.833094944513\n",
      "K: 10 Accuracy: 0.835067817509\n",
      "K: 11 Accuracy: 0.835265104809\n",
      "K: 12 Accuracy: 0.835265104809\n",
      "K: 13 Accuracy: 0.836004932182\n",
      "K: 14 Accuracy: 0.836004932182\n",
      "K: 15 Accuracy: 0.836103575832\n",
      "Classification Report for k = 15\n",
      "             precision    recall  f1-score   support\n",
      "\n",
      "         -1       0.37      0.00      0.01      1438\n",
      "          0       0.84      1.00      0.91     16966\n",
      "          1       0.20      0.00      0.01      1871\n",
      "\n",
      "avg / total       0.75      0.84      0.76     20275\n",
      "\n"
     ]
    }
   ],
   "source": [
    "#Create a copy of the train_data so that we can make changes\n",
    "classifier_data = train_df.copy()\n",
    "classifier_data = classifier_data.drop('parcelid', axis = 1)\n",
    "\n",
    "classifier_data['logerror'].loc[classifier_data['logerror']>=.1] = 1\n",
    "classifier_data['logerror'].loc[classifier_data['logerror']<= -.1] = -1\n",
    "classifier_data['logerror'].loc[(classifier_data['logerror']>-.1) & (classifier_data['logerror']<.1)] = 0\n",
    "\n",
    "train_np = classifier_data.values\n",
    "Y = train_np[:,0]\n",
    "Y.flatten()\n",
    "X =train_np[:,1:]\n",
    "\n",
    "shuffle = np.random.permutation(np.arange(X.shape[0]))\n",
    "X, Y = X[shuffle], Y[shuffle]\n",
    "\n",
    "print('data shape: ', X.shape)\n",
    "print('label shape: ', Y.shape)\n",
    "\n",
    "# Set some variables to hold test, dev, and training data.\n",
    "classifier_test_data, classifier_test_labels = X[70000:], Y[70000:]\n",
    "classifier_train_data, classifier_train_labels = X[:70000], Y[:70000]\n",
    "\n",
    "pca = PCA(n_components=3)\n",
    "pca.fit(classifier_train_data)\n",
    "classifier_train_data_pca = pca.transform(classifier_train_data) \n",
    "classifier_test_data_pca = pca.transform(classifier_test_data) \n",
    "\n",
    "\n",
    "k_values = range(1,16)\n",
    "for k in k_values:\n",
    "    #initialize and train the classifier\n",
    "    clf = KNeighborsClassifier(n_neighbors = k)\n",
    "    clf.fit(classifier_train_data_pca, classifier_train_labels)\n",
    "    accuracy= clf.score(classifier_test_data_pca, classifier_test_labels)\n",
    "    predictions = clf.predict(classifier_test_data_pca)\n",
    "    \n",
    "    #Uncomment code below and comment out if statement above to get classification report for all k values\n",
    "#     print(\"Classification Report for k =\" + str(k))\n",
    "#     print(classification_report(knn_test_labels.astype(int),predictions))\n",
    "# For all k values, print the accuracy\n",
    "    print(\"K: \" + str(k) + \" Accuracy: \" + str(accuracy))\n",
    "    if k == 15:\n",
    "        print(\"Classification Report for k = {}\".format(k))\n",
    "        print(classification_report(classifier_test_labels.astype(int),predictions))"
   ]
  },
  {
   "cell_type": "markdown",
   "metadata": {},
   "source": [
    "We see no increase in predictve power of KNN when using PCA data.  Therefore, we will not use KNN in our model to attempt to classifier our results."
   ]
  },
  {
   "cell_type": "markdown",
   "metadata": {},
   "source": [
    "## Gaussian Naive Bayes with PCA Data"
   ]
  },
  {
   "cell_type": "code",
   "execution_count": 56,
   "metadata": {},
   "outputs": [
    {
     "name": "stdout",
     "output_type": "stream",
     "text": [
      "Accuracy of Multinomial Naive Bayes Model: 0.806\n"
     ]
    }
   ],
   "source": [
    "#Initialize model and test accuracy of multinomial naive bayes classifier\n",
    "\n",
    "gauss_nb_pca = GaussianNB()\n",
    "gauss_nb_pca.fit(classifier_train_data, classifier_train_labels)\n",
    "nb_accuracy = gauss_nb_pca.score(classifier_test_data, classifier_test_labels)\n",
    "print(\"Accuracy of Multinomial Naive Bayes Model: {}\".format(round(nb_accuracy,3)))"
   ]
  },
  {
   "cell_type": "markdown",
   "metadata": {},
   "source": [
    "As you can see, the Gaussian Naive Bayes provides little improvement in prediction over our original Naive Bayes model.  We will not include classificiation in our final model."
   ]
  }
 ],
 "metadata": {
  "anaconda-cloud": {},
  "kernelspec": {
   "display_name": "Python 2",
   "language": "python",
   "name": "python2"
  },
  "language_info": {
   "codemirror_mode": {
    "name": "ipython",
    "version": 2
   },
   "file_extension": ".py",
   "mimetype": "text/x-python",
   "name": "python",
   "nbconvert_exporter": "python",
   "pygments_lexer": "ipython2",
   "version": "2.7.13"
  }
 },
 "nbformat": 4,
 "nbformat_minor": 1
}
